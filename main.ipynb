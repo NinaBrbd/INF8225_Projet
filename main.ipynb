{
  "cells": [
    {
      "cell_type": "markdown",
      "metadata": {
        "id": "MeH1Ge4SodZC"
      },
      "source": [
        "# Préparation"
      ]
    },
    {
      "cell_type": "markdown",
      "metadata": {
        "id": "p8by1Tea61ak"
      },
      "source": [
        "## Importations"
      ]
    },
    {
      "cell_type": "code",
      "execution_count": 1,
      "metadata": {
        "id": "z_m16rzjl8P9"
      },
      "outputs": [],
      "source": [
        "import numpy as np\n",
        "import torch\n",
        "import torch.nn as nn\n",
        "import torch.optim as optim\n",
        "import torchvision\n",
        "from torch.utils.data.sampler import SubsetRandomSampler\n",
        "import torch.nn.functional as F\n",
        "from time import time \n",
        "\n",
        "import pandas as pd \n",
        "\n",
        "import matplotlib.pyplot as plt\n",
        "from matplotlib.lines import Line2D\n",
        "import seaborn as sns"
      ]
    },
    {
      "cell_type": "markdown",
      "metadata": {
        "id": "4iMm5ua9olLk"
      },
      "source": [
        "## CIFAR10"
      ]
    },
    {
      "cell_type": "code",
      "execution_count": 2,
      "metadata": {
        "colab": {
          "base_uri": "https://localhost:8080/"
        },
        "id": "r5Q5W8FfmrwL",
        "outputId": "2f00c8a0-d934-4475-e5e8-4db86f9342ec"
      },
      "outputs": [
        {
          "output_type": "stream",
          "name": "stdout",
          "text": [
            "Downloading https://www.cs.toronto.edu/~kriz/cifar-10-python.tar.gz to data/cifar-10-python.tar.gz\n"
          ]
        },
        {
          "output_type": "stream",
          "name": "stderr",
          "text": [
            "100%|██████████| 170498071/170498071 [00:04<00:00, 37896180.26it/s]\n"
          ]
        },
        {
          "output_type": "stream",
          "name": "stdout",
          "text": [
            "Extracting data/cifar-10-python.tar.gz to data\n",
            "Files already downloaded and verified\n"
          ]
        }
      ],
      "source": [
        "# choose the training and test datasets\n",
        "transform = torchvision.transforms.ToTensor()\n",
        "train_data = torchvision.datasets.CIFAR10('data', train=True,\n",
        "                              download=True, transform = transform)\n",
        "test_data = torchvision.datasets.CIFAR10('data', train=False,\n",
        "                             download=True, transform = transform)"
      ]
    },
    {
      "cell_type": "code",
      "execution_count": 3,
      "metadata": {
        "id": "rMN90_0dmyCT"
      },
      "outputs": [],
      "source": [
        "# obtain training indices that will be used for validation\n",
        "num_train = len(train_data)\n",
        "val_percentage = 0.15\n",
        "indices = list(range(num_train))\n",
        "split = int(np.floor(num_train * val_percentage))\n",
        "train_idx, valid_idx = indices[split:], indices[:split]"
      ]
    },
    {
      "cell_type": "code",
      "execution_count": 4,
      "metadata": {
        "id": "KdiRI4yFm0y1"
      },
      "outputs": [],
      "source": [
        "# define samplers for obtaining training and validation batches\n",
        "\n",
        "train_sampler = SubsetRandomSampler(train_idx)\n",
        "valid_sampler = SubsetRandomSampler(valid_idx)"
      ]
    },
    {
      "cell_type": "code",
      "execution_count": 5,
      "metadata": {
        "id": "BsupLw9ym2OC"
      },
      "outputs": [],
      "source": [
        "# prepare data loaders (combine dataset and sampler)\n",
        "batch_size = 20\n",
        "num_workers = 0\n",
        "\n",
        "train_loader = torch.utils.data.DataLoader(train_data, batch_size=batch_size,\n",
        "    sampler=train_sampler, num_workers=num_workers)\n",
        "valid_loader = torch.utils.data.DataLoader(train_data, batch_size=batch_size, \n",
        "    sampler=valid_sampler, num_workers=num_workers)\n",
        "test_loader = torch.utils.data.DataLoader(test_data, batch_size=batch_size, \n",
        "    num_workers=num_workers)"
      ]
    },
    {
      "cell_type": "code",
      "execution_count": 6,
      "metadata": {
        "id": "lFPLPeI2m3zV"
      },
      "outputs": [],
      "source": [
        "classes = ['airplane', 'automobile', 'bird', 'cat', 'deer', 'dog', 'frog', 'horse', 'ship', 'truck']"
      ]
    },
    {
      "cell_type": "markdown",
      "metadata": {
        "id": "lK17mbkX6u_z"
      },
      "source": [
        "## Fonction de perte customisée"
      ]
    },
    {
      "cell_type": "code",
      "execution_count": 7,
      "metadata": {
        "id": "kcmLhPfApluY"
      },
      "outputs": [],
      "source": [
        "class CustomLoss(nn.Module):\n",
        "    def __init__(self):\n",
        "        super(CustomLoss, self).__init__()\n",
        "\n",
        "    def forward(self, output, target, params, device, norm, l):\n",
        "        criterion = nn.CrossEntropyLoss().to(device)\n",
        "        loss = criterion(output, target)\n",
        "        \n",
        "        if norm == 1:\n",
        "          params = torch.cat([x.view(-1) for x in params])\n",
        "          h = l * torch.norm(params, 1)\n",
        "        \n",
        "        elif norm == 2:\n",
        "          params = torch.cat([x.view(-1) for x in params])\n",
        "          h = l * torch.square(torch.norm(params, 2))\n",
        "        \n",
        "        elif norm == \"weighted\":\n",
        "          loss.backward()\n",
        "\n",
        "          h = []\n",
        "          for p in params:\n",
        "            Irr = torch.exp(-torch.abs(p.grad))\n",
        "            t = torch.abs(p)**2\n",
        "            h.append(torch.sum(Irr * t))\n",
        "\n",
        "          h = l*sum(h)\n",
        "\n",
        "        elif norm == 'no reg':\n",
        "          h = torch.zeros_like(loss)\n",
        "        \n",
        "        else:\n",
        "          print(\"Must define norm = 1 or norm = 2\")\n",
        "          return None\n",
        "\n",
        "\n",
        "        return loss + h"
      ]
    },
    {
      "cell_type": "markdown",
      "metadata": {
        "id": "A1eFlg-l66Ge"
      },
      "source": [
        "## Architectures des réseaux"
      ]
    },
    {
      "cell_type": "markdown",
      "metadata": {
        "id": "Au_YY9B0694g"
      },
      "source": [
        "### MLP"
      ]
    },
    {
      "cell_type": "code",
      "execution_count": 8,
      "metadata": {
        "id": "qWfUcF6fm7no"
      },
      "outputs": [],
      "source": [
        "# Build the architecture\n",
        "\n",
        "class MLP(nn.Module):\n",
        "  def __init__(self, dropout=False):\n",
        "    super(MLP, self).__init__()\n",
        "\n",
        "    self.fc1 = nn.Linear(32*32*3, 1024)\n",
        "    self.fc2 = nn.Linear(1024, 2048)\n",
        "    self.fc3 = nn.Linear(2048, 10)\n",
        "\n",
        "    if dropout: \n",
        "      self.dropout = nn.Dropout(0.2)\n",
        "    else : \n",
        "      self.dropout = nn.Identity()\n",
        "\n",
        "  def forward(self, x):\n",
        "    x = x.view(-1, 32*32*3)\n",
        "    x = self.fc1(x)\n",
        "    x = self.dropout(x)\n",
        "    x = F.relu(x)\n",
        "    x = self.fc2(x)\n",
        "    x = self.dropout(x)\n",
        "    x = F.relu(x)\n",
        "    x = self.fc3(x)\n",
        "\n",
        "    return x"
      ]
    },
    {
      "cell_type": "markdown",
      "metadata": {
        "id": "cJet6LBM7AT9"
      },
      "source": [
        "### CNN"
      ]
    },
    {
      "cell_type": "code",
      "execution_count": 9,
      "metadata": {
        "id": "fvaLmRn4UFRq"
      },
      "outputs": [],
      "source": [
        "class CNN(nn.Module):\n",
        "  def __init__(self, dropout=False):\n",
        "    super(CNN, self).__init__()\n",
        "    \n",
        "    self.conv1 = nn.Conv2d(3, 16, 3, padding=1)\n",
        "    self.conv2 = nn.Conv2d(16, 32, 3, padding = 1)\n",
        "    self.conv3 = nn.Conv2d(32, 64, 3, padding = 1)\n",
        "    \n",
        "    self.pool = nn.MaxPool2d(2,2)\n",
        "\n",
        "    if dropout: \n",
        "      self.dropout = nn.Dropout(0.2)\n",
        "    else : \n",
        "      self.dropout = nn.Identity()\n",
        "\n",
        "    self.fc1 = nn.Linear(4*4*64, 256)\n",
        "    self.fc2 = nn.Linear(256, 10)\n",
        "  \n",
        "  def forward(self, x):\n",
        "\n",
        "    x = self.pool(F.relu(self.conv1(x)))\n",
        "    x = self.pool(F.relu(self.conv2(x)))\n",
        "    x = self.pool(F.relu(self.conv3(x)))\n",
        "\n",
        "    x = x.view(-1, 4*4*64)\n",
        "\n",
        "    x = self.dropout(x)\n",
        "\n",
        "    x = F.relu(self.fc1(x))\n",
        "    x = self.fc2(x)\n",
        "\n",
        "    return x"
      ]
    },
    {
      "cell_type": "markdown",
      "metadata": {
        "id": "G75mXek47I7B"
      },
      "source": [
        "## Fonctions principales"
      ]
    },
    {
      "cell_type": "markdown",
      "source": [
        "### Entraînement/Test\n"
      ],
      "metadata": {
        "id": "k0R1ObOvEIlo"
      }
    },
    {
      "cell_type": "code",
      "execution_count": 10,
      "metadata": {
        "id": "ZSWJdDNh7MTi"
      },
      "outputs": [],
      "source": [
        "def train(model, lambda_reg, n_epochs:int, criterion, optimizer, norm, name:str, train_on_gpu):\n",
        "\n",
        "  if train_on_gpu:\n",
        "    model.cuda()\n",
        "    device = 'cuda'\n",
        "  else:\n",
        "    device = 'cpu'\n",
        "\n",
        "  train_losses = []\n",
        "  train_accs = []\n",
        "\n",
        "  valid_losses = []\n",
        "  valid_accs = []\n",
        "\n",
        "\n",
        "  valid_loss_min = np.Inf\n",
        "  t0 = time()\n",
        "  for epoch in range(n_epochs): \n",
        "\n",
        "    train_loss = 0\n",
        "    train_acc = 0\n",
        "\n",
        "    valid_loss = 0\n",
        "    valid_acc = 0 \n",
        "\n",
        "    # Train \n",
        "    model.train()\n",
        "\n",
        "    for data, target in train_loader:\n",
        "      if train_on_gpu:\n",
        "        data, target = data.cuda(), target.cuda()\n",
        "\n",
        "      model.zero_grad()\n",
        "      output = model(data)\n",
        "\n",
        "      loss = criterion(output, target, model.parameters(), device, norm, l=lambda_reg)\n",
        "\n",
        "      # convert output probabilities to predicted class\n",
        "      _, pred = torch.max(output, 1)    \n",
        "    \n",
        "      # compare predictions to true label\n",
        "      correct_tensor = pred.eq(target.data.view_as(pred))\n",
        "      correct = np.squeeze(correct_tensor.numpy()) if not train_on_gpu else np.squeeze(correct_tensor.cpu().numpy()) # True/False * batch_size\n",
        "\n",
        "      acc = sum(correct) \n",
        "\n",
        "      train_loss += loss.item()\n",
        "      train_acc += acc\n",
        "\n",
        "      loss.backward()\n",
        "\n",
        "      optimizer.step()\n",
        "\n",
        "    # Valid\n",
        "    model.eval()\n",
        "    for data,target in valid_loader:\n",
        "      if train_on_gpu:\n",
        "        data, target = data.cuda(), target.cuda()\n",
        "\n",
        "      output = model(data)\n",
        "      loss = criterion(output, target, model.parameters(), device, norm, l=lambda_reg)\n",
        "\n",
        "      # convert output probabilities to predicted class\n",
        "      _, pred = torch.max(output, 1)    \n",
        "    \n",
        "      # compare predictions to true label\n",
        "      correct_tensor = pred.eq(target.data.view_as(pred))\n",
        "      correct = np.squeeze(correct_tensor.numpy()) if not train_on_gpu else np.squeeze(correct_tensor.cpu().numpy()) # True/False * batch_size\n",
        "\n",
        "      acc = sum(correct)\n",
        "\n",
        "      valid_acc += acc\n",
        "      valid_loss += loss.item()\n",
        "\n",
        "\n",
        "    train_loss = train_loss/len(train_loader.sampler)\n",
        "    train_acc = train_acc/len(train_loader.sampler)\n",
        "    valid_loss = valid_loss/len(valid_loader.sampler)\n",
        "    valid_acc = valid_acc/len(valid_loader.sampler)\n",
        "\n",
        "    train_losses.append(train_loss)\n",
        "    train_accs.append(train_acc)\n",
        "\n",
        "    valid_losses.append(valid_loss)\n",
        "    valid_accs.append(valid_acc)\n",
        "\n",
        "\n",
        "    print('Epoch: {} \\tTraining Loss: {:.6f} \\tTraining Accuracy: {:.6f} \\tValidation Loss: {:.6f} \\tValidation Accuracy: {:.6f}'.format(\n",
        "          epoch, train_loss, train_acc, valid_loss, valid_acc))\n",
        "    \n",
        "      # save model if validation loss has decreased\n",
        "    if valid_loss <= valid_loss_min:\n",
        "      print('Validation loss decreased ({:.6f} --> {:.6f}).  Saving model ...'.format(\n",
        "      valid_loss_min,\n",
        "      valid_loss))\n",
        "      torch.save(model.state_dict(), name+'_cifar.pt')\n",
        "      valid_loss_min = valid_loss\n",
        "\n",
        "  t1 = time()  \n",
        "  return train_losses, train_accs, valid_losses, valid_accs, t1-t0"
      ]
    },
    {
      "cell_type": "code",
      "execution_count": 11,
      "metadata": {
        "id": "OFwpKdiTk7cY"
      },
      "outputs": [],
      "source": [
        "def train_irr(model, lambda_reg, n_epochs:int, criterion, optimizer, norm, name:str, train_on_gpu):\n",
        "  \"\"\"Fonction train pour la régularisation Irrevelance\"\"\"\n",
        "\n",
        "  if train_on_gpu:\n",
        "    model.cuda()\n",
        "    device = 'cuda'\n",
        "  else:\n",
        "    device = 'cpu'\n",
        "\n",
        "  train_losses = []\n",
        "  train_accs = []\n",
        "\n",
        "  valid_losses = []\n",
        "  valid_accs = []\n",
        "\n",
        "\n",
        "  valid_loss_min = np.Inf\n",
        "  t0 = time()\n",
        "  for epoch in range(n_epochs): \n",
        "\n",
        "    train_loss = 0\n",
        "    train_acc = 0\n",
        "\n",
        "    valid_loss = 0\n",
        "    valid_acc = 0 \n",
        "\n",
        "    # Train \n",
        "    model.train()\n",
        "\n",
        "    for data, target in train_loader:\n",
        "      if train_on_gpu:\n",
        "        data, target = data.cuda(), target.cuda()\n",
        "\n",
        "      model.zero_grad()\n",
        "      output = model(data)\n",
        "\n",
        "      loss = criterion(output, target, model.parameters(), device, norm, l=lambda_reg)\n",
        "\n",
        "      # convert output probabilities to predicted class\n",
        "      _, pred = torch.max(output, 1)    \n",
        "    \n",
        "      # compare predictions to true label\n",
        "      correct_tensor = pred.eq(target.data.view_as(pred))\n",
        "      correct = np.squeeze(correct_tensor.numpy()) if not train_on_gpu else np.squeeze(correct_tensor.cpu().numpy()) # True/False * batch_size\n",
        "\n",
        "      acc = sum(correct) \n",
        "\n",
        "      train_loss += loss.item()\n",
        "      train_acc += acc\n",
        "\n",
        "      optimizer.step()\n",
        "\n",
        "    # Valid\n",
        "    model.eval()\n",
        "    for data,target in valid_loader:\n",
        "      if train_on_gpu:\n",
        "        data, target = data.cuda(), target.cuda()\n",
        "\n",
        "      output = model(data)\n",
        "      loss = criterion(output, target, model.parameters(), device, norm, l=lambda_reg)\n",
        "\n",
        "      # convert output probabilities to predicted class\n",
        "      _, pred = torch.max(output, 1)    \n",
        "    \n",
        "      # compare predictions to true label\n",
        "      correct_tensor = pred.eq(target.data.view_as(pred))\n",
        "      correct = np.squeeze(correct_tensor.numpy()) if not train_on_gpu else np.squeeze(correct_tensor.cpu().numpy()) # True/False * batch_size\n",
        "\n",
        "      acc = sum(correct)\n",
        "\n",
        "      valid_acc += acc\n",
        "      valid_loss += loss.item()\n",
        "\n",
        "\n",
        "    train_loss = train_loss/len(train_loader.sampler)\n",
        "    train_acc = train_acc/len(train_loader.sampler)\n",
        "    valid_loss = valid_loss/len(valid_loader.sampler)\n",
        "    valid_acc = valid_acc/len(valid_loader.sampler)\n",
        "\n",
        "    train_losses.append(train_loss)\n",
        "    train_accs.append(train_acc)\n",
        "\n",
        "    valid_losses.append(valid_loss)\n",
        "    valid_accs.append(valid_acc)\n",
        "\n",
        "\n",
        "    print('Epoch: {} \\tTraining Loss: {:.6f} \\tTraining Accuracy: {:.6f} \\tValidation Loss: {:.6f} \\tValidation Accuracy: {:.6f}'.format(\n",
        "          epoch, train_loss, train_acc, valid_loss, valid_acc))\n",
        "    \n",
        "      # save model if validation loss has decreased\n",
        "    if valid_loss <= valid_loss_min:\n",
        "      print('Validation loss decreased ({:.6f} --> {:.6f}).  Saving model ...'.format(\n",
        "      valid_loss_min,\n",
        "      valid_loss))\n",
        "      torch.save(model.state_dict(), name+'_cifar.pt')\n",
        "      valid_loss_min = valid_loss\n",
        "\n",
        "  t1 = time()  \n",
        "  return train_losses, train_accs, valid_losses, valid_accs, t1-t0"
      ]
    },
    {
      "cell_type": "code",
      "execution_count": 12,
      "metadata": {
        "id": "8cQHvDx18f1m"
      },
      "outputs": [],
      "source": [
        "def test(model, lambda_reg, n_epochs:int, criterion, optimizer, norm, name:str, train_on_gpu):\n",
        "  model.load_state_dict(torch.load(name+'_cifar.pt'))\n",
        "\n",
        "  if train_on_gpu:\n",
        "    model.cuda()\n",
        "    device = 'cuda'\n",
        "  else:\n",
        "    device = 'cpu'\n",
        "\n",
        "  # track test loss\n",
        "  test_loss = 0.0\n",
        "  class_correct = list(0. for i in range(10))\n",
        "  class_total = list(0. for i in range(10))\n",
        "\n",
        "  model.eval()\n",
        "\n",
        "  # iterate over test data\n",
        "  for data, target in test_loader:\n",
        "    # move tensors to GPU if CUDA is available\n",
        "    if train_on_gpu:\n",
        "        data, target = data.cuda(), target.cuda()\n",
        "    # forward pass: compute predicted outputs by passing inputs to the model\n",
        "    output = model(data)\n",
        "    # calculate the batch loss\n",
        "    loss = criterion(output, target, model.parameters(), device, norm, l = lambda_reg)\n",
        "    # update test loss \n",
        "    test_loss += loss.item()\n",
        "    # convert output probabilities to predicted class\n",
        "    _, pred = torch.max(output, 1)    \n",
        "    # compare predictions to true label\n",
        "    correct_tensor = pred.eq(target.data.view_as(pred))\n",
        "    correct = np.squeeze(correct_tensor.numpy()) if not train_on_gpu else np.squeeze(correct_tensor.cpu().numpy())\n",
        "    # calculate test accuracy for each object class\n",
        "    for i in range(batch_size):\n",
        "        label = target.data[i]\n",
        "        class_correct[label] += correct[i].item()\n",
        "        class_total[label] += 1\n",
        "\n",
        "  # average test loss\n",
        "  test_loss = test_loss/len(test_loader.dataset)\n",
        "  print('Test Loss: {:.6f}\\n'.format(test_loss))\n",
        "\n",
        "  for i in range(10):\n",
        "    if class_total[i] > 0:\n",
        "        print('Test Accuracy of %5s: %2d%% (%2d/%2d)' % (\n",
        "            classes[i], 100 * class_correct[i] / class_total[i],\n",
        "            np.sum(class_correct[i]), np.sum(class_total[i])))\n",
        "    else:\n",
        "        print('Test Accuracy of %5s: N/A (no training examples)' % (classes[i]))\n",
        "\n",
        "  print('\\nTest Accuracy (Overall): %2d%% (%2d/%2d)' % (\n",
        "    100. * np.sum(class_correct) / np.sum(class_total),\n",
        "    np.sum(class_correct), np.sum(class_total)))\n",
        "  \n",
        "  return test_loss, class_correct, class_total, 100. * np.sum(class_correct) / np.sum(class_total)"
      ]
    },
    {
      "cell_type": "markdown",
      "metadata": {
        "id": "fgEyRWaMHFwK"
      },
      "source": [
        "### Fonctions pour analyse"
      ]
    },
    {
      "cell_type": "code",
      "execution_count": 34,
      "metadata": {
        "id": "fsS1_EvNdKVu"
      },
      "outputs": [],
      "source": [
        "def save_results(arrs, name):\n",
        "  df = pd.DataFrame(np.array(arrs), index = ['train_loss', 'train_acc', 'val_loss', 'val_acc', 'time', 'test_loss', 'test_correct', 'test_total', 'test_acc'])\n",
        "  df.to_csv(name+'.csv')"
      ]
    },
    {
      "cell_type": "code",
      "execution_count": 35,
      "metadata": {
        "id": "7iVbJMnDdQQq"
      },
      "outputs": [],
      "source": [
        "def clean(seq_string):\n",
        "    split_seq = seq_string.split(',')\n",
        "    if len(split_seq)>1:\n",
        "      split_seq[0] = split_seq[0][1:]\n",
        "      split_seq[-1] = split_seq[-1][:-1]\n",
        "    return list(map(float, split_seq))\n",
        "\n",
        "def preprocess_csv(file):\n",
        "  df = pd.read_csv(file, sep=',',index_col = 0, names = ['values'], header=0, converters={'values': clean})\n",
        "  return df"
      ]
    },
    {
      "cell_type": "code",
      "source": [
        "def get_model(name):\n",
        "  # name du type : model_architecture_norm_lambda_cifar.pt\n",
        "  attributs = name.split('_')\n",
        "\n",
        "  train_on_gpu = torch.cuda.is_available()\n",
        "  if train_on_gpu:\n",
        "    device = 'cuda'\n",
        "  else:\n",
        "    device = 'cpu'\n",
        "\n",
        "  if attributs[1]=='MLP':\n",
        "    model = MLP()\n",
        "    model.load_state_dict(torch.load(name, map_location=torch.device(device)))\n",
        "\n",
        "  elif attributs[1]=='CNN':\n",
        "    model = CNN()\n",
        "    model.load_state_dict(torch.load(name, map_location=torch.device(device)))\n",
        "  \n",
        "  elif attributs[1]=='RESNET':\n",
        "    model = torch.hub.load('pytorch/vision:v0.10.0', 'resnet34', pretrained=False)\n",
        "    model.load_state_dict(torch.load(name, map_location=torch.device(device)))\n",
        "  \n",
        "  elif attributs[1]=='DNN':\n",
        "    model = torch.hub.load('pytorch/vision:v0.10.0', 'densenet121', pretrained=False)\n",
        "    model.load_state_dict(torch.load(name, map_location=torch.device(device)))\n",
        "  \n",
        "  else : \n",
        "    print(\"Erreur: modèle non utilisé\")\n",
        "    return None\n",
        "  \n",
        "  return model"
      ],
      "metadata": {
        "id": "-54yjrnkse2R"
      },
      "execution_count": 36,
      "outputs": []
    },
    {
      "cell_type": "code",
      "source": [
        "def count_parameters(model, layer_name):\n",
        "  '''layer_name : str\n",
        "          - model = MLP : layer_name = \"fc1.weight\"\n",
        "          - model = CNN : layer_name = \"conv1.weight\"\n",
        "          - model = RESNET : layer_name = \"conv1.weight\"\n",
        "          - model = DNN : layer_name = \"features.conv0.weight\"\n",
        "  '''\n",
        "\n",
        "  for name, parameter in model.named_parameters():\n",
        "    if name==layer_name: \n",
        "      y = parameter.detach().numpy()\n",
        "      t = parameter.numel()\n",
        "      yhc = torch.histc(parameter, bins=1, min = -1e-3, max = 1e-3)\n",
        "\n",
        "  print(\"Pour la couche \"+layer_name[:-7]+\n",
        "        \" : \\n{0:.0f} de paramètres sont mis à 0 \\nEt il y a {1:.0f} de paramètres, soit un pourcentage de {2:.2f}% \\n Il en reste donc {3:.0f} ({4:.2f}).\".format(yhc.sum(), t, yhc.sum()/t*100, t-yhc.sum(), 100-yhc.sum()/t*100))\n"
      ],
      "metadata": {
        "id": "ZYf2Cl2sWTcl"
      },
      "execution_count": 37,
      "outputs": []
    },
    {
      "cell_type": "code",
      "source": [
        "def distrib_weight_simple(model_name, reg_name, model, layer_name):\n",
        "  '''\n",
        "  model_name : \n",
        "          - MLP\n",
        "          - CNN\n",
        "          - RESNET\n",
        "          - DNN\n",
        "\n",
        "  reg_name : str \n",
        "          - \"L1\"\n",
        "          - \"Squared-L2\"\n",
        "          - \"Non-pertinence\"\n",
        "  \n",
        "  layer_name : str\n",
        "          - model = MLP : layer_name = \"fc1.weight\"\n",
        "          - model = CNN : layer_name = \"conv1.weight\"\n",
        "          - model = RESNET : layer_name = \"conv1.weight\"\n",
        "          - model = DNN : layer_name = \"features.conv0.weight\"\n",
        "  '''\n",
        "\n",
        "  if model_name=='MLP':\n",
        "    model2 = MLP()\n",
        "\n",
        "  elif model_name=='CNN':\n",
        "    model2 = CNN()\n",
        "  \n",
        "  elif model_name=='RESNET':\n",
        "    model2 = torch.hub.load('pytorch/vision:v0.10.0', 'resnet34', pretrained=False)\n",
        "  \n",
        "  elif model_name=='DNN':\n",
        "    model2 = torch.hub.load('pytorch/vision:v0.10.0', 'densenet121', pretrained=False)  \n",
        "\n",
        "  for name, parameter in model.named_parameters():\n",
        "    if name==layer_name: \n",
        "      y = parameter.detach().numpy()\n",
        "      t = parameter.numel()\n",
        "      \n",
        "  for name, parameter in model2.named_parameters():\n",
        "    if name==layer_name: \n",
        "      y2 = parameter.detach().numpy()\n",
        "\n",
        "  sns.set_palette(\"Set2\")\n",
        "\n",
        "  fig, ax = plt.subplots()\n",
        "\n",
        "  sns.histplot(x=y2.reshape(-1), bins= 20, stat='frequency', label='initiale')\n",
        "  sns.histplot(x=y.reshape(-1), bins= 100, stat='frequency', label='finale')\n",
        "\n",
        "  plt.legend(bbox_to_anchor=(1,1))\n",
        "  plt.suptitle(\"Répartition des poids :\", fontweight=\"bold\")\n",
        "  plt.title(model_name + \" avec \"+ reg_name+' sur '+ layer_name[:-7]+' : '+str(t)+' paramètres')\n",
        "  plt.ylabel(\"Fréquence\")\n",
        "  \n",
        "  file_name = 'repart_weight_'+model_name+'_'+layer_name[:-7]+'_'+reg_name.split('\"')[1]+'.png'\n",
        "  plt.savefig(file_name)\n",
        "  \n",
        "  plt.show()"
      ],
      "metadata": {
        "id": "z5yJ5gk3XPO6"
      },
      "execution_count": 38,
      "outputs": []
    },
    {
      "cell_type": "code",
      "source": [
        "def distrib_weight_count(model_name, reg_name, model, layer_name):\n",
        "  '''\n",
        "  model_name : \n",
        "          - MLP\n",
        "          - CNN\n",
        "          - RESNET\n",
        "          - DNN\n",
        "\n",
        "  reg_name : str \n",
        "          - \"L1\"\n",
        "          - \"Squared-L2\"\n",
        "          - \"Non-pertinence\"\n",
        "  \n",
        "  layer_name : str\n",
        "          - model = MLP : layer_name = \"fc1.weight\"\n",
        "          - model = CNN : layer_name = \"conv1.weight\"\n",
        "          - model = RESNET : layer_name = \"conv1.weight\"\n",
        "          - model = DNN : layer_name = \"features.conv0.weight\"\n",
        "  '''\n",
        "  \n",
        "  if model_name=='MLP':\n",
        "    model2 = MLP()\n",
        "\n",
        "  elif model_name=='CNN':\n",
        "    model2 = CNN()\n",
        "  \n",
        "  elif model_name=='RESNET':\n",
        "    model2 = torch.hub.load('pytorch/vision:v0.10.0', 'resnet34', pretrained=False)\n",
        "  \n",
        "  elif model_name=='DNN':\n",
        "    model2 = torch.hub.load('pytorch/vision:v0.10.0', 'densenet121', pretrained=False)  \n",
        "\n",
        "  for name, parameter in model.named_parameters():\n",
        "    if name==layer_name: \n",
        "      y = parameter.detach().numpy()\n",
        "      t = parameter.numel()\n",
        "\n",
        "  for name, parameter in model2.named_parameters():\n",
        "    if name==layer_name: \n",
        "      y2 = parameter.detach().numpy()\n",
        "\n",
        "  sns.set_palette(\"Set2\")\n",
        "\n",
        "  fig, ax = plt.subplots()\n",
        "\n",
        "  sns.histplot(x=y2.reshape(-1), bins= 20, label='initiale')\n",
        "  sns.histplot(x=y.reshape(-1), bins= 100, label='finale')\n",
        "\n",
        "  plt.legend(bbox_to_anchor=(1,1))\n",
        "  plt.suptitle(\"Répartition des poids :\", fontweight=\"bold\")\n",
        "  plt.title(model_name + \" avec \"+ reg_name+' sur '+ layer_name[:-7]+' : '+str(t)+' paramètres')\n",
        "  plt.ylabel(\"Compte\")\n",
        "  \n",
        "  file_name = 'repart_weight_'+model_name+'_'+layer_name[:-7]+'_'+reg_name.split('\"')[1]+'_count.png'\n",
        "  plt.savefig(file_name)\n",
        "  \n",
        "  plt.show()"
      ],
      "metadata": {
        "id": "TeOfp2VbW0ol"
      },
      "execution_count": 39,
      "outputs": []
    },
    {
      "cell_type": "code",
      "source": [
        "def plot_per_epoch_lambdacomp(model_name, reg_name, df_l1, df_l2, df_l3, df_l0, no_reg=True):\n",
        "  '''\n",
        "  model_name : str\n",
        "          - MLP\n",
        "          - CNN\n",
        "          - RESNET\n",
        "          - DNN\n",
        "\n",
        "  reg_name : str \n",
        "          - \"L1\"\n",
        "          - \"Squared-L2\"\n",
        "          - \"Non-pertinence\"\n",
        "  \n",
        "  layer_name : str\n",
        "          - model = MLP : layer_name = fc1.weight\n",
        "          - model = CNN : layer_name = conv1.weight\n",
        "          - model = RESNET : layer_name = conv1.weight\n",
        "          - model = DNN : layer_name = features.conv0.weight\n",
        "  '''\n",
        "\n",
        "  sns.set_palette(\"Paired\")\n",
        "  palette_total = sns.color_palette(\"Paired\")\n",
        "  \n",
        "  train_l1 = df_l1.iloc[1,0]\n",
        "  test_l1 = df_l1.iloc[3,0]\n",
        "  \n",
        "  train_l2 = df_l2.iloc[1,0]\n",
        "  test_l2 = df_l2.iloc[3,0]\n",
        "  \n",
        "  train_l3 = df_l3.iloc[1,0]\n",
        "  test_l3 = df_l3.iloc[3,0]\n",
        "\n",
        "  train_l0 = df_l0.iloc[1,0]\n",
        "  test_l0 = df_l0.iloc[3,0]\n",
        "\n",
        "  test_acc_l1 = df_l1.iloc[-1,0][0]\n",
        "  test_acc_l2 = df_l2.iloc[-1,0][0]\n",
        "  test_acc_l3 = df_l3.iloc[-1,0][0]\n",
        "  test_acc_l0 = df_l0.iloc[-1,0][0]\n",
        "\n",
        "  fig, ax = plt.subplots()\n",
        "  \n",
        "  x = np.arange(1,len(train_l1)+1, step=1)\n",
        "  \n",
        "  sns.lineplot(x=x, y=train_l1, label=\"train - $\\lambda_{1}$\")\n",
        "  sns.lineplot(x=x, y=test_l1, label=\"validation - $\\lambda_{1}$\")\n",
        "  sns.lineplot(x=x, y=train_l2, label=\"train - $\\lambda_{2}$\")\n",
        "  sns.lineplot(x=x, y=test_l2, label=\"validation - $\\lambda_{2}$\")\n",
        "  sns.lineplot(x=x, y=train_l3, label=\"train - $\\lambda_{3}$\")\n",
        "  sns.lineplot(x=x, y=test_l3, label=\"validation - $\\lambda_{3}$\")\n",
        "  \n",
        "  if no_reg : \n",
        "    sns.lineplot(x=x, y=train_l0, label=\"train - $\\lambda=0$\")\n",
        "    sns.lineplot(x=x, y=test_l0, label=\"validation - $\\lambda=0$\")\n",
        "  \n",
        "  ax.set_xticks(x)\n",
        "  lgd = plt.legend(bbox_to_anchor=(0.5,-0.15))\n",
        "  plt.title(\"Évolution du modèle \"+ model_name + \" avec la régularisation \"+ reg_name)\n",
        "  plt.xlabel(\"Epochs\")\n",
        "  plt.ylabel(\"Précision\")\n",
        "\n",
        "  if no_reg : \n",
        "    legend_elements = [Line2D([], [], marker='o', color='white', markerfacecolor=palette_total[1], label=str(test_acc_l1)),\n",
        "                    Line2D([], [], marker='o', color='white', markerfacecolor=palette_total[3], label=str(test_acc_l2)),\n",
        "                    Line2D([], [], marker='o', color='white', markerfacecolor=palette_total[5], label=str(test_acc_l3)),\n",
        "                    Line2D([], [], marker='o', color='white', markerfacecolor=palette_total[7], label=str(test_acc_l0))]\n",
        "  else : \n",
        "    legend_elements = [Line2D([], [], marker='o', color='white', markerfacecolor=palette_total[1], label=str(test_acc_l1)),\n",
        "                    Line2D([], [], marker='o', color='white', markerfacecolor=palette_total[3], label=str(test_acc_l2)),\n",
        "                    Line2D([], [], marker='o', color='white', markerfacecolor=palette_total[5], label=str(test_acc_l3))]\n",
        "  \n",
        "  lgd2 = fig.legend(handles=legend_elements, bbox_to_anchor=[0.75, -0.05], title=\"Précision sur test\")\n",
        "  if no_reg: \n",
        "    file_name = 'comp_lambda_'+model_name+'_'+reg_name.split('\"')[1]+'_avec_noreg.png'\n",
        "  else : \n",
        "    file_name = 'comp_lambda_'+model_name+'_'+reg_name.split('\"')[1]+'.png'\n",
        "  plt.savefig(file_name, bbox_extra_artists=(lgd,lgd2,), bbox_inches='tight')\n",
        "  plt.show()  "
      ],
      "metadata": {
        "id": "VvYesj_QWAic"
      },
      "execution_count": 42,
      "outputs": []
    },
    {
      "cell_type": "code",
      "source": [
        "def plot_per_epoch_regcomp(model_name, l_name, df_l1, df_l2, df_l3, df_l0, no_reg=True):\n",
        "  '''\n",
        "  model_name : str\n",
        "          - MLP\n",
        "          - CNN\n",
        "          - RESNET\n",
        "          - DNN\n",
        "\n",
        "  l_name : str \n",
        "          - $\\lambda_{0}$ (=0)\n",
        "          - $\\lambda_{1}$ (=1e-4)\n",
        "          - $\\lambda_{2}$ (=1e-3)\n",
        "          - $\\lambda_{3}$ (=1e-2)\n",
        "  \n",
        "  layer_name : str\n",
        "          - model = MLP : layer_name = fc1.weight\n",
        "          - model = CNN : layer_name = conv1.weight\n",
        "          - model = RESNET : layer_name = conv1.weight\n",
        "          - model = DNN : layer_name = features.conv0.weight\n",
        "  '''\n",
        "\n",
        "  sns.set_palette(\"Paired\")\n",
        "\n",
        "  palette_total = sns.color_palette(\"Paired\")\n",
        "  \n",
        "  train_l1 = df_l1.iloc[1,0]\n",
        "  test_l1 = df_l1.iloc[3,0]\n",
        "  \n",
        "  train_l2 = df_l2.iloc[1,0]\n",
        "  test_l2 = df_l2.iloc[3,0]\n",
        "  \n",
        "  train_l3 = df_l3.iloc[1,0]\n",
        "  test_l3 = df_l3.iloc[3,0]\n",
        "\n",
        "  train_l0 = df_l0.iloc[1,0]\n",
        "  test_l0 = df_l0.iloc[3,0]\n",
        "\n",
        "  test_acc_l1 = df_l1.iloc[-1,0][0]\n",
        "  test_acc_l2 = df_l2.iloc[-1,0][0]\n",
        "  test_acc_l3 = df_l3.iloc[-1,0][0]\n",
        "  test_acc_l0 = df_l0.iloc[-1,0][0]\n",
        "\n",
        "  fig, ax = plt.subplots()\n",
        "  \n",
        "  x = np.arange(1,len(train_l1)+1, step=1)\n",
        "  \n",
        "  sns.lineplot(x=x, y=train_l1, label=\"train - L1\")\n",
        "  sns.lineplot(x=x, y=test_l1, label=\"validation - L1\")\n",
        "  sns.lineplot(x=x, y=train_l2, label=\"train - Squared-L2\")\n",
        "  sns.lineplot(x=x, y=test_l2, label=\"validation - Squared-L2\")\n",
        "  sns.lineplot(x=x, y=train_l3, label=\"train - Non-pertinence\")\n",
        "  sns.lineplot(x=x, y=test_l3, label=\"validation - Non-pertinence\")\n",
        "  \n",
        "  if no_reg : \n",
        "    sns.lineplot(x=x, y=train_l0, label=\"train - Sans ($\\lambda=0$)\")\n",
        "    sns.lineplot(x=x, y=test_l0, label=\"validation - Sans ($\\lambda=0$)\")\n",
        "  \n",
        "  ax.set_xticks(x)\n",
        "  lgd = plt.legend(bbox_to_anchor=(0.5,-0.15))\n",
        "  plt.title(\"Évolution du modèle \"+ model_name + \" avec \"+l_name)\n",
        "  plt.xlabel(\"Epochs\")\n",
        "  plt.ylabel(\"Précision\")\n",
        "\n",
        "  if no_reg : \n",
        "    legend_elements = [Line2D([], [], marker='o', color='white', markerfacecolor=palette_total[1], label=str(test_acc_l1)),\n",
        "                    Line2D([], [], marker='o', color='white', markerfacecolor=palette_total[3], label=str(test_acc_l2)),\n",
        "                    Line2D([], [], marker='o', color='white', markerfacecolor=palette_total[5], label=str(test_acc_l3)),\n",
        "                    Line2D([], [], marker='o', color='white', markerfacecolor=palette_total[7], label=str(test_acc_l0))]\n",
        "  else : \n",
        "    legend_elements = [Line2D([], [], marker='o', color='white', markerfacecolor=palette_total[1], label=str(test_acc_l1)),\n",
        "                    Line2D([], [], marker='o', color='white', markerfacecolor=palette_total[3], label=str(test_acc_l2)),\n",
        "                    Line2D([], [], marker='o', color='white', markerfacecolor=palette_total[5], label=str(test_acc_l3))]\n",
        "  \n",
        "  lgd2 = fig.legend(handles=legend_elements, bbox_to_anchor=[0.75, -0.05], title=\"Précision sur test\")\n",
        "\n",
        "  file_name = 'comp_reg_'+model_name+'_l'+l_name[-3]+'.png'\n",
        "\n",
        "  plt.savefig(file_name, bbox_extra_artists=(lgd,lgd2,), bbox_inches='tight')\n",
        "  plt.show()  "
      ],
      "metadata": {
        "id": "fs4e27IwpZDz"
      },
      "execution_count": 43,
      "outputs": []
    },
    {
      "cell_type": "markdown",
      "metadata": {
        "id": "zjxrZZWo8UgH"
      },
      "source": [
        "## Hyperparamètres "
      ]
    },
    {
      "cell_type": "code",
      "execution_count": 21,
      "metadata": {
        "id": "hpZDJjXoBiiH"
      },
      "outputs": [],
      "source": [
        "train_on_gpu = torch.cuda.is_available()"
      ]
    },
    {
      "cell_type": "code",
      "execution_count": 22,
      "metadata": {
        "id": "kxIg06WI7m-n"
      },
      "outputs": [],
      "source": [
        "n_epochs = 20"
      ]
    },
    {
      "cell_type": "markdown",
      "metadata": {
        "id": "BgBD_F2GAC8F"
      },
      "source": [
        "# Expériences "
      ]
    },
    {
      "cell_type": "markdown",
      "metadata": {
        "id": "Z0ZaJY-bAE7P"
      },
      "source": [
        "## L1"
      ]
    },
    {
      "cell_type": "code",
      "execution_count": null,
      "metadata": {
        "id": "d4E4FmKCAvDC"
      },
      "outputs": [],
      "source": [
        "norm = 1"
      ]
    },
    {
      "cell_type": "markdown",
      "metadata": {
        "id": "RNU7xmLZDVX6"
      },
      "source": [
        "### $\\lambda_{1} = 10^{-4}$"
      ]
    },
    {
      "cell_type": "code",
      "execution_count": null,
      "metadata": {
        "id": "r5nTYMIcD0r7"
      },
      "outputs": [],
      "source": [
        "lambda_reg = 1e-4"
      ]
    },
    {
      "cell_type": "markdown",
      "metadata": {
        "id": "YRPR7sGrAHg2"
      },
      "source": [
        "#### MLP"
      ]
    },
    {
      "cell_type": "code",
      "execution_count": null,
      "metadata": {
        "id": "5OMOzbMxm9g8"
      },
      "outputs": [],
      "source": [
        "model_MLP_L1_lambda1 = MLP()\n",
        "\n",
        "criterion = CustomLoss()\n",
        "optimizer = optim.SGD(params = model_MLP_L1_lambda1.parameters(), lr = 0.03)"
      ]
    },
    {
      "cell_type": "code",
      "execution_count": null,
      "metadata": {
        "colab": {
          "base_uri": "https://localhost:8080/"
        },
        "id": "zNElhat6nAKa",
        "outputId": "e7f4e515-d1d3-4025-bf88-d3d60829216f"
      },
      "outputs": [
        {
          "name": "stdout",
          "output_type": "stream",
          "text": [
            "Epoch: 0 \tTraining Loss: 0.330569 \tTraining Accuracy: 0.297459 \tValidation Loss: 0.258174 \tValidation Accuracy: 0.353333\n",
            "Validation loss decreased (inf --> 0.258174).  Saving model ...\n",
            "Epoch: 1 \tTraining Loss: 0.212142 \tTraining Accuracy: 0.348212 \tValidation Loss: 0.168959 \tValidation Accuracy: 0.382933\n",
            "Validation loss decreased (0.258174 --> 0.168959).  Saving model ...\n",
            "Epoch: 2 \tTraining Loss: 0.147798 \tTraining Accuracy: 0.356306 \tValidation Loss: 0.126886 \tValidation Accuracy: 0.370000\n",
            "Validation loss decreased (0.168959 --> 0.126886).  Saving model ...\n",
            "Epoch: 3 \tTraining Loss: 0.116543 \tTraining Accuracy: 0.365647 \tValidation Loss: 0.102471 \tValidation Accuracy: 0.413067\n",
            "Validation loss decreased (0.126886 --> 0.102471).  Saving model ...\n",
            "Epoch: 4 \tTraining Loss: 0.102013 \tTraining Accuracy: 0.376659 \tValidation Loss: 0.095164 \tValidation Accuracy: 0.411733\n",
            "Validation loss decreased (0.102471 --> 0.095164).  Saving model ...\n",
            "Epoch: 5 \tTraining Loss: 0.097797 \tTraining Accuracy: 0.385976 \tValidation Loss: 0.095301 \tValidation Accuracy: 0.402400\n",
            "Epoch: 6 \tTraining Loss: 0.096230 \tTraining Accuracy: 0.396706 \tValidation Loss: 0.094680 \tValidation Accuracy: 0.401600\n",
            "Validation loss decreased (0.095164 --> 0.094680).  Saving model ...\n",
            "Epoch: 7 \tTraining Loss: 0.095495 \tTraining Accuracy: 0.395529 \tValidation Loss: 0.090811 \tValidation Accuracy: 0.431867\n",
            "Validation loss decreased (0.094680 --> 0.090811).  Saving model ...\n",
            "Epoch: 8 \tTraining Loss: 0.094546 \tTraining Accuracy: 0.402494 \tValidation Loss: 0.091073 \tValidation Accuracy: 0.433600\n",
            "Epoch: 9 \tTraining Loss: 0.093943 \tTraining Accuracy: 0.407859 \tValidation Loss: 0.090836 \tValidation Accuracy: 0.419200\n",
            "Epoch: 10 \tTraining Loss: 0.093320 \tTraining Accuracy: 0.411529 \tValidation Loss: 0.090646 \tValidation Accuracy: 0.426933\n",
            "Validation loss decreased (0.090811 --> 0.090646).  Saving model ...\n",
            "Epoch: 11 \tTraining Loss: 0.092809 \tTraining Accuracy: 0.413882 \tValidation Loss: 0.091862 \tValidation Accuracy: 0.427333\n",
            "Epoch: 12 \tTraining Loss: 0.092536 \tTraining Accuracy: 0.417012 \tValidation Loss: 0.088735 \tValidation Accuracy: 0.449733\n",
            "Validation loss decreased (0.090646 --> 0.088735).  Saving model ...\n",
            "Epoch: 13 \tTraining Loss: 0.092267 \tTraining Accuracy: 0.419859 \tValidation Loss: 0.089086 \tValidation Accuracy: 0.431200\n",
            "Epoch: 14 \tTraining Loss: 0.091870 \tTraining Accuracy: 0.421788 \tValidation Loss: 0.090516 \tValidation Accuracy: 0.430667\n",
            "Epoch: 15 \tTraining Loss: 0.091728 \tTraining Accuracy: 0.422682 \tValidation Loss: 0.087573 \tValidation Accuracy: 0.450133\n",
            "Validation loss decreased (0.088735 --> 0.087573).  Saving model ...\n",
            "Epoch: 16 \tTraining Loss: 0.091612 \tTraining Accuracy: 0.425624 \tValidation Loss: 0.088579 \tValidation Accuracy: 0.452533\n",
            "Epoch: 17 \tTraining Loss: 0.091388 \tTraining Accuracy: 0.429553 \tValidation Loss: 0.088477 \tValidation Accuracy: 0.444667\n",
            "Epoch: 18 \tTraining Loss: 0.091392 \tTraining Accuracy: 0.426682 \tValidation Loss: 0.089207 \tValidation Accuracy: 0.439733\n",
            "Epoch: 19 \tTraining Loss: 0.091079 \tTraining Accuracy: 0.431788 \tValidation Loss: 0.089617 \tValidation Accuracy: 0.440800\n"
          ]
        }
      ],
      "source": [
        "train_loss_MLP_L1_lambda1, train_acc_MLP_L1_lambda1, valid_loss_MLP_L1_lambda1, valid_acc_MLP_L1_lambda1, time_MLP_L1_lambda1 = train(model_MLP_L1_lambda1, lambda_reg, n_epochs, criterion, optimizer, norm, 'model_MLP_L1_lambda1', train_on_gpu)"
      ]
    },
    {
      "cell_type": "code",
      "execution_count": null,
      "metadata": {
        "colab": {
          "base_uri": "https://localhost:8080/"
        },
        "id": "NX2BuLAc_A9G",
        "outputId": "48a87ae8-fefc-4a34-9a7f-a0cdc200a0eb"
      },
      "outputs": [
        {
          "name": "stdout",
          "output_type": "stream",
          "text": [
            "Test Loss: 0.087502\n",
            "\n",
            "Test Accuracy of airplane: 38% (388/1000)\n",
            "Test Accuracy of automobile: 57% (576/1000)\n",
            "Test Accuracy of  bird:  8% (81/1000)\n",
            "Test Accuracy of   cat: 42% (427/1000)\n",
            "Test Accuracy of  deer: 54% (544/1000)\n",
            "Test Accuracy of   dog: 24% (240/1000)\n",
            "Test Accuracy of  frog: 55% (550/1000)\n",
            "Test Accuracy of horse: 50% (504/1000)\n",
            "Test Accuracy of  ship: 64% (647/1000)\n",
            "Test Accuracy of truck: 57% (579/1000)\n",
            "\n",
            "Test Accuracy (Overall): 45% (4536/10000)\n"
          ]
        }
      ],
      "source": [
        "test_loss_MLP_L1_lambda1, class_correct_MLP_L1_lambda1, class_total_MLP_L1_lambda1, test_acc_MLP_L1_lambda1 = test(model_MLP_L1_lambda1, lambda_reg, n_epochs, criterion, optimizer, norm, 'model_MLP_L1_lambda1', train_on_gpu)"
      ]
    },
    {
      "cell_type": "code",
      "execution_count": null,
      "metadata": {
        "id": "3QrHfuipeBWO"
      },
      "outputs": [],
      "source": [
        "arrs = [train_loss_MLP_L1_lambda1, train_acc_MLP_L1_lambda1, valid_loss_MLP_L1_lambda1, valid_acc_MLP_L1_lambda1, time_MLP_L1_lambda1, test_loss_MLP_L1_lambda1, class_correct_MLP_L1_lambda1, class_total_MLP_L1_lambda1, test_acc_MLP_L1_lambda1]"
      ]
    },
    {
      "cell_type": "code",
      "execution_count": null,
      "metadata": {
        "colab": {
          "base_uri": "https://localhost:8080/"
        },
        "id": "MvpkAe9reAJd",
        "outputId": "24fa819b-c41f-442e-ff54-ca30cb3c0d05"
      },
      "outputs": [
        {
          "name": "stderr",
          "output_type": "stream",
          "text": [
            "<ipython-input-25-b3a6eac2ef9e>:5: VisibleDeprecationWarning: Creating an ndarray from ragged nested sequences (which is a list-or-tuple of lists-or-tuples-or ndarrays with different lengths or shapes) is deprecated. If you meant to do this, you must specify 'dtype=object' when creating the ndarray.\n",
            "  df = pd.DataFrame(np.array(arrs), index = ['train_loss', 'train_acc', 'val_loss', 'val_acc', 'time', 'test_loss', 'test_correct', 'test_total', 'test_acc'])\n"
          ]
        }
      ],
      "source": [
        "save_results(arrs, \"MLP_L1_lambda1\")"
      ]
    },
    {
      "cell_type": "markdown",
      "metadata": {
        "id": "mQnhiVoMu8oE"
      },
      "source": [
        "##### Dropout"
      ]
    },
    {
      "cell_type": "code",
      "execution_count": null,
      "metadata": {
        "id": "W3NUJrr9urqR"
      },
      "outputs": [],
      "source": [
        "model_MLP_L1_lambda1_dropout = MLP_dropout()\n",
        "\n",
        "criterion = CustomLoss()\n",
        "optimizer = optim.SGD(params = model_MLP_L1_lambda1_dropout.parameters(), lr = 0.03)"
      ]
    },
    {
      "cell_type": "code",
      "execution_count": null,
      "metadata": {
        "colab": {
          "base_uri": "https://localhost:8080/"
        },
        "id": "znzVtP5iurqS",
        "outputId": "e7f4e515-d1d3-4025-bf88-d3d60829216f"
      },
      "outputs": [
        {
          "name": "stdout",
          "output_type": "stream",
          "text": [
            "Epoch: 0 \tTraining Loss: 0.330569 \tTraining Accuracy: 0.297459 \tValidation Loss: 0.258174 \tValidation Accuracy: 0.353333\n",
            "Validation loss decreased (inf --> 0.258174).  Saving model ...\n",
            "Epoch: 1 \tTraining Loss: 0.212142 \tTraining Accuracy: 0.348212 \tValidation Loss: 0.168959 \tValidation Accuracy: 0.382933\n",
            "Validation loss decreased (0.258174 --> 0.168959).  Saving model ...\n",
            "Epoch: 2 \tTraining Loss: 0.147798 \tTraining Accuracy: 0.356306 \tValidation Loss: 0.126886 \tValidation Accuracy: 0.370000\n",
            "Validation loss decreased (0.168959 --> 0.126886).  Saving model ...\n",
            "Epoch: 3 \tTraining Loss: 0.116543 \tTraining Accuracy: 0.365647 \tValidation Loss: 0.102471 \tValidation Accuracy: 0.413067\n",
            "Validation loss decreased (0.126886 --> 0.102471).  Saving model ...\n",
            "Epoch: 4 \tTraining Loss: 0.102013 \tTraining Accuracy: 0.376659 \tValidation Loss: 0.095164 \tValidation Accuracy: 0.411733\n",
            "Validation loss decreased (0.102471 --> 0.095164).  Saving model ...\n",
            "Epoch: 5 \tTraining Loss: 0.097797 \tTraining Accuracy: 0.385976 \tValidation Loss: 0.095301 \tValidation Accuracy: 0.402400\n",
            "Epoch: 6 \tTraining Loss: 0.096230 \tTraining Accuracy: 0.396706 \tValidation Loss: 0.094680 \tValidation Accuracy: 0.401600\n",
            "Validation loss decreased (0.095164 --> 0.094680).  Saving model ...\n",
            "Epoch: 7 \tTraining Loss: 0.095495 \tTraining Accuracy: 0.395529 \tValidation Loss: 0.090811 \tValidation Accuracy: 0.431867\n",
            "Validation loss decreased (0.094680 --> 0.090811).  Saving model ...\n",
            "Epoch: 8 \tTraining Loss: 0.094546 \tTraining Accuracy: 0.402494 \tValidation Loss: 0.091073 \tValidation Accuracy: 0.433600\n",
            "Epoch: 9 \tTraining Loss: 0.093943 \tTraining Accuracy: 0.407859 \tValidation Loss: 0.090836 \tValidation Accuracy: 0.419200\n",
            "Epoch: 10 \tTraining Loss: 0.093320 \tTraining Accuracy: 0.411529 \tValidation Loss: 0.090646 \tValidation Accuracy: 0.426933\n",
            "Validation loss decreased (0.090811 --> 0.090646).  Saving model ...\n",
            "Epoch: 11 \tTraining Loss: 0.092809 \tTraining Accuracy: 0.413882 \tValidation Loss: 0.091862 \tValidation Accuracy: 0.427333\n",
            "Epoch: 12 \tTraining Loss: 0.092536 \tTraining Accuracy: 0.417012 \tValidation Loss: 0.088735 \tValidation Accuracy: 0.449733\n",
            "Validation loss decreased (0.090646 --> 0.088735).  Saving model ...\n",
            "Epoch: 13 \tTraining Loss: 0.092267 \tTraining Accuracy: 0.419859 \tValidation Loss: 0.089086 \tValidation Accuracy: 0.431200\n",
            "Epoch: 14 \tTraining Loss: 0.091870 \tTraining Accuracy: 0.421788 \tValidation Loss: 0.090516 \tValidation Accuracy: 0.430667\n",
            "Epoch: 15 \tTraining Loss: 0.091728 \tTraining Accuracy: 0.422682 \tValidation Loss: 0.087573 \tValidation Accuracy: 0.450133\n",
            "Validation loss decreased (0.088735 --> 0.087573).  Saving model ...\n",
            "Epoch: 16 \tTraining Loss: 0.091612 \tTraining Accuracy: 0.425624 \tValidation Loss: 0.088579 \tValidation Accuracy: 0.452533\n",
            "Epoch: 17 \tTraining Loss: 0.091388 \tTraining Accuracy: 0.429553 \tValidation Loss: 0.088477 \tValidation Accuracy: 0.444667\n",
            "Epoch: 18 \tTraining Loss: 0.091392 \tTraining Accuracy: 0.426682 \tValidation Loss: 0.089207 \tValidation Accuracy: 0.439733\n",
            "Epoch: 19 \tTraining Loss: 0.091079 \tTraining Accuracy: 0.431788 \tValidation Loss: 0.089617 \tValidation Accuracy: 0.440800\n"
          ]
        }
      ],
      "source": [
        "train_loss_MLP_L1_lambda1_dropout, train_acc_MLP_L1_lambda1_dropout, valid_loss_MLP_L1_lambda1_dropout, valid_acc_MLP_L1_lambda1_dropout, time_MLP_L1_lambda1_dropout = train(model_MLP_L1_lambda1_dropout, lambda_reg, n_epochs, criterion, optimizer, norm, 'model_MLP_L1_lambda1_dropout', train_on_gpu)"
      ]
    },
    {
      "cell_type": "code",
      "execution_count": null,
      "metadata": {
        "colab": {
          "base_uri": "https://localhost:8080/"
        },
        "id": "-F_CKJTyurqS",
        "outputId": "48a87ae8-fefc-4a34-9a7f-a0cdc200a0eb"
      },
      "outputs": [
        {
          "name": "stdout",
          "output_type": "stream",
          "text": [
            "Test Loss: 0.087502\n",
            "\n",
            "Test Accuracy of airplane: 38% (388/1000)\n",
            "Test Accuracy of automobile: 57% (576/1000)\n",
            "Test Accuracy of  bird:  8% (81/1000)\n",
            "Test Accuracy of   cat: 42% (427/1000)\n",
            "Test Accuracy of  deer: 54% (544/1000)\n",
            "Test Accuracy of   dog: 24% (240/1000)\n",
            "Test Accuracy of  frog: 55% (550/1000)\n",
            "Test Accuracy of horse: 50% (504/1000)\n",
            "Test Accuracy of  ship: 64% (647/1000)\n",
            "Test Accuracy of truck: 57% (579/1000)\n",
            "\n",
            "Test Accuracy (Overall): 45% (4536/10000)\n"
          ]
        }
      ],
      "source": [
        "test_loss_MLP_L1_lambda1_dropout, class_correct_MLP_L1_lambda1_dropout, class_total_MLP_L1_lambda1_dropout, test_acc_MLP_L1_lambda1_dropout = test(model_MLP_L1_lambda1_dropout, lambda_reg, n_epochs, criterion, optimizer, norm, 'model_MLP_L1_lambda1_dropout', train_on_gpu)"
      ]
    },
    {
      "cell_type": "code",
      "execution_count": null,
      "metadata": {
        "id": "BkUl3LDJurqS"
      },
      "outputs": [],
      "source": [
        "arrs = [train_loss_MLP_L1_lambda1_dropout, train_acc_MLP_L1_lambda1_dropout, valid_loss_MLP_L1_lambda1_dropout, valid_acc_MLP_L1_lambda1_dropout, time_MLP_L1_lambda1_dropout, test_loss_MLP_L1_lambda1_dropout, class_correct_MLP_L1_lambda1_dropout, class_total_MLP_L1_lambda1_dropout, test_acc_MLP_L1_lambda1_dropout]"
      ]
    },
    {
      "cell_type": "code",
      "execution_count": null,
      "metadata": {
        "colab": {
          "base_uri": "https://localhost:8080/"
        },
        "id": "DaNasD_BurqS",
        "outputId": "24fa819b-c41f-442e-ff54-ca30cb3c0d05"
      },
      "outputs": [
        {
          "name": "stderr",
          "output_type": "stream",
          "text": [
            "<ipython-input-25-b3a6eac2ef9e>:5: VisibleDeprecationWarning: Creating an ndarray from ragged nested sequences (which is a list-or-tuple of lists-or-tuples-or ndarrays with different lengths or shapes) is deprecated. If you meant to do this, you must specify 'dtype=object' when creating the ndarray.\n",
            "  df = pd.DataFrame(np.array(arrs), index = ['train_loss', 'train_acc', 'val_loss', 'val_acc', 'time', 'test_loss', 'test_correct', 'test_total', 'test_acc'])\n"
          ]
        }
      ],
      "source": [
        "save_results(arrs, \"MLP_L1_lambda1_dropout\")"
      ]
    },
    {
      "cell_type": "markdown",
      "metadata": {
        "id": "5sQlZ62FAeFb"
      },
      "source": [
        "#### CNN"
      ]
    },
    {
      "cell_type": "code",
      "execution_count": null,
      "metadata": {
        "id": "TOULzqrlUMgX"
      },
      "outputs": [],
      "source": [
        "model_CNN_L1_lambda1 = CNN()\n",
        "\n",
        "criterion = CustomLoss()\n",
        "optimizer = optim.SGD(params=model_CNN_L1_lambda1.parameters(), lr = 0.03)"
      ]
    },
    {
      "cell_type": "code",
      "execution_count": null,
      "metadata": {
        "colab": {
          "base_uri": "https://localhost:8080/"
        },
        "id": "gcNvY9GtA1YT",
        "outputId": "6d3b8aa5-b2c1-4033-bca4-c2ade214914a"
      },
      "outputs": [
        {
          "name": "stdout",
          "output_type": "stream",
          "text": [
            "Epoch: 0 \tTraining Loss: 0.123674 \tTraining Accuracy: 0.241247 \tValidation Loss: 0.107462 \tValidation Accuracy: 0.355467\n",
            "Validation loss decreased (inf --> 0.107462).  Saving model ...\n",
            "Epoch: 1 \tTraining Loss: 0.098216 \tTraining Accuracy: 0.403859 \tValidation Loss: 0.086478 \tValidation Accuracy: 0.466267\n",
            "Validation loss decreased (0.107462 --> 0.086478).  Saving model ...\n",
            "Epoch: 2 \tTraining Loss: 0.083290 \tTraining Accuracy: 0.495694 \tValidation Loss: 0.078165 \tValidation Accuracy: 0.521333\n",
            "Validation loss decreased (0.086478 --> 0.078165).  Saving model ...\n",
            "Epoch: 3 \tTraining Loss: 0.075070 \tTraining Accuracy: 0.548071 \tValidation Loss: 0.072613 \tValidation Accuracy: 0.571067\n",
            "Validation loss decreased (0.078165 --> 0.072613).  Saving model ...\n",
            "Epoch: 4 \tTraining Loss: 0.069392 \tTraining Accuracy: 0.590588 \tValidation Loss: 0.067716 \tValidation Accuracy: 0.595333\n",
            "Validation loss decreased (0.072613 --> 0.067716).  Saving model ...\n",
            "Epoch: 5 \tTraining Loss: 0.065985 \tTraining Accuracy: 0.616894 \tValidation Loss: 0.062130 \tValidation Accuracy: 0.651333\n",
            "Validation loss decreased (0.067716 --> 0.062130).  Saving model ...\n",
            "Epoch: 6 \tTraining Loss: 0.063229 \tTraining Accuracy: 0.641765 \tValidation Loss: 0.063677 \tValidation Accuracy: 0.644667\n",
            "Epoch: 7 \tTraining Loss: 0.061209 \tTraining Accuracy: 0.662259 \tValidation Loss: 0.060320 \tValidation Accuracy: 0.675067\n",
            "Validation loss decreased (0.062130 --> 0.060320).  Saving model ...\n",
            "Epoch: 8 \tTraining Loss: 0.059470 \tTraining Accuracy: 0.677859 \tValidation Loss: 0.061882 \tValidation Accuracy: 0.661733\n",
            "Epoch: 9 \tTraining Loss: 0.058311 \tTraining Accuracy: 0.690800 \tValidation Loss: 0.057178 \tValidation Accuracy: 0.705733\n",
            "Validation loss decreased (0.060320 --> 0.057178).  Saving model ...\n",
            "Epoch: 10 \tTraining Loss: 0.057064 \tTraining Accuracy: 0.704000 \tValidation Loss: 0.059950 \tValidation Accuracy: 0.692933\n",
            "Epoch: 11 \tTraining Loss: 0.056222 \tTraining Accuracy: 0.714471 \tValidation Loss: 0.058785 \tValidation Accuracy: 0.702133\n",
            "Epoch: 12 \tTraining Loss: 0.055387 \tTraining Accuracy: 0.723882 \tValidation Loss: 0.058007 \tValidation Accuracy: 0.712800\n",
            "Epoch: 13 \tTraining Loss: 0.054524 \tTraining Accuracy: 0.735059 \tValidation Loss: 0.058456 \tValidation Accuracy: 0.717067\n",
            "Epoch: 14 \tTraining Loss: 0.054079 \tTraining Accuracy: 0.740400 \tValidation Loss: 0.060601 \tValidation Accuracy: 0.701733\n",
            "Epoch: 15 \tTraining Loss: 0.053719 \tTraining Accuracy: 0.746047 \tValidation Loss: 0.060464 \tValidation Accuracy: 0.706133\n",
            "Epoch: 16 \tTraining Loss: 0.053088 \tTraining Accuracy: 0.754471 \tValidation Loss: 0.058616 \tValidation Accuracy: 0.726400\n",
            "Epoch: 17 \tTraining Loss: 0.052626 \tTraining Accuracy: 0.760847 \tValidation Loss: 0.060511 \tValidation Accuracy: 0.727600\n",
            "Epoch: 18 \tTraining Loss: 0.052481 \tTraining Accuracy: 0.764871 \tValidation Loss: 0.059392 \tValidation Accuracy: 0.728400\n",
            "Epoch: 19 \tTraining Loss: 0.052002 \tTraining Accuracy: 0.776400 \tValidation Loss: 0.061579 \tValidation Accuracy: 0.721333\n"
          ]
        }
      ],
      "source": [
        "train_loss_CNN_L1_lambda1, train_acc_CNN_L1_lambda1, valid_loss_CNN_L1_lambda1, valid_acc_CNN_L1_lambda1, time_CNN_L1_lambda1 = train(model_CNN_L1_lambda1, lambda_reg, n_epochs, criterion, optimizer, norm, 'model_CNN_L1_lambda1', train_on_gpu)"
      ]
    },
    {
      "cell_type": "code",
      "execution_count": null,
      "metadata": {
        "colab": {
          "base_uri": "https://localhost:8080/"
        },
        "id": "zd0-7QNqA-A2",
        "outputId": "abcf3fd9-9a70-49c2-d526-0e8cf95ab802"
      },
      "outputs": [
        {
          "name": "stdout",
          "output_type": "stream",
          "text": [
            "Test Loss: 0.058276\n",
            "\n",
            "Test Accuracy of airplane: 72% (728/1000)\n",
            "Test Accuracy of automobile: 85% (856/1000)\n",
            "Test Accuracy of  bird: 51% (515/1000)\n",
            "Test Accuracy of   cat: 51% (517/1000)\n",
            "Test Accuracy of  deer: 63% (639/1000)\n",
            "Test Accuracy of   dog: 62% (625/1000)\n",
            "Test Accuracy of  frog: 83% (830/1000)\n",
            "Test Accuracy of horse: 69% (697/1000)\n",
            "Test Accuracy of  ship: 81% (810/1000)\n",
            "Test Accuracy of truck: 74% (743/1000)\n",
            "\n",
            "Test Accuracy (Overall): 69% (6960/10000)\n"
          ]
        }
      ],
      "source": [
        "test_loss_CNN_L1_lambda1, class_correct_CNN_L1_lambda1, class_total_CNN_L1_lambda1, test_acc_CNN_L1_lambda1 = test(model_CNN_L1_lambda1, lambda_reg, n_epochs, criterion, optimizer, norm, 'model_CNN_L1_lambda1', train_on_gpu)"
      ]
    },
    {
      "cell_type": "code",
      "execution_count": null,
      "metadata": {
        "id": "PC8_V3-leUYm"
      },
      "outputs": [],
      "source": [
        "arrs = [train_loss_CNN_L1_lambda1, train_acc_CNN_L1_lambda1, valid_loss_CNN_L1_lambda1, valid_acc_CNN_L1_lambda1, time_CNN_L1_lambda1, test_loss_CNN_L1_lambda1, class_correct_CNN_L1_lambda1, class_total_CNN_L1_lambda1, test_acc_CNN_L1_lambda1]"
      ]
    },
    {
      "cell_type": "code",
      "execution_count": null,
      "metadata": {
        "colab": {
          "base_uri": "https://localhost:8080/"
        },
        "id": "A7_zasITfHSS",
        "outputId": "0c0f8675-1536-423e-c5e7-74ea473b6f5e"
      },
      "outputs": [
        {
          "name": "stderr",
          "output_type": "stream",
          "text": [
            "<ipython-input-25-b3a6eac2ef9e>:5: VisibleDeprecationWarning: Creating an ndarray from ragged nested sequences (which is a list-or-tuple of lists-or-tuples-or ndarrays with different lengths or shapes) is deprecated. If you meant to do this, you must specify 'dtype=object' when creating the ndarray.\n",
            "  df = pd.DataFrame(np.array(arrs), index = ['train_loss', 'train_acc', 'val_loss', 'val_acc', 'time', 'test_loss', 'test_correct', 'test_total', 'test_acc'])\n"
          ]
        }
      ],
      "source": [
        "save_results(arrs, \"CNN_L1_lambda1\")"
      ]
    },
    {
      "cell_type": "markdown",
      "metadata": {
        "id": "2xN0R2iqvSxO"
      },
      "source": [
        "##### Dropout"
      ]
    },
    {
      "cell_type": "code",
      "execution_count": null,
      "metadata": {
        "id": "BtXd2dbovDxF"
      },
      "outputs": [],
      "source": [
        "model_CNN_L1_lambda1_dropout = CNN_dropout()\n",
        "\n",
        "criterion = CustomLoss()\n",
        "optimizer = optim.SGD(params=model_CNN_L1_lambda1_dropout.parameters(), lr = 0.03)"
      ]
    },
    {
      "cell_type": "code",
      "execution_count": null,
      "metadata": {
        "colab": {
          "base_uri": "https://localhost:8080/"
        },
        "id": "t_CoZvXYvDxG",
        "outputId": "6d3b8aa5-b2c1-4033-bca4-c2ade214914a"
      },
      "outputs": [
        {
          "name": "stdout",
          "output_type": "stream",
          "text": [
            "Epoch: 0 \tTraining Loss: 0.123674 \tTraining Accuracy: 0.241247 \tValidation Loss: 0.107462 \tValidation Accuracy: 0.355467\n",
            "Validation loss decreased (inf --> 0.107462).  Saving model ...\n",
            "Epoch: 1 \tTraining Loss: 0.098216 \tTraining Accuracy: 0.403859 \tValidation Loss: 0.086478 \tValidation Accuracy: 0.466267\n",
            "Validation loss decreased (0.107462 --> 0.086478).  Saving model ...\n",
            "Epoch: 2 \tTraining Loss: 0.083290 \tTraining Accuracy: 0.495694 \tValidation Loss: 0.078165 \tValidation Accuracy: 0.521333\n",
            "Validation loss decreased (0.086478 --> 0.078165).  Saving model ...\n",
            "Epoch: 3 \tTraining Loss: 0.075070 \tTraining Accuracy: 0.548071 \tValidation Loss: 0.072613 \tValidation Accuracy: 0.571067\n",
            "Validation loss decreased (0.078165 --> 0.072613).  Saving model ...\n",
            "Epoch: 4 \tTraining Loss: 0.069392 \tTraining Accuracy: 0.590588 \tValidation Loss: 0.067716 \tValidation Accuracy: 0.595333\n",
            "Validation loss decreased (0.072613 --> 0.067716).  Saving model ...\n",
            "Epoch: 5 \tTraining Loss: 0.065985 \tTraining Accuracy: 0.616894 \tValidation Loss: 0.062130 \tValidation Accuracy: 0.651333\n",
            "Validation loss decreased (0.067716 --> 0.062130).  Saving model ...\n",
            "Epoch: 6 \tTraining Loss: 0.063229 \tTraining Accuracy: 0.641765 \tValidation Loss: 0.063677 \tValidation Accuracy: 0.644667\n",
            "Epoch: 7 \tTraining Loss: 0.061209 \tTraining Accuracy: 0.662259 \tValidation Loss: 0.060320 \tValidation Accuracy: 0.675067\n",
            "Validation loss decreased (0.062130 --> 0.060320).  Saving model ...\n",
            "Epoch: 8 \tTraining Loss: 0.059470 \tTraining Accuracy: 0.677859 \tValidation Loss: 0.061882 \tValidation Accuracy: 0.661733\n",
            "Epoch: 9 \tTraining Loss: 0.058311 \tTraining Accuracy: 0.690800 \tValidation Loss: 0.057178 \tValidation Accuracy: 0.705733\n",
            "Validation loss decreased (0.060320 --> 0.057178).  Saving model ...\n",
            "Epoch: 10 \tTraining Loss: 0.057064 \tTraining Accuracy: 0.704000 \tValidation Loss: 0.059950 \tValidation Accuracy: 0.692933\n",
            "Epoch: 11 \tTraining Loss: 0.056222 \tTraining Accuracy: 0.714471 \tValidation Loss: 0.058785 \tValidation Accuracy: 0.702133\n",
            "Epoch: 12 \tTraining Loss: 0.055387 \tTraining Accuracy: 0.723882 \tValidation Loss: 0.058007 \tValidation Accuracy: 0.712800\n",
            "Epoch: 13 \tTraining Loss: 0.054524 \tTraining Accuracy: 0.735059 \tValidation Loss: 0.058456 \tValidation Accuracy: 0.717067\n",
            "Epoch: 14 \tTraining Loss: 0.054079 \tTraining Accuracy: 0.740400 \tValidation Loss: 0.060601 \tValidation Accuracy: 0.701733\n",
            "Epoch: 15 \tTraining Loss: 0.053719 \tTraining Accuracy: 0.746047 \tValidation Loss: 0.060464 \tValidation Accuracy: 0.706133\n",
            "Epoch: 16 \tTraining Loss: 0.053088 \tTraining Accuracy: 0.754471 \tValidation Loss: 0.058616 \tValidation Accuracy: 0.726400\n",
            "Epoch: 17 \tTraining Loss: 0.052626 \tTraining Accuracy: 0.760847 \tValidation Loss: 0.060511 \tValidation Accuracy: 0.727600\n",
            "Epoch: 18 \tTraining Loss: 0.052481 \tTraining Accuracy: 0.764871 \tValidation Loss: 0.059392 \tValidation Accuracy: 0.728400\n",
            "Epoch: 19 \tTraining Loss: 0.052002 \tTraining Accuracy: 0.776400 \tValidation Loss: 0.061579 \tValidation Accuracy: 0.721333\n"
          ]
        }
      ],
      "source": [
        "train_loss_CNN_L1_lambda1_dropout, train_acc_CNN_L1_lambda1_dropout, valid_loss_CNN_L1_lambda1_dropout, valid_acc_CNN_L1_lambda1_dropout, time_CNN_L1_lambda1_dropout = train(model_CNN_L1_lambda1_dropout, lambda_reg, n_epochs, criterion, optimizer, norm, 'model_CNN_L1_lambda1_dropout', train_on_gpu)"
      ]
    },
    {
      "cell_type": "code",
      "execution_count": null,
      "metadata": {
        "colab": {
          "base_uri": "https://localhost:8080/"
        },
        "id": "kdqe-VhcvDxG",
        "outputId": "abcf3fd9-9a70-49c2-d526-0e8cf95ab802"
      },
      "outputs": [
        {
          "name": "stdout",
          "output_type": "stream",
          "text": [
            "Test Loss: 0.058276\n",
            "\n",
            "Test Accuracy of airplane: 72% (728/1000)\n",
            "Test Accuracy of automobile: 85% (856/1000)\n",
            "Test Accuracy of  bird: 51% (515/1000)\n",
            "Test Accuracy of   cat: 51% (517/1000)\n",
            "Test Accuracy of  deer: 63% (639/1000)\n",
            "Test Accuracy of   dog: 62% (625/1000)\n",
            "Test Accuracy of  frog: 83% (830/1000)\n",
            "Test Accuracy of horse: 69% (697/1000)\n",
            "Test Accuracy of  ship: 81% (810/1000)\n",
            "Test Accuracy of truck: 74% (743/1000)\n",
            "\n",
            "Test Accuracy (Overall): 69% (6960/10000)\n"
          ]
        }
      ],
      "source": [
        "test_loss_CNN_L1_lambda1_dropout, class_correct_CNN_L1_lambda1_dropout, class_total_CNN_L1_lambda1_dropout, test_acc_CNN_L1_lambda1_dropout = test(model_CNN_L1_lambda1_dropout, lambda_reg, n_epochs, criterion, optimizer, norm, 'model_CNN_L1_lambda1_dropout', train_on_gpu)"
      ]
    },
    {
      "cell_type": "code",
      "execution_count": null,
      "metadata": {
        "id": "Z1-n2uCMvDxG"
      },
      "outputs": [],
      "source": [
        "arrs = [train_loss_CNN_L1_lambda1_dropout, train_acc_CNN_L1_lambda1_dropout, valid_loss_CNN_L1_lambda1_dropout, valid_acc_CNN_L1_lambda1_dropout, time_CNN_L1_lambda1_dropout, test_loss_CNN_L1_lambda1_dropout, class_correct_CNN_L1_lambda1_dropout, class_total_CNN_L1_lambda1_dropout, test_acc_CNN_L1_lambda1_dropout]"
      ]
    },
    {
      "cell_type": "code",
      "execution_count": null,
      "metadata": {
        "colab": {
          "base_uri": "https://localhost:8080/"
        },
        "id": "5enXT00IvDxG",
        "outputId": "0c0f8675-1536-423e-c5e7-74ea473b6f5e"
      },
      "outputs": [
        {
          "name": "stderr",
          "output_type": "stream",
          "text": [
            "<ipython-input-25-b3a6eac2ef9e>:5: VisibleDeprecationWarning: Creating an ndarray from ragged nested sequences (which is a list-or-tuple of lists-or-tuples-or ndarrays with different lengths or shapes) is deprecated. If you meant to do this, you must specify 'dtype=object' when creating the ndarray.\n",
            "  df = pd.DataFrame(np.array(arrs), index = ['train_loss', 'train_acc', 'val_loss', 'val_acc', 'time', 'test_loss', 'test_correct', 'test_total', 'test_acc'])\n"
          ]
        }
      ],
      "source": [
        "save_results(arrs, \"CNN_L1_lambda1_dropout\")"
      ]
    },
    {
      "cell_type": "markdown",
      "metadata": {
        "id": "opm9ZyExCMJ9"
      },
      "source": [
        "#### ResNet34"
      ]
    },
    {
      "cell_type": "code",
      "execution_count": null,
      "metadata": {
        "colab": {
          "base_uri": "https://localhost:8080/"
        },
        "id": "Hq6FdFzKCOy7",
        "outputId": "3f1887c1-ac62-47ee-bce3-3e1a8b6cb7e5"
      },
      "outputs": [
        {
          "name": "stderr",
          "output_type": "stream",
          "text": [
            "Downloading: \"https://github.com/pytorch/vision/zipball/v0.10.0\" to /root/.cache/torch/hub/v0.10.0.zip\n",
            "/usr/local/lib/python3.10/dist-packages/torchvision/models/_utils.py:208: UserWarning: The parameter 'pretrained' is deprecated since 0.13 and may be removed in the future, please use 'weights' instead.\n",
            "  warnings.warn(\n",
            "/usr/local/lib/python3.10/dist-packages/torchvision/models/_utils.py:223: UserWarning: Arguments other than a weight enum or `None` for 'weights' are deprecated since 0.13 and may be removed in the future. The current behavior is equivalent to passing `weights=None`.\n",
            "  warnings.warn(msg)\n"
          ]
        }
      ],
      "source": [
        "model_RESNET_L1_lambda1 = torch.hub.load('pytorch/vision:v0.10.0', 'resnet34', pretrained=False)\n",
        "\n",
        "criterion = CustomLoss()\n",
        "optimizer = optim.SGD(params = model_RESNET_L1_lambda1.parameters(), lr = 0.03)"
      ]
    },
    {
      "cell_type": "code",
      "execution_count": null,
      "metadata": {
        "colab": {
          "base_uri": "https://localhost:8080/"
        },
        "id": "V9E-cyUHCbGa",
        "outputId": "808fc5ea-259c-4068-9361-4b7ef8bb136f"
      },
      "outputs": [
        {
          "name": "stdout",
          "output_type": "stream",
          "text": [
            "Epoch: 0 \tTraining Loss: 2.031158 \tTraining Accuracy: 0.389929 \tValidation Loss: 1.724531 \tValidation Accuracy: 0.476667\n",
            "Validation loss decreased (inf --> 1.724531).  Saving model ...\n",
            "Epoch: 1 \tTraining Loss: 1.465118 \tTraining Accuracy: 0.533294 \tValidation Loss: 1.228227 \tValidation Accuracy: 0.602933\n",
            "Validation loss decreased (1.724531 --> 1.228227).  Saving model ...\n",
            "Epoch: 2 \tTraining Loss: 1.043771 \tTraining Accuracy: 0.607765 \tValidation Loss: 0.904605 \tValidation Accuracy: 0.460000\n",
            "Validation loss decreased (1.228227 --> 0.904605).  Saving model ...\n",
            "Epoch: 3 \tTraining Loss: 0.741453 \tTraining Accuracy: 0.644424 \tValidation Loss: 0.631938 \tValidation Accuracy: 0.602533\n",
            "Validation loss decreased (0.904605 --> 0.631938).  Saving model ...\n",
            "Epoch: 4 \tTraining Loss: 0.534553 \tTraining Accuracy: 0.663271 \tValidation Loss: 0.472290 \tValidation Accuracy: 0.572133\n",
            "Validation loss decreased (0.631938 --> 0.472290).  Saving model ...\n",
            "Epoch: 5 \tTraining Loss: 0.395023 \tTraining Accuracy: 0.684000 \tValidation Loss: 0.361557 \tValidation Accuracy: 0.613600\n",
            "Validation loss decreased (0.472290 --> 0.361557).  Saving model ...\n",
            "Epoch: 6 \tTraining Loss: 0.306661 \tTraining Accuracy: 0.692306 \tValidation Loss: 0.292238 \tValidation Accuracy: 0.586400\n",
            "Validation loss decreased (0.361557 --> 0.292238).  Saving model ...\n",
            "Epoch: 7 \tTraining Loss: 0.252694 \tTraining Accuracy: 0.699271 \tValidation Loss: 0.240969 \tValidation Accuracy: 0.632400\n",
            "Validation loss decreased (0.292238 --> 0.240969).  Saving model ...\n",
            "Epoch: 8 \tTraining Loss: 0.223357 \tTraining Accuracy: 0.694635 \tValidation Loss: 0.208739 \tValidation Accuracy: 0.691867\n",
            "Validation loss decreased (0.240969 --> 0.208739).  Saving model ...\n",
            "Epoch: 9 \tTraining Loss: 0.198532 \tTraining Accuracy: 0.697765 \tValidation Loss: 0.197462 \tValidation Accuracy: 0.688800\n",
            "Validation loss decreased (0.208739 --> 0.197462).  Saving model ...\n",
            "Epoch: 10 \tTraining Loss: 0.179030 \tTraining Accuracy: 0.719788 \tValidation Loss: 0.180543 \tValidation Accuracy: 0.657733\n",
            "Validation loss decreased (0.197462 --> 0.180543).  Saving model ...\n",
            "Epoch: 11 \tTraining Loss: 0.165357 \tTraining Accuracy: 0.729035 \tValidation Loss: 0.183412 \tValidation Accuracy: 0.610533\n",
            "Epoch: 12 \tTraining Loss: 0.156922 \tTraining Accuracy: 0.737741 \tValidation Loss: 0.156126 \tValidation Accuracy: 0.718400\n",
            "Validation loss decreased (0.180543 --> 0.156126).  Saving model ...\n",
            "Epoch: 13 \tTraining Loss: 0.150535 \tTraining Accuracy: 0.741741 \tValidation Loss: 0.192308 \tValidation Accuracy: 0.551467\n",
            "Epoch: 14 \tTraining Loss: 0.144910 \tTraining Accuracy: 0.749388 \tValidation Loss: 0.145888 \tValidation Accuracy: 0.725333\n",
            "Validation loss decreased (0.156126 --> 0.145888).  Saving model ...\n",
            "Epoch: 15 \tTraining Loss: 0.141755 \tTraining Accuracy: 0.754753 \tValidation Loss: 0.158009 \tValidation Accuracy: 0.655867\n",
            "Epoch: 16 \tTraining Loss: 0.135238 \tTraining Accuracy: 0.769059 \tValidation Loss: 0.138446 \tValidation Accuracy: 0.726933\n",
            "Validation loss decreased (0.145888 --> 0.138446).  Saving model ...\n",
            "Epoch: 17 \tTraining Loss: 0.137596 \tTraining Accuracy: 0.772118 \tValidation Loss: 0.155652 \tValidation Accuracy: 0.665733\n",
            "Epoch: 18 \tTraining Loss: 0.129628 \tTraining Accuracy: 0.786165 \tValidation Loss: 0.133853 \tValidation Accuracy: 0.737733\n",
            "Validation loss decreased (0.138446 --> 0.133853).  Saving model ...\n",
            "Epoch: 19 \tTraining Loss: 0.130742 \tTraining Accuracy: 0.777059 \tValidation Loss: 0.132089 \tValidation Accuracy: 0.742667\n",
            "Validation loss decreased (0.133853 --> 0.132089).  Saving model ...\n"
          ]
        }
      ],
      "source": [
        "train_loss_RESNET_L1_lambda1, train_acc_RESNET_L1_lambda1, valid_loss_RESNET_L1_lambda1, valid_acc_RESNET_L1_lambda1, time_RESNET_L1_lambda1 = train(model_RESNET_L1_lambda1, lambda_reg, n_epochs, criterion, optimizer, norm, 'model_RESNET_L1_lambda1', train_on_gpu)"
      ]
    },
    {
      "cell_type": "code",
      "execution_count": null,
      "metadata": {
        "colab": {
          "base_uri": "https://localhost:8080/"
        },
        "id": "qfTcT0oRCfGN",
        "outputId": "b1a3f271-ede9-4a65-feec-37f42cce2d18"
      },
      "outputs": [
        {
          "name": "stdout",
          "output_type": "stream",
          "text": [
            "Test Loss: 0.133156\n",
            "\n",
            "Test Accuracy of airplane: 84% (840/1000)\n",
            "Test Accuracy of automobile: 78% (787/1000)\n",
            "Test Accuracy of  bird: 59% (594/1000)\n",
            "Test Accuracy of   cat: 71% (713/1000)\n",
            "Test Accuracy of  deer: 66% (660/1000)\n",
            "Test Accuracy of   dog: 52% (524/1000)\n",
            "Test Accuracy of  frog: 75% (759/1000)\n",
            "Test Accuracy of horse: 81% (817/1000)\n",
            "Test Accuracy of  ship: 81% (810/1000)\n",
            "Test Accuracy of truck: 88% (889/1000)\n",
            "\n",
            "Test Accuracy (Overall): 73% (7393/10000)\n"
          ]
        }
      ],
      "source": [
        "test_loss_RESNET_L1_lambda1, class_correct_RESNET_L1_lambda1, class_total_RESNET_L1_lambda1, test_acc_RESNET_L1_lambda1 = test(model_RESNET_L1_lambda1, lambda_reg, n_epochs, criterion, optimizer, norm, 'model_RESNET_L1_lambda1', train_on_gpu)"
      ]
    },
    {
      "cell_type": "code",
      "execution_count": null,
      "metadata": {
        "id": "ifiaFcRhgCpR"
      },
      "outputs": [],
      "source": [
        "arrs = [train_loss_RESNET_L1_lambda1, train_acc_RESNET_L1_lambda1, valid_loss_RESNET_L1_lambda1, valid_acc_RESNET_L1_lambda1, time_RESNET_L1_lambda1, test_loss_RESNET_L1_lambda1, class_correct_RESNET_L1_lambda1, class_total_RESNET_L1_lambda1, test_acc_RESNET_L1_lambda1]"
      ]
    },
    {
      "cell_type": "code",
      "execution_count": null,
      "metadata": {
        "colab": {
          "base_uri": "https://localhost:8080/"
        },
        "id": "W36wcaH8gCpS",
        "outputId": "9ef33a71-98a6-4b04-9563-51238a17d8fb"
      },
      "outputs": [
        {
          "name": "stderr",
          "output_type": "stream",
          "text": [
            "<ipython-input-25-b3a6eac2ef9e>:5: VisibleDeprecationWarning: Creating an ndarray from ragged nested sequences (which is a list-or-tuple of lists-or-tuples-or ndarrays with different lengths or shapes) is deprecated. If you meant to do this, you must specify 'dtype=object' when creating the ndarray.\n",
            "  df = pd.DataFrame(np.array(arrs), index = ['train_loss', 'train_acc', 'val_loss', 'val_acc', 'time', 'test_loss', 'test_correct', 'test_total', 'test_acc'])\n"
          ]
        }
      ],
      "source": [
        "save_results(arrs, \"RESNET_L1_lambda1\")"
      ]
    },
    {
      "cell_type": "markdown",
      "metadata": {
        "id": "CdlGsrRxCo_8"
      },
      "source": [
        "#### DenseNet121"
      ]
    },
    {
      "cell_type": "code",
      "execution_count": null,
      "metadata": {
        "colab": {
          "base_uri": "https://localhost:8080/"
        },
        "id": "47ioDyR2CyHU",
        "outputId": "3f80cb3f-744e-4377-cd0d-35b271977d62"
      },
      "outputs": [
        {
          "name": "stderr",
          "output_type": "stream",
          "text": [
            "Using cache found in /root/.cache/torch/hub/pytorch_vision_v0.10.0\n",
            "/usr/local/lib/python3.10/dist-packages/torchvision/models/_utils.py:208: UserWarning: The parameter 'pretrained' is deprecated since 0.13 and may be removed in the future, please use 'weights' instead.\n",
            "  warnings.warn(\n",
            "/usr/local/lib/python3.10/dist-packages/torchvision/models/_utils.py:223: UserWarning: Arguments other than a weight enum or `None` for 'weights' are deprecated since 0.13 and may be removed in the future. The current behavior is equivalent to passing `weights=None`.\n",
            "  warnings.warn(msg)\n"
          ]
        }
      ],
      "source": [
        "model_DNN_L1_lambda1 = torch.hub.load('pytorch/vision:v0.10.0', 'densenet121', pretrained=False)\n",
        "\n",
        "criterion = CustomLoss()\n",
        "optimizer = optim.SGD(params=model_DNN_L1_lambda1.parameters(), lr = 0.03)"
      ]
    },
    {
      "cell_type": "code",
      "execution_count": null,
      "metadata": {
        "colab": {
          "base_uri": "https://localhost:8080/"
        },
        "id": "TzQ4AGT_DBkc",
        "outputId": "a4e76922-33fc-48d7-df73-90ad33525b1e"
      },
      "outputs": [
        {
          "name": "stdout",
          "output_type": "stream",
          "text": [
            "Epoch: 0 \tTraining Loss: 1.694935 \tTraining Accuracy: 0.404776 \tValidation Loss: 1.563662 \tValidation Accuracy: 0.536133\n",
            "Validation loss decreased (inf --> 1.563662).  Saving model ...\n",
            "Epoch: 1 \tTraining Loss: 1.458690 \tTraining Accuracy: 0.545529 \tValidation Loss: 1.364918 \tValidation Accuracy: 0.522933\n",
            "Validation loss decreased (1.563662 --> 1.364918).  Saving model ...\n",
            "Epoch: 2 \tTraining Loss: 1.259214 \tTraining Accuracy: 0.620424 \tValidation Loss: 1.172804 \tValidation Accuracy: 0.629200\n",
            "Validation loss decreased (1.364918 --> 1.172804).  Saving model ...\n",
            "Epoch: 3 \tTraining Loss: 1.091648 \tTraining Accuracy: 0.664353 \tValidation Loss: 1.017323 \tValidation Accuracy: 0.676133\n",
            "Validation loss decreased (1.172804 --> 1.017323).  Saving model ...\n",
            "Epoch: 4 \tTraining Loss: 0.951758 \tTraining Accuracy: 0.695671 \tValidation Loss: 0.895988 \tValidation Accuracy: 0.677067\n",
            "Validation loss decreased (1.017323 --> 0.895988).  Saving model ...\n",
            "Epoch: 5 \tTraining Loss: 0.837647 \tTraining Accuracy: 0.715506 \tValidation Loss: 0.801125 \tValidation Accuracy: 0.627467\n",
            "Validation loss decreased (0.895988 --> 0.801125).  Saving model ...\n",
            "Epoch: 6 \tTraining Loss: 0.740659 \tTraining Accuracy: 0.736094 \tValidation Loss: 0.705703 \tValidation Accuracy: 0.695867\n",
            "Validation loss decreased (0.801125 --> 0.705703).  Saving model ...\n",
            "Epoch: 7 \tTraining Loss: 0.659848 \tTraining Accuracy: 0.744329 \tValidation Loss: 0.633315 \tValidation Accuracy: 0.693467\n",
            "Validation loss decreased (0.705703 --> 0.633315).  Saving model ...\n",
            "Epoch: 8 \tTraining Loss: 0.591851 \tTraining Accuracy: 0.758847 \tValidation Loss: 0.566242 \tValidation Accuracy: 0.727733\n",
            "Validation loss decreased (0.633315 --> 0.566242).  Saving model ...\n",
            "Epoch: 9 \tTraining Loss: 0.535435 \tTraining Accuracy: 0.765106 \tValidation Loss: 0.518318 \tValidation Accuracy: 0.717467\n",
            "Validation loss decreased (0.566242 --> 0.518318).  Saving model ...\n",
            "Epoch: 10 \tTraining Loss: 0.488279 \tTraining Accuracy: 0.771318 \tValidation Loss: 0.480339 \tValidation Accuracy: 0.702400\n",
            "Validation loss decreased (0.518318 --> 0.480339).  Saving model ...\n",
            "Epoch: 11 \tTraining Loss: 0.449115 \tTraining Accuracy: 0.776824 \tValidation Loss: 0.446748 \tValidation Accuracy: 0.688933\n",
            "Validation loss decreased (0.480339 --> 0.446748).  Saving model ...\n",
            "Epoch: 12 \tTraining Loss: 0.417132 \tTraining Accuracy: 0.782000 \tValidation Loss: 0.421490 \tValidation Accuracy: 0.672267\n",
            "Validation loss decreased (0.446748 --> 0.421490).  Saving model ...\n",
            "Epoch: 13 \tTraining Loss: 0.390384 \tTraining Accuracy: 0.787059 \tValidation Loss: 0.391230 \tValidation Accuracy: 0.706000\n",
            "Validation loss decreased (0.421490 --> 0.391230).  Saving model ...\n",
            "Epoch: 14 \tTraining Loss: 0.368444 \tTraining Accuracy: 0.789576 \tValidation Loss: 0.366453 \tValidation Accuracy: 0.727333\n",
            "Validation loss decreased (0.391230 --> 0.366453).  Saving model ...\n",
            "Epoch: 15 \tTraining Loss: 0.350377 \tTraining Accuracy: 0.791012 \tValidation Loss: 0.355262 \tValidation Accuracy: 0.721867\n",
            "Validation loss decreased (0.366453 --> 0.355262).  Saving model ...\n",
            "Epoch: 16 \tTraining Loss: 0.334680 \tTraining Accuracy: 0.798400 \tValidation Loss: 0.353304 \tValidation Accuracy: 0.667067\n",
            "Validation loss decreased (0.355262 --> 0.353304).  Saving model ...\n",
            "Epoch: 17 \tTraining Loss: 0.322516 \tTraining Accuracy: 0.797929 \tValidation Loss: 0.326953 \tValidation Accuracy: 0.734133\n",
            "Validation loss decreased (0.353304 --> 0.326953).  Saving model ...\n",
            "Epoch: 18 \tTraining Loss: 0.311646 \tTraining Accuracy: 0.804000 \tValidation Loss: 0.317383 \tValidation Accuracy: 0.736533\n",
            "Validation loss decreased (0.326953 --> 0.317383).  Saving model ...\n",
            "Epoch: 19 \tTraining Loss: 0.302295 \tTraining Accuracy: 0.807882 \tValidation Loss: 0.309061 \tValidation Accuracy: 0.736667\n",
            "Validation loss decreased (0.317383 --> 0.309061).  Saving model ...\n"
          ]
        }
      ],
      "source": [
        "train_loss_DNN_L1_lambda1, train_acc_DNN_L1_lambda1, valid_loss_DNN_L1_lambda1, valid_acc_DNN_L1_lambda1, time_DNN_L1_lambda1 = train(model_DNN_L1_lambda1, lambda_reg, n_epochs, criterion, optimizer, norm, 'model_DNN_L1_lambda1', train_on_gpu)"
      ]
    },
    {
      "cell_type": "code",
      "execution_count": null,
      "metadata": {
        "colab": {
          "base_uri": "https://localhost:8080/"
        },
        "id": "NDmvhiu8DD_n",
        "outputId": "6c4cef34-fe31-439d-da42-4f42c7199d66"
      },
      "outputs": [
        {
          "name": "stdout",
          "output_type": "stream",
          "text": [
            "Test Loss: 0.310361\n",
            "\n",
            "Test Accuracy of airplane: 76% (768/1000)\n",
            "Test Accuracy of automobile: 89% (890/1000)\n",
            "Test Accuracy of  bird: 78% (781/1000)\n",
            "Test Accuracy of   cat: 65% (652/1000)\n",
            "Test Accuracy of  deer: 55% (557/1000)\n",
            "Test Accuracy of   dog: 51% (515/1000)\n",
            "Test Accuracy of  frog: 76% (766/1000)\n",
            "Test Accuracy of horse: 75% (756/1000)\n",
            "Test Accuracy of  ship: 91% (911/1000)\n",
            "Test Accuracy of truck: 76% (768/1000)\n",
            "\n",
            "Test Accuracy (Overall): 73% (7364/10000)\n"
          ]
        }
      ],
      "source": [
        "test_loss_DNN_L1_lambda1, class_correct_DNN_L1_lambda1, class_total_DNN_L1_lambda1, test_acc_DNN_L1_lambda1 = test(model_DNN_L1_lambda1, lambda_reg, n_epochs, criterion, optimizer, norm, 'model_DNN_L1_lambda1', train_on_gpu)"
      ]
    },
    {
      "cell_type": "code",
      "execution_count": null,
      "metadata": {
        "id": "kC3uSQFngIpR"
      },
      "outputs": [],
      "source": [
        "arrs = [train_loss_DNN_L1_lambda1, train_acc_DNN_L1_lambda1, valid_loss_DNN_L1_lambda1, valid_acc_DNN_L1_lambda1, time_DNN_L1_lambda1, test_loss_DNN_L1_lambda1, class_correct_DNN_L1_lambda1, class_total_DNN_L1_lambda1, test_acc_DNN_L1_lambda1]"
      ]
    },
    {
      "cell_type": "code",
      "execution_count": null,
      "metadata": {
        "colab": {
          "base_uri": "https://localhost:8080/"
        },
        "id": "D7my7NFfgIpR",
        "outputId": "eebcaf22-976c-46e6-cc01-61a993aaadd9"
      },
      "outputs": [
        {
          "name": "stderr",
          "output_type": "stream",
          "text": [
            "<ipython-input-25-b3a6eac2ef9e>:5: VisibleDeprecationWarning: Creating an ndarray from ragged nested sequences (which is a list-or-tuple of lists-or-tuples-or ndarrays with different lengths or shapes) is deprecated. If you meant to do this, you must specify 'dtype=object' when creating the ndarray.\n",
            "  df = pd.DataFrame(np.array(arrs), index = ['train_loss', 'train_acc', 'val_loss', 'val_acc', 'time', 'test_loss', 'test_correct', 'test_total', 'test_acc'])\n"
          ]
        }
      ],
      "source": [
        "save_results(arrs, \"DNN_L1_lambda1\")"
      ]
    },
    {
      "cell_type": "markdown",
      "metadata": {
        "id": "wU2OQXVPFedA"
      },
      "source": [
        "### $\\lambda_{2} = 10^{-3}$"
      ]
    },
    {
      "cell_type": "code",
      "execution_count": null,
      "metadata": {
        "id": "k42WgvNHFmcb"
      },
      "outputs": [],
      "source": [
        "lambda_reg = 1e-3"
      ]
    },
    {
      "cell_type": "markdown",
      "metadata": {
        "id": "_PHSogzdFtFK"
      },
      "source": [
        "#### MLP"
      ]
    },
    {
      "cell_type": "code",
      "execution_count": null,
      "metadata": {
        "id": "L01-pv5kFtFL"
      },
      "outputs": [],
      "source": [
        "model_MLP_L1_lambda2 = MLP()\n",
        "\n",
        "criterion = CustomLoss()\n",
        "optimizer = optim.SGD(params = model_MLP_L1_lambda2.parameters(), lr = 0.03)"
      ]
    },
    {
      "cell_type": "code",
      "execution_count": null,
      "metadata": {
        "colab": {
          "base_uri": "https://localhost:8080/"
        },
        "id": "4jnm7pjnFtFL",
        "outputId": "a0d603da-e5ab-493f-f4b9-5c80528bfa5f"
      },
      "outputs": [
        {
          "name": "stdout",
          "output_type": "stream",
          "text": [
            "Epoch: 0 \tTraining Loss: 0.520899 \tTraining Accuracy: 0.188800 \tValidation Loss: 0.110915 \tValidation Accuracy: 0.219867\n",
            "Validation loss decreased (inf --> 0.110915).  Saving model ...\n",
            "Epoch: 1 \tTraining Loss: 0.110814 \tTraining Accuracy: 0.229106 \tValidation Loss: 0.111299 \tValidation Accuracy: 0.214533\n",
            "Epoch: 2 \tTraining Loss: 0.109524 \tTraining Accuracy: 0.234729 \tValidation Loss: 0.109061 \tValidation Accuracy: 0.233467\n",
            "Validation loss decreased (0.110915 --> 0.109061).  Saving model ...\n",
            "Epoch: 3 \tTraining Loss: 0.109029 \tTraining Accuracy: 0.238329 \tValidation Loss: 0.108656 \tValidation Accuracy: 0.238533\n",
            "Validation loss decreased (0.109061 --> 0.108656).  Saving model ...\n",
            "Epoch: 4 \tTraining Loss: 0.108877 \tTraining Accuracy: 0.238541 \tValidation Loss: 0.106554 \tValidation Accuracy: 0.263600\n",
            "Validation loss decreased (0.108656 --> 0.106554).  Saving model ...\n",
            "Epoch: 5 \tTraining Loss: 0.108935 \tTraining Accuracy: 0.235341 \tValidation Loss: 0.107793 \tValidation Accuracy: 0.247200\n",
            "Epoch: 6 \tTraining Loss: 0.108769 \tTraining Accuracy: 0.238118 \tValidation Loss: 0.107308 \tValidation Accuracy: 0.252133\n",
            "Epoch: 7 \tTraining Loss: 0.108747 \tTraining Accuracy: 0.241812 \tValidation Loss: 0.108225 \tValidation Accuracy: 0.237067\n",
            "Epoch: 8 \tTraining Loss: 0.108732 \tTraining Accuracy: 0.238518 \tValidation Loss: 0.106582 \tValidation Accuracy: 0.262667\n",
            "Epoch: 9 \tTraining Loss: 0.108543 \tTraining Accuracy: 0.239812 \tValidation Loss: 0.111123 \tValidation Accuracy: 0.237333\n",
            "Epoch: 10 \tTraining Loss: 0.108680 \tTraining Accuracy: 0.237906 \tValidation Loss: 0.107810 \tValidation Accuracy: 0.250000\n",
            "Epoch: 11 \tTraining Loss: 0.108534 \tTraining Accuracy: 0.236988 \tValidation Loss: 0.105858 \tValidation Accuracy: 0.263867\n",
            "Validation loss decreased (0.106554 --> 0.105858).  Saving model ...\n",
            "Epoch: 12 \tTraining Loss: 0.108628 \tTraining Accuracy: 0.237529 \tValidation Loss: 0.106183 \tValidation Accuracy: 0.265200\n",
            "Epoch: 13 \tTraining Loss: 0.108578 \tTraining Accuracy: 0.240353 \tValidation Loss: 0.108361 \tValidation Accuracy: 0.243600\n",
            "Epoch: 14 \tTraining Loss: 0.108560 \tTraining Accuracy: 0.239835 \tValidation Loss: 0.109141 \tValidation Accuracy: 0.239067\n",
            "Epoch: 15 \tTraining Loss: 0.108487 \tTraining Accuracy: 0.239482 \tValidation Loss: 0.108390 \tValidation Accuracy: 0.248800\n",
            "Epoch: 16 \tTraining Loss: 0.108466 \tTraining Accuracy: 0.240047 \tValidation Loss: 0.105884 \tValidation Accuracy: 0.266267\n",
            "Epoch: 17 \tTraining Loss: 0.108466 \tTraining Accuracy: 0.237929 \tValidation Loss: 0.109083 \tValidation Accuracy: 0.230133\n",
            "Epoch: 18 \tTraining Loss: 0.108566 \tTraining Accuracy: 0.238635 \tValidation Loss: 0.106537 \tValidation Accuracy: 0.245333\n",
            "Epoch: 19 \tTraining Loss: 0.108624 \tTraining Accuracy: 0.236518 \tValidation Loss: 0.106550 \tValidation Accuracy: 0.242800\n"
          ]
        }
      ],
      "source": [
        "train_loss_MLP_L1_lambda2, train_acc_MLP_L1_lambda2, valid_loss_MLP_L1_lambda2, valid_acc_MLP_L1_lambda2, time_MLP_L1_lambda2 = train(model_MLP_L1_lambda2, lambda_reg, n_epochs, criterion, optimizer, norm, 'model_MLP_L1_lambda2', train_on_gpu)"
      ]
    },
    {
      "cell_type": "code",
      "execution_count": null,
      "metadata": {
        "colab": {
          "base_uri": "https://localhost:8080/"
        },
        "id": "OH5_LtmDFtFL",
        "outputId": "06ab5635-96a8-4866-8dbf-64bbc8413e9a"
      },
      "outputs": [
        {
          "name": "stdout",
          "output_type": "stream",
          "text": [
            "Test Loss: 0.106060\n",
            "\n",
            "Test Accuracy of airplane: 50% (508/1000)\n",
            "Test Accuracy of automobile:  7% (78/1000)\n",
            "Test Accuracy of  bird:  0% ( 0/1000)\n",
            "Test Accuracy of   cat: 13% (132/1000)\n",
            "Test Accuracy of  deer: 12% (122/1000)\n",
            "Test Accuracy of   dog: 27% (273/1000)\n",
            "Test Accuracy of  frog: 59% (597/1000)\n",
            "Test Accuracy of horse:  0% ( 0/1000)\n",
            "Test Accuracy of  ship: 34% (348/1000)\n",
            "Test Accuracy of truck: 52% (521/1000)\n",
            "\n",
            "Test Accuracy (Overall): 25% (2579/10000)\n"
          ]
        }
      ],
      "source": [
        "test_loss_MLP_L1_lambda2, class_correct_MLP_L1_lambda2, class_total_MLP_L1_lambda2, test_acc_MLP_L1_lambda2 = test(model_MLP_L1_lambda2, lambda_reg, n_epochs, criterion, optimizer, norm, 'model_MLP_L1_lambda2', train_on_gpu)"
      ]
    },
    {
      "cell_type": "code",
      "execution_count": null,
      "metadata": {
        "id": "XwII6eXsgPXz"
      },
      "outputs": [],
      "source": [
        "arrs = [train_loss_MLP_L1_lambda2, train_acc_MLP_L1_lambda2, valid_loss_MLP_L1_lambda2, valid_acc_MLP_L1_lambda2, time_MLP_L1_lambda2, test_loss_MLP_L1_lambda2, class_correct_MLP_L1_lambda2, class_total_MLP_L1_lambda2, test_acc_MLP_L1_lambda2]"
      ]
    },
    {
      "cell_type": "code",
      "execution_count": null,
      "metadata": {
        "id": "DN3TrG3LgPXz"
      },
      "outputs": [],
      "source": [
        "save_results(arrs, \"MLP_L1_lambda2\")"
      ]
    },
    {
      "cell_type": "markdown",
      "metadata": {
        "id": "IpIG31MIFtFM"
      },
      "source": [
        "#### CNN "
      ]
    },
    {
      "cell_type": "code",
      "execution_count": null,
      "metadata": {
        "id": "jLNbe_AOFtFM"
      },
      "outputs": [],
      "source": [
        "model_CNN_L1_lambda2 = CNN()\n",
        "\n",
        "criterion = CustomLoss()\n",
        "optimizer = optim.SGD(params=model_CNN_L1_lambda2.parameters(), lr = 0.03)"
      ]
    },
    {
      "cell_type": "code",
      "execution_count": null,
      "metadata": {
        "colab": {
          "base_uri": "https://localhost:8080/"
        },
        "id": "VW0bTW5KFtFM",
        "outputId": "7b4a7212-0bc8-4d67-cceb-3dfd2c330caa"
      },
      "outputs": [
        {
          "name": "stdout",
          "output_type": "stream",
          "text": [
            "Epoch: 0 \tTraining Loss: 0.164314 \tTraining Accuracy: 0.099388 \tValidation Loss: 0.116810 \tValidation Accuracy: 0.101067\n",
            "Validation loss decreased (inf --> 0.116810).  Saving model ...\n",
            "Epoch: 1 \tTraining Loss: 0.115949 \tTraining Accuracy: 0.098753 \tValidation Loss: 0.115603 \tValidation Accuracy: 0.097867\n",
            "Validation loss decreased (0.116810 --> 0.115603).  Saving model ...\n",
            "Epoch: 2 \tTraining Loss: 0.115441 \tTraining Accuracy: 0.099718 \tValidation Loss: 0.115371 \tValidation Accuracy: 0.097867\n",
            "Validation loss decreased (0.115603 --> 0.115371).  Saving model ...\n",
            "Epoch: 3 \tTraining Loss: 0.115370 \tTraining Accuracy: 0.099129 \tValidation Loss: 0.115375 \tValidation Accuracy: 0.095067\n",
            "Epoch: 4 \tTraining Loss: 0.115372 \tTraining Accuracy: 0.097224 \tValidation Loss: 0.115371 \tValidation Accuracy: 0.095067\n",
            "Epoch: 5 \tTraining Loss: 0.115370 \tTraining Accuracy: 0.098682 \tValidation Loss: 0.115393 \tValidation Accuracy: 0.097867\n",
            "Epoch: 6 \tTraining Loss: 0.115372 \tTraining Accuracy: 0.098635 \tValidation Loss: 0.115379 \tValidation Accuracy: 0.097867\n",
            "Epoch: 7 \tTraining Loss: 0.115372 \tTraining Accuracy: 0.096753 \tValidation Loss: 0.115356 \tValidation Accuracy: 0.102000\n",
            "Validation loss decreased (0.115371 --> 0.115356).  Saving model ...\n",
            "Epoch: 8 \tTraining Loss: 0.115370 \tTraining Accuracy: 0.098447 \tValidation Loss: 0.115362 \tValidation Accuracy: 0.104000\n",
            "Epoch: 9 \tTraining Loss: 0.115367 \tTraining Accuracy: 0.099812 \tValidation Loss: 0.115363 \tValidation Accuracy: 0.101733\n",
            "Epoch: 10 \tTraining Loss: 0.115370 \tTraining Accuracy: 0.096071 \tValidation Loss: 0.115370 \tValidation Accuracy: 0.101067\n",
            "Epoch: 11 \tTraining Loss: 0.115373 \tTraining Accuracy: 0.097906 \tValidation Loss: 0.115363 \tValidation Accuracy: 0.096667\n",
            "Epoch: 12 \tTraining Loss: 0.115369 \tTraining Accuracy: 0.098518 \tValidation Loss: 0.115355 \tValidation Accuracy: 0.099867\n",
            "Validation loss decreased (0.115356 --> 0.115355).  Saving model ...\n",
            "Epoch: 13 \tTraining Loss: 0.115369 \tTraining Accuracy: 0.099671 \tValidation Loss: 0.115380 \tValidation Accuracy: 0.097867\n",
            "Epoch: 14 \tTraining Loss: 0.115370 \tTraining Accuracy: 0.098188 \tValidation Loss: 0.115352 \tValidation Accuracy: 0.101733\n",
            "Validation loss decreased (0.115355 --> 0.115352).  Saving model ...\n",
            "Epoch: 15 \tTraining Loss: 0.115370 \tTraining Accuracy: 0.095718 \tValidation Loss: 0.115361 \tValidation Accuracy: 0.101067\n",
            "Epoch: 16 \tTraining Loss: 0.115371 \tTraining Accuracy: 0.098753 \tValidation Loss: 0.115356 \tValidation Accuracy: 0.102000\n",
            "Epoch: 17 \tTraining Loss: 0.115370 \tTraining Accuracy: 0.098988 \tValidation Loss: 0.115377 \tValidation Accuracy: 0.099467\n",
            "Epoch: 18 \tTraining Loss: 0.115369 \tTraining Accuracy: 0.100235 \tValidation Loss: 0.115369 \tValidation Accuracy: 0.097867\n",
            "Epoch: 19 \tTraining Loss: 0.115371 \tTraining Accuracy: 0.098259 \tValidation Loss: 0.115356 \tValidation Accuracy: 0.102267\n"
          ]
        }
      ],
      "source": [
        "train_loss_CNN_L1_lambda2, train_acc_CNN_L1_lambda2, valid_loss_CNN_L1_lambda2, valid_acc_CNN_L1_lambda2, time_CNN_L1_lambda2 = train(model_CNN_L1_lambda2, lambda_reg, n_epochs, criterion, optimizer, norm, 'model_CNN_L1_lambda2', train_on_gpu)"
      ]
    },
    {
      "cell_type": "code",
      "execution_count": null,
      "metadata": {
        "colab": {
          "base_uri": "https://localhost:8080/"
        },
        "id": "BKYoyNgGFtFM",
        "outputId": "0e6540a0-52db-4831-b974-1f6a0718f840"
      },
      "outputs": [
        {
          "name": "stdout",
          "output_type": "stream",
          "text": [
            "Test Loss: 0.115359\n",
            "\n",
            "Test Accuracy of airplane:  0% ( 0/1000)\n",
            "Test Accuracy of automobile:  0% ( 0/1000)\n",
            "Test Accuracy of  bird:  0% ( 0/1000)\n",
            "Test Accuracy of   cat:  0% ( 0/1000)\n",
            "Test Accuracy of  deer: 100% (1000/1000)\n",
            "Test Accuracy of   dog:  0% ( 0/1000)\n",
            "Test Accuracy of  frog:  0% ( 0/1000)\n",
            "Test Accuracy of horse:  0% ( 0/1000)\n",
            "Test Accuracy of  ship:  0% ( 0/1000)\n",
            "Test Accuracy of truck:  0% ( 0/1000)\n",
            "\n",
            "Test Accuracy (Overall): 10% (1000/10000)\n"
          ]
        }
      ],
      "source": [
        "test_loss_CNN_L1_lambda2, class_correct_CNN_L1_lambda2, class_total_CNN_L1_lambda2, test_acc_CNN_L1_lambda2 = test(model_CNN_L1_lambda2, lambda_reg, n_epochs, criterion, optimizer, norm, 'model_CNN_L1_lambda2', train_on_gpu)"
      ]
    },
    {
      "cell_type": "code",
      "execution_count": null,
      "metadata": {
        "id": "NC2HVVgvsiB5"
      },
      "outputs": [],
      "source": [
        "arrs = [train_loss_CNN_L1_lambda2, train_acc_CNN_L1_lambda2, valid_loss_CNN_L1_lambda2, valid_acc_CNN_L1_lambda2, time_CNN_L1_lambda2, test_loss_CNN_L1_lambda2, class_correct_CNN_L1_lambda2, class_total_CNN_L1_lambda2, test_acc_CNN_L1_lambda2]"
      ]
    },
    {
      "cell_type": "code",
      "execution_count": null,
      "metadata": {
        "colab": {
          "base_uri": "https://localhost:8080/"
        },
        "id": "hc5_PxTesiB6",
        "outputId": "8157e9cc-b914-478e-d555-56df83ae535c"
      },
      "outputs": [
        {
          "name": "stderr",
          "output_type": "stream",
          "text": [
            "<ipython-input-12-b3a6eac2ef9e>:5: VisibleDeprecationWarning: Creating an ndarray from ragged nested sequences (which is a list-or-tuple of lists-or-tuples-or ndarrays with different lengths or shapes) is deprecated. If you meant to do this, you must specify 'dtype=object' when creating the ndarray.\n",
            "  df = pd.DataFrame(np.array(arrs), index = ['train_loss', 'train_acc', 'val_loss', 'val_acc', 'time', 'test_loss', 'test_correct', 'test_total', 'test_acc'])\n"
          ]
        }
      ],
      "source": [
        "save_results(arrs, \"CNN_L1_lambda2\")"
      ]
    },
    {
      "cell_type": "markdown",
      "metadata": {
        "id": "KcX7sKLaFtFN"
      },
      "source": [
        "#### ResNet34"
      ]
    },
    {
      "cell_type": "code",
      "execution_count": null,
      "metadata": {
        "colab": {
          "base_uri": "https://localhost:8080/"
        },
        "id": "A--TZIGwFtFN",
        "outputId": "e50c2a1e-d367-49e7-a1d3-aa779ba082d7"
      },
      "outputs": [
        {
          "name": "stderr",
          "output_type": "stream",
          "text": [
            "Using cache found in /root/.cache/torch/hub/pytorch_vision_v0.10.0\n",
            "/usr/local/lib/python3.10/dist-packages/torchvision/models/_utils.py:208: UserWarning: The parameter 'pretrained' is deprecated since 0.13 and may be removed in the future, please use 'weights' instead.\n",
            "  warnings.warn(\n",
            "/usr/local/lib/python3.10/dist-packages/torchvision/models/_utils.py:223: UserWarning: Arguments other than a weight enum or `None` for 'weights' are deprecated since 0.13 and may be removed in the future. The current behavior is equivalent to passing `weights=None`.\n",
            "  warnings.warn(msg)\n"
          ]
        }
      ],
      "source": [
        "model_RESNET_L1_lambda2 = torch.hub.load('pytorch/vision:v0.10.0', 'resnet34', pretrained=False)\n",
        "\n",
        "criterion = CustomLoss()\n",
        "optimizer = optim.SGD(params = model_RESNET_L1_lambda2.parameters(), lr = 0.03)"
      ]
    },
    {
      "cell_type": "code",
      "execution_count": null,
      "metadata": {
        "colab": {
          "base_uri": "https://localhost:8080/"
        },
        "id": "nP8xlkruFtFN",
        "outputId": "c14fa12b-625c-4aaf-93ee-560819ca45e9"
      },
      "outputs": [
        {
          "name": "stdout",
          "output_type": "stream",
          "text": [
            "Epoch: 0 \tTraining Loss: 6.515142 \tTraining Accuracy: 0.294212 \tValidation Loss: 1.135576 \tValidation Accuracy: 0.177333\n",
            "Validation loss decreased (inf --> 1.135576).  Saving model ...\n",
            "Epoch: 1 \tTraining Loss: 0.825267 \tTraining Accuracy: 0.167059 \tValidation Loss: 0.866381 \tValidation Accuracy: 0.148400\n",
            "Validation loss decreased (1.135576 --> 0.866381).  Saving model ...\n",
            "Epoch: 2 \tTraining Loss: 0.676235 \tTraining Accuracy: 0.132071 \tValidation Loss: 0.606049 \tValidation Accuracy: 0.099467\n",
            "Validation loss decreased (0.866381 --> 0.606049).  Saving model ...\n",
            "Epoch: 3 \tTraining Loss: 0.617655 \tTraining Accuracy: 0.140165 \tValidation Loss: 0.533958 \tValidation Accuracy: 0.133333\n",
            "Validation loss decreased (0.606049 --> 0.533958).  Saving model ...\n",
            "Epoch: 4 \tTraining Loss: 0.555414 \tTraining Accuracy: 0.152188 \tValidation Loss: 0.523492 \tValidation Accuracy: 0.161333\n",
            "Validation loss decreased (0.533958 --> 0.523492).  Saving model ...\n",
            "Epoch: 5 \tTraining Loss: 0.496122 \tTraining Accuracy: 0.168000 \tValidation Loss: 1.730781 \tValidation Accuracy: 0.105867\n",
            "Epoch: 6 \tTraining Loss: 0.437649 \tTraining Accuracy: 0.174941 \tValidation Loss: 0.386250 \tValidation Accuracy: 0.193467\n",
            "Validation loss decreased (0.523492 --> 0.386250).  Saving model ...\n",
            "Epoch: 7 \tTraining Loss: 0.389486 \tTraining Accuracy: 0.180659 \tValidation Loss: 0.368100 \tValidation Accuracy: 0.163733\n",
            "Validation loss decreased (0.386250 --> 0.368100).  Saving model ...\n",
            "Epoch: 8 \tTraining Loss: 0.343235 \tTraining Accuracy: 0.183412 \tValidation Loss: 0.387648 \tValidation Accuracy: 0.165467\n",
            "Epoch: 9 \tTraining Loss: 0.302580 \tTraining Accuracy: 0.188400 \tValidation Loss: 0.321335 \tValidation Accuracy: 0.147867\n",
            "Validation loss decreased (0.368100 --> 0.321335).  Saving model ...\n",
            "Epoch: 10 \tTraining Loss: 0.261596 \tTraining Accuracy: 0.215882 \tValidation Loss: 0.240445 \tValidation Accuracy: 0.238133\n",
            "Validation loss decreased (0.321335 --> 0.240445).  Saving model ...\n",
            "Epoch: 11 \tTraining Loss: 0.219481 \tTraining Accuracy: 0.278071 \tValidation Loss: 0.208006 \tValidation Accuracy: 0.256000\n",
            "Validation loss decreased (0.240445 --> 0.208006).  Saving model ...\n",
            "Epoch: 12 \tTraining Loss: 0.189751 \tTraining Accuracy: 0.307529 \tValidation Loss: 0.193623 \tValidation Accuracy: 0.221200\n",
            "Validation loss decreased (0.208006 --> 0.193623).  Saving model ...\n",
            "Epoch: 13 \tTraining Loss: 0.160411 \tTraining Accuracy: 0.367835 \tValidation Loss: 0.142918 \tValidation Accuracy: 0.418267\n",
            "Validation loss decreased (0.193623 --> 0.142918).  Saving model ...\n",
            "Epoch: 14 \tTraining Loss: 0.131463 \tTraining Accuracy: 0.412118 \tValidation Loss: 0.119622 \tValidation Accuracy: 0.429733\n",
            "Validation loss decreased (0.142918 --> 0.119622).  Saving model ...\n",
            "Epoch: 15 \tTraining Loss: 0.111113 \tTraining Accuracy: 0.433129 \tValidation Loss: 0.106933 \tValidation Accuracy: 0.438133\n",
            "Validation loss decreased (0.119622 --> 0.106933).  Saving model ...\n",
            "Epoch: 16 \tTraining Loss: 0.105918 \tTraining Accuracy: 0.446776 \tValidation Loss: 0.106358 \tValidation Accuracy: 0.443067\n",
            "Validation loss decreased (0.106933 --> 0.106358).  Saving model ...\n",
            "Epoch: 17 \tTraining Loss: 0.105259 \tTraining Accuracy: 0.455059 \tValidation Loss: 0.102974 \tValidation Accuracy: 0.476133\n",
            "Validation loss decreased (0.106358 --> 0.102974).  Saving model ...\n",
            "Epoch: 18 \tTraining Loss: 0.104489 \tTraining Accuracy: 0.464659 \tValidation Loss: 0.101285 \tValidation Accuracy: 0.484267\n",
            "Validation loss decreased (0.102974 --> 0.101285).  Saving model ...\n",
            "Epoch: 19 \tTraining Loss: 0.103766 \tTraining Accuracy: 0.470824 \tValidation Loss: 0.105703 \tValidation Accuracy: 0.463333\n"
          ]
        }
      ],
      "source": [
        "train_loss_RESNET_L1_lambda2, train_acc_RESNET_L1_lambda2, valid_loss_RESNET_L1_lambda2, valid_acc_RESNET_L1_lambda2, time_RESNET_L1_lambda2 = train(model_RESNET_L1_lambda2, lambda_reg, n_epochs, criterion, optimizer, norm, 'model_RESNET_L1_lambda2', train_on_gpu)"
      ]
    },
    {
      "cell_type": "code",
      "execution_count": null,
      "metadata": {
        "colab": {
          "base_uri": "https://localhost:8080/"
        },
        "id": "SqmXgDBKFtFN",
        "outputId": "a8dea4d6-1a39-44c4-efac-907cd07dbf46"
      },
      "outputs": [
        {
          "name": "stdout",
          "output_type": "stream",
          "text": [
            "Test Loss: 0.101552\n",
            "\n",
            "Test Accuracy of airplane: 67% (670/1000)\n",
            "Test Accuracy of automobile: 48% (482/1000)\n",
            "Test Accuracy of  bird: 25% (252/1000)\n",
            "Test Accuracy of   cat: 27% (271/1000)\n",
            "Test Accuracy of  deer: 31% (310/1000)\n",
            "Test Accuracy of   dog: 49% (493/1000)\n",
            "Test Accuracy of  frog: 51% (512/1000)\n",
            "Test Accuracy of horse: 61% (615/1000)\n",
            "Test Accuracy of  ship: 45% (451/1000)\n",
            "Test Accuracy of truck: 73% (730/1000)\n",
            "\n",
            "Test Accuracy (Overall): 47% (4786/10000)\n"
          ]
        }
      ],
      "source": [
        "test_loss_RESNET_L1_lambda2, class_correct_RESNET_L1_lambda2, class_total_RESNET_L1_lambda2, test_acc_RESNET_L1_lambda2 = test(model_RESNET_L1_lambda2, lambda_reg, n_epochs, criterion, optimizer, norm, 'model_RESNET_L1_lambda2', train_on_gpu)"
      ]
    },
    {
      "cell_type": "code",
      "execution_count": null,
      "metadata": {
        "id": "wGMtBoJDyFWU"
      },
      "outputs": [],
      "source": [
        "arrs = [train_loss_RESNET_L1_lambda2, train_acc_RESNET_L1_lambda2, valid_loss_RESNET_L1_lambda2, valid_acc_RESNET_L1_lambda2, time_RESNET_L1_lambda2, test_loss_RESNET_L1_lambda2, class_correct_RESNET_L1_lambda2, class_total_RESNET_L1_lambda2, test_acc_RESNET_L1_lambda2]"
      ]
    },
    {
      "cell_type": "code",
      "execution_count": null,
      "metadata": {
        "colab": {
          "base_uri": "https://localhost:8080/"
        },
        "id": "NYk2L7xByFWV",
        "outputId": "a36e9dfc-7a88-47d4-f4c8-233e467db2c9"
      },
      "outputs": [
        {
          "name": "stderr",
          "output_type": "stream",
          "text": [
            "<ipython-input-25-b3a6eac2ef9e>:5: VisibleDeprecationWarning: Creating an ndarray from ragged nested sequences (which is a list-or-tuple of lists-or-tuples-or ndarrays with different lengths or shapes) is deprecated. If you meant to do this, you must specify 'dtype=object' when creating the ndarray.\n",
            "  df = pd.DataFrame(np.array(arrs), index = ['train_loss', 'train_acc', 'val_loss', 'val_acc', 'time', 'test_loss', 'test_correct', 'test_total', 'test_acc'])\n"
          ]
        }
      ],
      "source": [
        "save_results(arrs, \"RESNET_L1_lambda2\")"
      ]
    },
    {
      "cell_type": "markdown",
      "metadata": {
        "id": "854Ti9d-FtFO"
      },
      "source": [
        "#### DenseNet121"
      ]
    },
    {
      "cell_type": "code",
      "execution_count": null,
      "metadata": {
        "colab": {
          "base_uri": "https://localhost:8080/"
        },
        "id": "smvOSbQTFtFO",
        "outputId": "3df05766-046f-4a1e-b81f-e6a6bf5bf0b1"
      },
      "outputs": [
        {
          "name": "stderr",
          "output_type": "stream",
          "text": [
            "Using cache found in /root/.cache/torch/hub/pytorch_vision_v0.10.0\n",
            "/usr/local/lib/python3.10/dist-packages/torchvision/models/_utils.py:208: UserWarning: The parameter 'pretrained' is deprecated since 0.13 and may be removed in the future, please use 'weights' instead.\n",
            "  warnings.warn(\n",
            "/usr/local/lib/python3.10/dist-packages/torchvision/models/_utils.py:223: UserWarning: Arguments other than a weight enum or `None` for 'weights' are deprecated since 0.13 and may be removed in the future. The current behavior is equivalent to passing `weights=None`.\n",
            "  warnings.warn(msg)\n"
          ]
        }
      ],
      "source": [
        "model_DNN_L1_lambda2 = torch.hub.load('pytorch/vision:v0.10.0', 'densenet121', pretrained=False)\n",
        "\n",
        "criterion = CustomLoss()\n",
        "optimizer = optim.SGD(params=model_DNN_L1_lambda2.parameters(), lr = 0.03)"
      ]
    },
    {
      "cell_type": "code",
      "execution_count": null,
      "metadata": {
        "colab": {
          "base_uri": "https://localhost:8080/"
        },
        "id": "IllBTyxPFtFO",
        "outputId": "4d7ff933-3e8f-446b-dcfa-f5ac1e4e9d63"
      },
      "outputs": [
        {
          "name": "stdout",
          "output_type": "stream",
          "text": [
            "Epoch: 0 \tTraining Loss: 9.198630 \tTraining Accuracy: 0.375482 \tValidation Loss: 4.457355 \tValidation Accuracy: 0.340667\n",
            "Validation loss decreased (inf --> 4.457355).  Saving model ...\n",
            "Epoch: 1 \tTraining Loss: 3.068701 \tTraining Accuracy: 0.389600 \tValidation Loss: 2.345831 \tValidation Accuracy: 0.299600\n",
            "Validation loss decreased (4.457355 --> 2.345831).  Saving model ...\n",
            "Epoch: 2 \tTraining Loss: 2.089073 \tTraining Accuracy: 0.401882 \tValidation Loss: 1.970136 \tValidation Accuracy: 0.291067\n",
            "Validation loss decreased (2.345831 --> 1.970136).  Saving model ...\n",
            "Epoch: 3 \tTraining Loss: 1.835709 \tTraining Accuracy: 0.435624 \tValidation Loss: 1.809367 \tValidation Accuracy: 0.307867\n",
            "Validation loss decreased (1.970136 --> 1.809367).  Saving model ...\n",
            "Epoch: 4 \tTraining Loss: 1.677313 \tTraining Accuracy: 0.459812 \tValidation Loss: 1.651579 \tValidation Accuracy: 0.271867\n",
            "Validation loss decreased (1.809367 --> 1.651579).  Saving model ...\n",
            "Epoch: 5 \tTraining Loss: 1.535512 \tTraining Accuracy: 0.474682 \tValidation Loss: 1.501731 \tValidation Accuracy: 0.272400\n",
            "Validation loss decreased (1.651579 --> 1.501731).  Saving model ...\n",
            "Epoch: 6 \tTraining Loss: 1.391036 \tTraining Accuracy: 0.493529 \tValidation Loss: 1.358774 \tValidation Accuracy: 0.339067\n",
            "Validation loss decreased (1.501731 --> 1.358774).  Saving model ...\n",
            "Epoch: 7 \tTraining Loss: 1.231362 \tTraining Accuracy: 0.518212 \tValidation Loss: 1.210416 \tValidation Accuracy: 0.332400\n",
            "Validation loss decreased (1.358774 --> 1.210416).  Saving model ...\n",
            "Epoch: 8 \tTraining Loss: 1.079467 \tTraining Accuracy: 0.534306 \tValidation Loss: 1.024083 \tValidation Accuracy: 0.447867\n",
            "Validation loss decreased (1.210416 --> 1.024083).  Saving model ...\n",
            "Epoch: 9 \tTraining Loss: 0.932960 \tTraining Accuracy: 0.548800 \tValidation Loss: 0.867599 \tValidation Accuracy: 0.500800\n",
            "Validation loss decreased (1.024083 --> 0.867599).  Saving model ...\n",
            "Epoch: 10 \tTraining Loss: 0.792698 \tTraining Accuracy: 0.560941 \tValidation Loss: 0.746643 \tValidation Accuracy: 0.394933\n",
            "Validation loss decreased (0.867599 --> 0.746643).  Saving model ...\n",
            "Epoch: 11 \tTraining Loss: 0.655515 \tTraining Accuracy: 0.563600 \tValidation Loss: 0.636464 \tValidation Accuracy: 0.335600\n",
            "Validation loss decreased (0.746643 --> 0.636464).  Saving model ...\n",
            "Epoch: 12 \tTraining Loss: 0.519815 \tTraining Accuracy: 0.570824 \tValidation Loss: 0.468570 \tValidation Accuracy: 0.480133\n",
            "Validation loss decreased (0.636464 --> 0.468570).  Saving model ...\n",
            "Epoch: 13 \tTraining Loss: 0.385291 \tTraining Accuracy: 0.570776 \tValidation Loss: 0.327191 \tValidation Accuracy: 0.513867\n",
            "Validation loss decreased (0.468570 --> 0.327191).  Saving model ...\n",
            "Epoch: 14 \tTraining Loss: 0.251116 \tTraining Accuracy: 0.578165 \tValidation Loss: 0.188158 \tValidation Accuracy: 0.553467\n",
            "Validation loss decreased (0.327191 --> 0.188158).  Saving model ...\n",
            "Epoch: 15 \tTraining Loss: 0.129068 \tTraining Accuracy: 0.574965 \tValidation Loss: 0.105748 \tValidation Accuracy: 0.516533\n",
            "Validation loss decreased (0.188158 --> 0.105748).  Saving model ...\n",
            "Epoch: 16 \tTraining Loss: 0.097841 \tTraining Accuracy: 0.579224 \tValidation Loss: 0.108073 \tValidation Accuracy: 0.506800\n",
            "Epoch: 17 \tTraining Loss: 0.096597 \tTraining Accuracy: 0.574941 \tValidation Loss: 0.103597 \tValidation Accuracy: 0.526267\n",
            "Validation loss decreased (0.105748 --> 0.103597).  Saving model ...\n",
            "Epoch: 18 \tTraining Loss: 0.094758 \tTraining Accuracy: 0.578682 \tValidation Loss: 0.101917 \tValidation Accuracy: 0.524800\n",
            "Validation loss decreased (0.103597 --> 0.101917).  Saving model ...\n",
            "Epoch: 19 \tTraining Loss: 0.093404 \tTraining Accuracy: 0.580424 \tValidation Loss: 0.100326 \tValidation Accuracy: 0.523200\n",
            "Validation loss decreased (0.101917 --> 0.100326).  Saving model ...\n"
          ]
        }
      ],
      "source": [
        "train_loss_DNN_L1_lambda2, train_acc_DNN_L1_lambda2, valid_loss_DNN_L1_lambda2, valid_acc_DNN_L1_lambda2, time_DNN_L1_lambda2 = train(model_DNN_L1_lambda2, lambda_reg, n_epochs, criterion, optimizer, norm, 'model_DNN_L1_lambda2', train_on_gpu)"
      ]
    },
    {
      "cell_type": "code",
      "execution_count": null,
      "metadata": {
        "colab": {
          "base_uri": "https://localhost:8080/"
        },
        "id": "EWJ-OTsBFtFO",
        "outputId": "4bc93b46-149a-445c-9d58-1c9257d8b9c7"
      },
      "outputs": [
        {
          "name": "stdout",
          "output_type": "stream",
          "text": [
            "Test Loss: 0.100558\n",
            "\n",
            "Test Accuracy of airplane: 84% (843/1000)\n",
            "Test Accuracy of automobile: 82% (829/1000)\n",
            "Test Accuracy of  bird: 44% (441/1000)\n",
            "Test Accuracy of   cat: 42% (425/1000)\n",
            "Test Accuracy of  deer: 14% (145/1000)\n",
            "Test Accuracy of   dog: 45% (451/1000)\n",
            "Test Accuracy of  frog: 47% (470/1000)\n",
            "Test Accuracy of horse: 73% (733/1000)\n",
            "Test Accuracy of  ship: 49% (496/1000)\n",
            "Test Accuracy of truck: 33% (337/1000)\n",
            "\n",
            "Test Accuracy (Overall): 51% (5170/10000)\n"
          ]
        }
      ],
      "source": [
        "test_loss_DNN_L1_lambda2, class_correct_DNN_L1_lambda2, class_total_DNN_L1_lambda2, test_acc_DNN_L1_lambda2 = test(model_DNN_L1_lambda2, lambda_reg, n_epochs, criterion, optimizer, norm, 'model_DNN_L1_lambda2', train_on_gpu)"
      ]
    },
    {
      "cell_type": "code",
      "execution_count": null,
      "metadata": {
        "id": "DRXEWC9l3ym7"
      },
      "outputs": [],
      "source": [
        "arrs = [train_loss_DNN_L1_lambda2, train_acc_DNN_L1_lambda2, valid_loss_DNN_L1_lambda2, valid_acc_DNN_L1_lambda2, time_DNN_L1_lambda2, test_loss_DNN_L1_lambda2, class_correct_DNN_L1_lambda2, class_total_DNN_L1_lambda2, test_acc_DNN_L1_lambda2]"
      ]
    },
    {
      "cell_type": "code",
      "execution_count": null,
      "metadata": {
        "colab": {
          "base_uri": "https://localhost:8080/"
        },
        "id": "D9-kX_6Q3ym8",
        "outputId": "e5877491-808e-4283-83f5-221e308c3c55"
      },
      "outputs": [
        {
          "name": "stderr",
          "output_type": "stream",
          "text": [
            "<ipython-input-25-b3a6eac2ef9e>:5: VisibleDeprecationWarning: Creating an ndarray from ragged nested sequences (which is a list-or-tuple of lists-or-tuples-or ndarrays with different lengths or shapes) is deprecated. If you meant to do this, you must specify 'dtype=object' when creating the ndarray.\n",
            "  df = pd.DataFrame(np.array(arrs), index = ['train_loss', 'train_acc', 'val_loss', 'val_acc', 'time', 'test_loss', 'test_correct', 'test_total', 'test_acc'])\n"
          ]
        }
      ],
      "source": [
        "save_results(arrs, \"DNN_L1_lambda2\")"
      ]
    },
    {
      "cell_type": "markdown",
      "metadata": {
        "id": "pSniaUvVGQhv"
      },
      "source": [
        "### $\\lambda_{3} = 10^{-2}$"
      ]
    },
    {
      "cell_type": "code",
      "execution_count": null,
      "metadata": {
        "id": "0z9p0jfcGQhw"
      },
      "outputs": [],
      "source": [
        "lambda_reg = 1e-2"
      ]
    },
    {
      "cell_type": "markdown",
      "metadata": {
        "id": "sXrWWSQrGQh0"
      },
      "source": [
        "#### MLP"
      ]
    },
    {
      "cell_type": "code",
      "execution_count": null,
      "metadata": {
        "id": "HfJYexLAGQh0"
      },
      "outputs": [],
      "source": [
        "model_MLP_L1_lambda3 = MLP()\n",
        "\n",
        "criterion = CustomLoss()\n",
        "optimizer = optim.SGD(params = model_MLP_L1_lambda3.parameters(), lr = 0.03)"
      ]
    },
    {
      "cell_type": "code",
      "execution_count": null,
      "metadata": {
        "colab": {
          "base_uri": "https://localhost:8080/"
        },
        "id": "4_JrD0tRGQh0",
        "outputId": "7a4c2df2-c3ff-4650-ddcb-a9c1a70d9f16"
      },
      "outputs": [
        {
          "name": "stdout",
          "output_type": "stream",
          "text": [
            "Epoch: 0 \tTraining Loss: 0.913035 \tTraining Accuracy: 0.100165 \tValidation Loss: 0.510707 \tValidation Accuracy: 0.101733\n",
            "Validation loss decreased (inf --> 0.510707).  Saving model ...\n",
            "Epoch: 1 \tTraining Loss: 0.510145 \tTraining Accuracy: 0.099576 \tValidation Loss: 0.509560 \tValidation Accuracy: 0.095067\n",
            "Validation loss decreased (0.510707 --> 0.509560).  Saving model ...\n",
            "Epoch: 2 \tTraining Loss: 0.510144 \tTraining Accuracy: 0.100047 \tValidation Loss: 0.510716 \tValidation Accuracy: 0.101733\n",
            "Epoch: 3 \tTraining Loss: 0.510145 \tTraining Accuracy: 0.101388 \tValidation Loss: 0.509580 \tValidation Accuracy: 0.096667\n",
            "Epoch: 4 \tTraining Loss: 0.510144 \tTraining Accuracy: 0.099506 \tValidation Loss: 0.510695 \tValidation Accuracy: 0.096667\n",
            "Epoch: 5 \tTraining Loss: 0.510145 \tTraining Accuracy: 0.099647 \tValidation Loss: 0.509594 \tValidation Accuracy: 0.095067\n",
            "Epoch: 6 \tTraining Loss: 0.510144 \tTraining Accuracy: 0.100447 \tValidation Loss: 0.510690 \tValidation Accuracy: 0.099467\n",
            "Epoch: 7 \tTraining Loss: 0.510145 \tTraining Accuracy: 0.097576 \tValidation Loss: 0.509602 \tValidation Accuracy: 0.097867\n",
            "Epoch: 8 \tTraining Loss: 0.510144 \tTraining Accuracy: 0.100894 \tValidation Loss: 0.510696 \tValidation Accuracy: 0.095067\n",
            "Epoch: 9 \tTraining Loss: 0.510144 \tTraining Accuracy: 0.098353 \tValidation Loss: 0.509626 \tValidation Accuracy: 0.099467\n",
            "Epoch: 10 \tTraining Loss: 0.510145 \tTraining Accuracy: 0.098635 \tValidation Loss: 0.510695 \tValidation Accuracy: 0.099867\n",
            "Epoch: 11 \tTraining Loss: 0.510145 \tTraining Accuracy: 0.101529 \tValidation Loss: 0.509608 \tValidation Accuracy: 0.099867\n",
            "Epoch: 12 \tTraining Loss: 0.510144 \tTraining Accuracy: 0.100212 \tValidation Loss: 0.510727 \tValidation Accuracy: 0.096667\n",
            "Epoch: 13 \tTraining Loss: 0.510145 \tTraining Accuracy: 0.098329 \tValidation Loss: 0.509608 \tValidation Accuracy: 0.096667\n",
            "Epoch: 14 \tTraining Loss: 0.510144 \tTraining Accuracy: 0.099529 \tValidation Loss: 0.510686 \tValidation Accuracy: 0.101733\n",
            "Epoch: 15 \tTraining Loss: 0.510145 \tTraining Accuracy: 0.100000 \tValidation Loss: 0.509606 \tValidation Accuracy: 0.097867\n",
            "Epoch: 16 \tTraining Loss: 0.510144 \tTraining Accuracy: 0.100988 \tValidation Loss: 0.510682 \tValidation Accuracy: 0.095067\n",
            "Epoch: 17 \tTraining Loss: 0.510145 \tTraining Accuracy: 0.101012 \tValidation Loss: 0.509603 \tValidation Accuracy: 0.096667\n",
            "Epoch: 18 \tTraining Loss: 0.510145 \tTraining Accuracy: 0.098094 \tValidation Loss: 0.510677 \tValidation Accuracy: 0.099867\n",
            "Epoch: 19 \tTraining Loss: 0.510145 \tTraining Accuracy: 0.101741 \tValidation Loss: 0.509612 \tValidation Accuracy: 0.095067\n"
          ]
        }
      ],
      "source": [
        "train_loss_MLP_L1_lambda3, train_acc_MLP_L1_lambda3, valid_loss_MLP_L1_lambda3, valid_acc_MLP_L1_lambda3, time_MLP_L1_lambda3 = train(model_MLP_L1_lambda3, lambda_reg, n_epochs, criterion, optimizer, norm, 'model_MLP_L1_lambda3', train_on_gpu)"
      ]
    },
    {
      "cell_type": "code",
      "execution_count": null,
      "metadata": {
        "colab": {
          "base_uri": "https://localhost:8080/"
        },
        "id": "64O4r6kgGQh1",
        "outputId": "f56a3d28-09a3-4352-e209-f17d1bad637e"
      },
      "outputs": [
        {
          "name": "stdout",
          "output_type": "stream",
          "text": [
            "Test Loss: 0.509559\n",
            "\n",
            "Test Accuracy of airplane:  0% ( 0/1000)\n",
            "Test Accuracy of automobile: 100% (1000/1000)\n",
            "Test Accuracy of  bird:  0% ( 0/1000)\n",
            "Test Accuracy of   cat:  0% ( 0/1000)\n",
            "Test Accuracy of  deer:  0% ( 0/1000)\n",
            "Test Accuracy of   dog:  0% ( 0/1000)\n",
            "Test Accuracy of  frog:  0% ( 0/1000)\n",
            "Test Accuracy of horse:  0% ( 0/1000)\n",
            "Test Accuracy of  ship:  0% ( 0/1000)\n",
            "Test Accuracy of truck:  0% ( 0/1000)\n",
            "\n",
            "Test Accuracy (Overall): 10% (1000/10000)\n"
          ]
        }
      ],
      "source": [
        "test_loss_MLP_L1_lambda3, class_correct_MLP_L1_lambda3, class_total_MLP_L1_lambda3, test_acc_MLP_L1_lambda3 = test(model_MLP_L1_lambda3, lambda_reg, n_epochs, criterion, optimizer, norm, 'model_MLP_L1_lambda3', train_on_gpu)"
      ]
    },
    {
      "cell_type": "code",
      "execution_count": null,
      "metadata": {
        "id": "f8SUCSeoswxN"
      },
      "outputs": [],
      "source": [
        "arrs = [train_loss_MLP_L1_lambda3, train_acc_MLP_L1_lambda3, valid_loss_MLP_L1_lambda3, valid_acc_MLP_L1_lambda3, time_MLP_L1_lambda3, test_loss_MLP_L1_lambda3, class_correct_MLP_L1_lambda3, class_total_MLP_L1_lambda3, test_acc_MLP_L1_lambda3]"
      ]
    },
    {
      "cell_type": "code",
      "execution_count": null,
      "metadata": {
        "colab": {
          "base_uri": "https://localhost:8080/"
        },
        "id": "CZEPBLLBswxN",
        "outputId": "8da7c626-f0d1-4b4f-b242-5b2d9556258c"
      },
      "outputs": [
        {
          "name": "stderr",
          "output_type": "stream",
          "text": [
            "<ipython-input-12-b3a6eac2ef9e>:5: VisibleDeprecationWarning: Creating an ndarray from ragged nested sequences (which is a list-or-tuple of lists-or-tuples-or ndarrays with different lengths or shapes) is deprecated. If you meant to do this, you must specify 'dtype=object' when creating the ndarray.\n",
            "  df = pd.DataFrame(np.array(arrs), index = ['train_loss', 'train_acc', 'val_loss', 'val_acc', 'time', 'test_loss', 'test_correct', 'test_total', 'test_acc'])\n"
          ]
        }
      ],
      "source": [
        "save_results(arrs, \"MLP_L1_lambda3\")"
      ]
    },
    {
      "cell_type": "markdown",
      "metadata": {
        "id": "sRfboEGYGQh3"
      },
      "source": [
        "#### CNN"
      ]
    },
    {
      "cell_type": "code",
      "execution_count": null,
      "metadata": {
        "id": "muizovhlGQh3"
      },
      "outputs": [],
      "source": [
        "model_CNN_L1_lambda3 = CNN()\n",
        "\n",
        "criterion = CustomLoss()\n",
        "optimizer = optim.SGD(params=model_CNN_L1_lambda3.parameters(), lr = 0.03)"
      ]
    },
    {
      "cell_type": "code",
      "execution_count": null,
      "metadata": {
        "colab": {
          "base_uri": "https://localhost:8080/"
        },
        "id": "JLEvVlz5GQh3",
        "outputId": "b1c0fdc8-4a94-4365-e61e-26427800d7da"
      },
      "outputs": [
        {
          "name": "stdout",
          "output_type": "stream",
          "text": [
            "Epoch: 0 \tTraining Loss: 0.186404 \tTraining Accuracy: 0.100800 \tValidation Loss: 0.136802 \tValidation Accuracy: 0.097867\n",
            "Validation loss decreased (inf --> 0.136802).  Saving model ...\n",
            "Epoch: 1 \tTraining Loss: 0.136803 \tTraining Accuracy: 0.100024 \tValidation Loss: 0.136794 \tValidation Accuracy: 0.099467\n",
            "Validation loss decreased (0.136802 --> 0.136794).  Saving model ...\n",
            "Epoch: 2 \tTraining Loss: 0.136803 \tTraining Accuracy: 0.099929 \tValidation Loss: 0.136808 \tValidation Accuracy: 0.101067\n",
            "Epoch: 3 \tTraining Loss: 0.136803 \tTraining Accuracy: 0.099647 \tValidation Loss: 0.136793 \tValidation Accuracy: 0.095067\n",
            "Validation loss decreased (0.136794 --> 0.136793).  Saving model ...\n",
            "Epoch: 4 \tTraining Loss: 0.136803 \tTraining Accuracy: 0.099788 \tValidation Loss: 0.136803 \tValidation Accuracy: 0.101733\n",
            "Epoch: 5 \tTraining Loss: 0.136803 \tTraining Accuracy: 0.100776 \tValidation Loss: 0.136801 \tValidation Accuracy: 0.101733\n",
            "Epoch: 6 \tTraining Loss: 0.136803 \tTraining Accuracy: 0.099271 \tValidation Loss: 0.136823 \tValidation Accuracy: 0.095067\n",
            "Epoch: 7 \tTraining Loss: 0.136803 \tTraining Accuracy: 0.098871 \tValidation Loss: 0.136805 \tValidation Accuracy: 0.097867\n",
            "Epoch: 8 \tTraining Loss: 0.136803 \tTraining Accuracy: 0.097365 \tValidation Loss: 0.136817 \tValidation Accuracy: 0.102267\n",
            "Epoch: 9 \tTraining Loss: 0.136803 \tTraining Accuracy: 0.101365 \tValidation Loss: 0.136778 \tValidation Accuracy: 0.097867\n",
            "Validation loss decreased (0.136793 --> 0.136778).  Saving model ...\n",
            "Epoch: 10 \tTraining Loss: 0.136803 \tTraining Accuracy: 0.100282 \tValidation Loss: 0.136825 \tValidation Accuracy: 0.099467\n",
            "Epoch: 11 \tTraining Loss: 0.136803 \tTraining Accuracy: 0.099153 \tValidation Loss: 0.136800 \tValidation Accuracy: 0.099867\n",
            "Epoch: 12 \tTraining Loss: 0.136803 \tTraining Accuracy: 0.098965 \tValidation Loss: 0.136835 \tValidation Accuracy: 0.101067\n",
            "Epoch: 13 \tTraining Loss: 0.136803 \tTraining Accuracy: 0.100000 \tValidation Loss: 0.136808 \tValidation Accuracy: 0.096667\n",
            "Epoch: 14 \tTraining Loss: 0.136803 \tTraining Accuracy: 0.096588 \tValidation Loss: 0.136801 \tValidation Accuracy: 0.097867\n",
            "Epoch: 15 \tTraining Loss: 0.136803 \tTraining Accuracy: 0.099035 \tValidation Loss: 0.136793 \tValidation Accuracy: 0.102000\n",
            "Epoch: 16 \tTraining Loss: 0.136804 \tTraining Accuracy: 0.098353 \tValidation Loss: 0.136804 \tValidation Accuracy: 0.095067\n",
            "Epoch: 17 \tTraining Loss: 0.136803 \tTraining Accuracy: 0.098541 \tValidation Loss: 0.136816 \tValidation Accuracy: 0.096667\n",
            "Epoch: 18 \tTraining Loss: 0.136803 \tTraining Accuracy: 0.099929 \tValidation Loss: 0.136801 \tValidation Accuracy: 0.101067\n",
            "Epoch: 19 \tTraining Loss: 0.136803 \tTraining Accuracy: 0.096918 \tValidation Loss: 0.136791 \tValidation Accuracy: 0.096667\n"
          ]
        }
      ],
      "source": [
        "train_loss_CNN_L1_lambda3, train_acc_CNN_L1_lambda3, valid_loss_CNN_L1_lambda3, valid_acc_CNN_L1_lambda3, time_CNN_L1_lambda3 = train(model_CNN_L1_lambda3, lambda_reg, n_epochs, criterion, optimizer, norm, 'model_CNN_L1_lambda3', train_on_gpu)"
      ]
    },
    {
      "cell_type": "code",
      "execution_count": null,
      "metadata": {
        "colab": {
          "base_uri": "https://localhost:8080/"
        },
        "id": "X_QljVGQGQh4",
        "outputId": "1ca4bfb6-d6f4-4672-8ee2-161161e3ceed"
      },
      "outputs": [
        {
          "name": "stdout",
          "output_type": "stream",
          "text": [
            "Test Loss: 0.136777\n",
            "\n",
            "Test Accuracy of airplane: 100% (1000/1000)\n",
            "Test Accuracy of automobile:  0% ( 0/1000)\n",
            "Test Accuracy of  bird:  0% ( 0/1000)\n",
            "Test Accuracy of   cat:  0% ( 0/1000)\n",
            "Test Accuracy of  deer:  0% ( 0/1000)\n",
            "Test Accuracy of   dog:  0% ( 0/1000)\n",
            "Test Accuracy of  frog:  0% ( 0/1000)\n",
            "Test Accuracy of horse:  0% ( 0/1000)\n",
            "Test Accuracy of  ship:  0% ( 0/1000)\n",
            "Test Accuracy of truck:  0% ( 0/1000)\n",
            "\n",
            "Test Accuracy (Overall): 10% (1000/10000)\n"
          ]
        }
      ],
      "source": [
        "test_loss_CNN_L1_lambda3, class_correct_CNN_L1_lambda3, class_total_CNN_L1_lambda3, test_acc_CNN_L1_lambda3 = test(model_CNN_L1_lambda3, lambda_reg, n_epochs, criterion, optimizer, norm, 'model_CNN_L1_lambda3', train_on_gpu)"
      ]
    },
    {
      "cell_type": "code",
      "execution_count": null,
      "metadata": {
        "id": "voIRmDpOs4eJ"
      },
      "outputs": [],
      "source": [
        "arrs = [train_loss_CNN_L1_lambda3, train_acc_CNN_L1_lambda3, valid_loss_CNN_L1_lambda3, valid_acc_CNN_L1_lambda3, time_CNN_L1_lambda3, test_loss_CNN_L1_lambda3, class_correct_CNN_L1_lambda3, class_total_CNN_L1_lambda3, test_acc_CNN_L1_lambda3]"
      ]
    },
    {
      "cell_type": "code",
      "execution_count": null,
      "metadata": {
        "colab": {
          "base_uri": "https://localhost:8080/"
        },
        "id": "jd0YyoxQs4eJ",
        "outputId": "a303f877-21fd-4704-f75c-3f19f591a320"
      },
      "outputs": [
        {
          "name": "stderr",
          "output_type": "stream",
          "text": [
            "<ipython-input-12-b3a6eac2ef9e>:5: VisibleDeprecationWarning: Creating an ndarray from ragged nested sequences (which is a list-or-tuple of lists-or-tuples-or ndarrays with different lengths or shapes) is deprecated. If you meant to do this, you must specify 'dtype=object' when creating the ndarray.\n",
            "  df = pd.DataFrame(np.array(arrs), index = ['train_loss', 'train_acc', 'val_loss', 'val_acc', 'time', 'test_loss', 'test_correct', 'test_total', 'test_acc'])\n"
          ]
        }
      ],
      "source": [
        "save_results(arrs, \"CNN_L1_lambda3\")"
      ]
    },
    {
      "cell_type": "markdown",
      "metadata": {
        "id": "ABrwK159GQh4"
      },
      "source": [
        "#### ResNet34"
      ]
    },
    {
      "cell_type": "code",
      "execution_count": null,
      "metadata": {
        "id": "49EtnqAsGQiJ"
      },
      "outputs": [],
      "source": [
        "model_RESNET_L1_lambda3 = torch.hub.load('pytorch/vision:v0.10.0', 'resnet34', pretrained=False)\n",
        "\n",
        "criterion = CustomLoss()\n",
        "optimizer = optim.SGD(params = model_RESNET_L1_lambda3.parameters(), lr = 0.03)"
      ]
    },
    {
      "cell_type": "code",
      "execution_count": null,
      "metadata": {
        "colab": {
          "base_uri": "https://localhost:8080/"
        },
        "id": "bTUelLm9GQiJ",
        "outputId": "d239aba0-0468-45a1-abaa-64ce1f8026da"
      },
      "outputs": [
        {
          "name": "stdout",
          "output_type": "stream",
          "text": [
            "Epoch: 0 \tTraining Loss: 12.397760 \tTraining Accuracy: 0.107035 \tValidation Loss: 7.823589 \tValidation Accuracy: 0.097867\n",
            "Validation loss decreased (inf --> 7.823589).  Saving model ...\n",
            "Epoch: 1 \tTraining Loss: 2.314565 \tTraining Accuracy: 0.144753 \tValidation Loss: 1.809067 \tValidation Accuracy: 0.102533\n",
            "Validation loss decreased (7.823589 --> 1.809067).  Saving model ...\n",
            "Epoch: 2 \tTraining Loss: 1.766446 \tTraining Accuracy: 0.114188 \tValidation Loss: 1.764947 \tValidation Accuracy: 0.102000\n",
            "Validation loss decreased (1.809067 --> 1.764947).  Saving model ...\n",
            "Epoch: 3 \tTraining Loss: 1.763062 \tTraining Accuracy: 0.100682 \tValidation Loss: 1.762186 \tValidation Accuracy: 0.096667\n",
            "Validation loss decreased (1.764947 --> 1.762186).  Saving model ...\n",
            "Epoch: 4 \tTraining Loss: 1.761336 \tTraining Accuracy: 0.101200 \tValidation Loss: 1.760934 \tValidation Accuracy: 0.104000\n",
            "Validation loss decreased (1.762186 --> 1.760934).  Saving model ...\n",
            "Epoch: 5 \tTraining Loss: 1.761363 \tTraining Accuracy: 0.101388 \tValidation Loss: 1.760423 \tValidation Accuracy: 0.104000\n",
            "Validation loss decreased (1.760934 --> 1.760423).  Saving model ...\n",
            "Epoch: 6 \tTraining Loss: 1.761360 \tTraining Accuracy: 0.100141 \tValidation Loss: 1.761362 \tValidation Accuracy: 0.102267\n",
            "Epoch: 7 \tTraining Loss: 1.761377 \tTraining Accuracy: 0.098941 \tValidation Loss: 1.760639 \tValidation Accuracy: 0.102267\n",
            "Epoch: 8 \tTraining Loss: 1.761322 \tTraining Accuracy: 0.102612 \tValidation Loss: 1.762397 \tValidation Accuracy: 0.095067\n",
            "Epoch: 9 \tTraining Loss: 1.761407 \tTraining Accuracy: 0.099788 \tValidation Loss: 1.761614 \tValidation Accuracy: 0.102000\n",
            "Epoch: 10 \tTraining Loss: 1.761418 \tTraining Accuracy: 0.098118 \tValidation Loss: 1.760979 \tValidation Accuracy: 0.102000\n",
            "Epoch: 11 \tTraining Loss: 1.761333 \tTraining Accuracy: 0.099271 \tValidation Loss: 1.761894 \tValidation Accuracy: 0.096667\n",
            "Epoch: 12 \tTraining Loss: 1.761326 \tTraining Accuracy: 0.100753 \tValidation Loss: 1.762395 \tValidation Accuracy: 0.095067\n",
            "Epoch: 13 \tTraining Loss: 1.761397 \tTraining Accuracy: 0.098047 \tValidation Loss: 1.761309 \tValidation Accuracy: 0.102000\n",
            "Epoch: 14 \tTraining Loss: 1.761369 \tTraining Accuracy: 0.100376 \tValidation Loss: 1.761555 \tValidation Accuracy: 0.101067\n",
            "Epoch: 15 \tTraining Loss: 1.761420 \tTraining Accuracy: 0.098471 \tValidation Loss: 1.761081 \tValidation Accuracy: 0.095067\n",
            "Epoch: 16 \tTraining Loss: 1.761406 \tTraining Accuracy: 0.100400 \tValidation Loss: 1.760994 \tValidation Accuracy: 0.097867\n",
            "Epoch: 17 \tTraining Loss: 1.761382 \tTraining Accuracy: 0.100235 \tValidation Loss: 1.760664 \tValidation Accuracy: 0.101733\n",
            "Epoch: 18 \tTraining Loss: 1.761475 \tTraining Accuracy: 0.099129 \tValidation Loss: 1.760972 \tValidation Accuracy: 0.099867\n",
            "Epoch: 19 \tTraining Loss: 1.761437 \tTraining Accuracy: 0.099459 \tValidation Loss: 1.760655 \tValidation Accuracy: 0.102267\n"
          ]
        }
      ],
      "source": [
        "train_loss_RESNET_L1_lambda3, train_acc_RESNET_L1_lambda3, valid_loss_RESNET_L1_lambda3, valid_acc_RESNET_L1_lambda3, time_RESNET_L1_lambda3 = train(model_RESNET_L1_lambda3, lambda_reg, n_epochs, criterion, optimizer, norm, 'model_RESNET_L1_lambda3', train_on_gpu)"
      ]
    },
    {
      "cell_type": "code",
      "execution_count": null,
      "metadata": {
        "colab": {
          "base_uri": "https://localhost:8080/"
        },
        "id": "GbGOdj8-GQiJ",
        "outputId": "4329a60f-6f06-43c5-edb5-5c1c346f7d1c"
      },
      "outputs": [
        {
          "name": "stdout",
          "output_type": "stream",
          "text": [
            "Test Loss: 1.760437\n",
            "\n",
            "Test Accuracy of airplane:  0% ( 0/1000)\n",
            "Test Accuracy of automobile:  0% ( 0/1000)\n",
            "Test Accuracy of  bird:  0% ( 0/1000)\n",
            "Test Accuracy of   cat:  0% ( 0/1000)\n",
            "Test Accuracy of  deer:  0% ( 0/1000)\n",
            "Test Accuracy of   dog:  0% ( 0/1000)\n",
            "Test Accuracy of  frog: 100% (1000/1000)\n",
            "Test Accuracy of horse:  0% ( 0/1000)\n",
            "Test Accuracy of  ship:  0% ( 0/1000)\n",
            "Test Accuracy of truck:  0% ( 0/1000)\n",
            "\n",
            "Test Accuracy (Overall): 10% (1000/10000)\n"
          ]
        }
      ],
      "source": [
        "test_loss_RESNET_L1_lambda3, class_correct_RESNET_L1_lambda3, class_total_RESNET_L1_lambda3, test_acc_RESNET_L1_lambda3 = test(model_RESNET_L1_lambda3, lambda_reg, n_epochs, criterion, optimizer, norm, 'model_RESNET_L1_lambda3', train_on_gpu)"
      ]
    },
    {
      "cell_type": "code",
      "execution_count": null,
      "metadata": {
        "id": "fMzlKWY03MFe"
      },
      "outputs": [],
      "source": [
        "arrs = [train_loss_RESNET_L1_lambda3, train_acc_RESNET_L1_lambda3, valid_loss_RESNET_L1_lambda3, valid_acc_RESNET_L1_lambda3, time_RESNET_L1_lambda3, test_loss_RESNET_L1_lambda3, class_correct_RESNET_L1_lambda3, class_total_RESNET_L1_lambda3, test_acc_RESNET_L1_lambda3]"
      ]
    },
    {
      "cell_type": "code",
      "execution_count": null,
      "metadata": {
        "colab": {
          "base_uri": "https://localhost:8080/"
        },
        "id": "H-or9s1O3MFf",
        "outputId": "12625b1b-abae-4948-a900-5cfc271031cf"
      },
      "outputs": [
        {
          "name": "stderr",
          "output_type": "stream",
          "text": [
            "<ipython-input-25-b3a6eac2ef9e>:5: VisibleDeprecationWarning: Creating an ndarray from ragged nested sequences (which is a list-or-tuple of lists-or-tuples-or ndarrays with different lengths or shapes) is deprecated. If you meant to do this, you must specify 'dtype=object' when creating the ndarray.\n",
            "  df = pd.DataFrame(np.array(arrs), index = ['train_loss', 'train_acc', 'val_loss', 'val_acc', 'time', 'test_loss', 'test_correct', 'test_total', 'test_acc'])\n"
          ]
        }
      ],
      "source": [
        "save_results(arrs, \"RESNET_L1_lambda3\")"
      ]
    },
    {
      "cell_type": "markdown",
      "metadata": {
        "id": "pg2anSBUGQiJ"
      },
      "source": [
        "#### DenseNet121"
      ]
    },
    {
      "cell_type": "code",
      "execution_count": null,
      "metadata": {
        "id": "NgKjyyFlGQiN"
      },
      "outputs": [],
      "source": [
        "model_DNN_L1_lambda3 = torch.hub.load('pytorch/vision:v0.10.0', 'densenet121', pretrained=False)\n",
        "\n",
        "criterion = CustomLoss()\n",
        "optimizer = optim.SGD(params=model_DNN_L1_lambda3.parameters(), lr = 0.03)"
      ]
    },
    {
      "cell_type": "code",
      "execution_count": null,
      "metadata": {
        "colab": {
          "base_uri": "https://localhost:8080/"
        },
        "id": "1UOeJch_GQiN",
        "outputId": "82093862-8633-4dae-ed3f-134f893e1d10"
      },
      "outputs": [
        {
          "name": "stdout",
          "output_type": "stream",
          "text": [
            "Epoch: 0 \tTraining Loss: 24.057434 \tTraining Accuracy: 0.139059 \tValidation Loss: 8.625998 \tValidation Accuracy: 0.096667\n",
            "Validation loss decreased (inf --> 8.625998).  Saving model ...\n",
            "Epoch: 1 \tTraining Loss: 2.971558 \tTraining Accuracy: 0.177388 \tValidation Loss: 0.750764 \tValidation Accuracy: 0.161600\n",
            "Validation loss decreased (8.625998 --> 0.750764).  Saving model ...\n",
            "Epoch: 2 \tTraining Loss: 0.740190 \tTraining Accuracy: 0.169718 \tValidation Loss: 0.744718 \tValidation Accuracy: 0.095067\n",
            "Validation loss decreased (0.750764 --> 0.744718).  Saving model ...\n",
            "Epoch: 3 \tTraining Loss: 0.740034 \tTraining Accuracy: 0.098753 \tValidation Loss: 0.737232 \tValidation Accuracy: 0.099467\n",
            "Validation loss decreased (0.744718 --> 0.737232).  Saving model ...\n",
            "Epoch: 4 \tTraining Loss: 0.735306 \tTraining Accuracy: 0.098541 \tValidation Loss: 0.732955 \tValidation Accuracy: 0.099867\n",
            "Validation loss decreased (0.737232 --> 0.732955).  Saving model ...\n",
            "Epoch: 5 \tTraining Loss: 0.731986 \tTraining Accuracy: 0.099694 \tValidation Loss: 0.732230 \tValidation Accuracy: 0.099467\n",
            "Validation loss decreased (0.732955 --> 0.732230).  Saving model ...\n",
            "Epoch: 6 \tTraining Loss: 0.730718 \tTraining Accuracy: 0.100659 \tValidation Loss: 0.730271 \tValidation Accuracy: 0.095067\n",
            "Validation loss decreased (0.732230 --> 0.730271).  Saving model ...\n",
            "Epoch: 7 \tTraining Loss: 0.729958 \tTraining Accuracy: 0.101600 \tValidation Loss: 0.729177 \tValidation Accuracy: 0.099467\n",
            "Validation loss decreased (0.730271 --> 0.729177).  Saving model ...\n",
            "Epoch: 8 \tTraining Loss: 0.729358 \tTraining Accuracy: 0.098753 \tValidation Loss: 0.728951 \tValidation Accuracy: 0.102000\n",
            "Validation loss decreased (0.729177 --> 0.728951).  Saving model ...\n",
            "Epoch: 9 \tTraining Loss: 0.728999 \tTraining Accuracy: 0.099459 \tValidation Loss: 0.728439 \tValidation Accuracy: 0.104000\n",
            "Validation loss decreased (0.728951 --> 0.728439).  Saving model ...\n",
            "Epoch: 10 \tTraining Loss: 0.728656 \tTraining Accuracy: 0.097812 \tValidation Loss: 0.727795 \tValidation Accuracy: 0.102267\n",
            "Validation loss decreased (0.728439 --> 0.727795).  Saving model ...\n",
            "Epoch: 11 \tTraining Loss: 0.728342 \tTraining Accuracy: 0.099553 \tValidation Loss: 0.727731 \tValidation Accuracy: 0.101733\n",
            "Validation loss decreased (0.727795 --> 0.727731).  Saving model ...\n",
            "Epoch: 12 \tTraining Loss: 0.727973 \tTraining Accuracy: 0.101976 \tValidation Loss: 0.727399 \tValidation Accuracy: 0.096667\n",
            "Validation loss decreased (0.727731 --> 0.727399).  Saving model ...\n",
            "Epoch: 13 \tTraining Loss: 0.727635 \tTraining Accuracy: 0.099153 \tValidation Loss: 0.727214 \tValidation Accuracy: 0.097867\n",
            "Validation loss decreased (0.727399 --> 0.727214).  Saving model ...\n",
            "Epoch: 14 \tTraining Loss: 0.727395 \tTraining Accuracy: 0.098141 \tValidation Loss: 0.727009 \tValidation Accuracy: 0.102000\n",
            "Validation loss decreased (0.727214 --> 0.727009).  Saving model ...\n",
            "Epoch: 15 \tTraining Loss: 0.727044 \tTraining Accuracy: 0.098541 \tValidation Loss: 0.726789 \tValidation Accuracy: 0.096667\n",
            "Validation loss decreased (0.727009 --> 0.726789).  Saving model ...\n",
            "Epoch: 16 \tTraining Loss: 0.726706 \tTraining Accuracy: 0.099929 \tValidation Loss: 0.727000 \tValidation Accuracy: 0.097867\n",
            "Epoch: 17 \tTraining Loss: 0.726433 \tTraining Accuracy: 0.098518 \tValidation Loss: 0.725976 \tValidation Accuracy: 0.099867\n",
            "Validation loss decreased (0.726789 --> 0.725976).  Saving model ...\n",
            "Epoch: 18 \tTraining Loss: 0.726060 \tTraining Accuracy: 0.099600 \tValidation Loss: 0.726598 \tValidation Accuracy: 0.099867\n",
            "Epoch: 19 \tTraining Loss: 0.725708 \tTraining Accuracy: 0.103882 \tValidation Loss: 0.724928 \tValidation Accuracy: 0.104000\n",
            "Validation loss decreased (0.725976 --> 0.724928).  Saving model ...\n"
          ]
        }
      ],
      "source": [
        "train_loss_DNN_L1_lambda3, train_acc_DNN_L1_lambda3, valid_loss_DNN_L1_lambda3, valid_acc_DNN_L1_lambda3, time_DNN_L1_lambda3 = train(model_DNN_L1_lambda3, lambda_reg, n_epochs, criterion, optimizer, norm, 'model_DNN_L1_lambda3', train_on_gpu)"
      ]
    },
    {
      "cell_type": "code",
      "execution_count": null,
      "metadata": {
        "colab": {
          "base_uri": "https://localhost:8080/"
        },
        "id": "rFHadHUdGQiN",
        "outputId": "7d970bdb-6fd8-4209-c245-f84986f93c91"
      },
      "outputs": [
        {
          "name": "stdout",
          "output_type": "stream",
          "text": [
            "Test Loss: 0.725069\n",
            "\n",
            "Test Accuracy of airplane:  0% ( 0/1000)\n",
            "Test Accuracy of automobile:  0% ( 0/1000)\n",
            "Test Accuracy of  bird:  0% ( 0/1000)\n",
            "Test Accuracy of   cat:  0% ( 0/1000)\n",
            "Test Accuracy of  deer:  0% ( 0/1000)\n",
            "Test Accuracy of   dog:  0% ( 0/1000)\n",
            "Test Accuracy of  frog: 100% (1000/1000)\n",
            "Test Accuracy of horse:  0% ( 0/1000)\n",
            "Test Accuracy of  ship:  0% ( 0/1000)\n",
            "Test Accuracy of truck:  0% ( 0/1000)\n",
            "\n",
            "Test Accuracy (Overall): 10% (1000/10000)\n"
          ]
        }
      ],
      "source": [
        "test_loss_DNN_L1_lambda3, class_correct_DNN_L1_lambda3, class_total_DNN_L1_lambda3, test_acc_DNN_L1_lambda3 = test(model_DNN_L1_lambda3, lambda_reg, n_epochs, criterion, optimizer, norm, 'model_DNN_L1_lambda3', train_on_gpu)"
      ]
    },
    {
      "cell_type": "code",
      "execution_count": null,
      "metadata": {
        "id": "SDz4MX573k7n"
      },
      "outputs": [],
      "source": [
        "arrs = [train_loss_DNN_L1_lambda3, train_acc_DNN_L1_lambda3, valid_loss_DNN_L1_lambda3, valid_acc_DNN_L1_lambda3, time_DNN_L1_lambda3, test_loss_DNN_L1_lambda3, class_correct_DNN_L1_lambda3, class_total_DNN_L1_lambda3, test_acc_DNN_L1_lambda3]"
      ]
    },
    {
      "cell_type": "code",
      "execution_count": null,
      "metadata": {
        "colab": {
          "base_uri": "https://localhost:8080/"
        },
        "id": "cjLlFeyM3k7o",
        "outputId": "44aefbb0-9fc5-4945-aee7-bba7bef86ec3"
      },
      "outputs": [
        {
          "name": "stderr",
          "output_type": "stream",
          "text": [
            "<ipython-input-25-b3a6eac2ef9e>:5: VisibleDeprecationWarning: Creating an ndarray from ragged nested sequences (which is a list-or-tuple of lists-or-tuples-or ndarrays with different lengths or shapes) is deprecated. If you meant to do this, you must specify 'dtype=object' when creating the ndarray.\n",
            "  df = pd.DataFrame(np.array(arrs), index = ['train_loss', 'train_acc', 'val_loss', 'val_acc', 'time', 'test_loss', 'test_correct', 'test_total', 'test_acc'])\n"
          ]
        }
      ],
      "source": [
        "save_results(arrs, \"DNN_L1_lambda3\")"
      ]
    },
    {
      "cell_type": "markdown",
      "metadata": {
        "id": "FPAYG-mWIniZ"
      },
      "source": [
        "## Squarred L2"
      ]
    },
    {
      "cell_type": "code",
      "execution_count": null,
      "metadata": {
        "id": "aHg65LixInig"
      },
      "outputs": [],
      "source": [
        "norm = 2"
      ]
    },
    {
      "cell_type": "markdown",
      "metadata": {
        "id": "FERI3iq4Inig"
      },
      "source": [
        "### $\\lambda_{1} = 10^{-4}$"
      ]
    },
    {
      "cell_type": "code",
      "execution_count": null,
      "metadata": {
        "id": "HekXOpe0Inih"
      },
      "outputs": [],
      "source": [
        "lambda_reg = 1e-4"
      ]
    },
    {
      "cell_type": "markdown",
      "metadata": {
        "id": "kMkfruKZInih"
      },
      "source": [
        "#### MLP"
      ]
    },
    {
      "cell_type": "code",
      "execution_count": null,
      "metadata": {
        "id": "ybqLMQOGInih"
      },
      "outputs": [],
      "source": [
        "model_MLP_L2_lambda1 = MLP()\n",
        "\n",
        "criterion = CustomLoss()\n",
        "optimizer = optim.SGD(params = model_MLP_L2_lambda1.parameters(), lr = 0.03)"
      ]
    },
    {
      "cell_type": "code",
      "execution_count": null,
      "metadata": {
        "colab": {
          "base_uri": "https://localhost:8080/"
        },
        "id": "sRVcKNdHInih",
        "outputId": "7301073b-931a-4a24-a7a0-1ad144393a2b"
      },
      "outputs": [
        {
          "name": "stdout",
          "output_type": "stream",
          "text": [
            "Epoch: 0 \tTraining Loss: 0.098821 \tTraining Accuracy: 0.320188 \tValidation Loss: 0.092003 \tValidation Accuracy: 0.356667\n",
            "Validation loss decreased (inf --> 0.092003).  Saving model ...\n",
            "Epoch: 1 \tTraining Loss: 0.088707 \tTraining Accuracy: 0.402682 \tValidation Loss: 0.085171 \tValidation Accuracy: 0.416000\n",
            "Validation loss decreased (0.092003 --> 0.085171).  Saving model ...\n",
            "Epoch: 2 \tTraining Loss: 0.084025 \tTraining Accuracy: 0.438282 \tValidation Loss: 0.083371 \tValidation Accuracy: 0.444667\n",
            "Validation loss decreased (0.085171 --> 0.083371).  Saving model ...\n",
            "Epoch: 3 \tTraining Loss: 0.080900 \tTraining Accuracy: 0.458212 \tValidation Loss: 0.080330 \tValidation Accuracy: 0.462933\n",
            "Validation loss decreased (0.083371 --> 0.080330).  Saving model ...\n",
            "Epoch: 4 \tTraining Loss: 0.078250 \tTraining Accuracy: 0.477271 \tValidation Loss: 0.080329 \tValidation Accuracy: 0.463600\n",
            "Validation loss decreased (0.080330 --> 0.080329).  Saving model ...\n",
            "Epoch: 5 \tTraining Loss: 0.075832 \tTraining Accuracy: 0.496894 \tValidation Loss: 0.079402 \tValidation Accuracy: 0.470267\n",
            "Validation loss decreased (0.080329 --> 0.079402).  Saving model ...\n",
            "Epoch: 6 \tTraining Loss: 0.073819 \tTraining Accuracy: 0.512282 \tValidation Loss: 0.078693 \tValidation Accuracy: 0.472400\n",
            "Validation loss decreased (0.079402 --> 0.078693).  Saving model ...\n",
            "Epoch: 7 \tTraining Loss: 0.071986 \tTraining Accuracy: 0.525435 \tValidation Loss: 0.074048 \tValidation Accuracy: 0.510800\n",
            "Validation loss decreased (0.078693 --> 0.074048).  Saving model ...\n",
            "Epoch: 8 \tTraining Loss: 0.070151 \tTraining Accuracy: 0.538306 \tValidation Loss: 0.076598 \tValidation Accuracy: 0.498667\n",
            "Epoch: 9 \tTraining Loss: 0.068634 \tTraining Accuracy: 0.551576 \tValidation Loss: 0.074994 \tValidation Accuracy: 0.508800\n",
            "Epoch: 10 \tTraining Loss: 0.066810 \tTraining Accuracy: 0.564141 \tValidation Loss: 0.073682 \tValidation Accuracy: 0.522400\n",
            "Validation loss decreased (0.074048 --> 0.073682).  Saving model ...\n",
            "Epoch: 11 \tTraining Loss: 0.065458 \tTraining Accuracy: 0.576471 \tValidation Loss: 0.075563 \tValidation Accuracy: 0.504267\n",
            "Epoch: 12 \tTraining Loss: 0.063606 \tTraining Accuracy: 0.589435 \tValidation Loss: 0.072834 \tValidation Accuracy: 0.526533\n",
            "Validation loss decreased (0.073682 --> 0.072834).  Saving model ...\n",
            "Epoch: 13 \tTraining Loss: 0.062167 \tTraining Accuracy: 0.599435 \tValidation Loss: 0.073433 \tValidation Accuracy: 0.527733\n",
            "Epoch: 14 \tTraining Loss: 0.060653 \tTraining Accuracy: 0.613600 \tValidation Loss: 0.074743 \tValidation Accuracy: 0.515867\n",
            "Epoch: 15 \tTraining Loss: 0.059220 \tTraining Accuracy: 0.626235 \tValidation Loss: 0.076259 \tValidation Accuracy: 0.518267\n",
            "Epoch: 16 \tTraining Loss: 0.057635 \tTraining Accuracy: 0.636353 \tValidation Loss: 0.073750 \tValidation Accuracy: 0.536133\n",
            "Epoch: 17 \tTraining Loss: 0.056099 \tTraining Accuracy: 0.650212 \tValidation Loss: 0.073624 \tValidation Accuracy: 0.542667\n",
            "Epoch: 18 \tTraining Loss: 0.054522 \tTraining Accuracy: 0.663224 \tValidation Loss: 0.076513 \tValidation Accuracy: 0.536667\n",
            "Epoch: 19 \tTraining Loss: 0.053027 \tTraining Accuracy: 0.675812 \tValidation Loss: 0.076357 \tValidation Accuracy: 0.546667\n"
          ]
        }
      ],
      "source": [
        "train_loss_MLP_L2_lambda1, train_acc_MLP_L2_lambda1, valid_loss_MLP_L2_lambda1, valid_acc_MLP_L2_lambda1, time_MLP_L2_lambda1 = train(model_MLP_L2_lambda1, lambda_reg, n_epochs, criterion, optimizer, norm, 'model_MLP_L2_lambda1', train_on_gpu)"
      ]
    },
    {
      "cell_type": "code",
      "execution_count": null,
      "metadata": {
        "colab": {
          "base_uri": "https://localhost:8080/"
        },
        "id": "b-MdEUfRInih",
        "outputId": "41764466-e189-4c8b-cd6a-87a5a4bef569"
      },
      "outputs": [
        {
          "name": "stdout",
          "output_type": "stream",
          "text": [
            "Test Loss: 0.073048\n",
            "\n",
            "Test Accuracy of airplane: 64% (641/1000)\n",
            "Test Accuracy of automobile: 55% (550/1000)\n",
            "Test Accuracy of  bird: 26% (263/1000)\n",
            "Test Accuracy of   cat: 46% (465/1000)\n",
            "Test Accuracy of  deer: 51% (518/1000)\n",
            "Test Accuracy of   dog: 32% (322/1000)\n",
            "Test Accuracy of  frog: 69% (698/1000)\n",
            "Test Accuracy of horse: 57% (570/1000)\n",
            "Test Accuracy of  ship: 66% (669/1000)\n",
            "Test Accuracy of truck: 60% (609/1000)\n",
            "\n",
            "Test Accuracy (Overall): 53% (5305/10000)\n"
          ]
        }
      ],
      "source": [
        "test_loss_MLP_L2_lambda1, class_correct_MLP_L2_lambda1, class_total_MLP_L2_lambda1, test_acc_MLP_L2_lambda1 = test(model_MLP_L2_lambda1, lambda_reg, n_epochs, criterion, optimizer, norm, 'model_MLP_L2_lambda1', train_on_gpu)"
      ]
    },
    {
      "cell_type": "code",
      "execution_count": null,
      "metadata": {
        "id": "rzY-NBaMTPXK"
      },
      "outputs": [],
      "source": [
        "arrs = [train_loss_MLP_L2_lambda1, train_acc_MLP_L2_lambda1, valid_loss_MLP_L2_lambda1, valid_acc_MLP_L2_lambda1, time_MLP_L2_lambda1, test_loss_MLP_L2_lambda1, class_correct_MLP_L2_lambda1, class_total_MLP_L2_lambda1, test_acc_MLP_L2_lambda1]"
      ]
    },
    {
      "cell_type": "code",
      "execution_count": null,
      "metadata": {
        "colab": {
          "base_uri": "https://localhost:8080/"
        },
        "id": "GENF5Lf3TPXL",
        "outputId": "5939a63d-cd86-4738-c3f5-00a46f925f2d"
      },
      "outputs": [
        {
          "name": "stderr",
          "output_type": "stream",
          "text": [
            "<ipython-input-25-b3a6eac2ef9e>:5: VisibleDeprecationWarning: Creating an ndarray from ragged nested sequences (which is a list-or-tuple of lists-or-tuples-or ndarrays with different lengths or shapes) is deprecated. If you meant to do this, you must specify 'dtype=object' when creating the ndarray.\n",
            "  df = pd.DataFrame(np.array(arrs), index = ['train_loss', 'train_acc', 'val_loss', 'val_acc', 'time', 'test_loss', 'test_correct', 'test_total', 'test_acc'])\n"
          ]
        }
      ],
      "source": [
        "save_results(arrs, \"MLP_L2_lambda1\")"
      ]
    },
    {
      "cell_type": "markdown",
      "metadata": {
        "id": "pv3I8nRqInih"
      },
      "source": [
        "#### CNN"
      ]
    },
    {
      "cell_type": "code",
      "execution_count": null,
      "metadata": {
        "id": "D9bx84ntInii"
      },
      "outputs": [],
      "source": [
        "model_CNN_L2_lambda1 = CNN()\n",
        "\n",
        "criterion = CustomLoss()\n",
        "optimizer = optim.SGD(params=model_CNN_L2_lambda1.parameters(), lr = 0.03)"
      ]
    },
    {
      "cell_type": "code",
      "execution_count": null,
      "metadata": {
        "colab": {
          "base_uri": "https://localhost:8080/"
        },
        "id": "6u1fg7EHInii",
        "outputId": "c0d5a26a-c38d-4a59-c054-34a70d30c351"
      },
      "outputs": [
        {
          "name": "stdout",
          "output_type": "stream",
          "text": [
            "Epoch: 0 \tTraining Loss: 0.100602 \tTraining Accuracy: 0.263294 \tValidation Loss: 0.085729 \tValidation Accuracy: 0.388133\n",
            "Validation loss decreased (inf --> 0.085729).  Saving model ...\n",
            "Epoch: 1 \tTraining Loss: 0.076122 \tTraining Accuracy: 0.453812 \tValidation Loss: 0.071418 \tValidation Accuracy: 0.499867\n",
            "Validation loss decreased (0.085729 --> 0.071418).  Saving model ...\n",
            "Epoch: 2 \tTraining Loss: 0.065279 \tTraining Accuracy: 0.538541 \tValidation Loss: 0.058809 \tValidation Accuracy: 0.588267\n",
            "Validation loss decreased (0.071418 --> 0.058809).  Saving model ...\n",
            "Epoch: 3 \tTraining Loss: 0.057733 \tTraining Accuracy: 0.600212 \tValidation Loss: 0.057942 \tValidation Accuracy: 0.602667\n",
            "Validation loss decreased (0.058809 --> 0.057942).  Saving model ...\n",
            "Epoch: 4 \tTraining Loss: 0.051704 \tTraining Accuracy: 0.648353 \tValidation Loss: 0.052258 \tValidation Accuracy: 0.646000\n",
            "Validation loss decreased (0.057942 --> 0.052258).  Saving model ...\n",
            "Epoch: 5 \tTraining Loss: 0.046482 \tTraining Accuracy: 0.685529 \tValidation Loss: 0.053507 \tValidation Accuracy: 0.636000\n",
            "Epoch: 6 \tTraining Loss: 0.042336 \tTraining Accuracy: 0.716071 \tValidation Loss: 0.053218 \tValidation Accuracy: 0.650533\n",
            "Epoch: 7 \tTraining Loss: 0.038620 \tTraining Accuracy: 0.744635 \tValidation Loss: 0.050391 \tValidation Accuracy: 0.670400\n",
            "Validation loss decreased (0.052258 --> 0.050391).  Saving model ...\n",
            "Epoch: 8 \tTraining Loss: 0.035022 \tTraining Accuracy: 0.769718 \tValidation Loss: 0.049455 \tValidation Accuracy: 0.690533\n",
            "Validation loss decreased (0.050391 --> 0.049455).  Saving model ...\n",
            "Epoch: 9 \tTraining Loss: 0.031522 \tTraining Accuracy: 0.797247 \tValidation Loss: 0.050727 \tValidation Accuracy: 0.687333\n",
            "Epoch: 10 \tTraining Loss: 0.028378 \tTraining Accuracy: 0.820612 \tValidation Loss: 0.052170 \tValidation Accuracy: 0.693200\n",
            "Epoch: 11 \tTraining Loss: 0.025381 \tTraining Accuracy: 0.844659 \tValidation Loss: 0.056276 \tValidation Accuracy: 0.685733\n",
            "Epoch: 12 \tTraining Loss: 0.022650 \tTraining Accuracy: 0.864659 \tValidation Loss: 0.058217 \tValidation Accuracy: 0.688133\n",
            "Epoch: 13 \tTraining Loss: 0.020277 \tTraining Accuracy: 0.885624 \tValidation Loss: 0.059448 \tValidation Accuracy: 0.692400\n",
            "Epoch: 14 \tTraining Loss: 0.018641 \tTraining Accuracy: 0.898353 \tValidation Loss: 0.063107 \tValidation Accuracy: 0.693333\n",
            "Epoch: 15 \tTraining Loss: 0.016669 \tTraining Accuracy: 0.915553 \tValidation Loss: 0.070674 \tValidation Accuracy: 0.680800\n",
            "Epoch: 16 \tTraining Loss: 0.015555 \tTraining Accuracy: 0.925318 \tValidation Loss: 0.072909 \tValidation Accuracy: 0.694000\n",
            "Epoch: 17 \tTraining Loss: 0.014825 \tTraining Accuracy: 0.932824 \tValidation Loss: 0.077547 \tValidation Accuracy: 0.684267\n",
            "Epoch: 18 \tTraining Loss: 0.013825 \tTraining Accuracy: 0.940424 \tValidation Loss: 0.079534 \tValidation Accuracy: 0.683867\n",
            "Epoch: 19 \tTraining Loss: 0.013544 \tTraining Accuracy: 0.945388 \tValidation Loss: 0.082984 \tValidation Accuracy: 0.690933\n"
          ]
        }
      ],
      "source": [
        "train_loss_CNN_L2_lambda1, train_acc_CNN_L2_lambda1, valid_loss_CNN_L2_lambda1, valid_acc_CNN_L2_lambda1, time_CNN_L2_lambda1 = train(model_CNN_L2_lambda1, lambda_reg, n_epochs, criterion, optimizer, norm, 'model_CNN_L2_lambda1', train_on_gpu)"
      ]
    },
    {
      "cell_type": "code",
      "execution_count": null,
      "metadata": {
        "colab": {
          "base_uri": "https://localhost:8080/"
        },
        "id": "oPo38zouInii",
        "outputId": "0684f53f-69ae-4391-d5d7-f329e8a0e6d5"
      },
      "outputs": [
        {
          "name": "stdout",
          "output_type": "stream",
          "text": [
            "Test Loss: 0.050834\n",
            "\n",
            "Test Accuracy of airplane: 73% (737/1000)\n",
            "Test Accuracy of automobile: 72% (729/1000)\n",
            "Test Accuracy of  bird: 52% (523/1000)\n",
            "Test Accuracy of   cat: 55% (551/1000)\n",
            "Test Accuracy of  deer: 70% (700/1000)\n",
            "Test Accuracy of   dog: 46% (467/1000)\n",
            "Test Accuracy of  frog: 73% (730/1000)\n",
            "Test Accuracy of horse: 83% (831/1000)\n",
            "Test Accuracy of  ship: 77% (775/1000)\n",
            "Test Accuracy of truck: 77% (772/1000)\n",
            "\n",
            "Test Accuracy (Overall): 68% (6815/10000)\n"
          ]
        }
      ],
      "source": [
        "test_loss_CNN_L2_lambda1, class_correct_CNN_L2_lambda1, class_total_CNN_L2_lambda1, test_acc_CNN_L2_lambda1 = test(model_CNN_L2_lambda1, lambda_reg, n_epochs, criterion, optimizer, norm, 'model_CNN_L2_lambda1', train_on_gpu)"
      ]
    },
    {
      "cell_type": "code",
      "execution_count": null,
      "metadata": {
        "id": "vOwVZZE0Tsf-"
      },
      "outputs": [],
      "source": [
        "arrs = [train_loss_CNN_L2_lambda1, train_acc_CNN_L2_lambda1, valid_loss_CNN_L2_lambda1, valid_acc_CNN_L2_lambda1, time_CNN_L2_lambda1, test_loss_CNN_L2_lambda1, class_correct_CNN_L2_lambda1, class_total_CNN_L2_lambda1, test_acc_CNN_L2_lambda1]"
      ]
    },
    {
      "cell_type": "code",
      "execution_count": null,
      "metadata": {
        "colab": {
          "base_uri": "https://localhost:8080/"
        },
        "id": "9bO_QStqTsf_",
        "outputId": "2ec8f079-2c8f-4b89-929d-f5cc87da41b9"
      },
      "outputs": [
        {
          "name": "stderr",
          "output_type": "stream",
          "text": [
            "<ipython-input-25-b3a6eac2ef9e>:5: VisibleDeprecationWarning: Creating an ndarray from ragged nested sequences (which is a list-or-tuple of lists-or-tuples-or ndarrays with different lengths or shapes) is deprecated. If you meant to do this, you must specify 'dtype=object' when creating the ndarray.\n",
            "  df = pd.DataFrame(np.array(arrs), index = ['train_loss', 'train_acc', 'val_loss', 'val_acc', 'time', 'test_loss', 'test_correct', 'test_total', 'test_acc'])\n"
          ]
        }
      ],
      "source": [
        "save_results(arrs, \"CNN_L2_lambda1\")"
      ]
    },
    {
      "cell_type": "markdown",
      "metadata": {
        "id": "Kw_RWV6rInij"
      },
      "source": [
        "#### ResNet34"
      ]
    },
    {
      "cell_type": "code",
      "execution_count": null,
      "metadata": {
        "colab": {
          "base_uri": "https://localhost:8080/"
        },
        "id": "IUb9GhXvInij",
        "outputId": "e154b9a6-6d6b-473b-d7d0-3fd656fabe0d"
      },
      "outputs": [
        {
          "output_type": "stream",
          "name": "stderr",
          "text": [
            "Downloading: \"https://github.com/pytorch/vision/zipball/v0.10.0\" to /root/.cache/torch/hub/v0.10.0.zip\n",
            "/usr/local/lib/python3.10/dist-packages/torchvision/models/_utils.py:208: UserWarning: The parameter 'pretrained' is deprecated since 0.13 and may be removed in the future, please use 'weights' instead.\n",
            "  warnings.warn(\n",
            "/usr/local/lib/python3.10/dist-packages/torchvision/models/_utils.py:223: UserWarning: Arguments other than a weight enum or `None` for 'weights' are deprecated since 0.13 and may be removed in the future. The current behavior is equivalent to passing `weights=None`.\n",
            "  warnings.warn(msg)\n"
          ]
        }
      ],
      "source": [
        "model_RESNET_L2_lambda1 = torch.hub.load('pytorch/vision:v0.10.0', 'resnet34', pretrained=False)\n",
        "\n",
        "criterion = CustomLoss()\n",
        "optimizer = optim.SGD(params = model_RESNET_L2_lambda1.parameters(), lr = 0.03)"
      ]
    },
    {
      "cell_type": "code",
      "execution_count": null,
      "metadata": {
        "colab": {
          "base_uri": "https://localhost:8080/"
        },
        "id": "PVG5UydyInij",
        "outputId": "43db4d17-a18b-49c6-ae88-097e58872870"
      },
      "outputs": [
        {
          "output_type": "stream",
          "name": "stdout",
          "text": [
            "Epoch: 0 \tTraining Loss: 0.087926 \tTraining Accuracy: 0.392706 \tValidation Loss: 0.068747 \tValidation Accuracy: 0.520400\n",
            "Validation loss decreased (inf --> 0.068747).  Saving model ...\n",
            "Epoch: 1 \tTraining Loss: 0.065101 \tTraining Accuracy: 0.549365 \tValidation Loss: 0.064075 \tValidation Accuracy: 0.552667\n",
            "Validation loss decreased (0.068747 --> 0.064075).  Saving model ...\n",
            "Epoch: 2 \tTraining Loss: 0.054827 \tTraining Accuracy: 0.624376 \tValidation Loss: 0.071284 \tValidation Accuracy: 0.506800\n",
            "Epoch: 3 \tTraining Loss: 0.048611 \tTraining Accuracy: 0.666306 \tValidation Loss: 0.054812 \tValidation Accuracy: 0.640267\n",
            "Validation loss decreased (0.064075 --> 0.054812).  Saving model ...\n",
            "Epoch: 4 \tTraining Loss: 0.042204 \tTraining Accuracy: 0.713859 \tValidation Loss: 0.049679 \tValidation Accuracy: 0.662000\n",
            "Validation loss decreased (0.054812 --> 0.049679).  Saving model ...\n",
            "Epoch: 5 \tTraining Loss: 0.036782 \tTraining Accuracy: 0.751176 \tValidation Loss: 0.044693 \tValidation Accuracy: 0.693333\n",
            "Validation loss decreased (0.049679 --> 0.044693).  Saving model ...\n",
            "Epoch: 6 \tTraining Loss: 0.032423 \tTraining Accuracy: 0.782494 \tValidation Loss: 0.043074 \tValidation Accuracy: 0.708933\n",
            "Validation loss decreased (0.044693 --> 0.043074).  Saving model ...\n",
            "Epoch: 7 \tTraining Loss: 0.028619 \tTraining Accuracy: 0.807176 \tValidation Loss: 0.049439 \tValidation Accuracy: 0.677600\n",
            "Epoch: 8 \tTraining Loss: 0.024856 \tTraining Accuracy: 0.833741 \tValidation Loss: 0.045348 \tValidation Accuracy: 0.707733\n",
            "Epoch: 9 \tTraining Loss: 0.020965 \tTraining Accuracy: 0.858918 \tValidation Loss: 0.049263 \tValidation Accuracy: 0.709067\n",
            "Epoch: 10 \tTraining Loss: 0.017974 \tTraining Accuracy: 0.878588 \tValidation Loss: 0.047010 \tValidation Accuracy: 0.710000\n",
            "Epoch: 11 \tTraining Loss: 0.015315 \tTraining Accuracy: 0.899882 \tValidation Loss: 0.052157 \tValidation Accuracy: 0.710400\n",
            "Epoch: 12 \tTraining Loss: 0.013425 \tTraining Accuracy: 0.911247 \tValidation Loss: 0.063279 \tValidation Accuracy: 0.680133\n",
            "Epoch: 13 \tTraining Loss: 0.011509 \tTraining Accuracy: 0.925388 \tValidation Loss: 0.053092 \tValidation Accuracy: 0.722933\n",
            "Epoch: 14 \tTraining Loss: 0.009615 \tTraining Accuracy: 0.938518 \tValidation Loss: 0.054931 \tValidation Accuracy: 0.721333\n",
            "Epoch: 15 \tTraining Loss: 0.008360 \tTraining Accuracy: 0.946682 \tValidation Loss: 0.058077 \tValidation Accuracy: 0.711333\n",
            "Epoch: 16 \tTraining Loss: 0.007257 \tTraining Accuracy: 0.955271 \tValidation Loss: 0.058856 \tValidation Accuracy: 0.721600\n",
            "Epoch: 17 \tTraining Loss: 0.006459 \tTraining Accuracy: 0.960729 \tValidation Loss: 0.060011 \tValidation Accuracy: 0.721867\n",
            "Epoch: 18 \tTraining Loss: 0.007384 \tTraining Accuracy: 0.954706 \tValidation Loss: 0.060865 \tValidation Accuracy: 0.718000\n",
            "Epoch: 19 \tTraining Loss: 0.005552 \tTraining Accuracy: 0.968212 \tValidation Loss: 0.062607 \tValidation Accuracy: 0.727333\n"
          ]
        }
      ],
      "source": [
        "train_loss_RESNET_L2_lambda1, train_acc_RESNET_L2_lambda1, valid_loss_RESNET_L2_lambda1, valid_acc_RESNET_L2_lambda1, time_RESNET_L2_lambda1 = train(model_RESNET_L2_lambda1, lambda_reg, n_epochs, criterion, optimizer, norm, 'model_RESNET_L2_lambda1', train_on_gpu)"
      ]
    },
    {
      "cell_type": "code",
      "execution_count": null,
      "metadata": {
        "id": "lk0-x_i_Inij",
        "colab": {
          "base_uri": "https://localhost:8080/"
        },
        "outputId": "dc2c4eee-6ad6-453b-8cc5-6b46cf732a4d"
      },
      "outputs": [
        {
          "output_type": "stream",
          "name": "stdout",
          "text": [
            "Test Loss: 0.044352\n",
            "\n",
            "Test Accuracy of airplane: 77% (770/1000)\n",
            "Test Accuracy of automobile: 72% (725/1000)\n",
            "Test Accuracy of  bird: 50% (504/1000)\n",
            "Test Accuracy of   cat: 49% (496/1000)\n",
            "Test Accuracy of  deer: 75% (758/1000)\n",
            "Test Accuracy of   dog: 64% (648/1000)\n",
            "Test Accuracy of  frog: 72% (720/1000)\n",
            "Test Accuracy of horse: 76% (763/1000)\n",
            "Test Accuracy of  ship: 85% (851/1000)\n",
            "Test Accuracy of truck: 85% (852/1000)\n",
            "\n",
            "Test Accuracy (Overall): 70% (7087/10000)\n"
          ]
        }
      ],
      "source": [
        "test_loss_RESNET_L2_lambda1, class_correct_RESNET_L2_lambda1, class_total_RESNET_L2_lambda1, test_acc_RESNET_L2_lambda1 = test(model_RESNET_L2_lambda1, lambda_reg, n_epochs, criterion, optimizer, norm, 'model_RESNET_L2_lambda1', train_on_gpu)"
      ]
    },
    {
      "cell_type": "code",
      "execution_count": null,
      "metadata": {
        "id": "LkbSLyLL5pk4"
      },
      "outputs": [],
      "source": [
        "arrs = [train_loss_RESNET_L2_lambda1, train_acc_RESNET_L2_lambda1, valid_loss_RESNET_L2_lambda1, valid_acc_RESNET_L2_lambda1, time_RESNET_L2_lambda1, test_loss_RESNET_L2_lambda1, class_correct_RESNET_L2_lambda1, class_total_RESNET_L2_lambda1, test_acc_RESNET_L2_lambda1]"
      ]
    },
    {
      "cell_type": "code",
      "execution_count": null,
      "metadata": {
        "colab": {
          "base_uri": "https://localhost:8080/"
        },
        "outputId": "e5a06e25-6a40-4bde-c1f7-27b7c8f0a226",
        "id": "p4PSeYO35pk4"
      },
      "outputs": [
        {
          "output_type": "stream",
          "name": "stderr",
          "text": [
            "<ipython-input-13-b3a6eac2ef9e>:5: VisibleDeprecationWarning: Creating an ndarray from ragged nested sequences (which is a list-or-tuple of lists-or-tuples-or ndarrays with different lengths or shapes) is deprecated. If you meant to do this, you must specify 'dtype=object' when creating the ndarray.\n",
            "  df = pd.DataFrame(np.array(arrs), index = ['train_loss', 'train_acc', 'val_loss', 'val_acc', 'time', 'test_loss', 'test_correct', 'test_total', 'test_acc'])\n"
          ]
        }
      ],
      "source": [
        "save_results(arrs, \"RESNET_L2_lambda1\")"
      ]
    },
    {
      "cell_type": "markdown",
      "metadata": {
        "id": "i_2SqwZCInij"
      },
      "source": [
        "#### DenseNet121"
      ]
    },
    {
      "cell_type": "code",
      "execution_count": null,
      "metadata": {
        "id": "PkMp05cfInij",
        "colab": {
          "base_uri": "https://localhost:8080/"
        },
        "outputId": "06ebcdb6-5a79-4a24-e9f1-6547c22f6bc6"
      },
      "outputs": [
        {
          "output_type": "stream",
          "name": "stderr",
          "text": [
            "Using cache found in /root/.cache/torch/hub/pytorch_vision_v0.10.0\n",
            "/usr/local/lib/python3.10/dist-packages/torchvision/models/_utils.py:208: UserWarning: The parameter 'pretrained' is deprecated since 0.13 and may be removed in the future, please use 'weights' instead.\n",
            "  warnings.warn(\n",
            "/usr/local/lib/python3.10/dist-packages/torchvision/models/_utils.py:223: UserWarning: Arguments other than a weight enum or `None` for 'weights' are deprecated since 0.13 and may be removed in the future. The current behavior is equivalent to passing `weights=None`.\n",
            "  warnings.warn(msg)\n"
          ]
        }
      ],
      "source": [
        "model_DNN_L2_lambda1 = torch.hub.load('pytorch/vision:v0.10.0', 'densenet121', pretrained=False)\n",
        "\n",
        "criterion = CustomLoss()\n",
        "optimizer = optim.SGD(params=model_DNN_L2_lambda1.parameters(), lr = 0.03)"
      ]
    },
    {
      "cell_type": "code",
      "execution_count": null,
      "metadata": {
        "id": "EdkkfGfZInij",
        "colab": {
          "base_uri": "https://localhost:8080/"
        },
        "outputId": "e07702f2-d87f-4910-abe3-ac04b17d8440"
      },
      "outputs": [
        {
          "output_type": "stream",
          "name": "stdout",
          "text": [
            "Epoch: 0 \tTraining Loss: 0.086744 \tTraining Accuracy: 0.393059 \tValidation Loss: 0.073573 \tValidation Accuracy: 0.479333\n",
            "Validation loss decreased (inf --> 0.073573).  Saving model ...\n",
            "Epoch: 1 \tTraining Loss: 0.066726 \tTraining Accuracy: 0.537835 \tValidation Loss: 0.061150 \tValidation Accuracy: 0.578000\n",
            "Validation loss decreased (0.073573 --> 0.061150).  Saving model ...\n",
            "Epoch: 2 \tTraining Loss: 0.055504 \tTraining Accuracy: 0.617224 \tValidation Loss: 0.063771 \tValidation Accuracy: 0.574133\n",
            "Epoch: 3 \tTraining Loss: 0.047659 \tTraining Accuracy: 0.672071 \tValidation Loss: 0.048363 \tValidation Accuracy: 0.669600\n",
            "Validation loss decreased (0.061150 --> 0.048363).  Saving model ...\n",
            "Epoch: 4 \tTraining Loss: 0.041630 \tTraining Accuracy: 0.715835 \tValidation Loss: 0.046452 \tValidation Accuracy: 0.688267\n",
            "Validation loss decreased (0.048363 --> 0.046452).  Saving model ...\n",
            "Epoch: 5 \tTraining Loss: 0.036436 \tTraining Accuracy: 0.752871 \tValidation Loss: 0.047493 \tValidation Accuracy: 0.689067\n",
            "Epoch: 6 \tTraining Loss: 0.032379 \tTraining Accuracy: 0.782941 \tValidation Loss: 0.048845 \tValidation Accuracy: 0.692667\n",
            "Epoch: 7 \tTraining Loss: 0.028082 \tTraining Accuracy: 0.810988 \tValidation Loss: 0.045174 \tValidation Accuracy: 0.722000\n",
            "Validation loss decreased (0.046452 --> 0.045174).  Saving model ...\n",
            "Epoch: 8 \tTraining Loss: 0.024542 \tTraining Accuracy: 0.836612 \tValidation Loss: 0.049585 \tValidation Accuracy: 0.699600\n",
            "Epoch: 9 \tTraining Loss: 0.021577 \tTraining Accuracy: 0.857929 \tValidation Loss: 0.046815 \tValidation Accuracy: 0.716533\n",
            "Epoch: 10 \tTraining Loss: 0.018951 \tTraining Accuracy: 0.874894 \tValidation Loss: 0.045121 \tValidation Accuracy: 0.736000\n",
            "Validation loss decreased (0.045174 --> 0.045121).  Saving model ...\n",
            "Epoch: 11 \tTraining Loss: 0.016327 \tTraining Accuracy: 0.894541 \tValidation Loss: 0.048537 \tValidation Accuracy: 0.732667\n",
            "Epoch: 12 \tTraining Loss: 0.014094 \tTraining Accuracy: 0.907647 \tValidation Loss: 0.051867 \tValidation Accuracy: 0.713733\n",
            "Epoch: 13 \tTraining Loss: 0.012924 \tTraining Accuracy: 0.917059 \tValidation Loss: 0.049189 \tValidation Accuracy: 0.743333\n",
            "Epoch: 14 \tTraining Loss: 0.011093 \tTraining Accuracy: 0.931859 \tValidation Loss: 0.049394 \tValidation Accuracy: 0.741600\n",
            "Epoch: 15 \tTraining Loss: 0.009684 \tTraining Accuracy: 0.940988 \tValidation Loss: 0.051864 \tValidation Accuracy: 0.743067\n",
            "Epoch: 16 \tTraining Loss: 0.009497 \tTraining Accuracy: 0.942188 \tValidation Loss: 0.050618 \tValidation Accuracy: 0.752400\n",
            "Epoch: 17 \tTraining Loss: 0.008396 \tTraining Accuracy: 0.949200 \tValidation Loss: 0.055973 \tValidation Accuracy: 0.736400\n",
            "Epoch: 18 \tTraining Loss: 0.006973 \tTraining Accuracy: 0.960800 \tValidation Loss: 0.053706 \tValidation Accuracy: 0.757200\n",
            "Epoch: 19 \tTraining Loss: 0.006706 \tTraining Accuracy: 0.962494 \tValidation Loss: 0.056453 \tValidation Accuracy: 0.739600\n"
          ]
        }
      ],
      "source": [
        "train_loss_DNN_L2_lambda1, train_acc_DNN_L2_lambda1, valid_loss_DNN_L2_lambda1, valid_acc_DNN_L2_lambda1, time_DNN_L2_lambda1 = train(model_DNN_L2_lambda1, lambda_reg, n_epochs, criterion, optimizer, norm, 'model_DNN_L2_lambda1', train_on_gpu)"
      ]
    },
    {
      "cell_type": "code",
      "execution_count": null,
      "metadata": {
        "id": "EQY-T5hVInik",
        "colab": {
          "base_uri": "https://localhost:8080/"
        },
        "outputId": "2b7cc8a4-6c55-4eb9-c54e-53ae5ab7cef2"
      },
      "outputs": [
        {
          "output_type": "stream",
          "name": "stdout",
          "text": [
            "Test Loss: 0.047045\n",
            "\n",
            "Test Accuracy of airplane: 86% (869/1000)\n",
            "Test Accuracy of automobile: 84% (848/1000)\n",
            "Test Accuracy of  bird: 54% (544/1000)\n",
            "Test Accuracy of   cat: 50% (506/1000)\n",
            "Test Accuracy of  deer: 59% (596/1000)\n",
            "Test Accuracy of   dog: 70% (704/1000)\n",
            "Test Accuracy of  frog: 89% (892/1000)\n",
            "Test Accuracy of horse: 72% (725/1000)\n",
            "Test Accuracy of  ship: 81% (818/1000)\n",
            "Test Accuracy of truck: 79% (793/1000)\n",
            "\n",
            "Test Accuracy (Overall): 72% (7295/10000)\n"
          ]
        }
      ],
      "source": [
        "test_loss_DNN_L2_lambda1, class_correct_DNN_L2_lambda1, class_total_DNN_L2_lambda1, test_acc_DNN_L2_lambda1 = test(model_DNN_L2_lambda1, lambda_reg, n_epochs, criterion, optimizer, norm, 'model_DNN_L2_lambda1', train_on_gpu)"
      ]
    },
    {
      "cell_type": "code",
      "execution_count": null,
      "metadata": {
        "id": "lgpJYk7351U4"
      },
      "outputs": [],
      "source": [
        "arrs = [train_loss_DNN_L2_lambda1, train_acc_DNN_L2_lambda1, valid_loss_DNN_L2_lambda1, valid_acc_DNN_L2_lambda1, time_DNN_L2_lambda1, test_loss_DNN_L2_lambda1, class_correct_DNN_L2_lambda1, class_total_DNN_L2_lambda1, test_acc_DNN_L2_lambda1]"
      ]
    },
    {
      "cell_type": "code",
      "execution_count": null,
      "metadata": {
        "colab": {
          "base_uri": "https://localhost:8080/"
        },
        "outputId": "77b1448a-8080-48c0-e521-a52daddfa3da",
        "id": "2-bhQaVy51U4"
      },
      "outputs": [
        {
          "output_type": "stream",
          "name": "stderr",
          "text": [
            "<ipython-input-13-b3a6eac2ef9e>:5: VisibleDeprecationWarning: Creating an ndarray from ragged nested sequences (which is a list-or-tuple of lists-or-tuples-or ndarrays with different lengths or shapes) is deprecated. If you meant to do this, you must specify 'dtype=object' when creating the ndarray.\n",
            "  df = pd.DataFrame(np.array(arrs), index = ['train_loss', 'train_acc', 'val_loss', 'val_acc', 'time', 'test_loss', 'test_correct', 'test_total', 'test_acc'])\n"
          ]
        }
      ],
      "source": [
        "save_results(arrs, \"DNN_L2_lambda1\")"
      ]
    },
    {
      "cell_type": "markdown",
      "metadata": {
        "id": "Zn-0qRSQInik"
      },
      "source": [
        "### $\\lambda_{2} = 10^{-3}$"
      ]
    },
    {
      "cell_type": "code",
      "execution_count": null,
      "metadata": {
        "id": "iz7u09AXInik"
      },
      "outputs": [],
      "source": [
        "lambda_reg = 1e-3"
      ]
    },
    {
      "cell_type": "markdown",
      "metadata": {
        "id": "vdFK_v0XInik"
      },
      "source": [
        "#### MLP"
      ]
    },
    {
      "cell_type": "code",
      "execution_count": null,
      "metadata": {
        "id": "rrj6jWFwInik"
      },
      "outputs": [],
      "source": [
        "model_MLP_L2_lambda2 = MLP()\n",
        "\n",
        "criterion = CustomLoss()\n",
        "optimizer = optim.SGD(params = model_MLP_L2_lambda2.parameters(), lr = 0.03)"
      ]
    },
    {
      "cell_type": "code",
      "execution_count": null,
      "metadata": {
        "colab": {
          "base_uri": "https://localhost:8080/"
        },
        "id": "AS3bDvgQInik",
        "outputId": "ee9986e6-5160-456b-dccf-6341d347640e"
      },
      "outputs": [
        {
          "name": "stdout",
          "output_type": "stream",
          "text": [
            "Epoch: 0 \tTraining Loss: 0.139983 \tTraining Accuracy: 0.317365 \tValidation Loss: 0.126712 \tValidation Accuracy: 0.383333\n",
            "Validation loss decreased (inf --> 0.126712).  Saving model ...\n",
            "Epoch: 1 \tTraining Loss: 0.121371 \tTraining Accuracy: 0.397082 \tValidation Loss: 0.115826 \tValidation Accuracy: 0.410133\n",
            "Validation loss decreased (0.126712 --> 0.115826).  Saving model ...\n",
            "Epoch: 2 \tTraining Loss: 0.110498 \tTraining Accuracy: 0.425859 \tValidation Loss: 0.106793 \tValidation Accuracy: 0.418000\n",
            "Validation loss decreased (0.115826 --> 0.106793).  Saving model ...\n",
            "Epoch: 3 \tTraining Loss: 0.102716 \tTraining Accuracy: 0.446918 \tValidation Loss: 0.099995 \tValidation Accuracy: 0.444800\n",
            "Validation loss decreased (0.106793 --> 0.099995).  Saving model ...\n",
            "Epoch: 4 \tTraining Loss: 0.096816 \tTraining Accuracy: 0.459129 \tValidation Loss: 0.101729 \tValidation Accuracy: 0.403867\n",
            "Epoch: 5 \tTraining Loss: 0.092323 \tTraining Accuracy: 0.472047 \tValidation Loss: 0.091202 \tValidation Accuracy: 0.468133\n",
            "Validation loss decreased (0.099995 --> 0.091202).  Saving model ...\n",
            "Epoch: 6 \tTraining Loss: 0.088852 \tTraining Accuracy: 0.482071 \tValidation Loss: 0.086855 \tValidation Accuracy: 0.499200\n",
            "Validation loss decreased (0.091202 --> 0.086855).  Saving model ...\n",
            "Epoch: 7 \tTraining Loss: 0.086141 \tTraining Accuracy: 0.491200 \tValidation Loss: 0.090807 \tValidation Accuracy: 0.443867\n",
            "Epoch: 8 \tTraining Loss: 0.083908 \tTraining Accuracy: 0.499176 \tValidation Loss: 0.083199 \tValidation Accuracy: 0.504800\n",
            "Validation loss decreased (0.086855 --> 0.083199).  Saving model ...\n",
            "Epoch: 9 \tTraining Loss: 0.082365 \tTraining Accuracy: 0.503224 \tValidation Loss: 0.085204 \tValidation Accuracy: 0.484933\n",
            "Epoch: 10 \tTraining Loss: 0.081261 \tTraining Accuracy: 0.507694 \tValidation Loss: 0.083866 \tValidation Accuracy: 0.488400\n",
            "Epoch: 11 \tTraining Loss: 0.080281 \tTraining Accuracy: 0.513459 \tValidation Loss: 0.085017 \tValidation Accuracy: 0.486133\n",
            "Epoch: 12 \tTraining Loss: 0.079327 \tTraining Accuracy: 0.521082 \tValidation Loss: 0.083327 \tValidation Accuracy: 0.492800\n",
            "Epoch: 13 \tTraining Loss: 0.078622 \tTraining Accuracy: 0.524353 \tValidation Loss: 0.082224 \tValidation Accuracy: 0.502267\n",
            "Validation loss decreased (0.083199 --> 0.082224).  Saving model ...\n",
            "Epoch: 14 \tTraining Loss: 0.078334 \tTraining Accuracy: 0.526706 \tValidation Loss: 0.085373 \tValidation Accuracy: 0.478000\n",
            "Epoch: 15 \tTraining Loss: 0.077641 \tTraining Accuracy: 0.532494 \tValidation Loss: 0.080823 \tValidation Accuracy: 0.504800\n",
            "Validation loss decreased (0.082224 --> 0.080823).  Saving model ...\n",
            "Epoch: 16 \tTraining Loss: 0.077380 \tTraining Accuracy: 0.536824 \tValidation Loss: 0.085327 \tValidation Accuracy: 0.483200\n",
            "Epoch: 17 \tTraining Loss: 0.077043 \tTraining Accuracy: 0.542306 \tValidation Loss: 0.083174 \tValidation Accuracy: 0.490133\n",
            "Epoch: 18 \tTraining Loss: 0.076715 \tTraining Accuracy: 0.542918 \tValidation Loss: 0.082094 \tValidation Accuracy: 0.502400\n",
            "Epoch: 19 \tTraining Loss: 0.076464 \tTraining Accuracy: 0.546471 \tValidation Loss: 0.087110 \tValidation Accuracy: 0.485867\n"
          ]
        }
      ],
      "source": [
        "train_loss_MLP_L2_lambda2, train_acc_MLP_L2_lambda2, valid_loss_MLP_L2_lambda2, valid_acc_MLP_L2_lambda2, time_MLP_L2_lambda2 = train(model_MLP_L2_lambda2, lambda_reg, n_epochs, criterion, optimizer, norm, 'model_MLP_L2_lambda2', train_on_gpu)"
      ]
    },
    {
      "cell_type": "code",
      "execution_count": null,
      "metadata": {
        "colab": {
          "base_uri": "https://localhost:8080/"
        },
        "id": "soh3BgvpInik",
        "outputId": "4397570e-d0ea-4d9e-adc1-803103657148"
      },
      "outputs": [
        {
          "name": "stdout",
          "output_type": "stream",
          "text": [
            "Test Loss: 0.081214\n",
            "\n",
            "Test Accuracy of airplane: 64% (648/1000)\n",
            "Test Accuracy of automobile: 49% (498/1000)\n",
            "Test Accuracy of  bird: 26% (260/1000)\n",
            "Test Accuracy of   cat: 28% (281/1000)\n",
            "Test Accuracy of  deer: 47% (470/1000)\n",
            "Test Accuracy of   dog: 32% (326/1000)\n",
            "Test Accuracy of  frog: 75% (757/1000)\n",
            "Test Accuracy of horse: 69% (695/1000)\n",
            "Test Accuracy of  ship: 59% (598/1000)\n",
            "Test Accuracy of truck: 58% (581/1000)\n",
            "\n",
            "Test Accuracy (Overall): 51% (5114/10000)\n"
          ]
        }
      ],
      "source": [
        "test_loss_MLP_L2_lambda2, class_correct_MLP_L2_lambda2, class_total_MLP_L2_lambda2, test_acc_MLP_L2_lambda2 = test(model_MLP_L2_lambda2, lambda_reg, n_epochs, criterion, optimizer, norm, 'model_MLP_L2_lambda2', train_on_gpu)"
      ]
    },
    {
      "cell_type": "code",
      "execution_count": null,
      "metadata": {
        "id": "IyawXh-rT3vc"
      },
      "outputs": [],
      "source": [
        "arrs = [train_loss_MLP_L2_lambda2, train_acc_MLP_L2_lambda2, valid_loss_MLP_L2_lambda2, valid_acc_MLP_L2_lambda2, time_MLP_L2_lambda2, test_loss_MLP_L2_lambda2, class_correct_MLP_L2_lambda2, class_total_MLP_L2_lambda2, test_acc_MLP_L2_lambda2]"
      ]
    },
    {
      "cell_type": "code",
      "execution_count": null,
      "metadata": {
        "colab": {
          "base_uri": "https://localhost:8080/"
        },
        "id": "JCFR3v4DT3vc",
        "outputId": "cd8f0fa0-fb1d-45f5-b0f7-d9cdb5423354"
      },
      "outputs": [
        {
          "name": "stderr",
          "output_type": "stream",
          "text": [
            "<ipython-input-25-b3a6eac2ef9e>:5: VisibleDeprecationWarning: Creating an ndarray from ragged nested sequences (which is a list-or-tuple of lists-or-tuples-or ndarrays with different lengths or shapes) is deprecated. If you meant to do this, you must specify 'dtype=object' when creating the ndarray.\n",
            "  df = pd.DataFrame(np.array(arrs), index = ['train_loss', 'train_acc', 'val_loss', 'val_acc', 'time', 'test_loss', 'test_correct', 'test_total', 'test_acc'])\n"
          ]
        }
      ],
      "source": [
        "save_results(arrs, \"MLP_L2_lambda2\")"
      ]
    },
    {
      "cell_type": "markdown",
      "metadata": {
        "id": "BCGZBggjInik"
      },
      "source": [
        "#### CNN"
      ]
    },
    {
      "cell_type": "code",
      "execution_count": null,
      "metadata": {
        "id": "ttdwDz-0Inik"
      },
      "outputs": [],
      "source": [
        "model_CNN_L2_lambda2 = CNN()\n",
        "\n",
        "criterion = CustomLoss()\n",
        "optimizer = optim.SGD(params=model_CNN_L2_lambda2.parameters(), lr = 0.03)"
      ]
    },
    {
      "cell_type": "code",
      "execution_count": null,
      "metadata": {
        "colab": {
          "base_uri": "https://localhost:8080/"
        },
        "id": "444620pSInik",
        "outputId": "641592b8-719c-46d6-aa4c-9f65bef18913"
      },
      "outputs": [
        {
          "name": "stdout",
          "output_type": "stream",
          "text": [
            "Epoch: 0 \tTraining Loss: 0.105620 \tTraining Accuracy: 0.267200 \tValidation Loss: 0.085530 \tValidation Accuracy: 0.411733\n",
            "Validation loss decreased (inf --> 0.085530).  Saving model ...\n",
            "Epoch: 1 \tTraining Loss: 0.081512 \tTraining Accuracy: 0.455765 \tValidation Loss: 0.078061 \tValidation Accuracy: 0.475733\n",
            "Validation loss decreased (0.085530 --> 0.078061).  Saving model ...\n",
            "Epoch: 2 \tTraining Loss: 0.072539 \tTraining Accuracy: 0.530753 \tValidation Loss: 0.069774 \tValidation Accuracy: 0.547467\n",
            "Validation loss decreased (0.078061 --> 0.069774).  Saving model ...\n",
            "Epoch: 3 \tTraining Loss: 0.065635 \tTraining Accuracy: 0.589200 \tValidation Loss: 0.062296 \tValidation Accuracy: 0.625200\n",
            "Validation loss decreased (0.069774 --> 0.062296).  Saving model ...\n",
            "Epoch: 4 \tTraining Loss: 0.060492 \tTraining Accuracy: 0.636329 \tValidation Loss: 0.060410 \tValidation Accuracy: 0.636667\n",
            "Validation loss decreased (0.062296 --> 0.060410).  Saving model ...\n",
            "Epoch: 5 \tTraining Loss: 0.056838 \tTraining Accuracy: 0.667859 \tValidation Loss: 0.057537 \tValidation Accuracy: 0.662933\n",
            "Validation loss decreased (0.060410 --> 0.057537).  Saving model ...\n",
            "Epoch: 6 \tTraining Loss: 0.054178 \tTraining Accuracy: 0.693718 \tValidation Loss: 0.056659 \tValidation Accuracy: 0.679467\n",
            "Validation loss decreased (0.057537 --> 0.056659).  Saving model ...\n",
            "Epoch: 7 \tTraining Loss: 0.052026 \tTraining Accuracy: 0.715176 \tValidation Loss: 0.059071 \tValidation Accuracy: 0.668267\n",
            "Epoch: 8 \tTraining Loss: 0.050098 \tTraining Accuracy: 0.736871 \tValidation Loss: 0.054748 \tValidation Accuracy: 0.704267\n",
            "Validation loss decreased (0.056659 --> 0.054748).  Saving model ...\n",
            "Epoch: 9 \tTraining Loss: 0.048575 \tTraining Accuracy: 0.753247 \tValidation Loss: 0.056375 \tValidation Accuracy: 0.703333\n",
            "Epoch: 10 \tTraining Loss: 0.047245 \tTraining Accuracy: 0.767388 \tValidation Loss: 0.055617 \tValidation Accuracy: 0.716933\n",
            "Epoch: 11 \tTraining Loss: 0.046412 \tTraining Accuracy: 0.778071 \tValidation Loss: 0.057078 \tValidation Accuracy: 0.715467\n",
            "Epoch: 12 \tTraining Loss: 0.045267 \tTraining Accuracy: 0.794329 \tValidation Loss: 0.063082 \tValidation Accuracy: 0.681333\n",
            "Epoch: 13 \tTraining Loss: 0.044479 \tTraining Accuracy: 0.805576 \tValidation Loss: 0.059040 \tValidation Accuracy: 0.724267\n",
            "Epoch: 14 \tTraining Loss: 0.043741 \tTraining Accuracy: 0.818071 \tValidation Loss: 0.060408 \tValidation Accuracy: 0.715067\n",
            "Epoch: 15 \tTraining Loss: 0.042975 \tTraining Accuracy: 0.829953 \tValidation Loss: 0.061569 \tValidation Accuracy: 0.715333\n",
            "Epoch: 16 \tTraining Loss: 0.042370 \tTraining Accuracy: 0.838753 \tValidation Loss: 0.063617 \tValidation Accuracy: 0.709067\n",
            "Epoch: 17 \tTraining Loss: 0.041890 \tTraining Accuracy: 0.848659 \tValidation Loss: 0.061687 \tValidation Accuracy: 0.721867\n",
            "Epoch: 18 \tTraining Loss: 0.041180 \tTraining Accuracy: 0.857106 \tValidation Loss: 0.066136 \tValidation Accuracy: 0.709733\n",
            "Epoch: 19 \tTraining Loss: 0.041100 \tTraining Accuracy: 0.866212 \tValidation Loss: 0.069712 \tValidation Accuracy: 0.702533\n"
          ]
        }
      ],
      "source": [
        "train_loss_CNN_L2_lambda2, train_acc_CNN_L2_lambda2, valid_loss_CNN_L2_lambda2, valid_acc_CNN_L2_lambda2, time_CNN_L2_lambda2 = train(model_CNN_L2_lambda2, lambda_reg, n_epochs, criterion, optimizer, norm, 'model_CNN_L2_lambda2', train_on_gpu)"
      ]
    },
    {
      "cell_type": "code",
      "execution_count": null,
      "metadata": {
        "colab": {
          "base_uri": "https://localhost:8080/"
        },
        "id": "aEOUoY2zInik",
        "outputId": "d0361c8d-e376-4fbd-94c1-a575992b536e"
      },
      "outputs": [
        {
          "name": "stdout",
          "output_type": "stream",
          "text": [
            "Test Loss: 0.055673\n",
            "\n",
            "Test Accuracy of airplane: 75% (750/1000)\n",
            "Test Accuracy of automobile: 81% (815/1000)\n",
            "Test Accuracy of  bird: 58% (585/1000)\n",
            "Test Accuracy of   cat: 49% (490/1000)\n",
            "Test Accuracy of  deer: 65% (651/1000)\n",
            "Test Accuracy of   dog: 59% (598/1000)\n",
            "Test Accuracy of  frog: 78% (781/1000)\n",
            "Test Accuracy of horse: 72% (724/1000)\n",
            "Test Accuracy of  ship: 89% (896/1000)\n",
            "Test Accuracy of truck: 73% (734/1000)\n",
            "\n",
            "Test Accuracy (Overall): 70% (7024/10000)\n"
          ]
        }
      ],
      "source": [
        "test_loss_CNN_L2_lambda2, class_correct_CNN_L2_lambda2, class_total_CNN_L2_lambda2, test_acc_CNN_L2_lambda2 = test(model_CNN_L2_lambda2, lambda_reg, n_epochs, criterion, optimizer, norm, 'model_CNN_L2_lambda2', train_on_gpu)"
      ]
    },
    {
      "cell_type": "code",
      "execution_count": null,
      "metadata": {
        "id": "bHeoTUKcT_6K"
      },
      "outputs": [],
      "source": [
        "arrs = [train_loss_CNN_L2_lambda2, train_acc_CNN_L2_lambda2, valid_loss_CNN_L2_lambda2, valid_acc_CNN_L2_lambda2, time_CNN_L2_lambda2, test_loss_CNN_L2_lambda2, class_correct_CNN_L2_lambda2, class_total_CNN_L2_lambda2, test_acc_CNN_L2_lambda2]"
      ]
    },
    {
      "cell_type": "code",
      "execution_count": null,
      "metadata": {
        "colab": {
          "base_uri": "https://localhost:8080/"
        },
        "id": "u1XZaUPLT_6L",
        "outputId": "995d573d-327e-4fe5-fd34-0794942e3926"
      },
      "outputs": [
        {
          "name": "stderr",
          "output_type": "stream",
          "text": [
            "<ipython-input-25-b3a6eac2ef9e>:5: VisibleDeprecationWarning: Creating an ndarray from ragged nested sequences (which is a list-or-tuple of lists-or-tuples-or ndarrays with different lengths or shapes) is deprecated. If you meant to do this, you must specify 'dtype=object' when creating the ndarray.\n",
            "  df = pd.DataFrame(np.array(arrs), index = ['train_loss', 'train_acc', 'val_loss', 'val_acc', 'time', 'test_loss', 'test_correct', 'test_total', 'test_acc'])\n"
          ]
        }
      ],
      "source": [
        "save_results(arrs, \"CNN_L2_lambda2\")"
      ]
    },
    {
      "cell_type": "markdown",
      "metadata": {
        "id": "t4S0tlg4Inil"
      },
      "source": [
        "#### ResNet34"
      ]
    },
    {
      "cell_type": "code",
      "execution_count": null,
      "metadata": {
        "id": "6zIlcl3kInil",
        "colab": {
          "base_uri": "https://localhost:8080/"
        },
        "outputId": "5c9a81e4-4189-4c7b-c266-64632d66b9e6"
      },
      "outputs": [
        {
          "output_type": "stream",
          "name": "stderr",
          "text": [
            "Using cache found in /root/.cache/torch/hub/pytorch_vision_v0.10.0\n",
            "/usr/local/lib/python3.10/dist-packages/torchvision/models/_utils.py:208: UserWarning: The parameter 'pretrained' is deprecated since 0.13 and may be removed in the future, please use 'weights' instead.\n",
            "  warnings.warn(\n",
            "/usr/local/lib/python3.10/dist-packages/torchvision/models/_utils.py:223: UserWarning: Arguments other than a weight enum or `None` for 'weights' are deprecated since 0.13 and may be removed in the future. The current behavior is equivalent to passing `weights=None`.\n",
            "  warnings.warn(msg)\n"
          ]
        }
      ],
      "source": [
        "model_RESNET_L2_lambda2 = torch.hub.load('pytorch/vision:v0.10.0', 'resnet34', pretrained=False)\n",
        "\n",
        "criterion = CustomLoss()\n",
        "optimizer = optim.SGD(params = model_RESNET_L2_lambda2.parameters(), lr = 0.03)"
      ]
    },
    {
      "cell_type": "code",
      "execution_count": null,
      "metadata": {
        "id": "KbFmsm8QInil",
        "colab": {
          "base_uri": "https://localhost:8080/"
        },
        "outputId": "ec64414d-7513-4c32-8dba-a9949d80913c"
      },
      "outputs": [
        {
          "output_type": "stream",
          "name": "stdout",
          "text": [
            "Epoch: 0 \tTraining Loss: 0.095335 \tTraining Accuracy: 0.390118 \tValidation Loss: 0.081945 \tValidation Accuracy: 0.463467\n",
            "Validation loss decreased (inf --> 0.081945).  Saving model ...\n",
            "Epoch: 1 \tTraining Loss: 0.073428 \tTraining Accuracy: 0.535271 \tValidation Loss: 0.119225 \tValidation Accuracy: 0.347733\n",
            "Epoch: 2 \tTraining Loss: 0.064488 \tTraining Accuracy: 0.601482 \tValidation Loss: 0.061497 \tValidation Accuracy: 0.617867\n",
            "Validation loss decreased (0.081945 --> 0.061497).  Saving model ...\n",
            "Epoch: 3 \tTraining Loss: 0.056528 \tTraining Accuracy: 0.660376 \tValidation Loss: 0.056299 \tValidation Accuracy: 0.653867\n",
            "Validation loss decreased (0.061497 --> 0.056299).  Saving model ...\n",
            "Epoch: 4 \tTraining Loss: 0.050258 \tTraining Accuracy: 0.703271 \tValidation Loss: 0.054770 \tValidation Accuracy: 0.681867\n",
            "Validation loss decreased (0.056299 --> 0.054770).  Saving model ...\n",
            "Epoch: 5 \tTraining Loss: 0.045278 \tTraining Accuracy: 0.740306 \tValidation Loss: 0.065083 \tValidation Accuracy: 0.632000\n",
            "Epoch: 6 \tTraining Loss: 0.040676 \tTraining Accuracy: 0.769882 \tValidation Loss: 0.052309 \tValidation Accuracy: 0.700667\n",
            "Validation loss decreased (0.054770 --> 0.052309).  Saving model ...\n",
            "Epoch: 7 \tTraining Loss: 0.036584 \tTraining Accuracy: 0.798235 \tValidation Loss: 0.049463 \tValidation Accuracy: 0.721067\n",
            "Validation loss decreased (0.052309 --> 0.049463).  Saving model ...\n",
            "Epoch: 8 \tTraining Loss: 0.032665 \tTraining Accuracy: 0.826894 \tValidation Loss: 0.052229 \tValidation Accuracy: 0.709867\n",
            "Epoch: 9 \tTraining Loss: 0.029264 \tTraining Accuracy: 0.849788 \tValidation Loss: 0.053866 \tValidation Accuracy: 0.713067\n",
            "Epoch: 10 \tTraining Loss: 0.026497 \tTraining Accuracy: 0.869553 \tValidation Loss: 0.064295 \tValidation Accuracy: 0.679333\n",
            "Epoch: 11 \tTraining Loss: 0.023213 \tTraining Accuracy: 0.892965 \tValidation Loss: 0.055313 \tValidation Accuracy: 0.727867\n",
            "Epoch: 12 \tTraining Loss: 0.021077 \tTraining Accuracy: 0.908447 \tValidation Loss: 0.053931 \tValidation Accuracy: 0.732267\n",
            "Epoch: 13 \tTraining Loss: 0.019733 \tTraining Accuracy: 0.916494 \tValidation Loss: 0.060307 \tValidation Accuracy: 0.716667\n",
            "Epoch: 14 \tTraining Loss: 0.017458 \tTraining Accuracy: 0.934188 \tValidation Loss: 0.060500 \tValidation Accuracy: 0.719867\n",
            "Epoch: 15 \tTraining Loss: 0.017029 \tTraining Accuracy: 0.935882 \tValidation Loss: 0.065547 \tValidation Accuracy: 0.716400\n",
            "Epoch: 16 \tTraining Loss: 0.015171 \tTraining Accuracy: 0.951459 \tValidation Loss: 0.065207 \tValidation Accuracy: 0.716400\n",
            "Epoch: 17 \tTraining Loss: 0.014184 \tTraining Accuracy: 0.957694 \tValidation Loss: 0.062446 \tValidation Accuracy: 0.728000\n",
            "Epoch: 18 \tTraining Loss: 0.013637 \tTraining Accuracy: 0.960565 \tValidation Loss: 0.070517 \tValidation Accuracy: 0.721200\n",
            "Epoch: 19 \tTraining Loss: 0.013182 \tTraining Accuracy: 0.964047 \tValidation Loss: 0.070587 \tValidation Accuracy: 0.723467\n"
          ]
        }
      ],
      "source": [
        "train_loss_RESNET_L2_lambda2, train_acc_RESNET_L2_lambda2, valid_loss_RESNET_L2_lambda2, valid_acc_RESNET_L2_lambda2, time_RESNET_L2_lambda2 = train(model_RESNET_L2_lambda2, lambda_reg, n_epochs, criterion, optimizer, norm, 'model_RESNET_L2_lambda2', train_on_gpu)"
      ]
    },
    {
      "cell_type": "code",
      "execution_count": null,
      "metadata": {
        "id": "Xm1lN8K2Inil",
        "colab": {
          "base_uri": "https://localhost:8080/"
        },
        "outputId": "43707eb7-f7c8-4e30-e65b-5296e8b3087d"
      },
      "outputs": [
        {
          "output_type": "stream",
          "name": "stdout",
          "text": [
            "Test Loss: 0.049877\n",
            "\n",
            "Test Accuracy of airplane: 76% (763/1000)\n",
            "Test Accuracy of automobile: 80% (805/1000)\n",
            "Test Accuracy of  bird: 62% (624/1000)\n",
            "Test Accuracy of   cat: 59% (594/1000)\n",
            "Test Accuracy of  deer: 73% (739/1000)\n",
            "Test Accuracy of   dog: 64% (648/1000)\n",
            "Test Accuracy of  frog: 63% (631/1000)\n",
            "Test Accuracy of horse: 70% (704/1000)\n",
            "Test Accuracy of  ship: 81% (814/1000)\n",
            "Test Accuracy of truck: 83% (832/1000)\n",
            "\n",
            "Test Accuracy (Overall): 71% (7154/10000)\n"
          ]
        }
      ],
      "source": [
        "test_loss_RESNET_L2_lambda2, class_correct_RESNET_L2_lambda2, class_total_RESNET_L2_lambda2, test_acc_RESNET_L2_lambda2 = test(model_RESNET_L2_lambda2, lambda_reg, n_epochs, criterion, optimizer, norm, 'model_RESNET_L2_lambda2', train_on_gpu)"
      ]
    },
    {
      "cell_type": "code",
      "execution_count": null,
      "metadata": {
        "id": "vb3sVjIsKuSo"
      },
      "outputs": [],
      "source": [
        "arrs = [train_loss_RESNET_L2_lambda2, train_acc_RESNET_L2_lambda2, valid_loss_RESNET_L2_lambda2, valid_acc_RESNET_L2_lambda2, time_RESNET_L2_lambda2, test_loss_RESNET_L2_lambda2, class_correct_RESNET_L2_lambda2, class_total_RESNET_L2_lambda2, test_acc_RESNET_L2_lambda2]"
      ]
    },
    {
      "cell_type": "code",
      "execution_count": null,
      "metadata": {
        "colab": {
          "base_uri": "https://localhost:8080/"
        },
        "outputId": "b429ca3d-b397-4dc7-e7a0-dea21475e318",
        "id": "k9gu_nJJKuSp"
      },
      "outputs": [
        {
          "output_type": "stream",
          "name": "stderr",
          "text": [
            "<ipython-input-13-b3a6eac2ef9e>:5: VisibleDeprecationWarning: Creating an ndarray from ragged nested sequences (which is a list-or-tuple of lists-or-tuples-or ndarrays with different lengths or shapes) is deprecated. If you meant to do this, you must specify 'dtype=object' when creating the ndarray.\n",
            "  df = pd.DataFrame(np.array(arrs), index = ['train_loss', 'train_acc', 'val_loss', 'val_acc', 'time', 'test_loss', 'test_correct', 'test_total', 'test_acc'])\n"
          ]
        }
      ],
      "source": [
        "save_results(arrs, \"RESNET_L2_lambda2\")"
      ]
    },
    {
      "cell_type": "markdown",
      "metadata": {
        "id": "QdrCLoFJInil"
      },
      "source": [
        "#### DenseNet121"
      ]
    },
    {
      "cell_type": "code",
      "execution_count": null,
      "metadata": {
        "colab": {
          "base_uri": "https://localhost:8080/"
        },
        "outputId": "93a9ac38-489b-4ca7-daa7-939bd9bd96fe",
        "id": "U05fTKTPHinT"
      },
      "outputs": [
        {
          "output_type": "stream",
          "name": "stderr",
          "text": [
            "Using cache found in /root/.cache/torch/hub/pytorch_vision_v0.10.0\n",
            "/usr/local/lib/python3.10/dist-packages/torchvision/models/_utils.py:208: UserWarning: The parameter 'pretrained' is deprecated since 0.13 and may be removed in the future, please use 'weights' instead.\n",
            "  warnings.warn(\n",
            "/usr/local/lib/python3.10/dist-packages/torchvision/models/_utils.py:223: UserWarning: Arguments other than a weight enum or `None` for 'weights' are deprecated since 0.13 and may be removed in the future. The current behavior is equivalent to passing `weights=None`.\n",
            "  warnings.warn(msg)\n"
          ]
        }
      ],
      "source": [
        "model_DNN_L2_lambda2 = torch.hub.load('pytorch/vision:v0.10.0', 'densenet121', pretrained=False)\n",
        "\n",
        "criterion = CustomLoss()\n",
        "optimizer = optim.SGD(params=model_DNN_L2_lambda2.parameters(), lr = 0.03)"
      ]
    },
    {
      "cell_type": "code",
      "execution_count": null,
      "metadata": {
        "colab": {
          "base_uri": "https://localhost:8080/"
        },
        "outputId": "aca928c4-94aa-4f15-f50c-dc1464aab63c",
        "id": "2CL_4lOLHinU"
      },
      "outputs": [
        {
          "output_type": "stream",
          "name": "stdout",
          "text": [
            "Epoch: 0 \tTraining Loss: 0.096727 \tTraining Accuracy: 0.404847 \tValidation Loss: 0.085040 \tValidation Accuracy: 0.484667\n",
            "Validation loss decreased (inf --> 0.085040).  Saving model ...\n",
            "Epoch: 1 \tTraining Loss: 0.076344 \tTraining Accuracy: 0.549224 \tValidation Loss: 0.092794 \tValidation Accuracy: 0.498667\n",
            "Epoch: 2 \tTraining Loss: 0.066153 \tTraining Accuracy: 0.622118 \tValidation Loss: 0.071144 \tValidation Accuracy: 0.589600\n",
            "Validation loss decreased (0.085040 --> 0.071144).  Saving model ...\n",
            "Epoch: 3 \tTraining Loss: 0.058309 \tTraining Accuracy: 0.679459 \tValidation Loss: 0.059508 \tValidation Accuracy: 0.673867\n",
            "Validation loss decreased (0.071144 --> 0.059508).  Saving model ...\n",
            "Epoch: 4 \tTraining Loss: 0.052081 \tTraining Accuracy: 0.722635 \tValidation Loss: 0.069775 \tValidation Accuracy: 0.629333\n",
            "Epoch: 5 \tTraining Loss: 0.047146 \tTraining Accuracy: 0.755741 \tValidation Loss: 0.061292 \tValidation Accuracy: 0.671733\n",
            "Epoch: 6 \tTraining Loss: 0.042487 \tTraining Accuracy: 0.790918 \tValidation Loss: 0.060975 \tValidation Accuracy: 0.690267\n",
            "Epoch: 7 \tTraining Loss: 0.038891 \tTraining Accuracy: 0.812565 \tValidation Loss: 0.059078 \tValidation Accuracy: 0.697733\n",
            "Validation loss decreased (0.059508 --> 0.059078).  Saving model ...\n",
            "Epoch: 8 \tTraining Loss: 0.034953 \tTraining Accuracy: 0.841600 \tValidation Loss: 0.055142 \tValidation Accuracy: 0.735600\n",
            "Validation loss decreased (0.059078 --> 0.055142).  Saving model ...\n",
            "Epoch: 9 \tTraining Loss: 0.031944 \tTraining Accuracy: 0.861976 \tValidation Loss: 0.069952 \tValidation Accuracy: 0.689600\n",
            "Epoch: 10 \tTraining Loss: 0.029621 \tTraining Accuracy: 0.879812 \tValidation Loss: 0.058786 \tValidation Accuracy: 0.723733\n",
            "Epoch: 11 \tTraining Loss: 0.026768 \tTraining Accuracy: 0.899576 \tValidation Loss: 0.063105 \tValidation Accuracy: 0.710000\n",
            "Epoch: 12 \tTraining Loss: 0.024680 \tTraining Accuracy: 0.915482 \tValidation Loss: 0.059504 \tValidation Accuracy: 0.738267\n",
            "Epoch: 13 \tTraining Loss: 0.023006 \tTraining Accuracy: 0.926871 \tValidation Loss: 0.059328 \tValidation Accuracy: 0.751200\n",
            "Epoch: 14 \tTraining Loss: 0.021946 \tTraining Accuracy: 0.933953 \tValidation Loss: 0.059811 \tValidation Accuracy: 0.751333\n",
            "Epoch: 15 \tTraining Loss: 0.020307 \tTraining Accuracy: 0.945082 \tValidation Loss: 0.063778 \tValidation Accuracy: 0.749733\n",
            "Epoch: 16 \tTraining Loss: 0.020022 \tTraining Accuracy: 0.947035 \tValidation Loss: 0.061274 \tValidation Accuracy: 0.754933\n",
            "Epoch: 17 \tTraining Loss: 0.019104 \tTraining Accuracy: 0.954729 \tValidation Loss: 0.061696 \tValidation Accuracy: 0.762800\n",
            "Epoch: 18 \tTraining Loss: 0.017944 \tTraining Accuracy: 0.962659 \tValidation Loss: 0.064546 \tValidation Accuracy: 0.755333\n",
            "Epoch: 19 \tTraining Loss: 0.017670 \tTraining Accuracy: 0.966282 \tValidation Loss: 0.066853 \tValidation Accuracy: 0.745733\n"
          ]
        }
      ],
      "source": [
        "train_loss_DNN_L2_lambda2, train_acc_DNN_L2_lambda2, valid_loss_DNN_L2_lambda2, valid_acc_DNN_L2_lambda2, time_DNN_L2_lambda2 = train(model_DNN_L2_lambda2, lambda_reg, n_epochs, criterion, optimizer, norm, 'model_DNN_L2_lambda2', train_on_gpu)"
      ]
    },
    {
      "cell_type": "code",
      "execution_count": null,
      "metadata": {
        "colab": {
          "base_uri": "https://localhost:8080/"
        },
        "outputId": "6641b8c5-4550-403e-cb53-eec575c98d38",
        "id": "zI1JiTQTHinU"
      },
      "outputs": [
        {
          "output_type": "stream",
          "name": "stdout",
          "text": [
            "Test Loss: 0.056266\n",
            "\n",
            "Test Accuracy of airplane: 80% (805/1000)\n",
            "Test Accuracy of automobile: 86% (866/1000)\n",
            "Test Accuracy of  bird: 61% (614/1000)\n",
            "Test Accuracy of   cat: 57% (570/1000)\n",
            "Test Accuracy of  deer: 64% (646/1000)\n",
            "Test Accuracy of   dog: 68% (687/1000)\n",
            "Test Accuracy of  frog: 80% (803/1000)\n",
            "Test Accuracy of horse: 69% (699/1000)\n",
            "Test Accuracy of  ship: 82% (829/1000)\n",
            "Test Accuracy of truck: 80% (806/1000)\n",
            "\n",
            "Test Accuracy (Overall): 73% (7325/10000)\n"
          ]
        }
      ],
      "source": [
        "test_loss_DNN_L2_lambda2, class_correct_DNN_L2_lambda2, class_total_DNN_L2_lambda2, test_acc_DNN_L2_lambda2 = test(model_DNN_L2_lambda2, lambda_reg, n_epochs, criterion, optimizer, norm, 'model_DNN_L2_lambda2', train_on_gpu)"
      ]
    },
    {
      "cell_type": "code",
      "execution_count": null,
      "metadata": {
        "id": "-tN49j3PK3Gg"
      },
      "outputs": [],
      "source": [
        "arrs = [train_loss_DNN_L2_lambda2, train_acc_DNN_L2_lambda2, valid_loss_DNN_L2_lambda2, valid_acc_DNN_L2_lambda2, time_DNN_L2_lambda2, test_loss_DNN_L2_lambda2, class_correct_DNN_L2_lambda2, class_total_DNN_L2_lambda2, test_acc_DNN_L2_lambda2]"
      ]
    },
    {
      "cell_type": "code",
      "execution_count": null,
      "metadata": {
        "colab": {
          "base_uri": "https://localhost:8080/"
        },
        "outputId": "3372ce5c-9997-47a1-f936-0f1dd482a659",
        "id": "XwGAFd_7K3Gg"
      },
      "outputs": [
        {
          "output_type": "stream",
          "name": "stderr",
          "text": [
            "<ipython-input-13-b3a6eac2ef9e>:5: VisibleDeprecationWarning: Creating an ndarray from ragged nested sequences (which is a list-or-tuple of lists-or-tuples-or ndarrays with different lengths or shapes) is deprecated. If you meant to do this, you must specify 'dtype=object' when creating the ndarray.\n",
            "  df = pd.DataFrame(np.array(arrs), index = ['train_loss', 'train_acc', 'val_loss', 'val_acc', 'time', 'test_loss', 'test_correct', 'test_total', 'test_acc'])\n"
          ]
        }
      ],
      "source": [
        "save_results(arrs, \"DNN_L2_lambda2\")"
      ]
    },
    {
      "cell_type": "markdown",
      "metadata": {
        "id": "GmtwESl_Inil"
      },
      "source": [
        "### $\\lambda_{3} = 10^{-3}$"
      ]
    },
    {
      "cell_type": "code",
      "execution_count": null,
      "metadata": {
        "id": "veYHfQJyInil"
      },
      "outputs": [],
      "source": [
        "lambda_reg = 1e-2"
      ]
    },
    {
      "cell_type": "markdown",
      "metadata": {
        "id": "gbzTRdedInil"
      },
      "source": [
        "#### MLP"
      ]
    },
    {
      "cell_type": "code",
      "execution_count": null,
      "metadata": {
        "id": "sCWWqvErInil"
      },
      "outputs": [],
      "source": [
        "model_MLP_L2_lambda3 = MLP()\n",
        "\n",
        "criterion = CustomLoss()\n",
        "optimizer = optim.SGD(params = model_MLP_L2_lambda3.parameters(), lr = 0.03)"
      ]
    },
    {
      "cell_type": "code",
      "execution_count": null,
      "metadata": {
        "colab": {
          "base_uri": "https://localhost:8080/"
        },
        "id": "czPpMl6DInim",
        "outputId": "8ee35b48-f848-4f9d-a62a-3ef89d2e5013"
      },
      "outputs": [
        {
          "name": "stdout",
          "output_type": "stream",
          "text": [
            "Epoch: 0 \tTraining Loss: 0.287448 \tTraining Accuracy: 0.292941 \tValidation Loss: 0.139133 \tValidation Accuracy: 0.336000\n",
            "Validation loss decreased (inf --> 0.139133).  Saving model ...\n",
            "Epoch: 1 \tTraining Loss: 0.114279 \tTraining Accuracy: 0.339224 \tValidation Loss: 0.101141 \tValidation Accuracy: 0.347200\n",
            "Validation loss decreased (0.139133 --> 0.101141).  Saving model ...\n",
            "Epoch: 2 \tTraining Loss: 0.100631 \tTraining Accuracy: 0.346659 \tValidation Loss: 0.100453 \tValidation Accuracy: 0.334133\n",
            "Validation loss decreased (0.101141 --> 0.100453).  Saving model ...\n",
            "Epoch: 3 \tTraining Loss: 0.099589 \tTraining Accuracy: 0.347412 \tValidation Loss: 0.097058 \tValidation Accuracy: 0.370400\n",
            "Validation loss decreased (0.100453 --> 0.097058).  Saving model ...\n",
            "Epoch: 4 \tTraining Loss: 0.099349 \tTraining Accuracy: 0.352259 \tValidation Loss: 0.099158 \tValidation Accuracy: 0.354800\n",
            "Epoch: 5 \tTraining Loss: 0.099369 \tTraining Accuracy: 0.354212 \tValidation Loss: 0.097950 \tValidation Accuracy: 0.361067\n",
            "Epoch: 6 \tTraining Loss: 0.099287 \tTraining Accuracy: 0.356471 \tValidation Loss: 0.098698 \tValidation Accuracy: 0.346667\n",
            "Epoch: 7 \tTraining Loss: 0.099299 \tTraining Accuracy: 0.357765 \tValidation Loss: 0.098213 \tValidation Accuracy: 0.354133\n",
            "Epoch: 8 \tTraining Loss: 0.099224 \tTraining Accuracy: 0.357953 \tValidation Loss: 0.098743 \tValidation Accuracy: 0.360267\n",
            "Epoch: 9 \tTraining Loss: 0.099212 \tTraining Accuracy: 0.359859 \tValidation Loss: 0.098534 \tValidation Accuracy: 0.350933\n",
            "Epoch: 10 \tTraining Loss: 0.099112 \tTraining Accuracy: 0.360400 \tValidation Loss: 0.097926 \tValidation Accuracy: 0.362533\n",
            "Epoch: 11 \tTraining Loss: 0.099218 \tTraining Accuracy: 0.361388 \tValidation Loss: 0.097231 \tValidation Accuracy: 0.371067\n",
            "Epoch: 12 \tTraining Loss: 0.099308 \tTraining Accuracy: 0.363176 \tValidation Loss: 0.100724 \tValidation Accuracy: 0.356133\n",
            "Epoch: 13 \tTraining Loss: 0.099290 \tTraining Accuracy: 0.362400 \tValidation Loss: 0.097907 \tValidation Accuracy: 0.359067\n",
            "Epoch: 14 \tTraining Loss: 0.099374 \tTraining Accuracy: 0.363129 \tValidation Loss: 0.099485 \tValidation Accuracy: 0.347867\n",
            "Epoch: 15 \tTraining Loss: 0.099318 \tTraining Accuracy: 0.364965 \tValidation Loss: 0.099748 \tValidation Accuracy: 0.350133\n",
            "Epoch: 16 \tTraining Loss: 0.099223 \tTraining Accuracy: 0.366729 \tValidation Loss: 0.097763 \tValidation Accuracy: 0.377333\n",
            "Epoch: 17 \tTraining Loss: 0.099279 \tTraining Accuracy: 0.363647 \tValidation Loss: 0.099506 \tValidation Accuracy: 0.353867\n",
            "Epoch: 18 \tTraining Loss: 0.099226 \tTraining Accuracy: 0.362588 \tValidation Loss: 0.097975 \tValidation Accuracy: 0.358933\n",
            "Epoch: 19 \tTraining Loss: 0.099362 \tTraining Accuracy: 0.362635 \tValidation Loss: 0.102354 \tValidation Accuracy: 0.349200\n"
          ]
        }
      ],
      "source": [
        "train_loss_MLP_L2_lambda3, train_acc_MLP_L2_lambda3, valid_loss_MLP_L2_lambda3, valid_acc_MLP_L2_lambda3, time_MLP_L2_lambda3 = train(model_MLP_L2_lambda3, lambda_reg, n_epochs, criterion, optimizer, norm, 'model_MLP_L2_lambda3', train_on_gpu)"
      ]
    },
    {
      "cell_type": "code",
      "execution_count": null,
      "metadata": {
        "colab": {
          "base_uri": "https://localhost:8080/"
        },
        "id": "1qEDZzmWInim",
        "outputId": "87caf80b-bbc3-4328-9031-4ef8ec533c40"
      },
      "outputs": [
        {
          "name": "stdout",
          "output_type": "stream",
          "text": [
            "Test Loss: 0.097133\n",
            "\n",
            "Test Accuracy of airplane: 49% (493/1000)\n",
            "Test Accuracy of automobile: 47% (477/1000)\n",
            "Test Accuracy of  bird:  6% (65/1000)\n",
            "Test Accuracy of   cat:  2% (22/1000)\n",
            "Test Accuracy of  deer: 59% (594/1000)\n",
            "Test Accuracy of   dog: 35% (350/1000)\n",
            "Test Accuracy of  frog: 41% (410/1000)\n",
            "Test Accuracy of horse: 44% (440/1000)\n",
            "Test Accuracy of  ship: 53% (532/1000)\n",
            "Test Accuracy of truck: 41% (415/1000)\n",
            "\n",
            "Test Accuracy (Overall): 37% (3798/10000)\n"
          ]
        }
      ],
      "source": [
        "test_loss_MLP_L2_lambda3, class_correct_MLP_L2_lambda3, class_total_MLP_L2_lambda3, test_acc_MLP_L2_lambda3 = test(model_MLP_L2_lambda3, lambda_reg, n_epochs, criterion, optimizer, norm, 'model_MLP_L2_lambda3', train_on_gpu)"
      ]
    },
    {
      "cell_type": "code",
      "execution_count": null,
      "metadata": {
        "id": "hmTe6wosURRZ"
      },
      "outputs": [],
      "source": [
        "arrs = [train_loss_MLP_L2_lambda3, train_acc_MLP_L2_lambda3, valid_loss_MLP_L2_lambda3, valid_acc_MLP_L2_lambda3, time_MLP_L2_lambda3, test_loss_MLP_L2_lambda3, class_correct_MLP_L2_lambda3, class_total_MLP_L2_lambda3, test_acc_MLP_L2_lambda3]"
      ]
    },
    {
      "cell_type": "code",
      "execution_count": null,
      "metadata": {
        "colab": {
          "base_uri": "https://localhost:8080/"
        },
        "id": "5nivnD6uURRZ",
        "outputId": "57270c6c-5fb4-4e1d-fcc4-7652a711318a"
      },
      "outputs": [
        {
          "name": "stderr",
          "output_type": "stream",
          "text": [
            "<ipython-input-25-b3a6eac2ef9e>:5: VisibleDeprecationWarning: Creating an ndarray from ragged nested sequences (which is a list-or-tuple of lists-or-tuples-or ndarrays with different lengths or shapes) is deprecated. If you meant to do this, you must specify 'dtype=object' when creating the ndarray.\n",
            "  df = pd.DataFrame(np.array(arrs), index = ['train_loss', 'train_acc', 'val_loss', 'val_acc', 'time', 'test_loss', 'test_correct', 'test_total', 'test_acc'])\n"
          ]
        }
      ],
      "source": [
        "save_results(arrs, \"MLP_L2_lambda3\")"
      ]
    },
    {
      "cell_type": "markdown",
      "metadata": {
        "id": "Ewc0fgbZInim"
      },
      "source": [
        "#### CNN"
      ]
    },
    {
      "cell_type": "code",
      "execution_count": null,
      "metadata": {
        "id": "dhvFqcnaInim"
      },
      "outputs": [],
      "source": [
        "model_CNN_L2_lambda3 = CNN()\n",
        "\n",
        "criterion = CustomLoss()\n",
        "optimizer = optim.SGD(params=model_CNN_L2_lambda3.parameters(), lr = 0.03)"
      ]
    },
    {
      "cell_type": "code",
      "execution_count": null,
      "metadata": {
        "colab": {
          "base_uri": "https://localhost:8080/"
        },
        "id": "nUsPasXuInim",
        "outputId": "6081968b-e71a-4eba-cdcd-e2daf7e4bbe2"
      },
      "outputs": [
        {
          "name": "stdout",
          "output_type": "stream",
          "text": [
            "Epoch: 0 \tTraining Loss: 0.132010 \tTraining Accuracy: 0.200471 \tValidation Loss: 0.107136 \tValidation Accuracy: 0.287333\n",
            "Validation loss decreased (inf --> 0.107136).  Saving model ...\n",
            "Epoch: 1 \tTraining Loss: 0.105041 \tTraining Accuracy: 0.290988 \tValidation Loss: 0.102038 \tValidation Accuracy: 0.316800\n",
            "Validation loss decreased (0.107136 --> 0.102038).  Saving model ...\n",
            "Epoch: 2 \tTraining Loss: 0.101376 \tTraining Accuracy: 0.329506 \tValidation Loss: 0.098771 \tValidation Accuracy: 0.340933\n",
            "Validation loss decreased (0.102038 --> 0.098771).  Saving model ...\n",
            "Epoch: 3 \tTraining Loss: 0.099334 \tTraining Accuracy: 0.361247 \tValidation Loss: 0.099499 \tValidation Accuracy: 0.373067\n",
            "Epoch: 4 \tTraining Loss: 0.097561 \tTraining Accuracy: 0.383294 \tValidation Loss: 0.094462 \tValidation Accuracy: 0.411733\n",
            "Validation loss decreased (0.098771 --> 0.094462).  Saving model ...\n",
            "Epoch: 5 \tTraining Loss: 0.096261 \tTraining Accuracy: 0.402753 \tValidation Loss: 0.093873 \tValidation Accuracy: 0.418000\n",
            "Validation loss decreased (0.094462 --> 0.093873).  Saving model ...\n",
            "Epoch: 6 \tTraining Loss: 0.095213 \tTraining Accuracy: 0.413059 \tValidation Loss: 0.102526 \tValidation Accuracy: 0.361200\n",
            "Epoch: 7 \tTraining Loss: 0.094450 \tTraining Accuracy: 0.421106 \tValidation Loss: 0.092989 \tValidation Accuracy: 0.420400\n",
            "Validation loss decreased (0.093873 --> 0.092989).  Saving model ...\n",
            "Epoch: 8 \tTraining Loss: 0.093937 \tTraining Accuracy: 0.432071 \tValidation Loss: 0.091579 \tValidation Accuracy: 0.447067\n",
            "Validation loss decreased (0.092989 --> 0.091579).  Saving model ...\n",
            "Epoch: 9 \tTraining Loss: 0.093693 \tTraining Accuracy: 0.434071 \tValidation Loss: 0.091469 \tValidation Accuracy: 0.436000\n",
            "Validation loss decreased (0.091579 --> 0.091469).  Saving model ...\n",
            "Epoch: 10 \tTraining Loss: 0.093560 \tTraining Accuracy: 0.437365 \tValidation Loss: 0.091364 \tValidation Accuracy: 0.454933\n",
            "Validation loss decreased (0.091469 --> 0.091364).  Saving model ...\n",
            "Epoch: 11 \tTraining Loss: 0.093175 \tTraining Accuracy: 0.441388 \tValidation Loss: 0.092268 \tValidation Accuracy: 0.461867\n",
            "Epoch: 12 \tTraining Loss: 0.092974 \tTraining Accuracy: 0.442776 \tValidation Loss: 0.089195 \tValidation Accuracy: 0.472933\n",
            "Validation loss decreased (0.091364 --> 0.089195).  Saving model ...\n",
            "Epoch: 13 \tTraining Loss: 0.092779 \tTraining Accuracy: 0.449082 \tValidation Loss: 0.102822 \tValidation Accuracy: 0.380533\n",
            "Epoch: 14 \tTraining Loss: 0.092795 \tTraining Accuracy: 0.445200 \tValidation Loss: 0.092423 \tValidation Accuracy: 0.448133\n",
            "Epoch: 15 \tTraining Loss: 0.092744 \tTraining Accuracy: 0.451012 \tValidation Loss: 0.090932 \tValidation Accuracy: 0.461467\n",
            "Epoch: 16 \tTraining Loss: 0.092479 \tTraining Accuracy: 0.452306 \tValidation Loss: 0.091593 \tValidation Accuracy: 0.461467\n",
            "Epoch: 17 \tTraining Loss: 0.092581 \tTraining Accuracy: 0.454400 \tValidation Loss: 0.090314 \tValidation Accuracy: 0.474133\n",
            "Epoch: 18 \tTraining Loss: 0.092360 \tTraining Accuracy: 0.459529 \tValidation Loss: 0.091116 \tValidation Accuracy: 0.460933\n",
            "Epoch: 19 \tTraining Loss: 0.092475 \tTraining Accuracy: 0.460259 \tValidation Loss: 0.089333 \tValidation Accuracy: 0.483600\n"
          ]
        }
      ],
      "source": [
        "train_loss_CNN_L2_lambda3, train_acc_CNN_L2_lambda3, valid_loss_CNN_L2_lambda3, valid_acc_CNN_L2_lambda3, time_CNN_L2_lambda3 = train(model_CNN_L2_lambda3, lambda_reg, n_epochs, criterion, optimizer, norm, 'model_CNN_L2_lambda3', train_on_gpu)"
      ]
    },
    {
      "cell_type": "code",
      "execution_count": null,
      "metadata": {
        "colab": {
          "base_uri": "https://localhost:8080/"
        },
        "id": "SbG0ANGDInim",
        "outputId": "b4cdc553-f32c-4c78-ff92-aad1378b5a56"
      },
      "outputs": [
        {
          "name": "stdout",
          "output_type": "stream",
          "text": [
            "Test Loss: 0.089083\n",
            "\n",
            "Test Accuracy of airplane: 52% (523/1000)\n",
            "Test Accuracy of automobile: 47% (472/1000)\n",
            "Test Accuracy of  bird: 26% (263/1000)\n",
            "Test Accuracy of   cat: 49% (492/1000)\n",
            "Test Accuracy of  deer: 34% (340/1000)\n",
            "Test Accuracy of   dog: 24% (243/1000)\n",
            "Test Accuracy of  frog: 64% (642/1000)\n",
            "Test Accuracy of horse: 47% (475/1000)\n",
            "Test Accuracy of  ship: 65% (653/1000)\n",
            "Test Accuracy of truck: 65% (652/1000)\n",
            "\n",
            "Test Accuracy (Overall): 47% (4755/10000)\n"
          ]
        }
      ],
      "source": [
        "test_loss_CNN_L2_lambda3, class_correct_CNN_L2_lambda3, class_total_CNN_L2_lambda3, test_acc_CNN_L2_lambda3 = test(model_CNN_L2_lambda3, lambda_reg, n_epochs, criterion, optimizer, norm, 'model_CNN_L2_lambda3', train_on_gpu)"
      ]
    },
    {
      "cell_type": "code",
      "execution_count": null,
      "metadata": {
        "id": "5dMCTwH6UYLf"
      },
      "outputs": [],
      "source": [
        "arrs = [train_loss_CNN_L2_lambda3, train_acc_CNN_L2_lambda3, valid_loss_CNN_L2_lambda3, valid_acc_CNN_L2_lambda3, time_CNN_L2_lambda3, test_loss_CNN_L2_lambda3, class_correct_CNN_L2_lambda3, class_total_CNN_L2_lambda3, test_acc_CNN_L2_lambda3]"
      ]
    },
    {
      "cell_type": "code",
      "execution_count": null,
      "metadata": {
        "colab": {
          "base_uri": "https://localhost:8080/"
        },
        "id": "clWPDWmmUYLf",
        "outputId": "b172e8fd-284f-4cd6-9889-40ccd5526eec"
      },
      "outputs": [
        {
          "name": "stderr",
          "output_type": "stream",
          "text": [
            "<ipython-input-25-b3a6eac2ef9e>:5: VisibleDeprecationWarning: Creating an ndarray from ragged nested sequences (which is a list-or-tuple of lists-or-tuples-or ndarrays with different lengths or shapes) is deprecated. If you meant to do this, you must specify 'dtype=object' when creating the ndarray.\n",
            "  df = pd.DataFrame(np.array(arrs), index = ['train_loss', 'train_acc', 'val_loss', 'val_acc', 'time', 'test_loss', 'test_correct', 'test_total', 'test_acc'])\n"
          ]
        }
      ],
      "source": [
        "save_results(arrs, \"CNN_L2_lambda3\")"
      ]
    },
    {
      "cell_type": "markdown",
      "metadata": {
        "id": "_81cvaRRInim"
      },
      "source": [
        "#### ResNet34"
      ]
    },
    {
      "cell_type": "code",
      "execution_count": null,
      "metadata": {
        "id": "0SDF_E1uInim",
        "colab": {
          "base_uri": "https://localhost:8080/"
        },
        "outputId": "7adb8349-f207-4f7f-8a62-db45af5881e2"
      },
      "outputs": [
        {
          "output_type": "stream",
          "name": "stderr",
          "text": [
            "Using cache found in /root/.cache/torch/hub/pytorch_vision_v0.10.0\n",
            "/usr/local/lib/python3.10/dist-packages/torchvision/models/_utils.py:208: UserWarning: The parameter 'pretrained' is deprecated since 0.13 and may be removed in the future, please use 'weights' instead.\n",
            "  warnings.warn(\n",
            "/usr/local/lib/python3.10/dist-packages/torchvision/models/_utils.py:223: UserWarning: Arguments other than a weight enum or `None` for 'weights' are deprecated since 0.13 and may be removed in the future. The current behavior is equivalent to passing `weights=None`.\n",
            "  warnings.warn(msg)\n"
          ]
        }
      ],
      "source": [
        "model_RESNET_L2_lambda3 = torch.hub.load('pytorch/vision:v0.10.0', 'resnet34', pretrained=False)\n",
        "\n",
        "criterion = CustomLoss()\n",
        "optimizer = optim.SGD(params = model_RESNET_L2_lambda3.parameters(), lr = 0.03)"
      ]
    },
    {
      "cell_type": "code",
      "execution_count": null,
      "metadata": {
        "id": "L5HQV52rInim",
        "colab": {
          "base_uri": "https://localhost:8080/"
        },
        "outputId": "c629e84d-3c9a-4c80-8b0d-36303bd1a9ce"
      },
      "outputs": [
        {
          "output_type": "stream",
          "name": "stdout",
          "text": [
            "Epoch: 0 \tTraining Loss: 0.165082 \tTraining Accuracy: 0.387529 \tValidation Loss: 0.144488 \tValidation Accuracy: 0.518667\n",
            "Validation loss decreased (inf --> 0.144488).  Saving model ...\n",
            "Epoch: 1 \tTraining Loss: 0.142008 \tTraining Accuracy: 0.544800 \tValidation Loss: 0.145645 \tValidation Accuracy: 0.543467\n",
            "Epoch: 2 \tTraining Loss: 0.130679 \tTraining Accuracy: 0.630588 \tValidation Loss: 0.144871 \tValidation Accuracy: 0.554133\n",
            "Epoch: 3 \tTraining Loss: 0.123412 \tTraining Accuracy: 0.677247 \tValidation Loss: 0.125162 \tValidation Accuracy: 0.659067\n",
            "Validation loss decreased (0.144488 --> 0.125162).  Saving model ...\n",
            "Epoch: 4 \tTraining Loss: 0.117264 \tTraining Accuracy: 0.719129 \tValidation Loss: 0.123577 \tValidation Accuracy: 0.673333\n",
            "Validation loss decreased (0.125162 --> 0.123577).  Saving model ...\n",
            "Epoch: 5 \tTraining Loss: 0.111959 \tTraining Accuracy: 0.754259 \tValidation Loss: 0.118541 \tValidation Accuracy: 0.704800\n",
            "Validation loss decreased (0.123577 --> 0.118541).  Saving model ...\n",
            "Epoch: 6 \tTraining Loss: 0.107141 \tTraining Accuracy: 0.786118 \tValidation Loss: 0.116680 \tValidation Accuracy: 0.719733\n",
            "Validation loss decreased (0.118541 --> 0.116680).  Saving model ...\n",
            "Epoch: 7 \tTraining Loss: 0.102686 \tTraining Accuracy: 0.816329 \tValidation Loss: 0.119389 \tValidation Accuracy: 0.712133\n",
            "Epoch: 8 \tTraining Loss: 0.098837 \tTraining Accuracy: 0.841529 \tValidation Loss: 0.121953 \tValidation Accuracy: 0.708400\n",
            "Epoch: 9 \tTraining Loss: 0.095329 \tTraining Accuracy: 0.864235 \tValidation Loss: 0.124223 \tValidation Accuracy: 0.693733\n",
            "Epoch: 10 \tTraining Loss: 0.092465 \tTraining Accuracy: 0.882588 \tValidation Loss: 0.125307 \tValidation Accuracy: 0.716933\n",
            "Epoch: 11 \tTraining Loss: 0.090571 \tTraining Accuracy: 0.894847 \tValidation Loss: 0.133789 \tValidation Accuracy: 0.686667\n",
            "Epoch: 12 \tTraining Loss: 0.088722 \tTraining Accuracy: 0.907529 \tValidation Loss: 0.126762 \tValidation Accuracy: 0.722800\n",
            "Epoch: 13 \tTraining Loss: 0.085980 \tTraining Accuracy: 0.927271 \tValidation Loss: 0.123623 \tValidation Accuracy: 0.729067\n",
            "Epoch: 14 \tTraining Loss: 0.084536 \tTraining Accuracy: 0.934988 \tValidation Loss: 0.129370 \tValidation Accuracy: 0.721867\n",
            "Epoch: 15 \tTraining Loss: 0.083096 \tTraining Accuracy: 0.943176 \tValidation Loss: 0.127234 \tValidation Accuracy: 0.738000\n",
            "Epoch: 16 \tTraining Loss: 0.081567 \tTraining Accuracy: 0.954635 \tValidation Loss: 0.127501 \tValidation Accuracy: 0.730000\n",
            "Epoch: 17 \tTraining Loss: 0.080577 \tTraining Accuracy: 0.960400 \tValidation Loss: 0.130930 \tValidation Accuracy: 0.736000\n",
            "Epoch: 18 \tTraining Loss: 0.079989 \tTraining Accuracy: 0.963059 \tValidation Loss: 0.136677 \tValidation Accuracy: 0.713200\n",
            "Epoch: 19 \tTraining Loss: 0.079280 \tTraining Accuracy: 0.966329 \tValidation Loss: 0.135659 \tValidation Accuracy: 0.725467\n"
          ]
        }
      ],
      "source": [
        "train_loss_RESNET_L2_lambda3, train_acc_RESNET_L2_lambda3, valid_loss_RESNET_L2_lambda3, valid_acc_RESNET_L2_lambda3, time_RESNET_L2_lambda3 = train(model_RESNET_L2_lambda3, lambda_reg, n_epochs, criterion, optimizer, norm, 'model_RESNET_L2_lambda3', train_on_gpu)"
      ]
    },
    {
      "cell_type": "code",
      "execution_count": null,
      "metadata": {
        "id": "CyIJma_uInim",
        "colab": {
          "base_uri": "https://localhost:8080/"
        },
        "outputId": "f2b67a62-2eca-491f-e734-f63437e327b9"
      },
      "outputs": [
        {
          "output_type": "stream",
          "name": "stdout",
          "text": [
            "Test Loss: 0.118517\n",
            "\n",
            "Test Accuracy of airplane: 75% (751/1000)\n",
            "Test Accuracy of automobile: 74% (741/1000)\n",
            "Test Accuracy of  bird: 62% (627/1000)\n",
            "Test Accuracy of   cat: 56% (562/1000)\n",
            "Test Accuracy of  deer: 68% (688/1000)\n",
            "Test Accuracy of   dog: 49% (496/1000)\n",
            "Test Accuracy of  frog: 82% (828/1000)\n",
            "Test Accuracy of horse: 79% (798/1000)\n",
            "Test Accuracy of  ship: 81% (813/1000)\n",
            "Test Accuracy of truck: 82% (820/1000)\n",
            "\n",
            "Test Accuracy (Overall): 71% (7124/10000)\n"
          ]
        }
      ],
      "source": [
        "test_loss_RESNET_L2_lambda3, class_correct_RESNET_L2_lambda3, class_total_RESNET_L2_lambda3, test_acc_RESNET_L2_lambda3 = test(model_RESNET_L2_lambda3, lambda_reg, n_epochs, criterion, optimizer, norm, 'model_RESNET_L2_lambda3', train_on_gpu)"
      ]
    },
    {
      "cell_type": "code",
      "execution_count": null,
      "metadata": {
        "id": "2upMO8dOfkY3"
      },
      "outputs": [],
      "source": [
        "arrs = [train_loss_RESNET_L2_lambda3, train_acc_RESNET_L2_lambda3, valid_loss_RESNET_L2_lambda3, valid_acc_RESNET_L2_lambda3, time_RESNET_L2_lambda3, test_loss_RESNET_L2_lambda3, class_correct_RESNET_L2_lambda3, class_total_RESNET_L2_lambda3, test_acc_RESNET_L2_lambda3]"
      ]
    },
    {
      "cell_type": "code",
      "execution_count": null,
      "metadata": {
        "colab": {
          "base_uri": "https://localhost:8080/"
        },
        "outputId": "c9c6a714-b28e-48a0-da04-1eac4df63fc7",
        "id": "q79aE1ZpfkY4"
      },
      "outputs": [
        {
          "output_type": "stream",
          "name": "stderr",
          "text": [
            "<ipython-input-13-b3a6eac2ef9e>:5: VisibleDeprecationWarning: Creating an ndarray from ragged nested sequences (which is a list-or-tuple of lists-or-tuples-or ndarrays with different lengths or shapes) is deprecated. If you meant to do this, you must specify 'dtype=object' when creating the ndarray.\n",
            "  df = pd.DataFrame(np.array(arrs), index = ['train_loss', 'train_acc', 'val_loss', 'val_acc', 'time', 'test_loss', 'test_correct', 'test_total', 'test_acc'])\n"
          ]
        }
      ],
      "source": [
        "save_results(arrs, \"RESNET_L2_lambda3\")"
      ]
    },
    {
      "cell_type": "markdown",
      "metadata": {
        "id": "YlltLnA0Inim"
      },
      "source": [
        "#### DenseNet121"
      ]
    },
    {
      "cell_type": "code",
      "execution_count": null,
      "metadata": {
        "id": "7BzDNq-yInin",
        "colab": {
          "base_uri": "https://localhost:8080/"
        },
        "outputId": "e13da706-d84a-4d5d-8fb0-b16603f3b956"
      },
      "outputs": [
        {
          "output_type": "stream",
          "name": "stderr",
          "text": [
            "Downloading: \"https://github.com/pytorch/vision/zipball/v0.10.0\" to /root/.cache/torch/hub/v0.10.0.zip\n",
            "/usr/local/lib/python3.10/dist-packages/torchvision/models/_utils.py:208: UserWarning: The parameter 'pretrained' is deprecated since 0.13 and may be removed in the future, please use 'weights' instead.\n",
            "  warnings.warn(\n",
            "/usr/local/lib/python3.10/dist-packages/torchvision/models/_utils.py:223: UserWarning: Arguments other than a weight enum or `None` for 'weights' are deprecated since 0.13 and may be removed in the future. The current behavior is equivalent to passing `weights=None`.\n",
            "  warnings.warn(msg)\n"
          ]
        }
      ],
      "source": [
        "model_DNN_L2_lambda3 = torch.hub.load('pytorch/vision:v0.10.0', 'densenet121', pretrained=False)\n",
        "\n",
        "criterion = CustomLoss()\n",
        "optimizer = optim.SGD(params=model_DNN_L2_lambda3.parameters(), lr = 0.03)"
      ]
    },
    {
      "cell_type": "code",
      "execution_count": null,
      "metadata": {
        "id": "eXBPZWPAInin",
        "colab": {
          "base_uri": "https://localhost:8080/"
        },
        "outputId": "76a68643-9e50-4fbb-e81d-ecda5670ef26"
      },
      "outputs": [
        {
          "output_type": "stream",
          "name": "stdout",
          "text": [
            "Epoch: 0 \tTraining Loss: 0.208808 \tTraining Accuracy: 0.409600 \tValidation Loss: 0.197602 \tValidation Accuracy: 0.486133\n",
            "Validation loss decreased (inf --> 0.197602).  Saving model ...\n",
            "Epoch: 1 \tTraining Loss: 0.188774 \tTraining Accuracy: 0.546329 \tValidation Loss: 0.195598 \tValidation Accuracy: 0.520800\n",
            "Validation loss decreased (0.197602 --> 0.195598).  Saving model ...\n",
            "Epoch: 2 \tTraining Loss: 0.178194 \tTraining Accuracy: 0.623953 \tValidation Loss: 0.180871 \tValidation Accuracy: 0.612133\n",
            "Validation loss decreased (0.195598 --> 0.180871).  Saving model ...\n",
            "Epoch: 3 \tTraining Loss: 0.170598 \tTraining Accuracy: 0.675859 \tValidation Loss: 0.171128 \tValidation Accuracy: 0.675067\n",
            "Validation loss decreased (0.180871 --> 0.171128).  Saving model ...\n",
            "Epoch: 4 \tTraining Loss: 0.164418 \tTraining Accuracy: 0.717035 \tValidation Loss: 0.177629 \tValidation Accuracy: 0.646000\n",
            "Epoch: 5 \tTraining Loss: 0.159069 \tTraining Accuracy: 0.752471 \tValidation Loss: 0.167878 \tValidation Accuracy: 0.696533\n",
            "Validation loss decreased (0.171128 --> 0.167878).  Saving model ...\n",
            "Epoch: 6 \tTraining Loss: 0.154377 \tTraining Accuracy: 0.786329 \tValidation Loss: 0.165781 \tValidation Accuracy: 0.718400\n",
            "Validation loss decreased (0.167878 --> 0.165781).  Saving model ...\n",
            "Epoch: 7 \tTraining Loss: 0.150796 \tTraining Accuracy: 0.808000 \tValidation Loss: 0.165162 \tValidation Accuracy: 0.714533\n",
            "Validation loss decreased (0.165781 --> 0.165162).  Saving model ...\n",
            "Epoch: 8 \tTraining Loss: 0.146963 \tTraining Accuracy: 0.834118 \tValidation Loss: 0.163714 \tValidation Accuracy: 0.732400\n",
            "Validation loss decreased (0.165162 --> 0.163714).  Saving model ...\n",
            "Epoch: 9 \tTraining Loss: 0.143188 \tTraining Accuracy: 0.859459 \tValidation Loss: 0.166806 \tValidation Accuracy: 0.726533\n",
            "Epoch: 10 \tTraining Loss: 0.140788 \tTraining Accuracy: 0.872141 \tValidation Loss: 0.167082 \tValidation Accuracy: 0.732400\n",
            "Epoch: 11 \tTraining Loss: 0.137924 \tTraining Accuracy: 0.893741 \tValidation Loss: 0.168949 \tValidation Accuracy: 0.732400\n",
            "Epoch: 12 \tTraining Loss: 0.135904 \tTraining Accuracy: 0.904471 \tValidation Loss: 0.166588 \tValidation Accuracy: 0.748533\n",
            "Epoch: 13 \tTraining Loss: 0.133384 \tTraining Accuracy: 0.922118 \tValidation Loss: 0.167905 \tValidation Accuracy: 0.746000\n",
            "Epoch: 14 \tTraining Loss: 0.132381 \tTraining Accuracy: 0.925906 \tValidation Loss: 0.170603 \tValidation Accuracy: 0.734000\n",
            "Epoch: 15 \tTraining Loss: 0.130553 \tTraining Accuracy: 0.939365 \tValidation Loss: 0.170392 \tValidation Accuracy: 0.748533\n",
            "Epoch: 16 \tTraining Loss: 0.129652 \tTraining Accuracy: 0.945012 \tValidation Loss: 0.169588 \tValidation Accuracy: 0.751600\n",
            "Epoch: 17 \tTraining Loss: 0.127770 \tTraining Accuracy: 0.956141 \tValidation Loss: 0.177334 \tValidation Accuracy: 0.738400\n",
            "Epoch: 18 \tTraining Loss: 0.127298 \tTraining Accuracy: 0.957694 \tValidation Loss: 0.171335 \tValidation Accuracy: 0.758933\n",
            "Epoch: 19 \tTraining Loss: 0.126702 \tTraining Accuracy: 0.960071 \tValidation Loss: 0.182571 \tValidation Accuracy: 0.713600\n"
          ]
        }
      ],
      "source": [
        "train_loss_DNN_L2_lambda3, train_acc_DNN_L2_lambda3, valid_loss_DNN_L2_lambda3, valid_acc_DNN_L2_lambda3, time_DNN_L2_lambda3 = train(model_DNN_L2_lambda3, lambda_reg, n_epochs, criterion, optimizer, norm, 'model_DNN_L2_lambda3', train_on_gpu)"
      ]
    },
    {
      "cell_type": "code",
      "execution_count": null,
      "metadata": {
        "id": "q-smtYldInin",
        "colab": {
          "base_uri": "https://localhost:8080/"
        },
        "outputId": "6668bd3d-a04c-48fb-d5d0-bfcbb20960ba"
      },
      "outputs": [
        {
          "output_type": "stream",
          "name": "stdout",
          "text": [
            "Test Loss: 0.165301\n",
            "\n",
            "Test Accuracy of airplane: 74% (742/1000)\n",
            "Test Accuracy of automobile: 84% (843/1000)\n",
            "Test Accuracy of  bird: 55% (554/1000)\n",
            "Test Accuracy of   cat: 71% (712/1000)\n",
            "Test Accuracy of  deer: 72% (727/1000)\n",
            "Test Accuracy of   dog: 42% (422/1000)\n",
            "Test Accuracy of  frog: 75% (751/1000)\n",
            "Test Accuracy of horse: 82% (827/1000)\n",
            "Test Accuracy of  ship: 87% (879/1000)\n",
            "Test Accuracy of truck: 78% (788/1000)\n",
            "\n",
            "Test Accuracy (Overall): 72% (7245/10000)\n"
          ]
        }
      ],
      "source": [
        "test_loss_DNN_L2_lambda3, class_correct_DNN_L2_lambda3, class_total_DNN_L2_lambda3, test_acc_DNN_L2_lambda3 = test(model_DNN_L2_lambda3, lambda_reg, n_epochs, criterion, optimizer, norm, 'model_DNN_L2_lambda3', train_on_gpu)"
      ]
    },
    {
      "cell_type": "code",
      "execution_count": null,
      "metadata": {
        "id": "Eh4UtqByfp8y"
      },
      "outputs": [],
      "source": [
        "arrs = [train_loss_DNN_L2_lambda3, train_acc_DNN_L2_lambda3, valid_loss_DNN_L2_lambda3, valid_acc_DNN_L2_lambda3, time_DNN_L2_lambda3, test_loss_DNN_L2_lambda3, class_correct_DNN_L2_lambda3, class_total_DNN_L2_lambda3, test_acc_DNN_L2_lambda3]"
      ]
    },
    {
      "cell_type": "code",
      "execution_count": null,
      "metadata": {
        "colab": {
          "base_uri": "https://localhost:8080/"
        },
        "outputId": "d349a7cc-c2d5-4d76-aa51-2ea44aa1a34e",
        "id": "utXwlB3Kfp8z"
      },
      "outputs": [
        {
          "output_type": "stream",
          "name": "stderr",
          "text": [
            "<ipython-input-13-b3a6eac2ef9e>:5: VisibleDeprecationWarning: Creating an ndarray from ragged nested sequences (which is a list-or-tuple of lists-or-tuples-or ndarrays with different lengths or shapes) is deprecated. If you meant to do this, you must specify 'dtype=object' when creating the ndarray.\n",
            "  df = pd.DataFrame(np.array(arrs), index = ['train_loss', 'train_acc', 'val_loss', 'val_acc', 'time', 'test_loss', 'test_correct', 'test_total', 'test_acc'])\n"
          ]
        }
      ],
      "source": [
        "save_results(arrs, \"DNN_L2_lambda3\")"
      ]
    },
    {
      "cell_type": "markdown",
      "metadata": {
        "id": "_qT6TDnGiDga"
      },
      "source": [
        "## Irrevelance "
      ]
    },
    {
      "cell_type": "code",
      "execution_count": 23,
      "metadata": {
        "id": "X5W7qa4MiUow"
      },
      "outputs": [],
      "source": [
        "norm = \"weighted\""
      ]
    },
    {
      "cell_type": "markdown",
      "metadata": {
        "id": "ntsQ7nyAtXcw"
      },
      "source": [
        "### $\\lambda_{1} = 10^{-4}$"
      ]
    },
    {
      "cell_type": "code",
      "execution_count": 175,
      "metadata": {
        "id": "qfnenraOiDgb"
      },
      "outputs": [],
      "source": [
        "lambda_reg = 1e-4"
      ]
    },
    {
      "cell_type": "markdown",
      "metadata": {
        "id": "lbqZTh79iDgb"
      },
      "source": [
        "#### MLP"
      ]
    },
    {
      "cell_type": "code",
      "execution_count": 176,
      "metadata": {
        "id": "4OL3BRcbiDgb"
      },
      "outputs": [],
      "source": [
        "model_MLP_irr_lambda1 = MLP()\n",
        "\n",
        "criterion = CustomLoss()\n",
        "optimizer = optim.SGD(params = model_MLP_irr_lambda1.parameters(), lr = 0.03)"
      ]
    },
    {
      "cell_type": "code",
      "execution_count": null,
      "metadata": {
        "id": "UJz7XDYoiDgc"
      },
      "outputs": [],
      "source": [
        "train_loss_MLP_irr_lambda1, train_acc_MLP_irr_lambda1, valid_loss_MLP_irr_lambda1, valid_acc_MLP_irr_lambda1, time_MLP_irr_lambda1 = train_irr(model_MLP_irr_lambda1, lambda_reg, n_epochs, criterion, optimizer, norm, 'model_MLP_irr_lambda1', train_on_gpu)"
      ]
    },
    {
      "cell_type": "code",
      "execution_count": null,
      "metadata": {
        "colab": {
          "base_uri": "https://localhost:8080/"
        },
        "id": "A776ANQViDgc",
        "outputId": "6d15b5ba-1fef-4dbd-eaca-2b91a6b5f3d7"
      },
      "outputs": [
        {
          "name": "stdout",
          "output_type": "stream",
          "text": [
            "Test Loss: 0.073226\n",
            "\n",
            "Test Accuracy of airplane: 63% (630/1000)\n",
            "Test Accuracy of automobile: 71% (716/1000)\n",
            "Test Accuracy of  bird: 48% (480/1000)\n",
            "Test Accuracy of   cat: 29% (297/1000)\n",
            "Test Accuracy of  deer: 51% (517/1000)\n",
            "Test Accuracy of   dog: 34% (345/1000)\n",
            "Test Accuracy of  frog: 67% (674/1000)\n",
            "Test Accuracy of horse: 56% (561/1000)\n",
            "Test Accuracy of  ship: 70% (700/1000)\n",
            "Test Accuracy of truck: 46% (468/1000)\n",
            "\n",
            "Test Accuracy (Overall): 53% (5388/10000)\n"
          ]
        }
      ],
      "source": [
        "test_loss_MLP_irr_lambda1, class_correct_MLP_irr_lambda1, class_total_MLP_irr_lambda1, test_acc_MLP_irr_lambda1 = test(model_MLP_irr_lambda1, lambda_reg, n_epochs, criterion, optimizer, norm, 'model_MLP_irr_lambda1', train_on_gpu)"
      ]
    },
    {
      "cell_type": "code",
      "execution_count": null,
      "metadata": {
        "id": "B0Vz1l27xBP5"
      },
      "outputs": [],
      "source": [
        "arrs = [train_loss_MLP_irr_lambda1, train_acc_MLP_irr_lambda1, valid_loss_MLP_irr_lambda1, valid_acc_MLP_irr_lambda1, time_MLP_irr_lambda1, test_loss_MLP_irr_lambda1, class_correct_MLP_irr_lambda1, class_total_MLP_irr_lambda1, test_acc_MLP_irr_lambda1]"
      ]
    },
    {
      "cell_type": "code",
      "execution_count": null,
      "metadata": {
        "colab": {
          "base_uri": "https://localhost:8080/"
        },
        "id": "OmyqxOiDxBP6",
        "outputId": "88007162-ccfe-431c-f781-1091a1d4c80c"
      },
      "outputs": [
        {
          "name": "stderr",
          "output_type": "stream",
          "text": [
            "<ipython-input-12-b3a6eac2ef9e>:5: VisibleDeprecationWarning: Creating an ndarray from ragged nested sequences (which is a list-or-tuple of lists-or-tuples-or ndarrays with different lengths or shapes) is deprecated. If you meant to do this, you must specify 'dtype=object' when creating the ndarray.\n",
            "  df = pd.DataFrame(np.array(arrs), index = ['train_loss', 'train_acc', 'val_loss', 'val_acc', 'time', 'test_loss', 'test_correct', 'test_total', 'test_acc'])\n"
          ]
        }
      ],
      "source": [
        "save_results(arrs, \"MLP_irr_lambda1\")"
      ]
    },
    {
      "cell_type": "markdown",
      "metadata": {
        "id": "KGj2E8caiDgc"
      },
      "source": [
        "#### CNN"
      ]
    },
    {
      "cell_type": "code",
      "execution_count": null,
      "metadata": {
        "id": "QYlPU0aAiDgc"
      },
      "outputs": [],
      "source": [
        "model_CNN_irr_lambda1 = CNN()\n",
        "\n",
        "criterion = CustomLoss()\n",
        "optimizer = optim.SGD(params=model_CNN_irr_lambda1.parameters(), lr = 0.03)"
      ]
    },
    {
      "cell_type": "code",
      "execution_count": null,
      "metadata": {
        "colab": {
          "base_uri": "https://localhost:8080/"
        },
        "id": "9zHWnD3riDgc",
        "outputId": "2a83643c-3958-4301-b622-bedc2362e26e"
      },
      "outputs": [
        {
          "name": "stdout",
          "output_type": "stream",
          "text": [
            "Epoch: 0 \tTraining Loss: 0.099379 \tTraining Accuracy: 0.272494 \tValidation Loss: 0.080830 \tValidation Accuracy: 0.416533\n",
            "Validation loss decreased (inf --> 0.080830).  Saving model ...\n",
            "Epoch: 1 \tTraining Loss: 0.075390 \tTraining Accuracy: 0.461553 \tValidation Loss: 0.066143 \tValidation Accuracy: 0.524800\n",
            "Validation loss decreased (0.080830 --> 0.066143).  Saving model ...\n",
            "Epoch: 2 \tTraining Loss: 0.064201 \tTraining Accuracy: 0.548541 \tValidation Loss: 0.058820 \tValidation Accuracy: 0.579600\n",
            "Validation loss decreased (0.066143 --> 0.058820).  Saving model ...\n",
            "Epoch: 3 \tTraining Loss: 0.055707 \tTraining Accuracy: 0.615153 \tValidation Loss: 0.052789 \tValidation Accuracy: 0.628267\n",
            "Validation loss decreased (0.058820 --> 0.052789).  Saving model ...\n",
            "Epoch: 4 \tTraining Loss: 0.049228 \tTraining Accuracy: 0.664329 \tValidation Loss: 0.050628 \tValidation Accuracy: 0.649467\n",
            "Validation loss decreased (0.052789 --> 0.050628).  Saving model ...\n",
            "Epoch: 5 \tTraining Loss: 0.044216 \tTraining Accuracy: 0.702353 \tValidation Loss: 0.049219 \tValidation Accuracy: 0.663200\n",
            "Validation loss decreased (0.050628 --> 0.049219).  Saving model ...\n",
            "Epoch: 6 \tTraining Loss: 0.039667 \tTraining Accuracy: 0.736729 \tValidation Loss: 0.044487 \tValidation Accuracy: 0.698800\n",
            "Validation loss decreased (0.049219 --> 0.044487).  Saving model ...\n",
            "Epoch: 7 \tTraining Loss: 0.035720 \tTraining Accuracy: 0.764894 \tValidation Loss: 0.046324 \tValidation Accuracy: 0.689467\n",
            "Epoch: 8 \tTraining Loss: 0.031962 \tTraining Accuracy: 0.795929 \tValidation Loss: 0.046439 \tValidation Accuracy: 0.703600\n",
            "Epoch: 9 \tTraining Loss: 0.028570 \tTraining Accuracy: 0.819788 \tValidation Loss: 0.046856 \tValidation Accuracy: 0.712133\n",
            "Epoch: 10 \tTraining Loss: 0.025297 \tTraining Accuracy: 0.843341 \tValidation Loss: 0.051162 \tValidation Accuracy: 0.696000\n",
            "Epoch: 11 \tTraining Loss: 0.022518 \tTraining Accuracy: 0.867835 \tValidation Loss: 0.055032 \tValidation Accuracy: 0.700800\n",
            "Epoch: 12 \tTraining Loss: 0.020022 \tTraining Accuracy: 0.887294 \tValidation Loss: 0.061719 \tValidation Accuracy: 0.692667\n",
            "Epoch: 13 \tTraining Loss: 0.017876 \tTraining Accuracy: 0.905153 \tValidation Loss: 0.063806 \tValidation Accuracy: 0.699333\n",
            "Epoch: 14 \tTraining Loss: 0.016622 \tTraining Accuracy: 0.917553 \tValidation Loss: 0.066949 \tValidation Accuracy: 0.703733\n",
            "Epoch: 15 \tTraining Loss: 0.015203 \tTraining Accuracy: 0.929882 \tValidation Loss: 0.073232 \tValidation Accuracy: 0.697467\n",
            "Epoch: 16 \tTraining Loss: 0.015166 \tTraining Accuracy: 0.933247 \tValidation Loss: 0.079338 \tValidation Accuracy: 0.690000\n",
            "Epoch: 17 \tTraining Loss: 0.014206 \tTraining Accuracy: 0.944588 \tValidation Loss: 0.081818 \tValidation Accuracy: 0.693867\n",
            "Epoch: 18 \tTraining Loss: 0.014106 \tTraining Accuracy: 0.946353 \tValidation Loss: 0.087211 \tValidation Accuracy: 0.695467\n",
            "Epoch: 19 \tTraining Loss: 0.013661 \tTraining Accuracy: 0.953059 \tValidation Loss: 0.089046 \tValidation Accuracy: 0.696667\n"
          ]
        }
      ],
      "source": [
        "train_loss_CNN_irr_lambda1, train_acc_CNN_irr_lambda1, valid_loss_CNN_irr_lambda1, valid_acc_CNN_irr_lambda1, time_CNN_irr_lambda1 = train_irr(model_CNN_irr_lambda1, lambda_reg, n_epochs, criterion, optimizer, norm, 'model_CNN_irr_lambda1', train_on_gpu)"
      ]
    },
    {
      "cell_type": "code",
      "execution_count": null,
      "metadata": {
        "colab": {
          "base_uri": "https://localhost:8080/"
        },
        "id": "0BfbaPH6iDgc",
        "outputId": "68c59e84-33b5-484f-b76b-71f0a814dc60"
      },
      "outputs": [
        {
          "name": "stdout",
          "output_type": "stream",
          "text": [
            "Test Loss: 0.045053\n",
            "\n",
            "Test Accuracy of airplane: 73% (737/1000)\n",
            "Test Accuracy of automobile: 79% (793/1000)\n",
            "Test Accuracy of  bird: 59% (593/1000)\n",
            "Test Accuracy of   cat: 47% (477/1000)\n",
            "Test Accuracy of  deer: 57% (570/1000)\n",
            "Test Accuracy of   dog: 60% (607/1000)\n",
            "Test Accuracy of  frog: 76% (762/1000)\n",
            "Test Accuracy of horse: 77% (773/1000)\n",
            "Test Accuracy of  ship: 81% (810/1000)\n",
            "Test Accuracy of truck: 79% (793/1000)\n",
            "\n",
            "Test Accuracy (Overall): 69% (6915/10000)\n"
          ]
        }
      ],
      "source": [
        "test_loss_CNN_irr_lambda1, class_correct_CNN_irr_lambda1, class_total_CNN_irr_lambda1, test_acc_CNN_irr_lambda1 = test(model_CNN_irr_lambda1, lambda_reg, n_epochs, criterion, optimizer, norm, 'model_CNN_irr_lambda1', train_on_gpu)"
      ]
    },
    {
      "cell_type": "code",
      "execution_count": null,
      "metadata": {
        "id": "5BpnF5TrxME4"
      },
      "outputs": [],
      "source": [
        "arrs = [train_loss_CNN_irr_lambda1, train_acc_CNN_irr_lambda1, valid_loss_CNN_irr_lambda1, valid_acc_CNN_irr_lambda1, time_CNN_irr_lambda1, test_loss_CNN_irr_lambda1, class_correct_CNN_irr_lambda1, class_total_CNN_irr_lambda1, test_acc_CNN_irr_lambda1]"
      ]
    },
    {
      "cell_type": "code",
      "execution_count": null,
      "metadata": {
        "colab": {
          "base_uri": "https://localhost:8080/"
        },
        "id": "wT7Uii_sxME4",
        "outputId": "011940d7-96d9-4077-fed8-8adec4e4ef90"
      },
      "outputs": [
        {
          "name": "stderr",
          "output_type": "stream",
          "text": [
            "<ipython-input-12-b3a6eac2ef9e>:5: VisibleDeprecationWarning: Creating an ndarray from ragged nested sequences (which is a list-or-tuple of lists-or-tuples-or ndarrays with different lengths or shapes) is deprecated. If you meant to do this, you must specify 'dtype=object' when creating the ndarray.\n",
            "  df = pd.DataFrame(np.array(arrs), index = ['train_loss', 'train_acc', 'val_loss', 'val_acc', 'time', 'test_loss', 'test_correct', 'test_total', 'test_acc'])\n"
          ]
        }
      ],
      "source": [
        "save_results(arrs, \"CNN_irr_lambda1\")"
      ]
    },
    {
      "cell_type": "markdown",
      "metadata": {
        "id": "IRNJ-7gliDgd"
      },
      "source": [
        "#### ResNet34"
      ]
    },
    {
      "cell_type": "code",
      "execution_count": null,
      "metadata": {
        "id": "jktVBsfQiDgd"
      },
      "outputs": [],
      "source": [
        "model_RESNET_irr_lambda1 = torch.hub.load('pytorch/vision:v0.10.0', 'resnet34', pretrained=False)\n",
        "\n",
        "criterion = CustomLoss()\n",
        "optimizer = optim.SGD(params = model_RESNET_irr_lambda1.parameters(), lr = 0.03)"
      ]
    },
    {
      "cell_type": "code",
      "execution_count": null,
      "metadata": {
        "colab": {
          "base_uri": "https://localhost:8080/"
        },
        "id": "XqeFw1wJiDgd",
        "outputId": "c3958be4-0f50-4aaf-8da0-44fab2a4ca59"
      },
      "outputs": [
        {
          "name": "stdout",
          "output_type": "stream",
          "text": [
            "Epoch: 0 \tTraining Loss: 0.207126 \tTraining Accuracy: 0.389647 \tValidation Loss: 0.179474 \tValidation Accuracy: 0.456400\n",
            "Validation loss decreased (inf --> 0.179474).  Saving model ...\n",
            "Epoch: 1 \tTraining Loss: 0.185528 \tTraining Accuracy: 0.541129 \tValidation Loss: 0.165566 \tValidation Accuracy: 0.589200\n",
            "Validation loss decreased (0.179474 --> 0.165566).  Saving model ...\n",
            "Epoch: 2 \tTraining Loss: 0.174866 \tTraining Accuracy: 0.624188 \tValidation Loss: 0.160932 \tValidation Accuracy: 0.619867\n",
            "Validation loss decreased (0.165566 --> 0.160932).  Saving model ...\n",
            "Epoch: 3 \tTraining Loss: 0.167508 \tTraining Accuracy: 0.677506 \tValidation Loss: 0.159218 \tValidation Accuracy: 0.651867\n",
            "Validation loss decreased (0.160932 --> 0.159218).  Saving model ...\n",
            "Epoch: 4 \tTraining Loss: 0.161602 \tTraining Accuracy: 0.719953 \tValidation Loss: 0.155277 \tValidation Accuracy: 0.681600\n",
            "Validation loss decreased (0.159218 --> 0.155277).  Saving model ...\n",
            "Epoch: 5 \tTraining Loss: 0.157514 \tTraining Accuracy: 0.753153 \tValidation Loss: 0.156952 \tValidation Accuracy: 0.640400\n",
            "Epoch: 6 \tTraining Loss: 0.153304 \tTraining Accuracy: 0.786306 \tValidation Loss: 0.155338 \tValidation Accuracy: 0.722933\n",
            "Epoch: 7 \tTraining Loss: 0.149744 \tTraining Accuracy: 0.814541 \tValidation Loss: 0.155193 \tValidation Accuracy: 0.719200\n",
            "Validation loss decreased (0.155277 --> 0.155193).  Saving model ...\n",
            "Epoch: 8 \tTraining Loss: 0.146433 \tTraining Accuracy: 0.839906 \tValidation Loss: 0.155022 \tValidation Accuracy: 0.716400\n",
            "Validation loss decreased (0.155193 --> 0.155022).  Saving model ...\n",
            "Epoch: 9 \tTraining Loss: 0.143686 \tTraining Accuracy: 0.862329 \tValidation Loss: 0.161179 \tValidation Accuracy: 0.707733\n",
            "Epoch: 10 \tTraining Loss: 0.142362 \tTraining Accuracy: 0.878047 \tValidation Loss: 0.159221 \tValidation Accuracy: 0.723333\n",
            "Epoch: 11 \tTraining Loss: 0.139479 \tTraining Accuracy: 0.899741 \tValidation Loss: 0.160339 \tValidation Accuracy: 0.722800\n",
            "Epoch: 12 \tTraining Loss: 0.138140 \tTraining Accuracy: 0.916188 \tValidation Loss: 0.158881 \tValidation Accuracy: 0.710000\n",
            "Epoch: 13 \tTraining Loss: 0.136574 \tTraining Accuracy: 0.930071 \tValidation Loss: 0.162956 \tValidation Accuracy: 0.738133\n",
            "Epoch: 14 \tTraining Loss: 0.136279 \tTraining Accuracy: 0.935412 \tValidation Loss: 0.166401 \tValidation Accuracy: 0.722933\n",
            "Epoch: 15 \tTraining Loss: 0.135876 \tTraining Accuracy: 0.943200 \tValidation Loss: 0.170680 \tValidation Accuracy: 0.710267\n",
            "Epoch: 16 \tTraining Loss: 0.134504 \tTraining Accuracy: 0.955929 \tValidation Loss: 0.167743 \tValidation Accuracy: 0.735467\n",
            "Epoch: 17 \tTraining Loss: 0.134298 \tTraining Accuracy: 0.960565 \tValidation Loss: 0.170270 \tValidation Accuracy: 0.734400\n",
            "Epoch: 18 \tTraining Loss: 0.133836 \tTraining Accuracy: 0.967176 \tValidation Loss: 0.172552 \tValidation Accuracy: 0.720267\n",
            "Epoch: 19 \tTraining Loss: 0.133559 \tTraining Accuracy: 0.971765 \tValidation Loss: 0.174165 \tValidation Accuracy: 0.741867\n"
          ]
        }
      ],
      "source": [
        "train_loss_RESNET_irr_lambda1, train_acc_RESNET_irr_lambda1, valid_loss_RESNET_irr_lambda1, valid_acc_RESNET_irr_lambda1, time_RESNET_irr_lambda1 = train_irr(model_RESNET_irr_lambda1, lambda_reg, n_epochs, criterion, optimizer, norm, 'model_RESNET_irr_lambda1', train_on_gpu)"
      ]
    },
    {
      "cell_type": "code",
      "execution_count": null,
      "metadata": {
        "colab": {
          "base_uri": "https://localhost:8080/"
        },
        "id": "hC50X06oiDgd",
        "outputId": "1ee6e4a1-de0f-4c9e-ddc4-9e788afe365e"
      },
      "outputs": [
        {
          "name": "stdout",
          "output_type": "stream",
          "text": [
            "Test Loss: 0.144573\n",
            "\n",
            "Test Accuracy of airplane: 83% (833/1000)\n",
            "Test Accuracy of automobile: 83% (837/1000)\n",
            "Test Accuracy of  bird: 69% (694/1000)\n",
            "Test Accuracy of   cat: 44% (449/1000)\n",
            "Test Accuracy of  deer: 58% (589/1000)\n",
            "Test Accuracy of   dog: 70% (701/1000)\n",
            "Test Accuracy of  frog: 67% (675/1000)\n",
            "Test Accuracy of horse: 73% (739/1000)\n",
            "Test Accuracy of  ship: 78% (784/1000)\n",
            "Test Accuracy of truck: 74% (743/1000)\n",
            "\n",
            "Test Accuracy (Overall): 70% (7044/10000)\n"
          ]
        }
      ],
      "source": [
        "test_loss_RESNET_irr_lambda1, class_correct_RESNET_irr_lambda1, class_total_RESNET_irr_lambda1, test_acc_RESNET_irr_lambda1 = test(model_RESNET_irr_lambda1, lambda_reg, n_epochs, criterion, optimizer, norm, 'model_RESNET_irr_lambda1', train_on_gpu)"
      ]
    },
    {
      "cell_type": "code",
      "execution_count": null,
      "metadata": {
        "id": "U207H72bxl1V"
      },
      "outputs": [],
      "source": [
        "arrs = [train_loss_RESNET_irr_lambda1, train_acc_RESNET_irr_lambda1, valid_loss_RESNET_irr_lambda1, valid_acc_RESNET_irr_lambda1, time_RESNET_irr_lambda1, test_loss_RESNET_irr_lambda1, class_correct_RESNET_irr_lambda1, class_total_RESNET_irr_lambda1, test_acc_RESNET_irr_lambda1]"
      ]
    },
    {
      "cell_type": "code",
      "execution_count": null,
      "metadata": {
        "colab": {
          "base_uri": "https://localhost:8080/"
        },
        "id": "N745O3tdxl1W",
        "outputId": "5ce8b938-b5ec-48e8-ea59-1cfff6b5e0c6"
      },
      "outputs": [
        {
          "name": "stderr",
          "output_type": "stream",
          "text": [
            "<ipython-input-12-b3a6eac2ef9e>:5: VisibleDeprecationWarning: Creating an ndarray from ragged nested sequences (which is a list-or-tuple of lists-or-tuples-or ndarrays with different lengths or shapes) is deprecated. If you meant to do this, you must specify 'dtype=object' when creating the ndarray.\n",
            "  df = pd.DataFrame(np.array(arrs), index = ['train_loss', 'train_acc', 'val_loss', 'val_acc', 'time', 'test_loss', 'test_correct', 'test_total', 'test_acc'])\n"
          ]
        }
      ],
      "source": [
        "save_results(arrs, \"RESNET_irr_lambda1\")"
      ]
    },
    {
      "cell_type": "markdown",
      "metadata": {
        "id": "Lc_3C8MCiDgd"
      },
      "source": [
        "#### DenseNet121"
      ]
    },
    {
      "cell_type": "code",
      "execution_count": 178,
      "metadata": {
        "id": "6HgIJgPWiDgd",
        "colab": {
          "base_uri": "https://localhost:8080/"
        },
        "outputId": "0b511d55-9a91-4de4-8822-f069cac87034"
      },
      "outputs": [
        {
          "output_type": "stream",
          "name": "stderr",
          "text": [
            "Using cache found in /root/.cache/torch/hub/pytorch_vision_v0.10.0\n"
          ]
        }
      ],
      "source": [
        "model_DNN_irr_lambda1 = torch.hub.load('pytorch/vision:v0.10.0', 'densenet121', pretrained=False)\n",
        "\n",
        "criterion = CustomLoss()\n",
        "optimizer = optim.SGD(params=model_DNN_irr_lambda1.parameters(), lr = 0.03)"
      ]
    },
    {
      "cell_type": "code",
      "execution_count": null,
      "metadata": {
        "id": "nCvyAAwwiDgd"
      },
      "outputs": [],
      "source": [
        "train_loss_DNN_irr_lambda1, train_acc_DNN_irr_lambda1, valid_loss_DNN_irr_lambda1, valid_acc_DNN_irr_lambda1, time_DNN_irr_lambda1 = train_irr(model_DNN_irr_lambda1, lambda_reg, n_epochs, criterion, optimizer, norm, 'model_DNN_irr_lambda1', train_on_gpu)"
      ]
    },
    {
      "cell_type": "code",
      "execution_count": null,
      "metadata": {
        "id": "w-wipvdUiDgd"
      },
      "outputs": [],
      "source": [
        "test_loss_DNN_irr_lambda1, class_correct_DNN_irr_lambda1, class_total_DNN_irr_lambda1, test_acc_DNN_irr_lambda1 = test(model_DNN_irr_lambda1, lambda_reg, n_epochs, criterion, optimizer, norm, 'model_DNN_irr_lambda1', train_on_gpu)"
      ]
    },
    {
      "cell_type": "code",
      "execution_count": null,
      "metadata": {
        "id": "HfqwzpXKx1JX"
      },
      "outputs": [],
      "source": [
        "arrs = [train_loss_DNN_irr_lambda1, train_acc_DNN_irr_lambda1, valid_loss_DNN_irr_lambda1, valid_acc_DNN_irr_lambda1, time_DNN_irr_lambda1, test_loss_DNN_irr_lambda1, class_correct_DNN_irr_lambda1, class_total_DNN_irr_lambda1, test_acc_DNN_irr_lambda1]"
      ]
    },
    {
      "cell_type": "code",
      "execution_count": null,
      "metadata": {
        "colab": {
          "base_uri": "https://localhost:8080/"
        },
        "id": "sdxYg7gvx1JX",
        "outputId": "21c108e3-91a7-4379-c44c-0d1b6d4e1904"
      },
      "outputs": [
        {
          "name": "stderr",
          "output_type": "stream",
          "text": [
            "<ipython-input-12-b3a6eac2ef9e>:5: VisibleDeprecationWarning: Creating an ndarray from ragged nested sequences (which is a list-or-tuple of lists-or-tuples-or ndarrays with different lengths or shapes) is deprecated. If you meant to do this, you must specify 'dtype=object' when creating the ndarray.\n",
            "  df = pd.DataFrame(np.array(arrs), index = ['train_loss', 'train_acc', 'val_loss', 'val_acc', 'time', 'test_loss', 'test_correct', 'test_total', 'test_acc'])\n"
          ]
        }
      ],
      "source": [
        "save_results(arrs, \"DNN_irr_lambda1\")"
      ]
    },
    {
      "cell_type": "markdown",
      "metadata": {
        "id": "9qVc93bhzSwV"
      },
      "source": [
        "### $\\lambda_{2} = 10^{-3}$"
      ]
    },
    {
      "cell_type": "code",
      "execution_count": 24,
      "metadata": {
        "id": "7bEFuIsmzSwW"
      },
      "outputs": [],
      "source": [
        "lambda_reg = 1e-3"
      ]
    },
    {
      "cell_type": "markdown",
      "metadata": {
        "id": "Dj9I4m-rzSwW"
      },
      "source": [
        "#### MLP"
      ]
    },
    {
      "cell_type": "code",
      "execution_count": 183,
      "metadata": {
        "id": "4EEvFer_zSwX"
      },
      "outputs": [],
      "source": [
        "model_MLP_irr_lambda2 = MLP()\n",
        "\n",
        "criterion = CustomLoss()\n",
        "optimizer = optim.SGD(params = model_MLP_irr_lambda2.parameters(), lr = 0.03)"
      ]
    },
    {
      "cell_type": "code",
      "execution_count": null,
      "metadata": {
        "id": "L1zvHzcVzSwX"
      },
      "outputs": [],
      "source": [
        "train_loss_MLP_irr_lambda2, train_acc_MLP_irr_lambda2, valid_loss_MLP_irr_lambda2, valid_acc_MLP_irr_lambda2, time_MLP_irr_lambda2 = train_irr(model_MLP_irr_lambda2, lambda_reg, n_epochs, criterion, optimizer, norm, 'model_MLP_irr_lambda2', train_on_gpu)"
      ]
    },
    {
      "cell_type": "code",
      "execution_count": null,
      "metadata": {
        "id": "spPvnYK9zSwX"
      },
      "outputs": [],
      "source": [
        "test_loss_MLP_irr_lambda2, class_correct_MLP_irr_lambda2, class_total_MLP_irr_lambda2, test_acc_MLP_irr_lambda2 = test(model_MLP_irr_lambda2, lambda_reg, n_epochs, criterion, optimizer, norm, 'model_MLP_irr_lambda2', train_on_gpu)"
      ]
    },
    {
      "cell_type": "code",
      "execution_count": null,
      "metadata": {
        "id": "9LLTRObTzSwX"
      },
      "outputs": [],
      "source": [
        "arrs = [train_loss_MLP_irr_lambda2, train_acc_MLP_irr_lambda2, valid_loss_MLP_irr_lambda2, valid_acc_MLP_irr_lambda2, time_MLP_irr_lambda2, test_loss_MLP_irr_lambda2, class_correct_MLP_irr_lambda2, class_total_MLP_irr_lambda2, test_acc_MLP_irr_lambda2]"
      ]
    },
    {
      "cell_type": "code",
      "execution_count": null,
      "metadata": {
        "colab": {
          "base_uri": "https://localhost:8080/"
        },
        "id": "RnnXr2aGzSwX",
        "outputId": "5c8f8f7a-3dac-4063-a62b-0b738e57f05e"
      },
      "outputs": [
        {
          "name": "stderr",
          "output_type": "stream",
          "text": [
            "<ipython-input-12-b3a6eac2ef9e>:5: VisibleDeprecationWarning: Creating an ndarray from ragged nested sequences (which is a list-or-tuple of lists-or-tuples-or ndarrays with different lengths or shapes) is deprecated. If you meant to do this, you must specify 'dtype=object' when creating the ndarray.\n",
            "  df = pd.DataFrame(np.array(arrs), index = ['train_loss', 'train_acc', 'val_loss', 'val_acc', 'time', 'test_loss', 'test_correct', 'test_total', 'test_acc'])\n"
          ]
        }
      ],
      "source": [
        "save_results(arrs, \"MLP_irr_lambda2\")"
      ]
    },
    {
      "cell_type": "markdown",
      "metadata": {
        "id": "QvbKTIvSzSwX"
      },
      "source": [
        "#### CNN"
      ]
    },
    {
      "cell_type": "code",
      "execution_count": null,
      "metadata": {
        "id": "X_gFTVjhzSwY"
      },
      "outputs": [],
      "source": [
        "model_CNN_irr_lambda2 = CNN()\n",
        "\n",
        "criterion = CustomLoss()\n",
        "optimizer = optim.SGD(params=model_CNN_irr_lambda2.parameters(), lr = 0.03)"
      ]
    },
    {
      "cell_type": "code",
      "execution_count": null,
      "metadata": {
        "colab": {
          "base_uri": "https://localhost:8080/"
        },
        "id": "fl-Y6r-8zSwY",
        "outputId": "0d2f486c-f128-4b3d-9252-d194ade3e1f3"
      },
      "outputs": [
        {
          "name": "stdout",
          "output_type": "stream",
          "text": [
            "Epoch: 0 \tTraining Loss: 0.108197 \tTraining Accuracy: 0.249859 \tValidation Loss: 0.097240 \tValidation Accuracy: 0.350400\n",
            "Validation loss decreased (inf --> 0.097240).  Saving model ...\n",
            "Epoch: 1 \tTraining Loss: 0.085514 \tTraining Accuracy: 0.444706 \tValidation Loss: 0.075601 \tValidation Accuracy: 0.506933\n",
            "Validation loss decreased (0.097240 --> 0.075601).  Saving model ...\n",
            "Epoch: 2 \tTraining Loss: 0.075962 \tTraining Accuracy: 0.533718 \tValidation Loss: 0.070604 \tValidation Accuracy: 0.548267\n",
            "Validation loss decreased (0.075601 --> 0.070604).  Saving model ...\n",
            "Epoch: 3 \tTraining Loss: 0.069517 \tTraining Accuracy: 0.595106 \tValidation Loss: 0.062414 \tValidation Accuracy: 0.621600\n",
            "Validation loss decreased (0.070604 --> 0.062414).  Saving model ...\n",
            "Epoch: 4 \tTraining Loss: 0.065102 \tTraining Accuracy: 0.647718 \tValidation Loss: 0.063796 \tValidation Accuracy: 0.623467\n",
            "Epoch: 5 \tTraining Loss: 0.062078 \tTraining Accuracy: 0.685788 \tValidation Loss: 0.059592 \tValidation Accuracy: 0.675200\n",
            "Validation loss decreased (0.062414 --> 0.059592).  Saving model ...\n",
            "Epoch: 6 \tTraining Loss: 0.059774 \tTraining Accuracy: 0.719788 \tValidation Loss: 0.061946 \tValidation Accuracy: 0.668133\n",
            "Epoch: 7 \tTraining Loss: 0.058259 \tTraining Accuracy: 0.753859 \tValidation Loss: 0.062357 \tValidation Accuracy: 0.690933\n",
            "Epoch: 8 \tTraining Loss: 0.057367 \tTraining Accuracy: 0.779694 \tValidation Loss: 0.064525 \tValidation Accuracy: 0.705333\n",
            "Epoch: 9 \tTraining Loss: 0.056672 \tTraining Accuracy: 0.807694 \tValidation Loss: 0.068342 \tValidation Accuracy: 0.700267\n",
            "Epoch: 10 \tTraining Loss: 0.056971 \tTraining Accuracy: 0.831694 \tValidation Loss: 0.072261 \tValidation Accuracy: 0.704533\n",
            "Epoch: 11 \tTraining Loss: 0.057475 \tTraining Accuracy: 0.851812 \tValidation Loss: 0.077825 \tValidation Accuracy: 0.697200\n",
            "Epoch: 12 \tTraining Loss: 0.058750 \tTraining Accuracy: 0.873082 \tValidation Loss: 0.083341 \tValidation Accuracy: 0.691733\n",
            "Epoch: 13 \tTraining Loss: 0.059917 \tTraining Accuracy: 0.892635 \tValidation Loss: 0.091788 \tValidation Accuracy: 0.675200\n",
            "Epoch: 14 \tTraining Loss: 0.061697 \tTraining Accuracy: 0.908541 \tValidation Loss: 0.096090 \tValidation Accuracy: 0.692000\n",
            "Epoch: 15 \tTraining Loss: 0.064221 \tTraining Accuracy: 0.920306 \tValidation Loss: 0.102711 \tValidation Accuracy: 0.678267\n",
            "Epoch: 16 \tTraining Loss: 0.067129 \tTraining Accuracy: 0.927882 \tValidation Loss: 0.109487 \tValidation Accuracy: 0.676800\n",
            "Epoch: 17 \tTraining Loss: 0.070147 \tTraining Accuracy: 0.933012 \tValidation Loss: 0.112552 \tValidation Accuracy: 0.689600\n",
            "Epoch: 18 \tTraining Loss: 0.072854 \tTraining Accuracy: 0.940329 \tValidation Loss: 0.121744 \tValidation Accuracy: 0.683467\n",
            "Epoch: 19 \tTraining Loss: 0.075412 \tTraining Accuracy: 0.947694 \tValidation Loss: 0.126324 \tValidation Accuracy: 0.686533\n"
          ]
        }
      ],
      "source": [
        "train_loss_CNN_irr_lambda2, train_acc_CNN_irr_lambda2, valid_loss_CNN_irr_lambda2, valid_acc_CNN_irr_lambda2, time_CNN_irr_lambda2 = train_irr(model_CNN_irr_lambda2, lambda_reg, n_epochs, criterion, optimizer, norm, 'model_CNN_irr_lambda2', train_on_gpu)"
      ]
    },
    {
      "cell_type": "code",
      "execution_count": null,
      "metadata": {
        "colab": {
          "base_uri": "https://localhost:8080/"
        },
        "id": "ISv9zbgSzSwY",
        "outputId": "2ae47aa6-aa24-4f24-fc31-1779c16568ae"
      },
      "outputs": [
        {
          "name": "stdout",
          "output_type": "stream",
          "text": [
            "Test Loss: 0.055538\n",
            "\n",
            "Test Accuracy of airplane: 68% (682/1000)\n",
            "Test Accuracy of automobile: 72% (724/1000)\n",
            "Test Accuracy of  bird: 51% (518/1000)\n",
            "Test Accuracy of   cat: 42% (428/1000)\n",
            "Test Accuracy of  deer: 70% (709/1000)\n",
            "Test Accuracy of   dog: 62% (628/1000)\n",
            "Test Accuracy of  frog: 74% (749/1000)\n",
            "Test Accuracy of horse: 66% (662/1000)\n",
            "Test Accuracy of  ship: 83% (838/1000)\n",
            "Test Accuracy of truck: 73% (739/1000)\n",
            "\n",
            "Test Accuracy (Overall): 66% (6677/10000)\n"
          ]
        }
      ],
      "source": [
        "test_loss_CNN_irr_lambda2, class_correct_CNN_irr_lambda2, class_total_CNN_irr_lambda2, test_acc_CNN_irr_lambda2 = test(model_CNN_irr_lambda2, lambda_reg, n_epochs, criterion, optimizer, norm, 'model_CNN_irr_lambda2', train_on_gpu)"
      ]
    },
    {
      "cell_type": "code",
      "execution_count": null,
      "metadata": {
        "id": "iIl09g9hzSwY"
      },
      "outputs": [],
      "source": [
        "arrs = [train_loss_CNN_irr_lambda2, train_acc_CNN_irr_lambda2, valid_loss_CNN_irr_lambda2, valid_acc_CNN_irr_lambda2, time_CNN_irr_lambda2, test_loss_CNN_irr_lambda2, class_correct_CNN_irr_lambda2, class_total_CNN_irr_lambda2, test_acc_CNN_irr_lambda2]"
      ]
    },
    {
      "cell_type": "code",
      "execution_count": null,
      "metadata": {
        "colab": {
          "base_uri": "https://localhost:8080/"
        },
        "id": "bzObaUXOzSwY",
        "outputId": "3cdcaaae-9160-4cf8-eac2-850fcead5a11"
      },
      "outputs": [
        {
          "name": "stderr",
          "output_type": "stream",
          "text": [
            "<ipython-input-12-b3a6eac2ef9e>:5: VisibleDeprecationWarning: Creating an ndarray from ragged nested sequences (which is a list-or-tuple of lists-or-tuples-or ndarrays with different lengths or shapes) is deprecated. If you meant to do this, you must specify 'dtype=object' when creating the ndarray.\n",
            "  df = pd.DataFrame(np.array(arrs), index = ['train_loss', 'train_acc', 'val_loss', 'val_acc', 'time', 'test_loss', 'test_correct', 'test_total', 'test_acc'])\n"
          ]
        }
      ],
      "source": [
        "save_results(arrs, \"CNN_irr_lambda2\")"
      ]
    },
    {
      "cell_type": "markdown",
      "metadata": {
        "id": "9Y9rGxf9zSwY"
      },
      "source": [
        "#### ResNet34"
      ]
    },
    {
      "cell_type": "code",
      "execution_count": null,
      "metadata": {
        "id": "hKhjtjyrzSwY"
      },
      "outputs": [],
      "source": [
        "model_RESNET_irr_lambda2 = torch.hub.load('pytorch/vision:v0.10.0', 'resnet34', pretrained=False)\n",
        "\n",
        "criterion = CustomLoss()\n",
        "optimizer = optim.SGD(params = model_RESNET_irr_lambda2.parameters(), lr = 0.03)"
      ]
    },
    {
      "cell_type": "code",
      "execution_count": null,
      "metadata": {
        "colab": {
          "base_uri": "https://localhost:8080/"
        },
        "id": "l-fzblBFzSwY",
        "outputId": "4cfb04d6-0012-4c23-8584-cf632c5161e2"
      },
      "outputs": [
        {
          "name": "stdout",
          "output_type": "stream",
          "text": [
            "Epoch: 0 \tTraining Loss: 1.287596 \tTraining Accuracy: 0.389859 \tValidation Loss: 1.145675 \tValidation Accuracy: 0.491067\n",
            "Validation loss decreased (inf --> 1.145675).  Saving model ...\n",
            "Epoch: 1 \tTraining Loss: 1.269130 \tTraining Accuracy: 0.537600 \tValidation Loss: 1.181561 \tValidation Accuracy: 0.604267\n",
            "Epoch: 2 \tTraining Loss: 1.261594 \tTraining Accuracy: 0.621082 \tValidation Loss: 1.126567 \tValidation Accuracy: 0.635067\n",
            "Validation loss decreased (1.145675 --> 1.126567).  Saving model ...\n",
            "Epoch: 3 \tTraining Loss: 1.257934 \tTraining Accuracy: 0.674000 \tValidation Loss: 1.136663 \tValidation Accuracy: 0.617467\n",
            "Epoch: 4 \tTraining Loss: 1.256462 \tTraining Accuracy: 0.711976 \tValidation Loss: 1.078909 \tValidation Accuracy: 0.676400\n",
            "Validation loss decreased (1.126567 --> 1.078909).  Saving model ...\n",
            "Epoch: 5 \tTraining Loss: 1.254913 \tTraining Accuracy: 0.755200 \tValidation Loss: 1.125358 \tValidation Accuracy: 0.684000\n",
            "Epoch: 6 \tTraining Loss: 1.255478 \tTraining Accuracy: 0.784471 \tValidation Loss: 1.151663 \tValidation Accuracy: 0.702133\n",
            "Epoch: 7 \tTraining Loss: 1.256818 \tTraining Accuracy: 0.810635 \tValidation Loss: 1.178300 \tValidation Accuracy: 0.722400\n",
            "Epoch: 8 \tTraining Loss: 1.257952 \tTraining Accuracy: 0.839341 \tValidation Loss: 1.158771 \tValidation Accuracy: 0.718800\n",
            "Epoch: 9 \tTraining Loss: 1.261723 \tTraining Accuracy: 0.850847 \tValidation Loss: 1.167621 \tValidation Accuracy: 0.718800\n",
            "Epoch: 10 \tTraining Loss: 1.264723 \tTraining Accuracy: 0.874776 \tValidation Loss: 1.141739 \tValidation Accuracy: 0.696800\n",
            "Epoch: 11 \tTraining Loss: 1.266806 \tTraining Accuracy: 0.901035 \tValidation Loss: 1.165393 \tValidation Accuracy: 0.726533\n",
            "Epoch: 12 \tTraining Loss: 1.270578 \tTraining Accuracy: 0.914541 \tValidation Loss: 1.193125 \tValidation Accuracy: 0.734000\n",
            "Epoch: 13 \tTraining Loss: 1.273848 \tTraining Accuracy: 0.931035 \tValidation Loss: 1.158632 \tValidation Accuracy: 0.715067\n",
            "Epoch: 14 \tTraining Loss: 1.277921 \tTraining Accuracy: 0.939741 \tValidation Loss: 1.168723 \tValidation Accuracy: 0.737200\n",
            "Epoch: 15 \tTraining Loss: 1.281807 \tTraining Accuracy: 0.946541 \tValidation Loss: 1.189327 \tValidation Accuracy: 0.734400\n",
            "Epoch: 16 \tTraining Loss: 1.286154 \tTraining Accuracy: 0.951059 \tValidation Loss: 1.176246 \tValidation Accuracy: 0.742533\n",
            "Epoch: 17 \tTraining Loss: 1.289750 \tTraining Accuracy: 0.959788 \tValidation Loss: 1.210230 \tValidation Accuracy: 0.735733\n",
            "Epoch: 18 \tTraining Loss: 1.293636 \tTraining Accuracy: 0.961929 \tValidation Loss: 1.130308 \tValidation Accuracy: 0.707333\n",
            "Epoch: 19 \tTraining Loss: 1.297022 \tTraining Accuracy: 0.967953 \tValidation Loss: 1.189378 \tValidation Accuracy: 0.738933\n"
          ]
        }
      ],
      "source": [
        "train_loss_RESNET_irr_lambda2, train_acc_RESNET_irr_lambda2, valid_loss_RESNET_irr_lambda2, valid_acc_RESNET_irr_lambda2, time_RESNET_irr_lambda2 = train_irr(model_RESNET_irr_lambda2, lambda_reg, n_epochs, criterion, optimizer, norm, 'model_RESNET_irr_lambda2', train_on_gpu)"
      ]
    },
    {
      "cell_type": "code",
      "execution_count": null,
      "metadata": {
        "colab": {
          "base_uri": "https://localhost:8080/"
        },
        "id": "y-twxBKOzSwY",
        "outputId": "43495903-886c-4dae-ff24-dd2e22772b3e"
      },
      "outputs": [
        {
          "name": "stdout",
          "output_type": "stream",
          "text": [
            "Test Loss: 0.965590\n",
            "\n",
            "Test Accuracy of airplane: 85% (850/1000)\n",
            "Test Accuracy of automobile: 81% (818/1000)\n",
            "Test Accuracy of  bird: 56% (562/1000)\n",
            "Test Accuracy of   cat: 51% (518/1000)\n",
            "Test Accuracy of  deer: 63% (630/1000)\n",
            "Test Accuracy of   dog: 47% (474/1000)\n",
            "Test Accuracy of  frog: 82% (828/1000)\n",
            "Test Accuracy of horse: 64% (646/1000)\n",
            "Test Accuracy of  ship: 56% (567/1000)\n",
            "Test Accuracy of truck: 72% (725/1000)\n",
            "\n",
            "Test Accuracy (Overall): 66% (6618/10000)\n"
          ]
        }
      ],
      "source": [
        "test_loss_RESNET_irr_lambda2, class_correct_RESNET_irr_lambda2, class_total_RESNET_irr_lambda2, test_acc_RESNET_irr_lambda2 = test(model_RESNET_irr_lambda2, lambda_reg, n_epochs, criterion, optimizer, norm, 'model_RESNET_irr_lambda2', train_on_gpu)"
      ]
    },
    {
      "cell_type": "code",
      "execution_count": null,
      "metadata": {
        "id": "-o7z-QRkznJ8"
      },
      "outputs": [],
      "source": [
        "arrs = [train_loss_RESNET_irr_lambda2, train_acc_RESNET_irr_lambda2, valid_loss_RESNET_irr_lambda2, valid_acc_RESNET_irr_lambda2, time_RESNET_irr_lambda2, test_loss_RESNET_irr_lambda2, class_correct_RESNET_irr_lambda2, class_total_RESNET_irr_lambda2, test_acc_RESNET_irr_lambda2]"
      ]
    },
    {
      "cell_type": "code",
      "execution_count": null,
      "metadata": {
        "colab": {
          "base_uri": "https://localhost:8080/"
        },
        "id": "jhgvTg9QznJ8",
        "outputId": "82e47f0f-4ff3-4f2c-bd3f-c328cb849035"
      },
      "outputs": [
        {
          "name": "stderr",
          "output_type": "stream",
          "text": [
            "<ipython-input-12-b3a6eac2ef9e>:5: VisibleDeprecationWarning: Creating an ndarray from ragged nested sequences (which is a list-or-tuple of lists-or-tuples-or ndarrays with different lengths or shapes) is deprecated. If you meant to do this, you must specify 'dtype=object' when creating the ndarray.\n",
            "  df = pd.DataFrame(np.array(arrs), index = ['train_loss', 'train_acc', 'val_loss', 'val_acc', 'time', 'test_loss', 'test_correct', 'test_total', 'test_acc'])\n"
          ]
        }
      ],
      "source": [
        "save_results(arrs, \"RESNET_irr_lambda2\")"
      ]
    },
    {
      "cell_type": "markdown",
      "metadata": {
        "id": "rQSIQzh0zSwY"
      },
      "source": [
        "#### DenseNet121"
      ]
    },
    {
      "cell_type": "code",
      "execution_count": 25,
      "metadata": {
        "id": "OWqLP49JzSwZ",
        "colab": {
          "base_uri": "https://localhost:8080/"
        },
        "outputId": "9f7033fa-44a2-479d-fc4e-024c95fa997e"
      },
      "outputs": [
        {
          "output_type": "stream",
          "name": "stderr",
          "text": [
            "Downloading: \"https://github.com/pytorch/vision/zipball/v0.10.0\" to /root/.cache/torch/hub/v0.10.0.zip\n",
            "/usr/local/lib/python3.10/dist-packages/torchvision/models/_utils.py:208: UserWarning: The parameter 'pretrained' is deprecated since 0.13 and may be removed in the future, please use 'weights' instead.\n",
            "  warnings.warn(\n",
            "/usr/local/lib/python3.10/dist-packages/torchvision/models/_utils.py:223: UserWarning: Arguments other than a weight enum or `None` for 'weights' are deprecated since 0.13 and may be removed in the future. The current behavior is equivalent to passing `weights=None`.\n",
            "  warnings.warn(msg)\n"
          ]
        }
      ],
      "source": [
        "model_DNN_irr_lambda2 = torch.hub.load('pytorch/vision:v0.10.0', 'densenet121', pretrained=False)\n",
        "\n",
        "criterion = CustomLoss()\n",
        "optimizer = optim.SGD(params=model_DNN_irr_lambda2.parameters(), lr = 0.03)"
      ]
    },
    {
      "cell_type": "code",
      "execution_count": null,
      "metadata": {
        "id": "_ooifFgjzSwZ"
      },
      "outputs": [],
      "source": [
        "train_loss_DNN_irr_lambda2, train_acc_DNN_irr_lambda2, valid_loss_DNN_irr_lambda2, valid_acc_DNN_irr_lambda2, time_DNN_irr_lambda2 = train_irr(model_DNN_irr_lambda2, lambda_reg, n_epochs, criterion, optimizer, norm, 'model_DNN_irr_lambda2', train_on_gpu)"
      ]
    },
    {
      "cell_type": "code",
      "execution_count": null,
      "metadata": {
        "id": "7bqXhv0czSwZ"
      },
      "outputs": [],
      "source": [
        "test_loss_DNN_irr_lambda2, class_correct_DNN_irr_lambda2, class_total_DNN_irr_lambda2, test_acc_DNN_irr_lambda2 = test(model_DNN_irr_lambda2, lambda_reg, n_epochs, criterion, optimizer, norm, 'model_DNN_irr_lambda2', train_on_gpu)"
      ]
    },
    {
      "cell_type": "code",
      "execution_count": null,
      "metadata": {
        "id": "_H1TAp1czrIm"
      },
      "outputs": [],
      "source": [
        "arrs = [train_loss_DNN_irr_lambda2, train_acc_DNN_irr_lambda2, valid_loss_DNN_irr_lambda2, valid_acc_DNN_irr_lambda2, time_DNN_irr_lambda2, test_loss_DNN_irr_lambda2, class_correct_DNN_irr_lambda2, class_total_DNN_irr_lambda2, test_acc_DNN_irr_lambda2]"
      ]
    },
    {
      "cell_type": "code",
      "execution_count": null,
      "metadata": {
        "colab": {
          "base_uri": "https://localhost:8080/"
        },
        "id": "bpuLCOPozrIm",
        "outputId": "8157e9cc-b914-478e-d555-56df83ae535c"
      },
      "outputs": [
        {
          "name": "stderr",
          "output_type": "stream",
          "text": [
            "<ipython-input-12-b3a6eac2ef9e>:5: VisibleDeprecationWarning: Creating an ndarray from ragged nested sequences (which is a list-or-tuple of lists-or-tuples-or ndarrays with different lengths or shapes) is deprecated. If you meant to do this, you must specify 'dtype=object' when creating the ndarray.\n",
            "  df = pd.DataFrame(np.array(arrs), index = ['train_loss', 'train_acc', 'val_loss', 'val_acc', 'time', 'test_loss', 'test_correct', 'test_total', 'test_acc'])\n"
          ]
        }
      ],
      "source": [
        "save_results(arrs, \"DNN_irr_lambda2\")"
      ]
    },
    {
      "cell_type": "markdown",
      "metadata": {
        "id": "nldVT7wGz4Ix"
      },
      "source": [
        "### $\\lambda_{3} = 10^{-2}$"
      ]
    },
    {
      "cell_type": "code",
      "execution_count": null,
      "metadata": {
        "id": "G1AKno4iz4Iy"
      },
      "outputs": [],
      "source": [
        "lambda_reg = 1e-2"
      ]
    },
    {
      "cell_type": "markdown",
      "metadata": {
        "id": "W_ZQpZ7Bz4Iy"
      },
      "source": [
        "#### MLP"
      ]
    },
    {
      "cell_type": "code",
      "execution_count": null,
      "metadata": {
        "id": "r22afscTz4Iy"
      },
      "outputs": [],
      "source": [
        "model_MLP_irr_lambda3 = MLP()\n",
        "\n",
        "criterion = CustomLoss()\n",
        "optimizer = optim.SGD(params = model_MLP_irr_lambda3.parameters(), lr = 0.03)"
      ]
    },
    {
      "cell_type": "code",
      "execution_count": null,
      "metadata": {
        "colab": {
          "base_uri": "https://localhost:8080/"
        },
        "id": "7xvTXwVFz4Iy",
        "outputId": "fd0674df-faf0-4cbe-ad95-055b865a606f"
      },
      "outputs": [
        {
          "name": "stdout",
          "output_type": "stream",
          "text": [
            "Epoch: 0 \tTraining Loss: 0.614846 \tTraining Accuracy: 0.321012 \tValidation Loss: 0.575599 \tValidation Accuracy: 0.329200\n",
            "Validation loss decreased (inf --> 0.575599).  Saving model ...\n",
            "Epoch: 1 \tTraining Loss: 0.619952 \tTraining Accuracy: 0.405482 \tValidation Loss: 0.598378 \tValidation Accuracy: 0.428933\n",
            "Epoch: 2 \tTraining Loss: 0.631501 \tTraining Accuracy: 0.436800 \tValidation Loss: 0.618201 \tValidation Accuracy: 0.456000\n",
            "Epoch: 3 \tTraining Loss: 0.645689 \tTraining Accuracy: 0.461082 \tValidation Loss: 0.624990 \tValidation Accuracy: 0.460000\n",
            "Epoch: 4 \tTraining Loss: 0.661285 \tTraining Accuracy: 0.483929 \tValidation Loss: 0.635607 \tValidation Accuracy: 0.474667\n",
            "Epoch: 5 \tTraining Loss: 0.679231 \tTraining Accuracy: 0.499788 \tValidation Loss: 0.665614 \tValidation Accuracy: 0.490400\n",
            "Epoch: 6 \tTraining Loss: 0.698655 \tTraining Accuracy: 0.513247 \tValidation Loss: 0.680386 \tValidation Accuracy: 0.495867\n",
            "Epoch: 7 \tTraining Loss: 0.719360 \tTraining Accuracy: 0.529788 \tValidation Loss: 0.697487 \tValidation Accuracy: 0.478133\n",
            "Epoch: 8 \tTraining Loss: 0.742002 \tTraining Accuracy: 0.541953 \tValidation Loss: 0.716580 \tValidation Accuracy: 0.506533\n",
            "Epoch: 9 \tTraining Loss: 0.766147 \tTraining Accuracy: 0.557600 \tValidation Loss: 0.741885 \tValidation Accuracy: 0.506400\n",
            "Epoch: 10 \tTraining Loss: 0.792305 \tTraining Accuracy: 0.571741 \tValidation Loss: 0.773670 \tValidation Accuracy: 0.532400\n",
            "Epoch: 11 \tTraining Loss: 0.820044 \tTraining Accuracy: 0.586965 \tValidation Loss: 0.808325 \tValidation Accuracy: 0.534400\n",
            "Epoch: 12 \tTraining Loss: 0.849939 \tTraining Accuracy: 0.598871 \tValidation Loss: 0.820564 \tValidation Accuracy: 0.533600\n",
            "Epoch: 13 \tTraining Loss: 0.881412 \tTraining Accuracy: 0.612682 \tValidation Loss: 0.858304 \tValidation Accuracy: 0.541333\n",
            "Epoch: 14 \tTraining Loss: 0.914455 \tTraining Accuracy: 0.627200 \tValidation Loss: 0.880065 \tValidation Accuracy: 0.529467\n",
            "Epoch: 15 \tTraining Loss: 0.950281 \tTraining Accuracy: 0.642282 \tValidation Loss: 0.919324 \tValidation Accuracy: 0.531867\n",
            "Epoch: 16 \tTraining Loss: 0.988131 \tTraining Accuracy: 0.656988 \tValidation Loss: 0.961331 \tValidation Accuracy: 0.537600\n",
            "Epoch: 17 \tTraining Loss: 1.028487 \tTraining Accuracy: 0.673059 \tValidation Loss: 0.980150 \tValidation Accuracy: 0.529600\n",
            "Epoch: 18 \tTraining Loss: 1.070742 \tTraining Accuracy: 0.685553 \tValidation Loss: 1.040720 \tValidation Accuracy: 0.543600\n",
            "Epoch: 19 \tTraining Loss: 1.115270 \tTraining Accuracy: 0.703976 \tValidation Loss: 1.079478 \tValidation Accuracy: 0.549333\n"
          ]
        }
      ],
      "source": [
        "train_loss_MLP_irr_lambda3, train_acc_MLP_irr_lambda3, valid_loss_MLP_irr_lambda3, valid_acc_MLP_irr_lambda3, time_MLP_irr_lambda3 = train_irr(model_MLP_irr_lambda3, lambda_reg, n_epochs, criterion, optimizer, norm, 'model_MLP_irr_lambda3', train_on_gpu)"
      ]
    },
    {
      "cell_type": "code",
      "execution_count": null,
      "metadata": {
        "colab": {
          "base_uri": "https://localhost:8080/"
        },
        "id": "j8mzjdmxz4Iy",
        "outputId": "eac6dacf-b876-49fa-9510-296aa2ad12a8"
      },
      "outputs": [
        {
          "name": "stdout",
          "output_type": "stream",
          "text": [
            "Test Loss: 0.541425\n",
            "\n",
            "Test Accuracy of airplane: 31% (316/1000)\n",
            "Test Accuracy of automobile: 43% (437/1000)\n",
            "Test Accuracy of  bird:  9% (94/1000)\n",
            "Test Accuracy of   cat: 25% (254/1000)\n",
            "Test Accuracy of  deer: 16% (165/1000)\n",
            "Test Accuracy of   dog: 11% (118/1000)\n",
            "Test Accuracy of  frog: 32% (322/1000)\n",
            "Test Accuracy of horse: 80% (808/1000)\n",
            "Test Accuracy of  ship: 25% (255/1000)\n",
            "Test Accuracy of truck: 56% (569/1000)\n",
            "\n",
            "Test Accuracy (Overall): 33% (3338/10000)\n"
          ]
        }
      ],
      "source": [
        "test_loss_MLP_irr_lambda3, class_correct_MLP_irr_lambda3, class_total_MLP_irr_lambda3, test_acc_MLP_irr_lambda3 = test(model_MLP_irr_lambda3, lambda_reg, n_epochs, criterion, optimizer, norm, 'model_MLP_irr_lambda3', train_on_gpu)"
      ]
    },
    {
      "cell_type": "code",
      "execution_count": null,
      "metadata": {
        "id": "ibb6KJjCz4Iy"
      },
      "outputs": [],
      "source": [
        "arrs = [train_loss_MLP_irr_lambda3, train_acc_MLP_irr_lambda3, valid_loss_MLP_irr_lambda3, valid_acc_MLP_irr_lambda3, time_MLP_irr_lambda3, test_loss_MLP_irr_lambda3, class_correct_MLP_irr_lambda3, class_total_MLP_irr_lambda3, test_acc_MLP_irr_lambda3]"
      ]
    },
    {
      "cell_type": "code",
      "execution_count": null,
      "metadata": {
        "colab": {
          "base_uri": "https://localhost:8080/"
        },
        "id": "7RE8jtAAz4Iz",
        "outputId": "552bcd1f-3f80-43df-ca22-309f074fe99b"
      },
      "outputs": [
        {
          "name": "stderr",
          "output_type": "stream",
          "text": [
            "<ipython-input-12-b3a6eac2ef9e>:5: VisibleDeprecationWarning: Creating an ndarray from ragged nested sequences (which is a list-or-tuple of lists-or-tuples-or ndarrays with different lengths or shapes) is deprecated. If you meant to do this, you must specify 'dtype=object' when creating the ndarray.\n",
            "  df = pd.DataFrame(np.array(arrs), index = ['train_loss', 'train_acc', 'val_loss', 'val_acc', 'time', 'test_loss', 'test_correct', 'test_total', 'test_acc'])\n"
          ]
        }
      ],
      "source": [
        "save_results(arrs, \"MLP_irr_lambda3\")"
      ]
    },
    {
      "cell_type": "markdown",
      "metadata": {
        "id": "fDdkTCAgz4Iz"
      },
      "source": [
        "#### CNN"
      ]
    },
    {
      "cell_type": "code",
      "execution_count": null,
      "metadata": {
        "id": "iboUkqe8z4Iz"
      },
      "outputs": [],
      "source": [
        "model_CNN_irr_lambda3 = CNN()\n",
        "\n",
        "criterion = CustomLoss()\n",
        "optimizer = optim.SGD(params=model_CNN_irr_lambda3.parameters(), lr = 0.03)"
      ]
    },
    {
      "cell_type": "code",
      "execution_count": null,
      "metadata": {
        "colab": {
          "base_uri": "https://localhost:8080/"
        },
        "id": "mrHQk8_iz4Iz",
        "outputId": "128645b1-8298-40c4-f0e2-f86a9f7361da"
      },
      "outputs": [
        {
          "name": "stdout",
          "output_type": "stream",
          "text": [
            "Epoch: 0 \tTraining Loss: 0.167948 \tTraining Accuracy: 0.266118 \tValidation Loss: 0.142067 \tValidation Accuracy: 0.390400\n",
            "Validation loss decreased (inf --> 0.142067).  Saving model ...\n",
            "Epoch: 1 \tTraining Loss: 0.161513 \tTraining Accuracy: 0.461576 \tValidation Loss: 0.141592 \tValidation Accuracy: 0.505333\n",
            "Validation loss decreased (0.142067 --> 0.141592).  Saving model ...\n",
            "Epoch: 2 \tTraining Loss: 0.170318 \tTraining Accuracy: 0.532729 \tValidation Loss: 0.146334 \tValidation Accuracy: 0.573067\n",
            "Epoch: 3 \tTraining Loss: 0.183422 \tTraining Accuracy: 0.587765 \tValidation Loss: 0.144237 \tValidation Accuracy: 0.602267\n",
            "Epoch: 4 \tTraining Loss: 0.199617 \tTraining Accuracy: 0.637741 \tValidation Loss: 0.162503 \tValidation Accuracy: 0.650933\n",
            "Epoch: 5 \tTraining Loss: 0.218412 \tTraining Accuracy: 0.678000 \tValidation Loss: 0.165684 \tValidation Accuracy: 0.655067\n",
            "Epoch: 6 \tTraining Loss: 0.239898 \tTraining Accuracy: 0.713012 \tValidation Loss: 0.201892 \tValidation Accuracy: 0.686533\n",
            "Epoch: 7 \tTraining Loss: 0.263390 \tTraining Accuracy: 0.743176 \tValidation Loss: 0.212413 \tValidation Accuracy: 0.690267\n",
            "Epoch: 8 \tTraining Loss: 0.289923 \tTraining Accuracy: 0.769647 \tValidation Loss: 0.220333 \tValidation Accuracy: 0.696267\n",
            "Epoch: 9 \tTraining Loss: 0.318400 \tTraining Accuracy: 0.798706 \tValidation Loss: 0.250799 \tValidation Accuracy: 0.704933\n",
            "Epoch: 10 \tTraining Loss: 0.349737 \tTraining Accuracy: 0.823718 \tValidation Loss: 0.282508 \tValidation Accuracy: 0.700667\n",
            "Epoch: 11 \tTraining Loss: 0.383597 \tTraining Accuracy: 0.849906 \tValidation Loss: 0.295728 \tValidation Accuracy: 0.695600\n",
            "Epoch: 12 \tTraining Loss: 0.419294 \tTraining Accuracy: 0.870706 \tValidation Loss: 0.324805 \tValidation Accuracy: 0.698667\n",
            "Epoch: 13 \tTraining Loss: 0.456597 \tTraining Accuracy: 0.887906 \tValidation Loss: 0.356586 \tValidation Accuracy: 0.696267\n",
            "Epoch: 14 \tTraining Loss: 0.493810 \tTraining Accuracy: 0.904188 \tValidation Loss: 0.378706 \tValidation Accuracy: 0.698267\n",
            "Epoch: 15 \tTraining Loss: 0.530968 \tTraining Accuracy: 0.920541 \tValidation Loss: 0.376028 \tValidation Accuracy: 0.689467\n",
            "Epoch: 16 \tTraining Loss: 0.568337 \tTraining Accuracy: 0.928753 \tValidation Loss: 0.393212 \tValidation Accuracy: 0.674800\n",
            "Epoch: 17 \tTraining Loss: 0.605390 \tTraining Accuracy: 0.937012 \tValidation Loss: 0.415812 \tValidation Accuracy: 0.669200\n",
            "Epoch: 18 \tTraining Loss: 0.642091 \tTraining Accuracy: 0.941576 \tValidation Loss: 0.464569 \tValidation Accuracy: 0.679600\n",
            "Epoch: 19 \tTraining Loss: 0.676237 \tTraining Accuracy: 0.948612 \tValidation Loss: 0.477602 \tValidation Accuracy: 0.692667\n"
          ]
        }
      ],
      "source": [
        "train_loss_CNN_irr_lambda3, train_acc_CNN_irr_lambda3, valid_loss_CNN_irr_lambda3, valid_acc_CNN_irr_lambda3, time_CNN_irr_lambda3 = train_irr(model_CNN_irr_lambda3, lambda_reg, n_epochs, criterion, optimizer, norm, 'model_CNN_irr_lambda3', train_on_gpu)"
      ]
    },
    {
      "cell_type": "code",
      "execution_count": null,
      "metadata": {
        "colab": {
          "base_uri": "https://localhost:8080/"
        },
        "id": "xxcDwzVCz4Iz",
        "outputId": "b26fe3a4-ea2b-4ff5-fd3d-e086eab6aa4b"
      },
      "outputs": [
        {
          "name": "stdout",
          "output_type": "stream",
          "text": [
            "Test Loss: 0.109264\n",
            "\n",
            "Test Accuracy of airplane: 63% (634/1000)\n",
            "Test Accuracy of automobile: 43% (438/1000)\n",
            "Test Accuracy of  bird: 35% (359/1000)\n",
            "Test Accuracy of   cat: 15% (155/1000)\n",
            "Test Accuracy of  deer: 45% (450/1000)\n",
            "Test Accuracy of   dog: 49% (494/1000)\n",
            "Test Accuracy of  frog: 69% (693/1000)\n",
            "Test Accuracy of horse: 55% (553/1000)\n",
            "Test Accuracy of  ship: 68% (680/1000)\n",
            "Test Accuracy of truck: 66% (662/1000)\n",
            "\n",
            "Test Accuracy (Overall): 51% (5118/10000)\n"
          ]
        }
      ],
      "source": [
        "test_loss_CNN_irr_lambda3, class_correct_CNN_irr_lambda3, class_total_CNN_irr_lambda3, test_acc_CNN_irr_lambda3 = test(model_CNN_irr_lambda3, lambda_reg, n_epochs, criterion, optimizer, norm, 'model_CNN_irr_lambda3', train_on_gpu)"
      ]
    },
    {
      "cell_type": "code",
      "execution_count": null,
      "metadata": {
        "id": "6iHvCS72z4Iz"
      },
      "outputs": [],
      "source": [
        "arrs = [train_loss_CNN_irr_lambda3, train_acc_CNN_irr_lambda3, valid_loss_CNN_irr_lambda3, valid_acc_CNN_irr_lambda3, time_CNN_irr_lambda3, test_loss_CNN_irr_lambda3, class_correct_CNN_irr_lambda3, class_total_CNN_irr_lambda3, test_acc_CNN_irr_lambda3]"
      ]
    },
    {
      "cell_type": "code",
      "execution_count": null,
      "metadata": {
        "colab": {
          "base_uri": "https://localhost:8080/"
        },
        "id": "y5cpYnRKz4Iz",
        "outputId": "f06fa40b-63b1-4774-f891-6f7ab064a6f8"
      },
      "outputs": [
        {
          "name": "stderr",
          "output_type": "stream",
          "text": [
            "<ipython-input-12-b3a6eac2ef9e>:5: VisibleDeprecationWarning: Creating an ndarray from ragged nested sequences (which is a list-or-tuple of lists-or-tuples-or ndarrays with different lengths or shapes) is deprecated. If you meant to do this, you must specify 'dtype=object' when creating the ndarray.\n",
            "  df = pd.DataFrame(np.array(arrs), index = ['train_loss', 'train_acc', 'val_loss', 'val_acc', 'time', 'test_loss', 'test_correct', 'test_total', 'test_acc'])\n"
          ]
        }
      ],
      "source": [
        "save_results(arrs, \"CNN_irr_lambda3\")"
      ]
    },
    {
      "cell_type": "markdown",
      "metadata": {
        "id": "v9ae2wN1z4Iz"
      },
      "source": [
        "#### ResNet34"
      ]
    },
    {
      "cell_type": "code",
      "execution_count": null,
      "metadata": {
        "id": "eV04g3JDz4Iz"
      },
      "outputs": [],
      "source": [
        "model_RESNET_irr_lambda3 = torch.hub.load('pytorch/vision:v0.10.0', 'resnet34', pretrained=False)\n",
        "\n",
        "criterion = CustomLoss()\n",
        "optimizer = optim.SGD(params = model_RESNET_irr_lambda3.parameters(), lr = 0.03)"
      ]
    },
    {
      "cell_type": "code",
      "execution_count": null,
      "metadata": {
        "colab": {
          "base_uri": "https://localhost:8080/"
        },
        "id": "QZTWKjJMz4I0",
        "outputId": "37cd4cf5-0cd8-4b01-d856-140d6ac8c516"
      },
      "outputs": [
        {
          "name": "stdout",
          "output_type": "stream",
          "text": [
            "Epoch: 0 \tTraining Loss: 12.092297 \tTraining Accuracy: 0.396306 \tValidation Loss: 10.313816 \tValidation Accuracy: 0.445333\n",
            "Validation loss decreased (inf --> 10.313816).  Saving model ...\n",
            "Epoch: 1 \tTraining Loss: 12.103157 \tTraining Accuracy: 0.549929 \tValidation Loss: 11.158637 \tValidation Accuracy: 0.598933\n",
            "Epoch: 2 \tTraining Loss: 12.127085 \tTraining Accuracy: 0.634518 \tValidation Loss: 10.388271 \tValidation Accuracy: 0.573200\n",
            "Epoch: 3 \tTraining Loss: 12.158756 \tTraining Accuracy: 0.682329 \tValidation Loss: 10.904589 \tValidation Accuracy: 0.659067\n",
            "Epoch: 4 \tTraining Loss: 12.193667 \tTraining Accuracy: 0.724047 \tValidation Loss: 10.090186 \tValidation Accuracy: 0.656000\n",
            "Validation loss decreased (10.313816 --> 10.090186).  Saving model ...\n",
            "Epoch: 5 \tTraining Loss: 12.231778 \tTraining Accuracy: 0.759176 \tValidation Loss: 10.705651 \tValidation Accuracy: 0.668267\n",
            "Epoch: 6 \tTraining Loss: 12.274609 \tTraining Accuracy: 0.791059 \tValidation Loss: 10.870289 \tValidation Accuracy: 0.703067\n",
            "Epoch: 7 \tTraining Loss: 12.322447 \tTraining Accuracy: 0.816518 \tValidation Loss: 10.936175 \tValidation Accuracy: 0.691333\n",
            "Epoch: 8 \tTraining Loss: 12.374017 \tTraining Accuracy: 0.839059 \tValidation Loss: 10.878907 \tValidation Accuracy: 0.703067\n",
            "Epoch: 9 \tTraining Loss: 12.427828 \tTraining Accuracy: 0.866918 \tValidation Loss: 10.670913 \tValidation Accuracy: 0.694267\n",
            "Epoch: 10 \tTraining Loss: 12.482822 \tTraining Accuracy: 0.884800 \tValidation Loss: 11.351931 \tValidation Accuracy: 0.735733\n",
            "Epoch: 11 \tTraining Loss: 12.539061 \tTraining Accuracy: 0.903953 \tValidation Loss: 11.078264 \tValidation Accuracy: 0.727200\n",
            "Epoch: 12 \tTraining Loss: 12.595679 \tTraining Accuracy: 0.914588 \tValidation Loss: 11.165309 \tValidation Accuracy: 0.730133\n",
            "Epoch: 13 \tTraining Loss: 12.648309 \tTraining Accuracy: 0.932094 \tValidation Loss: 11.406817 \tValidation Accuracy: 0.737333\n",
            "Epoch: 14 \tTraining Loss: 12.701614 \tTraining Accuracy: 0.936729 \tValidation Loss: 11.351023 \tValidation Accuracy: 0.748133\n",
            "Epoch: 15 \tTraining Loss: 12.752198 \tTraining Accuracy: 0.946306 \tValidation Loss: 11.372103 \tValidation Accuracy: 0.744533\n",
            "Epoch: 16 \tTraining Loss: 12.798182 \tTraining Accuracy: 0.956588 \tValidation Loss: 11.268105 \tValidation Accuracy: 0.741333\n",
            "Epoch: 17 \tTraining Loss: 12.842823 \tTraining Accuracy: 0.958965 \tValidation Loss: 10.654995 \tValidation Accuracy: 0.713733\n",
            "Epoch: 18 \tTraining Loss: 12.883709 \tTraining Accuracy: 0.964988 \tValidation Loss: 11.247368 \tValidation Accuracy: 0.743600\n",
            "Epoch: 19 \tTraining Loss: 12.922200 \tTraining Accuracy: 0.970329 \tValidation Loss: 11.326254 \tValidation Accuracy: 0.736133\n"
          ]
        }
      ],
      "source": [
        "train_loss_RESNET_irr_lambda3, train_acc_RESNET_irr_lambda3, valid_loss_RESNET_irr_lambda3, valid_acc_RESNET_irr_lambda3, time_RESNET_irr_lambda3 = train_irr(model_RESNET_irr_lambda3, lambda_reg, n_epochs, criterion, optimizer, norm, 'model_RESNET_irr_lambda3', train_on_gpu)"
      ]
    },
    {
      "cell_type": "code",
      "execution_count": null,
      "metadata": {
        "colab": {
          "base_uri": "https://localhost:8080/"
        },
        "id": "qHYeSHV7z4I0",
        "outputId": "adef9f20-2feb-4b17-f0a0-3a5e3a955542"
      },
      "outputs": [
        {
          "name": "stdout",
          "output_type": "stream",
          "text": [
            "Test Loss: 8.899612\n",
            "\n",
            "Test Accuracy of airplane: 72% (728/1000)\n",
            "Test Accuracy of automobile: 74% (740/1000)\n",
            "Test Accuracy of  bird: 44% (442/1000)\n",
            "Test Accuracy of   cat: 31% (311/1000)\n",
            "Test Accuracy of  deer: 66% (667/1000)\n",
            "Test Accuracy of   dog: 49% (491/1000)\n",
            "Test Accuracy of  frog: 73% (730/1000)\n",
            "Test Accuracy of horse: 77% (770/1000)\n",
            "Test Accuracy of  ship: 80% (803/1000)\n",
            "Test Accuracy of truck: 82% (824/1000)\n",
            "\n",
            "Test Accuracy (Overall): 65% (6506/10000)\n"
          ]
        }
      ],
      "source": [
        "test_loss_RESNET_irr_lambda3, class_correct_RESNET_irr_lambda3, class_total_RESNET_irr_lambda3, test_acc_RESNET_irr_lambda3 = test(model_RESNET_irr_lambda3, lambda_reg, n_epochs, criterion, optimizer, norm, 'model_RESNET_irr_lambda3', train_on_gpu)"
      ]
    },
    {
      "cell_type": "code",
      "execution_count": null,
      "metadata": {
        "id": "ubV6rusr0F1A"
      },
      "outputs": [],
      "source": [
        "arrs = [train_loss_RESNET_irr_lambda3, train_acc_RESNET_irr_lambda3, valid_loss_RESNET_irr_lambda3, valid_acc_RESNET_irr_lambda3, time_RESNET_irr_lambda3, test_loss_RESNET_irr_lambda3, class_correct_RESNET_irr_lambda3, class_total_RESNET_irr_lambda3, test_acc_RESNET_irr_lambda3]"
      ]
    },
    {
      "cell_type": "code",
      "execution_count": null,
      "metadata": {
        "colab": {
          "base_uri": "https://localhost:8080/"
        },
        "id": "OoUFaKaz0F1A",
        "outputId": "0456d7f8-b6fc-46d5-ee52-eae7dc794871"
      },
      "outputs": [
        {
          "name": "stderr",
          "output_type": "stream",
          "text": [
            "<ipython-input-12-b3a6eac2ef9e>:5: VisibleDeprecationWarning: Creating an ndarray from ragged nested sequences (which is a list-or-tuple of lists-or-tuples-or ndarrays with different lengths or shapes) is deprecated. If you meant to do this, you must specify 'dtype=object' when creating the ndarray.\n",
            "  df = pd.DataFrame(np.array(arrs), index = ['train_loss', 'train_acc', 'val_loss', 'val_acc', 'time', 'test_loss', 'test_correct', 'test_total', 'test_acc'])\n"
          ]
        }
      ],
      "source": [
        "save_results(arrs, \"RESNET_irr_lambda3\")"
      ]
    },
    {
      "cell_type": "markdown",
      "metadata": {
        "id": "5HuobqzJz4I0"
      },
      "source": [
        "#### DenseNet121"
      ]
    },
    {
      "cell_type": "code",
      "execution_count": null,
      "metadata": {
        "id": "4yjxMCUfz4I0"
      },
      "outputs": [],
      "source": [
        "model_DNN_irr_lambda3 = torch.hub.load('pytorch/vision:v0.10.0', 'densenet121', pretrained=False)\n",
        "\n",
        "criterion = CustomLoss()\n",
        "optimizer = optim.SGD(params=model_DNN_irr_lambda3.parameters(), lr = 0.03)"
      ]
    },
    {
      "cell_type": "code",
      "execution_count": null,
      "metadata": {
        "colab": {
          "background_save": true,
          "base_uri": "https://localhost:8080/"
        },
        "id": "s3WFAEHez4I0",
        "outputId": "2a9890b3-7d83-486d-a8db-c9ba79dd01b5"
      },
      "outputs": [
        {
          "name": "stdout",
          "output_type": "stream",
          "text": [
            "Epoch: 0 \tTraining Loss: 31.400280 \tTraining Accuracy: 0.405765 \tValidation Loss: 28.739698 \tValidation Accuracy: 0.511733\n",
            "Validation loss decreased (inf --> 28.739698).  Saving model ...\n",
            "Epoch: 1 \tTraining Loss: 31.443486 \tTraining Accuracy: 0.550212 \tValidation Loss: 25.892572 \tValidation Accuracy: 0.479333\n",
            "Validation loss decreased (28.739698 --> 25.892572).  Saving model ...\n",
            "Epoch: 2 \tTraining Loss: 31.473834 \tTraining Accuracy: 0.631176 \tValidation Loss: 28.768728 \tValidation Accuracy: 0.644933\n",
            "Epoch: 3 \tTraining Loss: 31.506019 \tTraining Accuracy: 0.682494 \tValidation Loss: 28.335937 \tValidation Accuracy: 0.656133\n",
            "Epoch: 4 \tTraining Loss: 31.540374 \tTraining Accuracy: 0.726118 \tValidation Loss: 28.901577 \tValidation Accuracy: 0.694533\n",
            "Epoch: 5 \tTraining Loss: 31.578668 \tTraining Accuracy: 0.761859 \tValidation Loss: 26.586840 \tValidation Accuracy: 0.621333\n",
            "Epoch: 6 \tTraining Loss: 31.621865 \tTraining Accuracy: 0.787741 \tValidation Loss: 28.718332 \tValidation Accuracy: 0.718133\n",
            "Epoch: 7 \tTraining Loss: 31.668922 \tTraining Accuracy: 0.817059 \tValidation Loss: 29.973755 \tValidation Accuracy: 0.740000\n",
            "Epoch: 8 \tTraining Loss: 31.719289 \tTraining Accuracy: 0.842800 \tValidation Loss: 29.038450 \tValidation Accuracy: 0.723867\n",
            "Epoch: 9 \tTraining Loss: 31.773418 \tTraining Accuracy: 0.860518 \tValidation Loss: 27.273131 \tValidation Accuracy: 0.699733\n",
            "Epoch: 10 \tTraining Loss: 31.831055 \tTraining Accuracy: 0.880494 \tValidation Loss: 29.542173 \tValidation Accuracy: 0.742267\n",
            "Epoch: 11 \tTraining Loss: 31.888468 \tTraining Accuracy: 0.898235 \tValidation Loss: 28.879533 \tValidation Accuracy: 0.740000\n",
            "Epoch: 12 \tTraining Loss: 31.946289 \tTraining Accuracy: 0.909435 \tValidation Loss: 26.632037 \tValidation Accuracy: 0.696267\n",
            "Epoch: 13 \tTraining Loss: 32.003310 \tTraining Accuracy: 0.920800 \tValidation Loss: 29.842233 \tValidation Accuracy: 0.760667\n",
            "Epoch: 14 \tTraining Loss: 32.058367 \tTraining Accuracy: 0.935059 \tValidation Loss: 29.434873 \tValidation Accuracy: 0.762133\n",
            "Epoch: 15 \tTraining Loss: 32.110221 \tTraining Accuracy: 0.943129 \tValidation Loss: 28.660352 \tValidation Accuracy: 0.750400\n",
            "Epoch: 16 \tTraining Loss: 32.160301 \tTraining Accuracy: 0.946565 \tValidation Loss: 29.274002 \tValidation Accuracy: 0.750400\n",
            "Epoch: 17 \tTraining Loss: 32.208189 \tTraining Accuracy: 0.953788 \tValidation Loss: 29.455906 \tValidation Accuracy: 0.771200\n",
            "Epoch: 18 \tTraining Loss: 32.252146 \tTraining Accuracy: 0.959671 \tValidation Loss: 28.394314 \tValidation Accuracy: 0.753200\n",
            "Epoch: 19 \tTraining Loss: 32.296470 \tTraining Accuracy: 0.967365 \tValidation Loss: 29.190754 \tValidation Accuracy: 0.763600\n"
          ]
        }
      ],
      "source": [
        "train_loss_DNN_irr_lambda3, train_acc_DNN_irr_lambda3, valid_loss_DNN_irr_lambda3, valid_acc_DNN_irr_lambda3, time_DNN_irr_lambda3 = train_irr(model_DNN_irr_lambda3, lambda_reg, n_epochs, criterion, optimizer, norm, 'model_DNN_irr_lambda3', train_on_gpu)"
      ]
    },
    {
      "cell_type": "code",
      "execution_count": null,
      "metadata": {
        "colab": {
          "background_save": true
        },
        "id": "zuPtp3tAz4I0",
        "outputId": "d1237629-1839-4f66-dc6c-d14ee6d42838"
      },
      "outputs": [
        {
          "name": "stdout",
          "output_type": "stream",
          "text": [
            "Test Loss: 23.689889\n",
            "\n",
            "Test Accuracy of airplane: 55% (555/1000)\n",
            "Test Accuracy of automobile: 46% (468/1000)\n",
            "Test Accuracy of  bird: 11% (110/1000)\n",
            "Test Accuracy of   cat: 22% (220/1000)\n",
            "Test Accuracy of  deer: 72% (724/1000)\n",
            "Test Accuracy of   dog: 14% (148/1000)\n",
            "Test Accuracy of  frog: 23% (236/1000)\n",
            "Test Accuracy of horse: 83% (832/1000)\n",
            "Test Accuracy of  ship: 91% (910/1000)\n",
            "Test Accuracy of truck: 51% (515/1000)\n",
            "\n",
            "Test Accuracy (Overall): 47% (4718/10000)\n"
          ]
        }
      ],
      "source": [
        "test_loss_DNN_irr_lambda3, class_correct_DNN_irr_lambda3, class_total_DNN_irr_lambda3, test_acc_DNN_irr_lambda3 = test(model_DNN_irr_lambda3, lambda_reg, n_epochs, criterion, optimizer, norm, 'model_DNN_irr_lambda3', train_on_gpu)"
      ]
    },
    {
      "cell_type": "code",
      "execution_count": null,
      "metadata": {
        "colab": {
          "background_save": true
        },
        "id": "dKnXk5jL0NQI"
      },
      "outputs": [],
      "source": [
        "arrs = [train_loss_DNN_irr_lambda3, train_acc_DNN_irr_lambda3, valid_loss_DNN_irr_lambda3, valid_acc_DNN_irr_lambda3, time_DNN_irr_lambda3, test_loss_DNN_irr_lambda3, class_correct_DNN_irr_lambda3, class_total_DNN_irr_lambda3, test_acc_DNN_irr_lambda3]"
      ]
    },
    {
      "cell_type": "code",
      "execution_count": null,
      "metadata": {
        "colab": {
          "background_save": true
        },
        "id": "r4zEo6Oj0NQJ",
        "outputId": "aff87bfc-143c-4ffb-9c76-82fe7b6e71a9"
      },
      "outputs": [
        {
          "name": "stderr",
          "output_type": "stream",
          "text": [
            "<ipython-input-12-b3a6eac2ef9e>:5: VisibleDeprecationWarning: Creating an ndarray from ragged nested sequences (which is a list-or-tuple of lists-or-tuples-or ndarrays with different lengths or shapes) is deprecated. If you meant to do this, you must specify 'dtype=object' when creating the ndarray.\n",
            "  df = pd.DataFrame(np.array(arrs), index = ['train_loss', 'train_acc', 'val_loss', 'val_acc', 'time', 'test_loss', 'test_correct', 'test_total', 'test_acc'])\n"
          ]
        }
      ],
      "source": [
        "save_results(arrs, \"DNN_irr_lambda3\")"
      ]
    },
    {
      "cell_type": "markdown",
      "metadata": {
        "id": "uRdngx8tYNJB"
      },
      "source": [
        "## Sans régularisation"
      ]
    },
    {
      "cell_type": "code",
      "execution_count": null,
      "metadata": {
        "id": "N78v4C0VYNJJ"
      },
      "outputs": [],
      "source": [
        "norm = 'no reg'\n",
        "lambda_reg = 0"
      ]
    },
    {
      "cell_type": "markdown",
      "metadata": {
        "id": "LW0ymYyGYNJJ"
      },
      "source": [
        "#### MLP"
      ]
    },
    {
      "cell_type": "code",
      "execution_count": null,
      "metadata": {
        "id": "bD_vMD_KYNJJ"
      },
      "outputs": [],
      "source": [
        "model_MLP_no_reg = MLP()\n",
        "\n",
        "criterion = CustomLoss()\n",
        "optimizer = optim.SGD(params = model_MLP_no_reg.parameters(), lr = 0.03)"
      ]
    },
    {
      "cell_type": "code",
      "execution_count": null,
      "metadata": {
        "colab": {
          "base_uri": "https://localhost:8080/"
        },
        "id": "ULNhRKOAYNJJ",
        "outputId": "1fe92e75-540d-4311-9fe8-f3740d0a7f4c"
      },
      "outputs": [
        {
          "name": "stdout",
          "output_type": "stream",
          "text": [
            "Epoch: 0 \tTraining Loss: 0.093675 \tTraining Accuracy: 0.322729 \tValidation Loss: 0.084450 \tValidation Accuracy: 0.393067\n",
            "Validation loss decreased (inf --> 0.084450).  Saving model ...\n",
            "Epoch: 1 \tTraining Loss: 0.083355 \tTraining Accuracy: 0.404000 \tValidation Loss: 0.080571 \tValidation Accuracy: 0.425200\n",
            "Validation loss decreased (0.084450 --> 0.080571).  Saving model ...\n",
            "Epoch: 2 \tTraining Loss: 0.078727 \tTraining Accuracy: 0.434729 \tValidation Loss: 0.078310 \tValidation Accuracy: 0.443200\n",
            "Validation loss decreased (0.080571 --> 0.078310).  Saving model ...\n",
            "Epoch: 3 \tTraining Loss: 0.075491 \tTraining Accuracy: 0.460471 \tValidation Loss: 0.080435 \tValidation Accuracy: 0.424533\n",
            "Epoch: 4 \tTraining Loss: 0.072891 \tTraining Accuracy: 0.480847 \tValidation Loss: 0.072291 \tValidation Accuracy: 0.482667\n",
            "Validation loss decreased (0.078310 --> 0.072291).  Saving model ...\n",
            "Epoch: 5 \tTraining Loss: 0.070329 \tTraining Accuracy: 0.496212 \tValidation Loss: 0.074371 \tValidation Accuracy: 0.469333\n",
            "Epoch: 6 \tTraining Loss: 0.068176 \tTraining Accuracy: 0.511082 \tValidation Loss: 0.072085 \tValidation Accuracy: 0.496133\n",
            "Validation loss decreased (0.072291 --> 0.072085).  Saving model ...\n",
            "Epoch: 7 \tTraining Loss: 0.066178 \tTraining Accuracy: 0.528541 \tValidation Loss: 0.072077 \tValidation Accuracy: 0.479867\n",
            "Validation loss decreased (0.072085 --> 0.072077).  Saving model ...\n",
            "Epoch: 8 \tTraining Loss: 0.064214 \tTraining Accuracy: 0.539671 \tValidation Loss: 0.068182 \tValidation Accuracy: 0.526133\n",
            "Validation loss decreased (0.072077 --> 0.068182).  Saving model ...\n",
            "Epoch: 9 \tTraining Loss: 0.062162 \tTraining Accuracy: 0.555294 \tValidation Loss: 0.070080 \tValidation Accuracy: 0.505200\n",
            "Epoch: 10 \tTraining Loss: 0.060281 \tTraining Accuracy: 0.566400 \tValidation Loss: 0.066621 \tValidation Accuracy: 0.539200\n",
            "Validation loss decreased (0.068182 --> 0.066621).  Saving model ...\n",
            "Epoch: 11 \tTraining Loss: 0.058378 \tTraining Accuracy: 0.583200 \tValidation Loss: 0.070642 \tValidation Accuracy: 0.502267\n",
            "Epoch: 12 \tTraining Loss: 0.056415 \tTraining Accuracy: 0.599318 \tValidation Loss: 0.070058 \tValidation Accuracy: 0.512933\n",
            "Epoch: 13 \tTraining Loss: 0.054526 \tTraining Accuracy: 0.610094 \tValidation Loss: 0.067304 \tValidation Accuracy: 0.533067\n",
            "Epoch: 14 \tTraining Loss: 0.052426 \tTraining Accuracy: 0.625576 \tValidation Loss: 0.068268 \tValidation Accuracy: 0.537200\n",
            "Epoch: 15 \tTraining Loss: 0.050588 \tTraining Accuracy: 0.637176 \tValidation Loss: 0.066887 \tValidation Accuracy: 0.540133\n",
            "Epoch: 16 \tTraining Loss: 0.048590 \tTraining Accuracy: 0.652024 \tValidation Loss: 0.067989 \tValidation Accuracy: 0.539333\n",
            "Epoch: 17 \tTraining Loss: 0.046275 \tTraining Accuracy: 0.668918 \tValidation Loss: 0.069379 \tValidation Accuracy: 0.540533\n",
            "Epoch: 18 \tTraining Loss: 0.044244 \tTraining Accuracy: 0.683529 \tValidation Loss: 0.070289 \tValidation Accuracy: 0.535733\n",
            "Epoch: 19 \tTraining Loss: 0.042156 \tTraining Accuracy: 0.697482 \tValidation Loss: 0.070448 \tValidation Accuracy: 0.530933\n"
          ]
        }
      ],
      "source": [
        "train_loss_MLP_no_reg, train_acc_MLP_no_reg, valid_loss_MLP_no_reg, valid_acc_MLP_no_reg, time_MLP_no_reg = train(model_MLP_no_reg, lambda_reg, n_epochs, criterion, optimizer, norm, 'model_MLP_no_reg', train_on_gpu)"
      ]
    },
    {
      "cell_type": "code",
      "execution_count": null,
      "metadata": {
        "colab": {
          "base_uri": "https://localhost:8080/"
        },
        "id": "EEzsdoFkYNJJ",
        "outputId": "da25177e-fce3-4491-8654-1e3e49014ff3"
      },
      "outputs": [
        {
          "name": "stdout",
          "output_type": "stream",
          "text": [
            "Test Loss: 0.066684\n",
            "\n",
            "Test Accuracy of airplane: 58% (588/1000)\n",
            "Test Accuracy of automobile: 65% (651/1000)\n",
            "Test Accuracy of  bird: 50% (509/1000)\n",
            "Test Accuracy of   cat: 42% (423/1000)\n",
            "Test Accuracy of  deer: 39% (390/1000)\n",
            "Test Accuracy of   dog: 35% (353/1000)\n",
            "Test Accuracy of  frog: 54% (541/1000)\n",
            "Test Accuracy of horse: 58% (581/1000)\n",
            "Test Accuracy of  ship: 72% (721/1000)\n",
            "Test Accuracy of truck: 54% (547/1000)\n",
            "\n",
            "Test Accuracy (Overall): 53% (5304/10000)\n"
          ]
        }
      ],
      "source": [
        "test_loss_MLP_no_reg, class_correct_MLP_no_reg, class_total_MLP_no_reg, test_acc_MLP_no_reg = test(model_MLP_no_reg, lambda_reg, n_epochs, criterion, optimizer, norm, 'model_MLP_no_reg', train_on_gpu)"
      ]
    },
    {
      "cell_type": "code",
      "execution_count": null,
      "metadata": {
        "id": "KxgQmUDzYNJK"
      },
      "outputs": [],
      "source": [
        "arrs = [train_loss_MLP_no_reg, train_acc_MLP_no_reg, valid_loss_MLP_no_reg, valid_acc_MLP_no_reg, time_MLP_no_reg, test_loss_MLP_no_reg, class_correct_MLP_no_reg, class_total_MLP_no_reg, test_acc_MLP_no_reg]"
      ]
    },
    {
      "cell_type": "code",
      "execution_count": null,
      "metadata": {
        "colab": {
          "base_uri": "https://localhost:8080/"
        },
        "id": "KxS21TtAYNJK",
        "outputId": "2de498a3-c596-4831-f4c1-389168f31a40"
      },
      "outputs": [
        {
          "name": "stderr",
          "output_type": "stream",
          "text": [
            "<ipython-input-25-b3a6eac2ef9e>:5: VisibleDeprecationWarning: Creating an ndarray from ragged nested sequences (which is a list-or-tuple of lists-or-tuples-or ndarrays with different lengths or shapes) is deprecated. If you meant to do this, you must specify 'dtype=object' when creating the ndarray.\n",
            "  df = pd.DataFrame(np.array(arrs), index = ['train_loss', 'train_acc', 'val_loss', 'val_acc', 'time', 'test_loss', 'test_correct', 'test_total', 'test_acc'])\n"
          ]
        }
      ],
      "source": [
        "save_results(arrs, \"MLP_no_reg\")"
      ]
    },
    {
      "cell_type": "markdown",
      "metadata": {
        "id": "vr73leftYNJK"
      },
      "source": [
        "#### CNN"
      ]
    },
    {
      "cell_type": "code",
      "execution_count": null,
      "metadata": {
        "id": "Y0-Y-jeSYNJK"
      },
      "outputs": [],
      "source": [
        "model_CNN_no_reg = CNN()\n",
        "\n",
        "criterion = CustomLoss()\n",
        "optimizer = optim.SGD(params=model_CNN_no_reg.parameters(), lr = 0.03)"
      ]
    },
    {
      "cell_type": "code",
      "execution_count": null,
      "metadata": {
        "colab": {
          "base_uri": "https://localhost:8080/"
        },
        "id": "3x3IfmXRYNJK",
        "outputId": "b518f6d9-d3f9-47d6-84be-a205d24c0a5c"
      },
      "outputs": [
        {
          "name": "stdout",
          "output_type": "stream",
          "text": [
            "Epoch: 0 \tTraining Loss: 0.099329 \tTraining Accuracy: 0.271294 \tValidation Loss: 0.081985 \tValidation Accuracy: 0.407333\n",
            "Validation loss decreased (inf --> 0.081985).  Saving model ...\n",
            "Epoch: 1 \tTraining Loss: 0.075291 \tTraining Accuracy: 0.459624 \tValidation Loss: 0.068244 \tValidation Accuracy: 0.512400\n",
            "Validation loss decreased (0.081985 --> 0.068244).  Saving model ...\n",
            "Epoch: 2 \tTraining Loss: 0.063650 \tTraining Accuracy: 0.546212 \tValidation Loss: 0.060271 \tValidation Accuracy: 0.569733\n",
            "Validation loss decreased (0.068244 --> 0.060271).  Saving model ...\n",
            "Epoch: 3 \tTraining Loss: 0.055033 \tTraining Accuracy: 0.614776 \tValidation Loss: 0.052518 \tValidation Accuracy: 0.625867\n",
            "Validation loss decreased (0.060271 --> 0.052518).  Saving model ...\n",
            "Epoch: 4 \tTraining Loss: 0.048566 \tTraining Accuracy: 0.657224 \tValidation Loss: 0.049954 \tValidation Accuracy: 0.650533\n",
            "Validation loss decreased (0.052518 --> 0.049954).  Saving model ...\n",
            "Epoch: 5 \tTraining Loss: 0.043066 \tTraining Accuracy: 0.696800 \tValidation Loss: 0.045909 \tValidation Accuracy: 0.676000\n",
            "Validation loss decreased (0.049954 --> 0.045909).  Saving model ...\n",
            "Epoch: 6 \tTraining Loss: 0.038532 \tTraining Accuracy: 0.728800 \tValidation Loss: 0.045881 \tValidation Accuracy: 0.684000\n",
            "Validation loss decreased (0.045909 --> 0.045881).  Saving model ...\n",
            "Epoch: 7 \tTraining Loss: 0.034271 \tTraining Accuracy: 0.759224 \tValidation Loss: 0.046868 \tValidation Accuracy: 0.685733\n",
            "Epoch: 8 \tTraining Loss: 0.030414 \tTraining Accuracy: 0.783718 \tValidation Loss: 0.042649 \tValidation Accuracy: 0.709333\n",
            "Validation loss decreased (0.045881 --> 0.042649).  Saving model ...\n",
            "Epoch: 9 \tTraining Loss: 0.026732 \tTraining Accuracy: 0.812094 \tValidation Loss: 0.049817 \tValidation Accuracy: 0.690800\n",
            "Epoch: 10 \tTraining Loss: 0.023112 \tTraining Accuracy: 0.836424 \tValidation Loss: 0.046188 \tValidation Accuracy: 0.699333\n",
            "Epoch: 11 \tTraining Loss: 0.020018 \tTraining Accuracy: 0.858659 \tValidation Loss: 0.048879 \tValidation Accuracy: 0.701733\n",
            "Epoch: 12 \tTraining Loss: 0.016935 \tTraining Accuracy: 0.880047 \tValidation Loss: 0.051102 \tValidation Accuracy: 0.705200\n",
            "Epoch: 13 \tTraining Loss: 0.014683 \tTraining Accuracy: 0.895224 \tValidation Loss: 0.057107 \tValidation Accuracy: 0.703333\n",
            "Epoch: 14 \tTraining Loss: 0.012828 \tTraining Accuracy: 0.909529 \tValidation Loss: 0.063554 \tValidation Accuracy: 0.690267\n",
            "Epoch: 15 \tTraining Loss: 0.010807 \tTraining Accuracy: 0.924071 \tValidation Loss: 0.066869 \tValidation Accuracy: 0.691867\n",
            "Epoch: 16 \tTraining Loss: 0.009832 \tTraining Accuracy: 0.929412 \tValidation Loss: 0.071745 \tValidation Accuracy: 0.700000\n",
            "Epoch: 17 \tTraining Loss: 0.008646 \tTraining Accuracy: 0.939082 \tValidation Loss: 0.077880 \tValidation Accuracy: 0.677733\n",
            "Epoch: 18 \tTraining Loss: 0.008704 \tTraining Accuracy: 0.938447 \tValidation Loss: 0.083076 \tValidation Accuracy: 0.684000\n",
            "Epoch: 19 \tTraining Loss: 0.007492 \tTraining Accuracy: 0.948376 \tValidation Loss: 0.081420 \tValidation Accuracy: 0.694267\n"
          ]
        }
      ],
      "source": [
        "train_loss_CNN_no_reg, train_acc_CNN_no_reg, valid_loss_CNN_no_reg, valid_acc_CNN_no_reg, time_CNN_no_reg = train(model_CNN_no_reg, lambda_reg, n_epochs, criterion, optimizer, norm, 'model_CNN_no_reg', train_on_gpu)"
      ]
    },
    {
      "cell_type": "code",
      "execution_count": null,
      "metadata": {
        "colab": {
          "base_uri": "https://localhost:8080/"
        },
        "id": "gzKHpmp_YNJK",
        "outputId": "ec9dacc0-4de3-42ef-bbc8-63ca7023878e"
      },
      "outputs": [
        {
          "name": "stdout",
          "output_type": "stream",
          "text": [
            "Test Loss: 0.044804\n",
            "\n",
            "Test Accuracy of airplane: 73% (732/1000)\n",
            "Test Accuracy of automobile: 81% (819/1000)\n",
            "Test Accuracy of  bird: 57% (578/1000)\n",
            "Test Accuracy of   cat: 39% (395/1000)\n",
            "Test Accuracy of  deer: 61% (618/1000)\n",
            "Test Accuracy of   dog: 68% (683/1000)\n",
            "Test Accuracy of  frog: 80% (800/1000)\n",
            "Test Accuracy of horse: 78% (785/1000)\n",
            "Test Accuracy of  ship: 82% (824/1000)\n",
            "Test Accuracy of truck: 77% (770/1000)\n",
            "\n",
            "Test Accuracy (Overall): 70% (7004/10000)\n"
          ]
        }
      ],
      "source": [
        "test_loss_CNN_no_reg, class_correct_CNN_no_reg, class_total_CNN_no_reg, test_acc_CNN_no_reg = test(model_CNN_no_reg, lambda_reg, n_epochs, criterion, optimizer, norm, 'model_CNN_no_reg', train_on_gpu)"
      ]
    },
    {
      "cell_type": "code",
      "execution_count": null,
      "metadata": {
        "id": "rARALujCYNJK"
      },
      "outputs": [],
      "source": [
        "arrs = [train_loss_CNN_no_reg, train_acc_CNN_no_reg, valid_loss_CNN_no_reg, valid_acc_CNN_no_reg, time_CNN_no_reg, test_loss_CNN_no_reg, class_correct_CNN_no_reg, class_total_CNN_no_reg, test_acc_CNN_no_reg]"
      ]
    },
    {
      "cell_type": "code",
      "execution_count": null,
      "metadata": {
        "colab": {
          "base_uri": "https://localhost:8080/"
        },
        "id": "9pem3ZiCYNJK",
        "outputId": "bab81d28-fb5c-4554-93ac-18502290ffd8"
      },
      "outputs": [
        {
          "name": "stderr",
          "output_type": "stream",
          "text": [
            "<ipython-input-25-b3a6eac2ef9e>:5: VisibleDeprecationWarning: Creating an ndarray from ragged nested sequences (which is a list-or-tuple of lists-or-tuples-or ndarrays with different lengths or shapes) is deprecated. If you meant to do this, you must specify 'dtype=object' when creating the ndarray.\n",
            "  df = pd.DataFrame(np.array(arrs), index = ['train_loss', 'train_acc', 'val_loss', 'val_acc', 'time', 'test_loss', 'test_correct', 'test_total', 'test_acc'])\n"
          ]
        }
      ],
      "source": [
        "save_results(arrs, \"CNN_no_reg\")"
      ]
    },
    {
      "cell_type": "markdown",
      "metadata": {
        "id": "ODPyNLpRYNJK"
      },
      "source": [
        "#### ResNet34"
      ]
    },
    {
      "cell_type": "code",
      "execution_count": null,
      "metadata": {
        "id": "WVPH_sfUYNJL"
      },
      "outputs": [],
      "source": [
        "model_RESNET_no_reg = torch.hub.load('pytorch/vision:v0.10.0', 'resnet34', pretrained=False)\n",
        "\n",
        "criterion = CustomLoss()\n",
        "optimizer = optim.SGD(params = model_RESNET_no_reg.parameters(), lr = 0.03)"
      ]
    },
    {
      "cell_type": "code",
      "execution_count": null,
      "metadata": {
        "colab": {
          "base_uri": "https://localhost:8080/"
        },
        "id": "qVEwB_zDYNJM",
        "outputId": "8ca92b7d-2960-4076-b4a6-3e3a8dc854af"
      },
      "outputs": [
        {
          "name": "stdout",
          "output_type": "stream",
          "text": [
            "Epoch: 0 \tTraining Loss: 0.086897 \tTraining Accuracy: 0.396141 \tValidation Loss: 0.071551 \tValidation Accuracy: 0.507200\n",
            "Validation loss decreased (inf --> 0.071551).  Saving model ...\n",
            "Epoch: 1 \tTraining Loss: 0.064088 \tTraining Accuracy: 0.550000 \tValidation Loss: 0.075706 \tValidation Accuracy: 0.543200\n",
            "Epoch: 2 \tTraining Loss: 0.053516 \tTraining Accuracy: 0.629671 \tValidation Loss: 0.056474 \tValidation Accuracy: 0.605200\n",
            "Validation loss decreased (0.071551 --> 0.056474).  Saving model ...\n",
            "Epoch: 3 \tTraining Loss: 0.045865 \tTraining Accuracy: 0.683506 \tValidation Loss: 0.050973 \tValidation Accuracy: 0.644133\n",
            "Validation loss decreased (0.056474 --> 0.050973).  Saving model ...\n",
            "Epoch: 4 \tTraining Loss: 0.040087 \tTraining Accuracy: 0.723859 \tValidation Loss: 0.047373 \tValidation Accuracy: 0.679333\n",
            "Validation loss decreased (0.050973 --> 0.047373).  Saving model ...\n",
            "Epoch: 5 \tTraining Loss: 0.035421 \tTraining Accuracy: 0.755388 \tValidation Loss: 0.043820 \tValidation Accuracy: 0.698533\n",
            "Validation loss decreased (0.047373 --> 0.043820).  Saving model ...\n",
            "Epoch: 6 \tTraining Loss: 0.030906 \tTraining Accuracy: 0.786588 \tValidation Loss: 0.040629 \tValidation Accuracy: 0.724400\n",
            "Validation loss decreased (0.043820 --> 0.040629).  Saving model ...\n",
            "Epoch: 7 \tTraining Loss: 0.027053 \tTraining Accuracy: 0.814494 \tValidation Loss: 0.040849 \tValidation Accuracy: 0.727067\n",
            "Epoch: 8 \tTraining Loss: 0.023135 \tTraining Accuracy: 0.839341 \tValidation Loss: 0.040514 \tValidation Accuracy: 0.727200\n",
            "Validation loss decreased (0.040629 --> 0.040514).  Saving model ...\n",
            "Epoch: 9 \tTraining Loss: 0.019431 \tTraining Accuracy: 0.864424 \tValidation Loss: 0.043198 \tValidation Accuracy: 0.725200\n",
            "Epoch: 10 \tTraining Loss: 0.016387 \tTraining Accuracy: 0.885482 \tValidation Loss: 0.051807 \tValidation Accuracy: 0.704933\n",
            "Epoch: 11 \tTraining Loss: 0.015086 \tTraining Accuracy: 0.895294 \tValidation Loss: 0.043697 \tValidation Accuracy: 0.740267\n",
            "Epoch: 12 \tTraining Loss: 0.012315 \tTraining Accuracy: 0.914447 \tValidation Loss: 0.048277 \tValidation Accuracy: 0.729600\n",
            "Epoch: 13 \tTraining Loss: 0.010639 \tTraining Accuracy: 0.925129 \tValidation Loss: 0.047942 \tValidation Accuracy: 0.741067\n",
            "Epoch: 14 \tTraining Loss: 0.009282 \tTraining Accuracy: 0.934541 \tValidation Loss: 0.049143 \tValidation Accuracy: 0.738267\n",
            "Epoch: 15 \tTraining Loss: 0.007573 \tTraining Accuracy: 0.947435 \tValidation Loss: 0.055231 \tValidation Accuracy: 0.729600\n",
            "Epoch: 16 \tTraining Loss: 0.007817 \tTraining Accuracy: 0.945529 \tValidation Loss: 0.052308 \tValidation Accuracy: 0.726133\n",
            "Epoch: 17 \tTraining Loss: 0.006536 \tTraining Accuracy: 0.955647 \tValidation Loss: 0.057016 \tValidation Accuracy: 0.737333\n",
            "Epoch: 18 \tTraining Loss: 0.005295 \tTraining Accuracy: 0.963765 \tValidation Loss: 0.054456 \tValidation Accuracy: 0.740533\n",
            "Epoch: 19 \tTraining Loss: 0.004172 \tTraining Accuracy: 0.971788 \tValidation Loss: 0.056259 \tValidation Accuracy: 0.744667\n"
          ]
        }
      ],
      "source": [
        "train_loss_RESNET_no_reg, train_acc_RESNET_no_reg, valid_loss_RESNET_no_reg, valid_acc_RESNET_no_reg, time_RESNET_no_reg = train(model_RESNET_no_reg, lambda_reg, n_epochs, criterion, optimizer, norm, 'model_RESNET_no_reg', train_on_gpu)"
      ]
    },
    {
      "cell_type": "code",
      "execution_count": null,
      "metadata": {
        "colab": {
          "base_uri": "https://localhost:8080/"
        },
        "id": "ZMry6m5SYNJM",
        "outputId": "6a9c0ace-a2bf-4bf3-bdf6-881d35ca91ca"
      },
      "outputs": [
        {
          "name": "stdout",
          "output_type": "stream",
          "text": [
            "Test Loss: 0.041202\n",
            "\n",
            "Test Accuracy of airplane: 75% (753/1000)\n",
            "Test Accuracy of automobile: 83% (832/1000)\n",
            "Test Accuracy of  bird: 64% (648/1000)\n",
            "Test Accuracy of   cat: 67% (670/1000)\n",
            "Test Accuracy of  deer: 62% (621/1000)\n",
            "Test Accuracy of   dog: 51% (519/1000)\n",
            "Test Accuracy of  frog: 73% (734/1000)\n",
            "Test Accuracy of horse: 81% (812/1000)\n",
            "Test Accuracy of  ship: 83% (833/1000)\n",
            "Test Accuracy of truck: 81% (817/1000)\n",
            "\n",
            "Test Accuracy (Overall): 72% (7239/10000)\n"
          ]
        }
      ],
      "source": [
        "test_loss_RESNET_no_reg, class_correct_RESNET_no_reg, class_total_RESNET_no_reg, test_acc_RESNET_no_reg = test(model_RESNET_no_reg, lambda_reg, n_epochs, criterion, optimizer, norm, 'model_RESNET_no_reg', train_on_gpu)"
      ]
    },
    {
      "cell_type": "code",
      "execution_count": null,
      "metadata": {
        "id": "BFTOaxRfZuIQ"
      },
      "outputs": [],
      "source": [
        "arrs = [train_loss_RESNET_no_reg, train_acc_RESNET_no_reg, valid_loss_RESNET_no_reg, valid_acc_RESNET_no_reg, time_RESNET_no_reg, test_loss_RESNET_no_reg, class_correct_RESNET_no_reg, class_total_RESNET_no_reg, test_acc_RESNET_no_reg]"
      ]
    },
    {
      "cell_type": "code",
      "execution_count": null,
      "metadata": {
        "colab": {
          "base_uri": "https://localhost:8080/"
        },
        "id": "L90nXSkRZuIQ",
        "outputId": "1388ec73-ecdf-4dad-f0ac-33e596cfc903"
      },
      "outputs": [
        {
          "name": "stderr",
          "output_type": "stream",
          "text": [
            "<ipython-input-25-b3a6eac2ef9e>:5: VisibleDeprecationWarning: Creating an ndarray from ragged nested sequences (which is a list-or-tuple of lists-or-tuples-or ndarrays with different lengths or shapes) is deprecated. If you meant to do this, you must specify 'dtype=object' when creating the ndarray.\n",
            "  df = pd.DataFrame(np.array(arrs), index = ['train_loss', 'train_acc', 'val_loss', 'val_acc', 'time', 'test_loss', 'test_correct', 'test_total', 'test_acc'])\n"
          ]
        }
      ],
      "source": [
        "save_results(arrs, \"RESNET_no_reg\")"
      ]
    },
    {
      "cell_type": "markdown",
      "metadata": {
        "id": "FzDcfM4tYNJM"
      },
      "source": [
        "#### DenseNet121"
      ]
    },
    {
      "cell_type": "code",
      "execution_count": null,
      "metadata": {
        "colab": {
          "base_uri": "https://localhost:8080/"
        },
        "id": "B1kD6323YNJM",
        "outputId": "f8c1c83b-b397-4a23-d492-017bb044bbc1"
      },
      "outputs": [
        {
          "name": "stderr",
          "output_type": "stream",
          "text": [
            "Using cache found in /root/.cache/torch/hub/pytorch_vision_v0.10.0\n",
            "/usr/local/lib/python3.10/dist-packages/torchvision/models/_utils.py:208: UserWarning: The parameter 'pretrained' is deprecated since 0.13 and may be removed in the future, please use 'weights' instead.\n",
            "  warnings.warn(\n",
            "/usr/local/lib/python3.10/dist-packages/torchvision/models/_utils.py:223: UserWarning: Arguments other than a weight enum or `None` for 'weights' are deprecated since 0.13 and may be removed in the future. The current behavior is equivalent to passing `weights=None`.\n",
            "  warnings.warn(msg)\n"
          ]
        }
      ],
      "source": [
        "model_DNN_no_reg = torch.hub.load('pytorch/vision:v0.10.0', 'densenet121', pretrained=False)\n",
        "\n",
        "criterion = CustomLoss()\n",
        "optimizer = optim.SGD(params=model_DNN_no_reg.parameters(), lr = 0.03)"
      ]
    },
    {
      "cell_type": "code",
      "execution_count": null,
      "metadata": {
        "colab": {
          "background_save": true,
          "base_uri": "https://localhost:8080/"
        },
        "id": "6xt8Ep9AYNJM",
        "outputId": "b3547aab-b50e-4961-e5cb-4016c53f3627"
      },
      "outputs": [
        {
          "name": "stdout",
          "output_type": "stream",
          "text": [
            "Epoch: 0 \tTraining Loss: 0.082089 \tTraining Accuracy: 0.417247 \tValidation Loss: 0.067340 \tValidation Accuracy: 0.518667\n",
            "Validation loss decreased (inf --> 0.067340).  Saving model ...\n",
            "Epoch: 1 \tTraining Loss: 0.063132 \tTraining Accuracy: 0.552894 \tValidation Loss: 0.060969 \tValidation Accuracy: 0.575333\n",
            "Validation loss decreased (0.067340 --> 0.060969).  Saving model ...\n",
            "Epoch: 2 \tTraining Loss: 0.052810 \tTraining Accuracy: 0.632400 \tValidation Loss: 0.052038 \tValidation Accuracy: 0.636533\n",
            "Validation loss decreased (0.060969 --> 0.052038).  Saving model ...\n",
            "Epoch: 3 \tTraining Loss: 0.045212 \tTraining Accuracy: 0.686165 \tValidation Loss: 0.047667 \tValidation Accuracy: 0.669467\n",
            "Validation loss decreased (0.052038 --> 0.047667).  Saving model ...\n",
            "Epoch: 4 \tTraining Loss: 0.039434 \tTraining Accuracy: 0.725812 \tValidation Loss: 0.047245 \tValidation Accuracy: 0.678800\n",
            "Validation loss decreased (0.047667 --> 0.047245).  Saving model ...\n",
            "Epoch: 5 \tTraining Loss: 0.034384 \tTraining Accuracy: 0.757835 \tValidation Loss: 0.042832 \tValidation Accuracy: 0.704933\n",
            "Validation loss decreased (0.047245 --> 0.042832).  Saving model ...\n",
            "Epoch: 6 \tTraining Loss: 0.029901 \tTraining Accuracy: 0.791765 \tValidation Loss: 0.041515 \tValidation Accuracy: 0.718800\n",
            "Validation loss decreased (0.042832 --> 0.041515).  Saving model ...\n",
            "Epoch: 7 \tTraining Loss: 0.025974 \tTraining Accuracy: 0.816188 \tValidation Loss: 0.051563 \tValidation Accuracy: 0.675600\n",
            "Epoch: 8 \tTraining Loss: 0.022370 \tTraining Accuracy: 0.844706 \tValidation Loss: 0.042634 \tValidation Accuracy: 0.731333\n",
            "Epoch: 9 \tTraining Loss: 0.018952 \tTraining Accuracy: 0.867082 \tValidation Loss: 0.046601 \tValidation Accuracy: 0.710533\n",
            "Epoch: 10 \tTraining Loss: 0.016419 \tTraining Accuracy: 0.884400 \tValidation Loss: 0.050366 \tValidation Accuracy: 0.713467\n",
            "Epoch: 11 \tTraining Loss: 0.014558 \tTraining Accuracy: 0.896094 \tValidation Loss: 0.047786 \tValidation Accuracy: 0.735067\n"
          ]
        }
      ],
      "source": [
        "train_loss_DNN_no_reg, train_acc_DNN_no_reg, valid_loss_DNN_no_reg, valid_acc_DNN_no_reg, time_DNN_no_reg = train(model_DNN_no_reg, lambda_reg, n_epochs, criterion, optimizer, norm, 'model_DNN_no_reg', train_on_gpu)"
      ]
    },
    {
      "cell_type": "code",
      "execution_count": null,
      "metadata": {
        "id": "0cOe2BzuYNJM"
      },
      "outputs": [],
      "source": [
        "test_loss_DNN_no_reg, class_correct_DNN_no_reg, class_total_DNN_no_reg, test_acc_DNN_no_reg = test(model_DNN_no_reg, lambda_reg, n_epochs, criterion, optimizer, norm, 'model_DNN_no_reg', train_on_gpu)"
      ]
    },
    {
      "cell_type": "code",
      "execution_count": null,
      "metadata": {
        "id": "cCbwtaiYZ2ja"
      },
      "outputs": [],
      "source": [
        "arrs = [train_loss_DNN_no_reg, train_acc_DNN_no_reg, valid_loss_DNN_no_reg, valid_acc_DNN_no_reg, time_DNN_no_reg, test_loss_DNN_no_reg, class_correct_DNN_no_reg, class_total_DNN_no_reg, test_acc_DNN_no_reg]"
      ]
    },
    {
      "cell_type": "code",
      "execution_count": null,
      "metadata": {
        "id": "ydHTPvQnZ2jb"
      },
      "outputs": [],
      "source": [
        "save_results(arrs, \"DNN_no_reg\")"
      ]
    },
    {
      "cell_type": "markdown",
      "metadata": {
        "id": "eyq0N7qHAPYr"
      },
      "source": [
        "# Analyses"
      ]
    },
    {
      "cell_type": "markdown",
      "metadata": {
        "id": "3ZBmyXZcARvE"
      },
      "source": [
        "## Distributions des poids sur la première couche "
      ]
    },
    {
      "cell_type": "code",
      "source": [
        "path_model1 = 'model_DNN_irr_lambda3_cifar.pt'\n",
        "model = get_model(path_model1)"
      ],
      "metadata": {
        "colab": {
          "base_uri": "https://localhost:8080/"
        },
        "outputId": "6466581c-2273-4e20-ed5a-b46b3c140d46",
        "id": "TZ79tCmyEv_V"
      },
      "execution_count": 46,
      "outputs": [
        {
          "output_type": "stream",
          "name": "stderr",
          "text": [
            "Using cache found in /root/.cache/torch/hub/pytorch_vision_v0.10.0\n",
            "/usr/local/lib/python3.10/dist-packages/torchvision/models/_utils.py:208: UserWarning: The parameter 'pretrained' is deprecated since 0.13 and may be removed in the future, please use 'weights' instead.\n",
            "  warnings.warn(\n",
            "/usr/local/lib/python3.10/dist-packages/torchvision/models/_utils.py:223: UserWarning: Arguments other than a weight enum or `None` for 'weights' are deprecated since 0.13 and may be removed in the future. The current behavior is equivalent to passing `weights=None`.\n",
            "  warnings.warn(msg)\n"
          ]
        }
      ]
    },
    {
      "cell_type": "code",
      "source": [
        "count_parameters(model, \"features.conv0.weight\")"
      ],
      "metadata": {
        "colab": {
          "base_uri": "https://localhost:8080/"
        },
        "id": "D-KAveuYE2rk",
        "outputId": "e4227058-19f7-47eb-ff25-b32c6a072496"
      },
      "execution_count": 47,
      "outputs": [
        {
          "output_type": "stream",
          "name": "stdout",
          "text": [
            "Pour la couche features.conv0 : \n",
            "44 de paramètres sont mis à 0 \n",
            "Et il y a 9408 de paramètres, soit un pourcentage de 0.47% \n",
            " Il en reste donc 9364 (99.53).\n"
          ]
        }
      ]
    },
    {
      "cell_type": "code",
      "source": [
        "distrib_weight_simple('DNN', '\"Facteur de non-pertinence\"', model, 'features.conv0.weight')"
      ],
      "metadata": {
        "colab": {
          "base_uri": "https://localhost:8080/",
          "height": 495
        },
        "outputId": "5a64706d-52af-48a7-dee2-a47195e1b8a5",
        "id": "9qZTeAUEEv_W"
      },
      "execution_count": 48,
      "outputs": [
        {
          "output_type": "stream",
          "name": "stderr",
          "text": [
            "Using cache found in /root/.cache/torch/hub/pytorch_vision_v0.10.0\n"
          ]
        },
        {
          "output_type": "display_data",
          "data": {
            "text/plain": [
              "<Figure size 640x480 with 1 Axes>"
            ],
            "image/png": "[encoded data removed]"
          },
          "metadata": {}
        }
      ]
    },
    {
      "cell_type": "markdown",
      "source": [
        "## Courbes d'apprentissage"
      ],
      "metadata": {
        "id": "20Y9RMw-FGTv"
      }
    },
    {
      "cell_type": "code",
      "source": [
        "path_file1 = 'DNN_irr_lambda1.csv'\n",
        "model_l1 = preprocess_csv(path_file1)\n",
        "path_file2 = 'DNN_irr_lambda2.csv'\n",
        "model_l2 = preprocess_csv(path_file2)\n",
        "path_file3 = 'DNN_irr_lambda3.csv'\n",
        "model_l3 = preprocess_csv(path_file3)\n",
        "path_file0 = 'DNN_no_reg.csv'\n",
        "model_l0 = preprocess_csv(path_file0)"
      ],
      "metadata": {
        "id": "9M17zQUgEppV"
      },
      "execution_count": null,
      "outputs": []
    },
    {
      "cell_type": "code",
      "source": [
        "plot_per_epoch_lambdacomp(\"DNN\", '\"Non-pertinence\"', model_l1, model_l2, model_l3, model_l0, False)"
      ],
      "metadata": {
        "colab": {
          "base_uri": "https://localhost:8080/",
          "height": 644
        },
        "outputId": "dc1b27e4-6cda-438a-b28d-25038028a059",
        "id": "WCdetktiEppW"
      },
      "execution_count": null,
      "outputs": [
        {
          "output_type": "display_data",
          "data": {
            "text/plain": [
              "<Figure size 640x480 with 1 Axes>"
            ],
            "image/png": "[encoded data removed]"
          },
          "metadata": {}
        }
      ]
    }
  ],
  "metadata": {
    "colab": {
      "provenance": [],
      "collapsed_sections": [
        "4iMm5ua9olLk",
        "YRPR7sGrAHg2",
        "5sQlZ62FAeFb"
      ],
      "toc_visible": true
    },
    "gpuClass": "standard",
    "kernelspec": {
      "display_name": "Python 3",
      "name": "python3"
    },
    "language_info": {
      "name": "python"
    }
  },
  "nbformat": 4,
  "nbformat_minor": 0
}